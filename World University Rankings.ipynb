{
 "cells": [
  {
   "cell_type": "code",
   "execution_count": 333,
   "metadata": {},
   "outputs": [],
   "source": [
    "#Import all relevant libraries\n",
    "import numpy as np\n",
    "import pandas as pd\n",
    "import matplotlib.pyplot as plt\n",
    "import seaborn as sns\n",
    "from scipy.stats import zscore\n",
    "import plotly.express as px\n",
    "import plotly.graph_objects as go\n",
    "\n",
    "## This statement allows the visuals to render within your Jupyter Notebook.\n",
    "%matplotlib inline"
   ]
  },
  {
   "cell_type": "markdown",
   "metadata": {},
   "source": [
    "## Loading the data\n",
    "We can now load the dataset into pandas using the read_excel() function. This converts the XLSX file into a Pandas dataframe."
   ]
  },
  {
   "cell_type": "code",
   "execution_count": 334,
   "metadata": {},
   "outputs": [],
   "source": [
    "#Read in the xlsx files and convert to a Pandas dataframe\n",
    "Uni_df = {\"THE\": pd.read_excel('Data/Times_Higher_Education.xlsx'),\n",
    "        \"ARWU\": pd.read_excel('Data/shanghai_Ranking.xlsx'),\n",
    "        \"CWUR\": pd.read_excel('Data/Word_Rank_University.xlsx'),}"
   ]
  },
  {
   "cell_type": "markdown",
   "metadata": {},
   "source": [
    "### Viewing the dataframe\n",
    "We can get a quick sense of the size of our dataset by using the shape method. This returns a tuple with the number of rows and columns in the dataset."
   ]
  },
  {
   "cell_type": "code",
   "execution_count": 335,
   "metadata": {},
   "outputs": [
    {
     "data": {
      "text/plain": [
       "'Times Higher Education'"
      ]
     },
     "metadata": {},
     "output_type": "display_data"
    },
    {
     "data": {
      "text/html": [
       "<div>\n",
       "<style scoped>\n",
       "    .dataframe tbody tr th:only-of-type {\n",
       "        vertical-align: middle;\n",
       "    }\n",
       "\n",
       "    .dataframe tbody tr th {\n",
       "        vertical-align: top;\n",
       "    }\n",
       "\n",
       "    .dataframe thead th {\n",
       "        text-align: right;\n",
       "    }\n",
       "</style>\n",
       "<table border=\"1\" class=\"dataframe\">\n",
       "  <thead>\n",
       "    <tr style=\"text-align: right;\">\n",
       "      <th></th>\n",
       "      <th>Rank</th>\n",
       "      <th>University Name</th>\n",
       "      <th>ranking-institution-title href</th>\n",
       "      <th>Location</th>\n",
       "      <th>sdg-score-multi__number</th>\n",
       "      <th>sdg-score-multi__value</th>\n",
       "      <th>sdg-score-multi__number 2</th>\n",
       "      <th>sdg-score-multi__value 2</th>\n",
       "      <th>sdg-score-multi__number 3</th>\n",
       "      <th>sdg-score-multi__value 3</th>\n",
       "      <th>sdg-score-multi__value 4</th>\n",
       "      <th>scores</th>\n",
       "      <th>sdg-score-multi__number 5</th>\n",
       "      <th>sdg-score-multi__value 5</th>\n",
       "      <th>sdg-score-multi__number 6</th>\n",
       "      <th>sdg-score-multi__value 6</th>\n",
       "      <th>sdg-score-multi__number 7</th>\n",
       "      <th>sdg-score-multi__value 7</th>\n",
       "      <th>sdg-score-multi__number 8</th>\n",
       "      <th>sdg-score-multi__value 8</th>\n",
       "    </tr>\n",
       "  </thead>\n",
       "  <tbody>\n",
       "    <tr>\n",
       "      <th>0</th>\n",
       "      <td>1</td>\n",
       "      <td>Western Sydney University</td>\n",
       "      <td>https://www.timeshighereducation.com/world-uni...</td>\n",
       "      <td>Australia</td>\n",
       "      <td>5.0</td>\n",
       "      <td>80.3</td>\n",
       "      <td>12.0</td>\n",
       "      <td>93.4</td>\n",
       "      <td>15.0</td>\n",
       "      <td>96.7</td>\n",
       "      <td>98.8</td>\n",
       "      <td>99.4</td>\n",
       "      <td>NaN</td>\n",
       "      <td>NaN</td>\n",
       "      <td>NaN</td>\n",
       "      <td>NaN</td>\n",
       "      <td>NaN</td>\n",
       "      <td>NaN</td>\n",
       "      <td>NaN</td>\n",
       "      <td>NaN</td>\n",
       "    </tr>\n",
       "    <tr>\n",
       "      <th>1</th>\n",
       "      <td>2</td>\n",
       "      <td>University of Manchester</td>\n",
       "      <td>https://www.timeshighereducation.com/world-uni...</td>\n",
       "      <td>United Kingdom</td>\n",
       "      <td>15.0</td>\n",
       "      <td>97.4</td>\n",
       "      <td>12.0</td>\n",
       "      <td>92.9</td>\n",
       "      <td>11.0</td>\n",
       "      <td>92.2</td>\n",
       "      <td>94.8</td>\n",
       "      <td>97.5</td>\n",
       "      <td>NaN</td>\n",
       "      <td>NaN</td>\n",
       "      <td>NaN</td>\n",
       "      <td>NaN</td>\n",
       "      <td>NaN</td>\n",
       "      <td>NaN</td>\n",
       "      <td>NaN</td>\n",
       "      <td>NaN</td>\n",
       "    </tr>\n",
       "    <tr>\n",
       "      <th>2</th>\n",
       "      <td>3</td>\n",
       "      <td>Queen’s University</td>\n",
       "      <td>https://www.timeshighereducation.com/world-uni...</td>\n",
       "      <td>Canada</td>\n",
       "      <td>2.0</td>\n",
       "      <td>90.6</td>\n",
       "      <td>16.0</td>\n",
       "      <td>93.4</td>\n",
       "      <td>11.0</td>\n",
       "      <td>91.0</td>\n",
       "      <td>92.6</td>\n",
       "      <td>97.2</td>\n",
       "      <td>NaN</td>\n",
       "      <td>NaN</td>\n",
       "      <td>NaN</td>\n",
       "      <td>NaN</td>\n",
       "      <td>NaN</td>\n",
       "      <td>NaN</td>\n",
       "      <td>NaN</td>\n",
       "      <td>NaN</td>\n",
       "    </tr>\n",
       "    <tr>\n",
       "      <th>3</th>\n",
       "      <td>4</td>\n",
       "      <td>Universiti Sains Malaysia</td>\n",
       "      <td>https://www.timeshighereducation.com/world-uni...</td>\n",
       "      <td>Malaysia</td>\n",
       "      <td>16.0</td>\n",
       "      <td>94.1</td>\n",
       "      <td>2.0</td>\n",
       "      <td>86.4</td>\n",
       "      <td>1.0</td>\n",
       "      <td>84.9</td>\n",
       "      <td>97.8</td>\n",
       "      <td>96.9</td>\n",
       "      <td>NaN</td>\n",
       "      <td>NaN</td>\n",
       "      <td>NaN</td>\n",
       "      <td>NaN</td>\n",
       "      <td>NaN</td>\n",
       "      <td>NaN</td>\n",
       "      <td>NaN</td>\n",
       "      <td>NaN</td>\n",
       "    </tr>\n",
       "    <tr>\n",
       "      <th>4</th>\n",
       "      <td>5</td>\n",
       "      <td>University of Tasmania</td>\n",
       "      <td>https://www.timeshighereducation.com/world-uni...</td>\n",
       "      <td>Australia</td>\n",
       "      <td>13.0</td>\n",
       "      <td>92.8</td>\n",
       "      <td>15.0</td>\n",
       "      <td>96.2</td>\n",
       "      <td>14.0</td>\n",
       "      <td>95.1</td>\n",
       "      <td>96.3</td>\n",
       "      <td>96.6</td>\n",
       "      <td>NaN</td>\n",
       "      <td>NaN</td>\n",
       "      <td>NaN</td>\n",
       "      <td>NaN</td>\n",
       "      <td>NaN</td>\n",
       "      <td>NaN</td>\n",
       "      <td>NaN</td>\n",
       "      <td>NaN</td>\n",
       "    </tr>\n",
       "  </tbody>\n",
       "</table>\n",
       "</div>"
      ],
      "text/plain": [
       "  Rank           University Name   \\\n",
       "0    1  Western Sydney University   \n",
       "1    2   University of Manchester   \n",
       "2    3         Queen’s University   \n",
       "3    4  Universiti Sains Malaysia   \n",
       "4    5     University of Tasmania   \n",
       "\n",
       "                      ranking-institution-title href        Location  \\\n",
       "0  https://www.timeshighereducation.com/world-uni...       Australia   \n",
       "1  https://www.timeshighereducation.com/world-uni...  United Kingdom   \n",
       "2  https://www.timeshighereducation.com/world-uni...          Canada   \n",
       "3  https://www.timeshighereducation.com/world-uni...        Malaysia   \n",
       "4  https://www.timeshighereducation.com/world-uni...       Australia   \n",
       "\n",
       "   sdg-score-multi__number sdg-score-multi__value  sdg-score-multi__number 2  \\\n",
       "0                      5.0                   80.3                       12.0   \n",
       "1                     15.0                   97.4                       12.0   \n",
       "2                      2.0                   90.6                       16.0   \n",
       "3                     16.0                   94.1                        2.0   \n",
       "4                     13.0                   92.8                       15.0   \n",
       "\n",
       "  sdg-score-multi__value 2  sdg-score-multi__number 3  \\\n",
       "0                     93.4                       15.0   \n",
       "1                     92.9                       11.0   \n",
       "2                     93.4                       11.0   \n",
       "3                     86.4                        1.0   \n",
       "4                     96.2                       14.0   \n",
       "\n",
       "  sdg-score-multi__value 3 sdg-score-multi__value 4 scores  \\\n",
       "0                     96.7                     98.8   99.4   \n",
       "1                     92.2                     94.8   97.5   \n",
       "2                     91.0                     92.6   97.2   \n",
       "3                     84.9                     97.8   96.9   \n",
       "4                     95.1                     96.3   96.6   \n",
       "\n",
       "   sdg-score-multi__number 5 sdg-score-multi__value 5  \\\n",
       "0                        NaN                      NaN   \n",
       "1                        NaN                      NaN   \n",
       "2                        NaN                      NaN   \n",
       "3                        NaN                      NaN   \n",
       "4                        NaN                      NaN   \n",
       "\n",
       "   sdg-score-multi__number 6 sdg-score-multi__value 6  \\\n",
       "0                        NaN                      NaN   \n",
       "1                        NaN                      NaN   \n",
       "2                        NaN                      NaN   \n",
       "3                        NaN                      NaN   \n",
       "4                        NaN                      NaN   \n",
       "\n",
       "   sdg-score-multi__number 7 sdg-score-multi__value 7  \\\n",
       "0                        NaN                      NaN   \n",
       "1                        NaN                      NaN   \n",
       "2                        NaN                      NaN   \n",
       "3                        NaN                      NaN   \n",
       "4                        NaN                      NaN   \n",
       "\n",
       "   sdg-score-multi__number 8 sdg-score-multi__value 8  \n",
       "0                        NaN                      NaN  \n",
       "1                        NaN                      NaN  \n",
       "2                        NaN                      NaN  \n",
       "3                        NaN                      NaN  \n",
       "4                        NaN                      NaN  "
      ]
     },
     "metadata": {},
     "output_type": "display_data"
    },
    {
     "data": {
      "text/plain": [
       "'shanghai Ranking'"
      ]
     },
     "metadata": {},
     "output_type": "display_data"
    },
    {
     "data": {
      "text/html": [
       "<div>\n",
       "<style scoped>\n",
       "    .dataframe tbody tr th:only-of-type {\n",
       "        vertical-align: middle;\n",
       "    }\n",
       "\n",
       "    .dataframe tbody tr th {\n",
       "        vertical-align: top;\n",
       "    }\n",
       "\n",
       "    .dataframe thead th {\n",
       "        text-align: right;\n",
       "    }\n",
       "</style>\n",
       "<table border=\"1\" class=\"dataframe\">\n",
       "  <thead>\n",
       "    <tr style=\"text-align: right;\">\n",
       "      <th></th>\n",
       "      <th>Ranking</th>\n",
       "      <th>University Name</th>\n",
       "      <th>National/Regional Rank</th>\n",
       "      <th>Total Score</th>\n",
       "      <th>LOGO</th>\n",
       "      <th>University Detail</th>\n",
       "    </tr>\n",
       "  </thead>\n",
       "  <tbody>\n",
       "    <tr>\n",
       "      <th>0</th>\n",
       "      <td>1</td>\n",
       "      <td>Harvard University</td>\n",
       "      <td>1</td>\n",
       "      <td>100.0</td>\n",
       "      <td>http://www.shanghairanking.com/_uni/logo/032bd...</td>\n",
       "      <td>http://www.shanghairanking.com/institution/har...</td>\n",
       "    </tr>\n",
       "    <tr>\n",
       "      <th>1</th>\n",
       "      <td>2</td>\n",
       "      <td>Stanford University</td>\n",
       "      <td>2</td>\n",
       "      <td>76.8</td>\n",
       "      <td>http://www.shanghairanking.com/_uni/logo/13de8...</td>\n",
       "      <td>http://www.shanghairanking.com/institution/sta...</td>\n",
       "    </tr>\n",
       "    <tr>\n",
       "      <th>2</th>\n",
       "      <td>3</td>\n",
       "      <td>Massachusetts Institute of Technology (MIT)</td>\n",
       "      <td>3</td>\n",
       "      <td>70.1</td>\n",
       "      <td>http://www.shanghairanking.com/_uni/logo/79165...</td>\n",
       "      <td>http://www.shanghairanking.com/institution/mas...</td>\n",
       "    </tr>\n",
       "    <tr>\n",
       "      <th>3</th>\n",
       "      <td>4</td>\n",
       "      <td>University of Cambridge</td>\n",
       "      <td>1</td>\n",
       "      <td>69.6</td>\n",
       "      <td>http://www.shanghairanking.com/_uni/logo/8d986...</td>\n",
       "      <td>http://www.shanghairanking.com/institution/uni...</td>\n",
       "    </tr>\n",
       "    <tr>\n",
       "      <th>4</th>\n",
       "      <td>5</td>\n",
       "      <td>University of California, Berkeley</td>\n",
       "      <td>4</td>\n",
       "      <td>65.3</td>\n",
       "      <td>http://www.shanghairanking.com/_uni/logo/0ff17...</td>\n",
       "      <td>http://www.shanghairanking.com/institution/uni...</td>\n",
       "    </tr>\n",
       "  </tbody>\n",
       "</table>\n",
       "</div>"
      ],
      "text/plain": [
       "  Ranking                              University Name National/Regional Rank  \\\n",
       "0       1                           Harvard University                      1   \n",
       "1       2                          Stanford University                      2   \n",
       "2       3  Massachusetts Institute of Technology (MIT)                      3   \n",
       "3       4                      University of Cambridge                      1   \n",
       "4       5           University of California, Berkeley                      4   \n",
       "\n",
       "   Total Score                                               LOGO  \\\n",
       "0        100.0  http://www.shanghairanking.com/_uni/logo/032bd...   \n",
       "1         76.8  http://www.shanghairanking.com/_uni/logo/13de8...   \n",
       "2         70.1  http://www.shanghairanking.com/_uni/logo/79165...   \n",
       "3         69.6  http://www.shanghairanking.com/_uni/logo/8d986...   \n",
       "4         65.3  http://www.shanghairanking.com/_uni/logo/0ff17...   \n",
       "\n",
       "                                  University Detail   \n",
       "0  http://www.shanghairanking.com/institution/har...  \n",
       "1  http://www.shanghairanking.com/institution/sta...  \n",
       "2  http://www.shanghairanking.com/institution/mas...  \n",
       "3  http://www.shanghairanking.com/institution/uni...  \n",
       "4  http://www.shanghairanking.com/institution/uni...  "
      ]
     },
     "metadata": {},
     "output_type": "display_data"
    },
    {
     "data": {
      "text/plain": [
       "'Word Rank University'"
      ]
     },
     "metadata": {},
     "output_type": "display_data"
    },
    {
     "data": {
      "text/html": [
       "<div>\n",
       "<style scoped>\n",
       "    .dataframe tbody tr th:only-of-type {\n",
       "        vertical-align: middle;\n",
       "    }\n",
       "\n",
       "    .dataframe tbody tr th {\n",
       "        vertical-align: top;\n",
       "    }\n",
       "\n",
       "    .dataframe thead th {\n",
       "        text-align: right;\n",
       "    }\n",
       "</style>\n",
       "<table border=\"1\" class=\"dataframe\">\n",
       "  <thead>\n",
       "    <tr style=\"text-align: right;\">\n",
       "      <th></th>\n",
       "      <th>World Rank</th>\n",
       "      <th>University Names</th>\n",
       "      <th>Location</th>\n",
       "      <th>National Rank</th>\n",
       "      <th>Educational Rank</th>\n",
       "      <th>Employability Rank</th>\n",
       "      <th>Faculty Rank</th>\n",
       "      <th>Research Rank</th>\n",
       "      <th>Score</th>\n",
       "    </tr>\n",
       "  </thead>\n",
       "  <tbody>\n",
       "    <tr>\n",
       "      <th>0</th>\n",
       "      <td>1Top 0.1%</td>\n",
       "      <td>Harvard University\\n  CWUR Rating System:   Ed...</td>\n",
       "      <td>USA</td>\n",
       "      <td>1</td>\n",
       "      <td>1</td>\n",
       "      <td>1</td>\n",
       "      <td>1</td>\n",
       "      <td>1</td>\n",
       "      <td>100.0</td>\n",
       "    </tr>\n",
       "    <tr>\n",
       "      <th>1</th>\n",
       "      <td>2Top 0.1%</td>\n",
       "      <td>Massachusetts Institute of Technology\\n  Educa...</td>\n",
       "      <td>USA</td>\n",
       "      <td>2</td>\n",
       "      <td>4</td>\n",
       "      <td>12</td>\n",
       "      <td>3</td>\n",
       "      <td>9</td>\n",
       "      <td>96.7</td>\n",
       "    </tr>\n",
       "    <tr>\n",
       "      <th>2</th>\n",
       "      <td>3Top 0.1%</td>\n",
       "      <td>Stanford University\\n  Education: A+; Employab...</td>\n",
       "      <td>USA</td>\n",
       "      <td>3</td>\n",
       "      <td>11</td>\n",
       "      <td>4</td>\n",
       "      <td>2</td>\n",
       "      <td>2</td>\n",
       "      <td>95.2</td>\n",
       "    </tr>\n",
       "    <tr>\n",
       "      <th>3</th>\n",
       "      <td>4Top 0.1%</td>\n",
       "      <td>University of Cambridge\\n  Education: A+; Empl...</td>\n",
       "      <td>United Kingdom</td>\n",
       "      <td>1</td>\n",
       "      <td>3</td>\n",
       "      <td>25</td>\n",
       "      <td>5</td>\n",
       "      <td>11</td>\n",
       "      <td>94.1</td>\n",
       "    </tr>\n",
       "    <tr>\n",
       "      <th>4</th>\n",
       "      <td>5Top 0.1%</td>\n",
       "      <td>University of Oxford\\n  Education: A+; Employa...</td>\n",
       "      <td>United Kingdom</td>\n",
       "      <td>2</td>\n",
       "      <td>7</td>\n",
       "      <td>27</td>\n",
       "      <td>9</td>\n",
       "      <td>4</td>\n",
       "      <td>93.3</td>\n",
       "    </tr>\n",
       "  </tbody>\n",
       "</table>\n",
       "</div>"
      ],
      "text/plain": [
       "  World Rank                                   University Names  \\\n",
       "0  1Top 0.1%  Harvard University\\n  CWUR Rating System:   Ed...   \n",
       "1  2Top 0.1%  Massachusetts Institute of Technology\\n  Educa...   \n",
       "2  3Top 0.1%  Stanford University\\n  Education: A+; Employab...   \n",
       "3  4Top 0.1%  University of Cambridge\\n  Education: A+; Empl...   \n",
       "4  5Top 0.1%  University of Oxford\\n  Education: A+; Employa...   \n",
       "\n",
       "        Location   National Rank Educational Rank Employability Rank  \\\n",
       "0             USA              1                1                  1   \n",
       "1             USA              2                4                 12   \n",
       "2             USA              3               11                  4   \n",
       "3  United Kingdom              1                3                 25   \n",
       "4  United Kingdom              2                7                 27   \n",
       "\n",
       "  Faculty Rank Research Rank  Score  \n",
       "0            1             1  100.0  \n",
       "1            3             9   96.7  \n",
       "2            2             2   95.2  \n",
       "3            5            11   94.1  \n",
       "4            9             4   93.3  "
      ]
     },
     "metadata": {},
     "output_type": "display_data"
    }
   ],
   "source": [
    "display(\"Times Higher Education\", Uni_df['THE'].head())\n",
    "display(\"shanghai Ranking\", Uni_df['ARWU'].head())\n",
    "display(\"Word Rank University\", Uni_df['CWUR'].head())"
   ]
  },
  {
   "cell_type": "markdown",
   "metadata": {},
   "source": [
    "## 1. Data Profiling:\n",
    "Data profiling is a comprehensive process of examining the data available in an existing dataset and collecting statistics and information about that data. "
   ]
  },
  {
   "cell_type": "markdown",
   "metadata": {},
   "source": [
    "### What we learned (so far):\n",
    ".We have three data sources each one of them rank the Universities based on different criteria.<br>\n",
    ".In the Times Higher Education dataset we don't know which score is for which.<br>\n",
    ".We have alot of null values in the Times Higher Education dataset.<br>\n",
    ".We have type missmatch where we have scores as objects where they should be integers or floats across all the 3 datasets.<br>\n",
    ".There are uneeded columns that we can drop.\n"
   ]
  },
  {
   "cell_type": "code",
   "execution_count": 336,
   "metadata": {},
   "outputs": [
    {
     "name": "stdout",
     "output_type": "stream",
     "text": [
      "<class 'pandas.core.frame.DataFrame'>\n",
      "RangeIndex: 1591 entries, 0 to 1590\n",
      "Data columns (total 20 columns):\n",
      " #   Column                          Non-Null Count  Dtype  \n",
      "---  ------                          --------------  -----  \n",
      " 0   Rank                            1591 non-null   object \n",
      " 1   University Name                 1591 non-null   object \n",
      " 2   ranking-institution-title href  1500 non-null   object \n",
      " 3   Location                        1500 non-null   object \n",
      " 4   sdg-score-multi__number         867 non-null    float64\n",
      " 5   sdg-score-multi__value          867 non-null    object \n",
      " 6   sdg-score-multi__number 2       826 non-null    float64\n",
      " 7   sdg-score-multi__value 2        825 non-null    object \n",
      " 8   sdg-score-multi__number 3       812 non-null    float64\n",
      " 9   sdg-score-multi__value 3        805 non-null    object \n",
      " 10  sdg-score-multi__value 4        1583 non-null   object \n",
      " 11  scores                          1591 non-null   object \n",
      " 12  sdg-score-multi__number 5       565 non-null    float64\n",
      " 13  sdg-score-multi__value 5        557 non-null    object \n",
      " 14  sdg-score-multi__number 6       498 non-null    float64\n",
      " 15  sdg-score-multi__value 6        496 non-null    object \n",
      " 16  sdg-score-multi__number 7       439 non-null    float64\n",
      " 17  sdg-score-multi__value 7        439 non-null    object \n",
      " 18  sdg-score-multi__number 8       483 non-null    float64\n",
      " 19  sdg-score-multi__value 8        483 non-null    object \n",
      "dtypes: float64(7), object(13)\n",
      "memory usage: 248.7+ KB\n"
     ]
    },
    {
     "data": {
      "text/plain": [
       "'THE'"
      ]
     },
     "metadata": {},
     "output_type": "display_data"
    },
    {
     "data": {
      "text/plain": [
       "None"
      ]
     },
     "metadata": {},
     "output_type": "display_data"
    },
    {
     "name": "stdout",
     "output_type": "stream",
     "text": [
      "<class 'pandas.core.frame.DataFrame'>\n",
      "RangeIndex: 1000 entries, 0 to 999\n",
      "Data columns (total 6 columns):\n",
      " #   Column                  Non-Null Count  Dtype  \n",
      "---  ------                  --------------  -----  \n",
      " 0   Ranking                 1000 non-null   object \n",
      " 1   University Name         1000 non-null   object \n",
      " 2   National/Regional Rank  1000 non-null   object \n",
      " 3   Total Score             1000 non-null   float64\n",
      " 4   LOGO                    1000 non-null   object \n",
      " 5   University Detail       1000 non-null   object \n",
      "dtypes: float64(1), object(5)\n",
      "memory usage: 47.0+ KB\n"
     ]
    },
    {
     "data": {
      "text/plain": [
       "'ARWU'"
      ]
     },
     "metadata": {},
     "output_type": "display_data"
    },
    {
     "data": {
      "text/plain": [
       "None"
      ]
     },
     "metadata": {},
     "output_type": "display_data"
    },
    {
     "name": "stdout",
     "output_type": "stream",
     "text": [
      "<class 'pandas.core.frame.DataFrame'>\n",
      "RangeIndex: 2000 entries, 0 to 1999\n",
      "Data columns (total 9 columns):\n",
      " #   Column              Non-Null Count  Dtype  \n",
      "---  ------              --------------  -----  \n",
      " 0   World Rank          2000 non-null   object \n",
      " 1   University Names    2000 non-null   object \n",
      " 2   Location            2000 non-null   object \n",
      " 3   National Rank       2000 non-null   int64  \n",
      " 4   Educational Rank    2000 non-null   object \n",
      " 5   Employability Rank  2000 non-null   object \n",
      " 6   Faculty Rank        2000 non-null   object \n",
      " 7   Research Rank       2000 non-null   object \n",
      " 8   Score               2000 non-null   float64\n",
      "dtypes: float64(1), int64(1), object(7)\n",
      "memory usage: 140.8+ KB\n"
     ]
    },
    {
     "data": {
      "text/plain": [
       "'CWUR'"
      ]
     },
     "metadata": {},
     "output_type": "display_data"
    },
    {
     "data": {
      "text/plain": [
       "None"
      ]
     },
     "metadata": {},
     "output_type": "display_data"
    }
   ],
   "source": [
    "display(\"THE\", Uni_df['THE'].info())\n",
    "display(\"ARWU\", Uni_df['ARWU'].info())\n",
    "display(\"CWUR\", Uni_df['CWUR'].info())"
   ]
  },
  {
   "cell_type": "code",
   "execution_count": 337,
   "metadata": {},
   "outputs": [
    {
     "data": {
      "text/plain": [
       "'THE'"
      ]
     },
     "metadata": {},
     "output_type": "display_data"
    },
    {
     "data": {
      "text/plain": [
       "(1591, 20)"
      ]
     },
     "metadata": {},
     "output_type": "display_data"
    },
    {
     "data": {
      "text/plain": [
       "'ARWU'"
      ]
     },
     "metadata": {},
     "output_type": "display_data"
    },
    {
     "data": {
      "text/plain": [
       "(1000, 6)"
      ]
     },
     "metadata": {},
     "output_type": "display_data"
    },
    {
     "data": {
      "text/plain": [
       "'CWUR'"
      ]
     },
     "metadata": {},
     "output_type": "display_data"
    },
    {
     "data": {
      "text/plain": [
       "(2000, 9)"
      ]
     },
     "metadata": {},
     "output_type": "display_data"
    }
   ],
   "source": [
    "display(\"THE\", Uni_df['THE'].shape)\n",
    "display(\"ARWU\", Uni_df['ARWU'].shape)\n",
    "display(\"CWUR\", Uni_df['CWUR'].shape)"
   ]
  },
  {
   "cell_type": "code",
   "execution_count": 338,
   "metadata": {},
   "outputs": [
    {
     "data": {
      "text/plain": [
       "'THE'"
      ]
     },
     "metadata": {},
     "output_type": "display_data"
    },
    {
     "data": {
      "text/html": [
       "<div>\n",
       "<style scoped>\n",
       "    .dataframe tbody tr th:only-of-type {\n",
       "        vertical-align: middle;\n",
       "    }\n",
       "\n",
       "    .dataframe tbody tr th {\n",
       "        vertical-align: top;\n",
       "    }\n",
       "\n",
       "    .dataframe thead th {\n",
       "        text-align: right;\n",
       "    }\n",
       "</style>\n",
       "<table border=\"1\" class=\"dataframe\">\n",
       "  <thead>\n",
       "    <tr style=\"text-align: right;\">\n",
       "      <th></th>\n",
       "      <th>sdg-score-multi__number</th>\n",
       "      <th>sdg-score-multi__number 2</th>\n",
       "      <th>sdg-score-multi__number 3</th>\n",
       "      <th>sdg-score-multi__number 5</th>\n",
       "      <th>sdg-score-multi__number 6</th>\n",
       "      <th>sdg-score-multi__number 7</th>\n",
       "      <th>sdg-score-multi__number 8</th>\n",
       "    </tr>\n",
       "  </thead>\n",
       "  <tbody>\n",
       "    <tr>\n",
       "      <th>count</th>\n",
       "      <td>867.000000</td>\n",
       "      <td>826.000000</td>\n",
       "      <td>812.000000</td>\n",
       "      <td>565.000000</td>\n",
       "      <td>498.000000</td>\n",
       "      <td>439.000000</td>\n",
       "      <td>483.000000</td>\n",
       "    </tr>\n",
       "    <tr>\n",
       "      <th>mean</th>\n",
       "      <td>8.193772</td>\n",
       "      <td>8.446731</td>\n",
       "      <td>7.902709</td>\n",
       "      <td>5.488496</td>\n",
       "      <td>6.777108</td>\n",
       "      <td>7.596811</td>\n",
       "      <td>5.962733</td>\n",
       "    </tr>\n",
       "    <tr>\n",
       "      <th>std</th>\n",
       "      <td>4.240660</td>\n",
       "      <td>4.786111</td>\n",
       "      <td>4.403411</td>\n",
       "      <td>3.151375</td>\n",
       "      <td>3.230968</td>\n",
       "      <td>4.278980</td>\n",
       "      <td>3.346928</td>\n",
       "    </tr>\n",
       "    <tr>\n",
       "      <th>min</th>\n",
       "      <td>1.000000</td>\n",
       "      <td>1.000000</td>\n",
       "      <td>1.000000</td>\n",
       "      <td>1.000000</td>\n",
       "      <td>1.000000</td>\n",
       "      <td>1.000000</td>\n",
       "      <td>3.000000</td>\n",
       "    </tr>\n",
       "    <tr>\n",
       "      <th>25%</th>\n",
       "      <td>4.000000</td>\n",
       "      <td>4.000000</td>\n",
       "      <td>5.000000</td>\n",
       "      <td>3.000000</td>\n",
       "      <td>4.000000</td>\n",
       "      <td>4.000000</td>\n",
       "      <td>4.000000</td>\n",
       "    </tr>\n",
       "    <tr>\n",
       "      <th>50%</th>\n",
       "      <td>9.000000</td>\n",
       "      <td>8.000000</td>\n",
       "      <td>8.000000</td>\n",
       "      <td>5.000000</td>\n",
       "      <td>6.000000</td>\n",
       "      <td>7.000000</td>\n",
       "      <td>4.000000</td>\n",
       "    </tr>\n",
       "    <tr>\n",
       "      <th>75%</th>\n",
       "      <td>11.000000</td>\n",
       "      <td>12.000000</td>\n",
       "      <td>11.000000</td>\n",
       "      <td>8.000000</td>\n",
       "      <td>8.000000</td>\n",
       "      <td>10.000000</td>\n",
       "      <td>7.000000</td>\n",
       "    </tr>\n",
       "    <tr>\n",
       "      <th>max</th>\n",
       "      <td>16.000000</td>\n",
       "      <td>16.000000</td>\n",
       "      <td>16.000000</td>\n",
       "      <td>16.000000</td>\n",
       "      <td>16.000000</td>\n",
       "      <td>16.000000</td>\n",
       "      <td>16.000000</td>\n",
       "    </tr>\n",
       "  </tbody>\n",
       "</table>\n",
       "</div>"
      ],
      "text/plain": [
       "       sdg-score-multi__number  sdg-score-multi__number 2  \\\n",
       "count               867.000000                 826.000000   \n",
       "mean                  8.193772                   8.446731   \n",
       "std                   4.240660                   4.786111   \n",
       "min                   1.000000                   1.000000   \n",
       "25%                   4.000000                   4.000000   \n",
       "50%                   9.000000                   8.000000   \n",
       "75%                  11.000000                  12.000000   \n",
       "max                  16.000000                  16.000000   \n",
       "\n",
       "       sdg-score-multi__number 3  sdg-score-multi__number 5  \\\n",
       "count                 812.000000                 565.000000   \n",
       "mean                    7.902709                   5.488496   \n",
       "std                     4.403411                   3.151375   \n",
       "min                     1.000000                   1.000000   \n",
       "25%                     5.000000                   3.000000   \n",
       "50%                     8.000000                   5.000000   \n",
       "75%                    11.000000                   8.000000   \n",
       "max                    16.000000                  16.000000   \n",
       "\n",
       "       sdg-score-multi__number 6  sdg-score-multi__number 7  \\\n",
       "count                 498.000000                 439.000000   \n",
       "mean                    6.777108                   7.596811   \n",
       "std                     3.230968                   4.278980   \n",
       "min                     1.000000                   1.000000   \n",
       "25%                     4.000000                   4.000000   \n",
       "50%                     6.000000                   7.000000   \n",
       "75%                     8.000000                  10.000000   \n",
       "max                    16.000000                  16.000000   \n",
       "\n",
       "       sdg-score-multi__number 8  \n",
       "count                 483.000000  \n",
       "mean                    5.962733  \n",
       "std                     3.346928  \n",
       "min                     3.000000  \n",
       "25%                     4.000000  \n",
       "50%                     4.000000  \n",
       "75%                     7.000000  \n",
       "max                    16.000000  "
      ]
     },
     "metadata": {},
     "output_type": "display_data"
    },
    {
     "data": {
      "text/plain": [
       "'ARWU'"
      ]
     },
     "metadata": {},
     "output_type": "display_data"
    },
    {
     "data": {
      "text/html": [
       "<div>\n",
       "<style scoped>\n",
       "    .dataframe tbody tr th:only-of-type {\n",
       "        vertical-align: middle;\n",
       "    }\n",
       "\n",
       "    .dataframe tbody tr th {\n",
       "        vertical-align: top;\n",
       "    }\n",
       "\n",
       "    .dataframe thead th {\n",
       "        text-align: right;\n",
       "    }\n",
       "</style>\n",
       "<table border=\"1\" class=\"dataframe\">\n",
       "  <thead>\n",
       "    <tr style=\"text-align: right;\">\n",
       "      <th></th>\n",
       "      <th>Total Score</th>\n",
       "    </tr>\n",
       "  </thead>\n",
       "  <tbody>\n",
       "    <tr>\n",
       "      <th>count</th>\n",
       "      <td>1000.000000</td>\n",
       "    </tr>\n",
       "    <tr>\n",
       "      <th>mean</th>\n",
       "      <td>5.943500</td>\n",
       "    </tr>\n",
       "    <tr>\n",
       "      <th>std</th>\n",
       "      <td>12.379624</td>\n",
       "    </tr>\n",
       "    <tr>\n",
       "      <th>min</th>\n",
       "      <td>0.000000</td>\n",
       "    </tr>\n",
       "    <tr>\n",
       "      <th>25%</th>\n",
       "      <td>0.000000</td>\n",
       "    </tr>\n",
       "    <tr>\n",
       "      <th>50%</th>\n",
       "      <td>0.000000</td>\n",
       "    </tr>\n",
       "    <tr>\n",
       "      <th>75%</th>\n",
       "      <td>7.500000</td>\n",
       "    </tr>\n",
       "    <tr>\n",
       "      <th>max</th>\n",
       "      <td>100.000000</td>\n",
       "    </tr>\n",
       "  </tbody>\n",
       "</table>\n",
       "</div>"
      ],
      "text/plain": [
       "       Total Score\n",
       "count  1000.000000\n",
       "mean      5.943500\n",
       "std      12.379624\n",
       "min       0.000000\n",
       "25%       0.000000\n",
       "50%       0.000000\n",
       "75%       7.500000\n",
       "max     100.000000"
      ]
     },
     "metadata": {},
     "output_type": "display_data"
    },
    {
     "data": {
      "text/plain": [
       "'CWUR'"
      ]
     },
     "metadata": {},
     "output_type": "display_data"
    },
    {
     "data": {
      "text/html": [
       "<div>\n",
       "<style scoped>\n",
       "    .dataframe tbody tr th:only-of-type {\n",
       "        vertical-align: middle;\n",
       "    }\n",
       "\n",
       "    .dataframe tbody tr th {\n",
       "        vertical-align: top;\n",
       "    }\n",
       "\n",
       "    .dataframe thead th {\n",
       "        text-align: right;\n",
       "    }\n",
       "</style>\n",
       "<table border=\"1\" class=\"dataframe\">\n",
       "  <thead>\n",
       "    <tr style=\"text-align: right;\">\n",
       "      <th></th>\n",
       "      <th>National Rank</th>\n",
       "      <th>Score</th>\n",
       "    </tr>\n",
       "  </thead>\n",
       "  <tbody>\n",
       "    <tr>\n",
       "      <th>count</th>\n",
       "      <td>2000.000000</td>\n",
       "      <td>2000.00000</td>\n",
       "    </tr>\n",
       "    <tr>\n",
       "      <th>mean</th>\n",
       "      <td>69.245000</td>\n",
       "      <td>71.75555</td>\n",
       "    </tr>\n",
       "    <tr>\n",
       "      <th>std</th>\n",
       "      <td>85.538608</td>\n",
       "      <td>5.03880</td>\n",
       "    </tr>\n",
       "    <tr>\n",
       "      <th>min</th>\n",
       "      <td>1.000000</td>\n",
       "      <td>66.00000</td>\n",
       "    </tr>\n",
       "    <tr>\n",
       "      <th>25%</th>\n",
       "      <td>9.750000</td>\n",
       "      <td>67.90000</td>\n",
       "    </tr>\n",
       "    <tr>\n",
       "      <th>50%</th>\n",
       "      <td>33.000000</td>\n",
       "      <td>70.40000</td>\n",
       "    </tr>\n",
       "    <tr>\n",
       "      <th>75%</th>\n",
       "      <td>89.000000</td>\n",
       "      <td>74.30000</td>\n",
       "    </tr>\n",
       "    <tr>\n",
       "      <th>max</th>\n",
       "      <td>332.000000</td>\n",
       "      <td>100.00000</td>\n",
       "    </tr>\n",
       "  </tbody>\n",
       "</table>\n",
       "</div>"
      ],
      "text/plain": [
       "       National Rank       Score\n",
       "count    2000.000000  2000.00000\n",
       "mean       69.245000    71.75555\n",
       "std        85.538608     5.03880\n",
       "min         1.000000    66.00000\n",
       "25%         9.750000    67.90000\n",
       "50%        33.000000    70.40000\n",
       "75%        89.000000    74.30000\n",
       "max       332.000000   100.00000"
      ]
     },
     "metadata": {},
     "output_type": "display_data"
    }
   ],
   "source": [
    "display(\"THE\", Uni_df['THE'].describe())\n",
    "display(\"ARWU\", Uni_df['ARWU'].describe())\n",
    "display(\"CWUR\", Uni_df['CWUR'].describe())"
   ]
  },
  {
   "cell_type": "code",
   "execution_count": 339,
   "metadata": {},
   "outputs": [
    {
     "data": {
      "text/plain": [
       "'THE'"
      ]
     },
     "metadata": {},
     "output_type": "display_data"
    },
    {
     "data": {
      "text/plain": [
       "Index(['Rank', 'University Name ', 'ranking-institution-title href',\n",
       "       'Location', 'sdg-score-multi__number', 'sdg-score-multi__value',\n",
       "       'sdg-score-multi__number 2', 'sdg-score-multi__value 2',\n",
       "       'sdg-score-multi__number 3', 'sdg-score-multi__value 3',\n",
       "       'sdg-score-multi__value 4', 'scores', 'sdg-score-multi__number 5',\n",
       "       'sdg-score-multi__value 5', 'sdg-score-multi__number 6',\n",
       "       'sdg-score-multi__value 6', 'sdg-score-multi__number 7',\n",
       "       'sdg-score-multi__value 7', 'sdg-score-multi__number 8',\n",
       "       'sdg-score-multi__value 8'],\n",
       "      dtype='object')"
      ]
     },
     "metadata": {},
     "output_type": "display_data"
    },
    {
     "data": {
      "text/plain": [
       "'ARWU'"
      ]
     },
     "metadata": {},
     "output_type": "display_data"
    },
    {
     "data": {
      "text/plain": [
       "Index(['Ranking', 'University Name', 'National/Regional Rank', 'Total Score',\n",
       "       'LOGO', 'University Detail '],\n",
       "      dtype='object')"
      ]
     },
     "metadata": {},
     "output_type": "display_data"
    },
    {
     "data": {
      "text/plain": [
       "'CWUR'"
      ]
     },
     "metadata": {},
     "output_type": "display_data"
    },
    {
     "data": {
      "text/plain": [
       "Index(['World Rank', 'University Names', 'Location ', 'National Rank',\n",
       "       'Educational Rank', 'Employability Rank', 'Faculty Rank',\n",
       "       'Research Rank', 'Score'],\n",
       "      dtype='object')"
      ]
     },
     "metadata": {},
     "output_type": "display_data"
    }
   ],
   "source": [
    "display(\"THE\", Uni_df['THE'].columns)\n",
    "display(\"ARWU\", Uni_df['ARWU'].columns)\n",
    "display(\"CWUR\", Uni_df['CWUR'].columns)"
   ]
  },
  {
   "cell_type": "markdown",
   "metadata": {},
   "source": [
    "### Data Quality Checks\n",
    "Data quality checks involve the process of ensuring that the data is accurate, complete, consistent, relevant, and reliable. \n",
    "\n",
    "\n",
    "**Here are typical steps involved in checking data quality:**"
   ]
  },
  {
   "cell_type": "markdown",
   "metadata": {},
   "source": [
    "#### 1. Reliability:\n",
    "Evaluate the data's source and collection process to determine its trustworthiness."
   ]
  },
  {
   "cell_type": "markdown",
   "metadata": {},
   "source": [
    "##### 1.Times Higher Education(THE):\n",
    "built on 10 million datapoints from over 7,000 institutions in 171 countries; on unrivalled news, insight and intelligence; and on a relationship of trust with universities spanning 50 years.\n",
    "\n",
    "\n",
    "##### 2.Academic Ranking of World Universities(ARWU):\n",
    "The Academic Ranking of World Universities (ARWU) was first published in June 2003 by the Center for World-Class Universities (CWCU). ARWU uses six objective indicators to rank world universities, including the number of alumni and staff winning Nobel Prizes and Fields Medals, number of highly cited researchers selected by Clarivate, number of articles published in journals of Nature and Science, number of articles indexed in Science Citation Index - Expanded and Social Sciences Citation Index, and per capita performance of a university.\n",
    "\n",
    "\n",
    "##### 3.Center for World University Rankings (CWUR):\n",
    "is a leading consulting organization providing policy advice, strategic insights, and consulting services to governments and universities to improve educational and research outcomes.\n",
    "<br>\n",
    "Since 2012, CWUR has been publishing the only academic ranking of global universities that assesses the quality of education, employability, quality of faculty, and research without relying on surveys and university data submissions."
   ]
  },
  {
   "cell_type": "code",
   "execution_count": 340,
   "metadata": {},
   "outputs": [],
   "source": [
    "#Each ranking system has its biases and methodologies, leading to different results. THE and ARWU's focus on research may undervalue other aspects like teaching quality.\n",
    "#Commercial interests in THE rankings could affect its objectivity. However, these rankings also provide valuable insights into university performance."
   ]
  },
  {
   "cell_type": "markdown",
   "metadata": {},
   "source": [
    "#### 2. Timeliness: \n",
    "Ensure the data is up-to-date and reflective of the current situation or the period of interest for the analysis."
   ]
  },
  {
   "cell_type": "code",
   "execution_count": null,
   "metadata": {},
   "outputs": [],
   "source": []
  },
  {
   "cell_type": "markdown",
   "metadata": {},
   "source": [
    "#### 3. Consistency: \n",
    "\n",
    "Confirm that the data is consistent within the dataset and across multiple data sources. For example, the same data point should not have different values in different places.\n"
   ]
  },
  {
   "cell_type": "markdown",
   "metadata": {},
   "source": [
    "Each dataset focuses on ranking universities based on different criterias."
   ]
  },
  {
   "cell_type": "code",
   "execution_count": 341,
   "metadata": {},
   "outputs": [
    {
     "data": {
      "text/plain": [
       "Index(['Rank', 'University Name ', 'ranking-institution-title href',\n",
       "       'Location', 'sdg-score-multi__number', 'sdg-score-multi__value',\n",
       "       'sdg-score-multi__number 2', 'sdg-score-multi__value 2',\n",
       "       'sdg-score-multi__number 3', 'sdg-score-multi__value 3',\n",
       "       'sdg-score-multi__value 4', 'scores', 'sdg-score-multi__number 5',\n",
       "       'sdg-score-multi__value 5', 'sdg-score-multi__number 6',\n",
       "       'sdg-score-multi__value 6', 'sdg-score-multi__number 7',\n",
       "       'sdg-score-multi__value 7', 'sdg-score-multi__number 8',\n",
       "       'sdg-score-multi__value 8'],\n",
       "      dtype='object')"
      ]
     },
     "execution_count": 341,
     "metadata": {},
     "output_type": "execute_result"
    }
   ],
   "source": [
    "Uni_df['THE'].columns"
   ]
  },
  {
   "cell_type": "code",
   "execution_count": 342,
   "metadata": {},
   "outputs": [],
   "source": [
    "Uni_df['THE'].rename(columns={'University Name ': 'University Name', 'scores': 'Total Score'}, inplace=True)"
   ]
  },
  {
   "cell_type": "markdown",
   "metadata": {},
   "source": [
    "#### 4. Relevance: "
   ]
  },
  {
   "cell_type": "code",
   "execution_count": 343,
   "metadata": {},
   "outputs": [
    {
     "data": {
      "text/html": [
       "<div>\n",
       "<style scoped>\n",
       "    .dataframe tbody tr th:only-of-type {\n",
       "        vertical-align: middle;\n",
       "    }\n",
       "\n",
       "    .dataframe tbody tr th {\n",
       "        vertical-align: top;\n",
       "    }\n",
       "\n",
       "    .dataframe thead th {\n",
       "        text-align: right;\n",
       "    }\n",
       "</style>\n",
       "<table border=\"1\" class=\"dataframe\">\n",
       "  <thead>\n",
       "    <tr style=\"text-align: right;\">\n",
       "      <th></th>\n",
       "      <th>Rank</th>\n",
       "      <th>University Name</th>\n",
       "      <th>ranking-institution-title href</th>\n",
       "      <th>Location</th>\n",
       "      <th>sdg-score-multi__number</th>\n",
       "      <th>sdg-score-multi__value</th>\n",
       "      <th>sdg-score-multi__number 2</th>\n",
       "      <th>sdg-score-multi__value 2</th>\n",
       "      <th>sdg-score-multi__number 3</th>\n",
       "      <th>sdg-score-multi__value 3</th>\n",
       "      <th>sdg-score-multi__value 4</th>\n",
       "      <th>Total Score</th>\n",
       "      <th>sdg-score-multi__number 5</th>\n",
       "      <th>sdg-score-multi__value 5</th>\n",
       "      <th>sdg-score-multi__number 6</th>\n",
       "      <th>sdg-score-multi__value 6</th>\n",
       "      <th>sdg-score-multi__number 7</th>\n",
       "      <th>sdg-score-multi__value 7</th>\n",
       "      <th>sdg-score-multi__number 8</th>\n",
       "      <th>sdg-score-multi__value 8</th>\n",
       "    </tr>\n",
       "  </thead>\n",
       "  <tbody>\n",
       "    <tr>\n",
       "      <th>0</th>\n",
       "      <td>1</td>\n",
       "      <td>Western Sydney University</td>\n",
       "      <td>https://www.timeshighereducation.com/world-uni...</td>\n",
       "      <td>Australia</td>\n",
       "      <td>5.0</td>\n",
       "      <td>80.3</td>\n",
       "      <td>12.0</td>\n",
       "      <td>93.4</td>\n",
       "      <td>15.0</td>\n",
       "      <td>96.7</td>\n",
       "      <td>98.8</td>\n",
       "      <td>99.4</td>\n",
       "      <td>NaN</td>\n",
       "      <td>NaN</td>\n",
       "      <td>NaN</td>\n",
       "      <td>NaN</td>\n",
       "      <td>NaN</td>\n",
       "      <td>NaN</td>\n",
       "      <td>NaN</td>\n",
       "      <td>NaN</td>\n",
       "    </tr>\n",
       "  </tbody>\n",
       "</table>\n",
       "</div>"
      ],
      "text/plain": [
       "  Rank            University Name  \\\n",
       "0    1  Western Sydney University   \n",
       "\n",
       "                      ranking-institution-title href   Location  \\\n",
       "0  https://www.timeshighereducation.com/world-uni...  Australia   \n",
       "\n",
       "   sdg-score-multi__number sdg-score-multi__value  sdg-score-multi__number 2  \\\n",
       "0                      5.0                   80.3                       12.0   \n",
       "\n",
       "  sdg-score-multi__value 2  sdg-score-multi__number 3  \\\n",
       "0                     93.4                       15.0   \n",
       "\n",
       "  sdg-score-multi__value 3 sdg-score-multi__value 4 Total Score  \\\n",
       "0                     96.7                     98.8        99.4   \n",
       "\n",
       "   sdg-score-multi__number 5 sdg-score-multi__value 5  \\\n",
       "0                        NaN                      NaN   \n",
       "\n",
       "   sdg-score-multi__number 6 sdg-score-multi__value 6  \\\n",
       "0                        NaN                      NaN   \n",
       "\n",
       "   sdg-score-multi__number 7 sdg-score-multi__value 7  \\\n",
       "0                        NaN                      NaN   \n",
       "\n",
       "   sdg-score-multi__number 8 sdg-score-multi__value 8  \n",
       "0                        NaN                      NaN  "
      ]
     },
     "execution_count": 343,
     "metadata": {},
     "output_type": "execute_result"
    }
   ],
   "source": [
    "Uni_df['THE'].head(1)"
   ]
  },
  {
   "cell_type": "code",
   "execution_count": 344,
   "metadata": {},
   "outputs": [],
   "source": [
    "Uni_df['THE'].drop(['ranking-institution-title href'], axis=1, inplace=True)"
   ]
  },
  {
   "cell_type": "code",
   "execution_count": 345,
   "metadata": {},
   "outputs": [
    {
     "data": {
      "text/html": [
       "<div>\n",
       "<style scoped>\n",
       "    .dataframe tbody tr th:only-of-type {\n",
       "        vertical-align: middle;\n",
       "    }\n",
       "\n",
       "    .dataframe tbody tr th {\n",
       "        vertical-align: top;\n",
       "    }\n",
       "\n",
       "    .dataframe thead th {\n",
       "        text-align: right;\n",
       "    }\n",
       "</style>\n",
       "<table border=\"1\" class=\"dataframe\">\n",
       "  <thead>\n",
       "    <tr style=\"text-align: right;\">\n",
       "      <th></th>\n",
       "      <th>Rank</th>\n",
       "      <th>University Name</th>\n",
       "      <th>Location</th>\n",
       "      <th>sdg-score-multi__number</th>\n",
       "      <th>sdg-score-multi__value</th>\n",
       "      <th>sdg-score-multi__number 2</th>\n",
       "      <th>sdg-score-multi__value 2</th>\n",
       "      <th>sdg-score-multi__number 3</th>\n",
       "      <th>sdg-score-multi__value 3</th>\n",
       "      <th>sdg-score-multi__value 4</th>\n",
       "      <th>Total Score</th>\n",
       "      <th>sdg-score-multi__number 5</th>\n",
       "      <th>sdg-score-multi__value 5</th>\n",
       "      <th>sdg-score-multi__number 6</th>\n",
       "      <th>sdg-score-multi__value 6</th>\n",
       "      <th>sdg-score-multi__number 7</th>\n",
       "      <th>sdg-score-multi__value 7</th>\n",
       "      <th>sdg-score-multi__number 8</th>\n",
       "      <th>sdg-score-multi__value 8</th>\n",
       "    </tr>\n",
       "  </thead>\n",
       "  <tbody>\n",
       "    <tr>\n",
       "      <th>0</th>\n",
       "      <td>1</td>\n",
       "      <td>Western Sydney University</td>\n",
       "      <td>Australia</td>\n",
       "      <td>5.0</td>\n",
       "      <td>80.3</td>\n",
       "      <td>12.0</td>\n",
       "      <td>93.4</td>\n",
       "      <td>15.0</td>\n",
       "      <td>96.7</td>\n",
       "      <td>98.8</td>\n",
       "      <td>99.4</td>\n",
       "      <td>NaN</td>\n",
       "      <td>NaN</td>\n",
       "      <td>NaN</td>\n",
       "      <td>NaN</td>\n",
       "      <td>NaN</td>\n",
       "      <td>NaN</td>\n",
       "      <td>NaN</td>\n",
       "      <td>NaN</td>\n",
       "    </tr>\n",
       "  </tbody>\n",
       "</table>\n",
       "</div>"
      ],
      "text/plain": [
       "  Rank            University Name   Location  sdg-score-multi__number  \\\n",
       "0    1  Western Sydney University  Australia                      5.0   \n",
       "\n",
       "  sdg-score-multi__value  sdg-score-multi__number 2 sdg-score-multi__value 2  \\\n",
       "0                   80.3                       12.0                     93.4   \n",
       "\n",
       "   sdg-score-multi__number 3 sdg-score-multi__value 3  \\\n",
       "0                       15.0                     96.7   \n",
       "\n",
       "  sdg-score-multi__value 4 Total Score  sdg-score-multi__number 5  \\\n",
       "0                     98.8        99.4                        NaN   \n",
       "\n",
       "  sdg-score-multi__value 5  sdg-score-multi__number 6  \\\n",
       "0                      NaN                        NaN   \n",
       "\n",
       "  sdg-score-multi__value 6  sdg-score-multi__number 7  \\\n",
       "0                      NaN                        NaN   \n",
       "\n",
       "  sdg-score-multi__value 7  sdg-score-multi__number 8 sdg-score-multi__value 8  \n",
       "0                      NaN                        NaN                      NaN  "
      ]
     },
     "execution_count": 345,
     "metadata": {},
     "output_type": "execute_result"
    }
   ],
   "source": [
    "Uni_df['THE'].head(1)"
   ]
  },
  {
   "cell_type": "code",
   "execution_count": 346,
   "metadata": {},
   "outputs": [
    {
     "data": {
      "text/plain": [
       "Index(['Ranking', 'University Name', 'National/Regional Rank', 'Total Score',\n",
       "       'LOGO', 'University Detail '],\n",
       "      dtype='object')"
      ]
     },
     "execution_count": 346,
     "metadata": {},
     "output_type": "execute_result"
    }
   ],
   "source": [
    "Uni_df['ARWU'].columns"
   ]
  },
  {
   "cell_type": "code",
   "execution_count": 347,
   "metadata": {},
   "outputs": [],
   "source": [
    "Uni_df['ARWU'].rename(columns={'Ranking': 'Rank', 'National/Regional Rank': 'National Rank'}, inplace=True)"
   ]
  },
  {
   "cell_type": "code",
   "execution_count": 348,
   "metadata": {},
   "outputs": [
    {
     "data": {
      "text/html": [
       "<div>\n",
       "<style scoped>\n",
       "    .dataframe tbody tr th:only-of-type {\n",
       "        vertical-align: middle;\n",
       "    }\n",
       "\n",
       "    .dataframe tbody tr th {\n",
       "        vertical-align: top;\n",
       "    }\n",
       "\n",
       "    .dataframe thead th {\n",
       "        text-align: right;\n",
       "    }\n",
       "</style>\n",
       "<table border=\"1\" class=\"dataframe\">\n",
       "  <thead>\n",
       "    <tr style=\"text-align: right;\">\n",
       "      <th></th>\n",
       "      <th>Rank</th>\n",
       "      <th>University Name</th>\n",
       "      <th>National Rank</th>\n",
       "      <th>Total Score</th>\n",
       "      <th>LOGO</th>\n",
       "      <th>University Detail</th>\n",
       "    </tr>\n",
       "  </thead>\n",
       "  <tbody>\n",
       "    <tr>\n",
       "      <th>0</th>\n",
       "      <td>1</td>\n",
       "      <td>Harvard University</td>\n",
       "      <td>1</td>\n",
       "      <td>100.0</td>\n",
       "      <td>http://www.shanghairanking.com/_uni/logo/032bd...</td>\n",
       "      <td>http://www.shanghairanking.com/institution/har...</td>\n",
       "    </tr>\n",
       "  </tbody>\n",
       "</table>\n",
       "</div>"
      ],
      "text/plain": [
       "  Rank     University Name National Rank  Total Score  \\\n",
       "0    1  Harvard University             1        100.0   \n",
       "\n",
       "                                                LOGO  \\\n",
       "0  http://www.shanghairanking.com/_uni/logo/032bd...   \n",
       "\n",
       "                                  University Detail   \n",
       "0  http://www.shanghairanking.com/institution/har...  "
      ]
     },
     "execution_count": 348,
     "metadata": {},
     "output_type": "execute_result"
    }
   ],
   "source": [
    "Uni_df['ARWU'].head(1)"
   ]
  },
  {
   "cell_type": "code",
   "execution_count": 349,
   "metadata": {},
   "outputs": [],
   "source": [
    "Uni_df['ARWU'].drop(['LOGO', 'University Detail '], axis=1, inplace=True)"
   ]
  },
  {
   "cell_type": "code",
   "execution_count": 350,
   "metadata": {},
   "outputs": [
    {
     "data": {
      "text/plain": [
       "Index(['World Rank', 'University Names', 'Location ', 'National Rank',\n",
       "       'Educational Rank', 'Employability Rank', 'Faculty Rank',\n",
       "       'Research Rank', 'Score'],\n",
       "      dtype='object')"
      ]
     },
     "execution_count": 350,
     "metadata": {},
     "output_type": "execute_result"
    }
   ],
   "source": [
    "Uni_df['CWUR'].columns"
   ]
  },
  {
   "cell_type": "code",
   "execution_count": 351,
   "metadata": {},
   "outputs": [],
   "source": [
    "Uni_df['CWUR'].rename(columns={\"World Rank\": \"Rank\", 'University Names': 'University Name', 'Location ': 'Location', 'Score': 'Total Score'}, inplace=True)"
   ]
  },
  {
   "cell_type": "code",
   "execution_count": 352,
   "metadata": {},
   "outputs": [
    {
     "data": {
      "text/html": [
       "<div>\n",
       "<style scoped>\n",
       "    .dataframe tbody tr th:only-of-type {\n",
       "        vertical-align: middle;\n",
       "    }\n",
       "\n",
       "    .dataframe tbody tr th {\n",
       "        vertical-align: top;\n",
       "    }\n",
       "\n",
       "    .dataframe thead th {\n",
       "        text-align: right;\n",
       "    }\n",
       "</style>\n",
       "<table border=\"1\" class=\"dataframe\">\n",
       "  <thead>\n",
       "    <tr style=\"text-align: right;\">\n",
       "      <th></th>\n",
       "      <th>Rank</th>\n",
       "      <th>University Name</th>\n",
       "      <th>Location</th>\n",
       "      <th>National Rank</th>\n",
       "      <th>Educational Rank</th>\n",
       "      <th>Employability Rank</th>\n",
       "      <th>Faculty Rank</th>\n",
       "      <th>Research Rank</th>\n",
       "      <th>Total Score</th>\n",
       "    </tr>\n",
       "  </thead>\n",
       "  <tbody>\n",
       "    <tr>\n",
       "      <th>0</th>\n",
       "      <td>1Top 0.1%</td>\n",
       "      <td>Harvard University\\n  CWUR Rating System:   Ed...</td>\n",
       "      <td>USA</td>\n",
       "      <td>1</td>\n",
       "      <td>1</td>\n",
       "      <td>1</td>\n",
       "      <td>1</td>\n",
       "      <td>1</td>\n",
       "      <td>100.0</td>\n",
       "    </tr>\n",
       "  </tbody>\n",
       "</table>\n",
       "</div>"
      ],
      "text/plain": [
       "        Rank                                    University Name Location  \\\n",
       "0  1Top 0.1%  Harvard University\\n  CWUR Rating System:   Ed...      USA   \n",
       "\n",
       "   National Rank Educational Rank Employability Rank Faculty Rank  \\\n",
       "0              1                1                  1            1   \n",
       "\n",
       "  Research Rank  Total Score  \n",
       "0             1        100.0  "
      ]
     },
     "execution_count": 352,
     "metadata": {},
     "output_type": "execute_result"
    }
   ],
   "source": [
    "Uni_df['CWUR'].head(1)"
   ]
  },
  {
   "cell_type": "markdown",
   "metadata": {},
   "source": [
    "#### 5. Uniqueness: "
   ]
  },
  {
   "cell_type": "code",
   "execution_count": 353,
   "metadata": {},
   "outputs": [
    {
     "data": {
      "text/plain": [
       "'THE'"
      ]
     },
     "metadata": {},
     "output_type": "display_data"
    },
    {
     "data": {
      "text/plain": [
       "0"
      ]
     },
     "metadata": {},
     "output_type": "display_data"
    },
    {
     "data": {
      "text/plain": [
       "'ARWU'"
      ]
     },
     "metadata": {},
     "output_type": "display_data"
    },
    {
     "data": {
      "text/plain": [
       "0"
      ]
     },
     "metadata": {},
     "output_type": "display_data"
    },
    {
     "data": {
      "text/plain": [
       "'CWUR'"
      ]
     },
     "metadata": {},
     "output_type": "display_data"
    },
    {
     "data": {
      "text/plain": [
       "0"
      ]
     },
     "metadata": {},
     "output_type": "display_data"
    }
   ],
   "source": [
    "display(\"THE\", Uni_df['THE'].duplicated().sum())\n",
    "display(\"ARWU\", Uni_df['ARWU'].duplicated().sum())\n",
    "display(\"CWUR\", Uni_df['CWUR'].duplicated().sum() )"
   ]
  },
  {
   "cell_type": "markdown",
   "metadata": {},
   "source": [
    "#### 6. Completeness: "
   ]
  },
  {
   "cell_type": "code",
   "execution_count": 354,
   "metadata": {},
   "outputs": [
    {
     "name": "stdout",
     "output_type": "stream",
     "text": [
      "sdg-score-multi__number 7    1152\n",
      "sdg-score-multi__value 7     1152\n",
      "sdg-score-multi__value 8     1108\n",
      "sdg-score-multi__number 8    1108\n",
      "sdg-score-multi__value 6     1095\n",
      "sdg-score-multi__number 6    1093\n",
      "sdg-score-multi__value 5     1034\n",
      "sdg-score-multi__number 5    1026\n",
      "sdg-score-multi__value 3      786\n",
      "sdg-score-multi__number 3     779\n",
      "sdg-score-multi__value 2      766\n",
      "sdg-score-multi__number 2     765\n",
      "sdg-score-multi__number       724\n",
      "sdg-score-multi__value        724\n",
      "Location                       91\n",
      "sdg-score-multi__value 4        8\n",
      "Total Score                     0\n",
      "University Name                 0\n",
      "Rank                            0\n",
      "dtype: int64\n",
      "================================\n",
      "Rank               0\n",
      "University Name    0\n",
      "National Rank      0\n",
      "Total Score        0\n",
      "dtype: int64\n",
      "================================\n",
      "Rank                  0\n",
      "University Name       0\n",
      "Location              0\n",
      "National Rank         0\n",
      "Educational Rank      0\n",
      "Employability Rank    0\n",
      "Faculty Rank          0\n",
      "Research Rank         0\n",
      "Total Score           0\n",
      "dtype: int64\n"
     ]
    }
   ],
   "source": [
    "print(Uni_df['THE'].isnull().sum().sort_values(ascending = False))\n",
    "print(\"================================\")\n",
    "print(Uni_df['ARWU'].isnull().sum().sort_values(ascending = False))\n",
    "print(\"================================\")\n",
    "print(Uni_df['CWUR'].isnull().sum().sort_values(ascending = False))"
   ]
  },
  {
   "cell_type": "markdown",
   "metadata": {},
   "source": [
    "#### 7. Check Accuracy:\n"
   ]
  },
  {
   "cell_type": "markdown",
   "metadata": {},
   "source": [
    "<h4 style='color: red'>IMPORTANT: Clean the data before running.<h4>"
   ]
  },
  {
   "cell_type": "code",
   "execution_count": 355,
   "metadata": {},
   "outputs": [
    {
     "data": {
      "text/plain": [
       "'Times Higher Education:'"
      ]
     },
     "metadata": {},
     "output_type": "display_data"
    },
    {
     "data": {
      "text/html": [
       "<div>\n",
       "<style scoped>\n",
       "    .dataframe tbody tr th:only-of-type {\n",
       "        vertical-align: middle;\n",
       "    }\n",
       "\n",
       "    .dataframe tbody tr th {\n",
       "        vertical-align: top;\n",
       "    }\n",
       "\n",
       "    .dataframe thead th {\n",
       "        text-align: right;\n",
       "    }\n",
       "</style>\n",
       "<table border=\"1\" class=\"dataframe\">\n",
       "  <thead>\n",
       "    <tr style=\"text-align: right;\">\n",
       "      <th></th>\n",
       "      <th>Rank</th>\n",
       "      <th>University Name</th>\n",
       "      <th>Location</th>\n",
       "      <th>sdg-score-multi__number</th>\n",
       "      <th>sdg-score-multi__value</th>\n",
       "      <th>sdg-score-multi__number 2</th>\n",
       "      <th>sdg-score-multi__value 2</th>\n",
       "      <th>sdg-score-multi__number 3</th>\n",
       "      <th>sdg-score-multi__value 3</th>\n",
       "      <th>sdg-score-multi__value 4</th>\n",
       "      <th>Total Score</th>\n",
       "      <th>sdg-score-multi__number 5</th>\n",
       "      <th>sdg-score-multi__value 5</th>\n",
       "      <th>sdg-score-multi__number 6</th>\n",
       "      <th>sdg-score-multi__value 6</th>\n",
       "      <th>sdg-score-multi__number 7</th>\n",
       "      <th>sdg-score-multi__value 7</th>\n",
       "      <th>sdg-score-multi__number 8</th>\n",
       "      <th>sdg-score-multi__value 8</th>\n",
       "    </tr>\n",
       "  </thead>\n",
       "  <tbody>\n",
       "    <tr>\n",
       "      <th>0</th>\n",
       "      <td>1</td>\n",
       "      <td>Western Sydney University</td>\n",
       "      <td>Australia</td>\n",
       "      <td>5.0</td>\n",
       "      <td>80.3</td>\n",
       "      <td>12.0</td>\n",
       "      <td>93.4</td>\n",
       "      <td>15.0</td>\n",
       "      <td>96.7</td>\n",
       "      <td>98.8</td>\n",
       "      <td>99.4</td>\n",
       "      <td>NaN</td>\n",
       "      <td>NaN</td>\n",
       "      <td>NaN</td>\n",
       "      <td>NaN</td>\n",
       "      <td>NaN</td>\n",
       "      <td>NaN</td>\n",
       "      <td>NaN</td>\n",
       "      <td>NaN</td>\n",
       "    </tr>\n",
       "    <tr>\n",
       "      <th>1</th>\n",
       "      <td>2</td>\n",
       "      <td>University of Manchester</td>\n",
       "      <td>United Kingdom</td>\n",
       "      <td>15.0</td>\n",
       "      <td>97.4</td>\n",
       "      <td>12.0</td>\n",
       "      <td>92.9</td>\n",
       "      <td>11.0</td>\n",
       "      <td>92.2</td>\n",
       "      <td>94.8</td>\n",
       "      <td>97.5</td>\n",
       "      <td>NaN</td>\n",
       "      <td>NaN</td>\n",
       "      <td>NaN</td>\n",
       "      <td>NaN</td>\n",
       "      <td>NaN</td>\n",
       "      <td>NaN</td>\n",
       "      <td>NaN</td>\n",
       "      <td>NaN</td>\n",
       "    </tr>\n",
       "  </tbody>\n",
       "</table>\n",
       "</div>"
      ],
      "text/plain": [
       "  Rank            University Name        Location  sdg-score-multi__number  \\\n",
       "0    1  Western Sydney University       Australia                      5.0   \n",
       "1    2   University of Manchester  United Kingdom                     15.0   \n",
       "\n",
       "  sdg-score-multi__value  sdg-score-multi__number 2 sdg-score-multi__value 2  \\\n",
       "0                   80.3                       12.0                     93.4   \n",
       "1                   97.4                       12.0                     92.9   \n",
       "\n",
       "   sdg-score-multi__number 3 sdg-score-multi__value 3  \\\n",
       "0                       15.0                     96.7   \n",
       "1                       11.0                     92.2   \n",
       "\n",
       "  sdg-score-multi__value 4 Total Score  sdg-score-multi__number 5  \\\n",
       "0                     98.8        99.4                        NaN   \n",
       "1                     94.8        97.5                        NaN   \n",
       "\n",
       "  sdg-score-multi__value 5  sdg-score-multi__number 6  \\\n",
       "0                      NaN                        NaN   \n",
       "1                      NaN                        NaN   \n",
       "\n",
       "  sdg-score-multi__value 6  sdg-score-multi__number 7  \\\n",
       "0                      NaN                        NaN   \n",
       "1                      NaN                        NaN   \n",
       "\n",
       "  sdg-score-multi__value 7  sdg-score-multi__number 8 sdg-score-multi__value 8  \n",
       "0                      NaN                        NaN                      NaN  \n",
       "1                      NaN                        NaN                      NaN  "
      ]
     },
     "metadata": {},
     "output_type": "display_data"
    },
    {
     "data": {
      "text/plain": [
       "'Shanghai Ranking'"
      ]
     },
     "metadata": {},
     "output_type": "display_data"
    },
    {
     "data": {
      "text/html": [
       "<div>\n",
       "<style scoped>\n",
       "    .dataframe tbody tr th:only-of-type {\n",
       "        vertical-align: middle;\n",
       "    }\n",
       "\n",
       "    .dataframe tbody tr th {\n",
       "        vertical-align: top;\n",
       "    }\n",
       "\n",
       "    .dataframe thead th {\n",
       "        text-align: right;\n",
       "    }\n",
       "</style>\n",
       "<table border=\"1\" class=\"dataframe\">\n",
       "  <thead>\n",
       "    <tr style=\"text-align: right;\">\n",
       "      <th></th>\n",
       "      <th>Rank</th>\n",
       "      <th>University Name</th>\n",
       "      <th>National Rank</th>\n",
       "      <th>Total Score</th>\n",
       "    </tr>\n",
       "  </thead>\n",
       "  <tbody>\n",
       "    <tr>\n",
       "      <th>0</th>\n",
       "      <td>1</td>\n",
       "      <td>Harvard University</td>\n",
       "      <td>1</td>\n",
       "      <td>100.0</td>\n",
       "    </tr>\n",
       "    <tr>\n",
       "      <th>1</th>\n",
       "      <td>2</td>\n",
       "      <td>Stanford University</td>\n",
       "      <td>2</td>\n",
       "      <td>76.8</td>\n",
       "    </tr>\n",
       "  </tbody>\n",
       "</table>\n",
       "</div>"
      ],
      "text/plain": [
       "  Rank      University Name National Rank  Total Score\n",
       "0    1   Harvard University             1        100.0\n",
       "1    2  Stanford University             2         76.8"
      ]
     },
     "metadata": {},
     "output_type": "display_data"
    },
    {
     "data": {
      "text/plain": [
       "'Word Rank'"
      ]
     },
     "metadata": {},
     "output_type": "display_data"
    },
    {
     "data": {
      "text/html": [
       "<div>\n",
       "<style scoped>\n",
       "    .dataframe tbody tr th:only-of-type {\n",
       "        vertical-align: middle;\n",
       "    }\n",
       "\n",
       "    .dataframe tbody tr th {\n",
       "        vertical-align: top;\n",
       "    }\n",
       "\n",
       "    .dataframe thead th {\n",
       "        text-align: right;\n",
       "    }\n",
       "</style>\n",
       "<table border=\"1\" class=\"dataframe\">\n",
       "  <thead>\n",
       "    <tr style=\"text-align: right;\">\n",
       "      <th></th>\n",
       "      <th>Rank</th>\n",
       "      <th>University Name</th>\n",
       "      <th>Location</th>\n",
       "      <th>National Rank</th>\n",
       "      <th>Educational Rank</th>\n",
       "      <th>Employability Rank</th>\n",
       "      <th>Faculty Rank</th>\n",
       "      <th>Research Rank</th>\n",
       "      <th>Total Score</th>\n",
       "    </tr>\n",
       "  </thead>\n",
       "  <tbody>\n",
       "    <tr>\n",
       "      <th>0</th>\n",
       "      <td>1Top 0.1%</td>\n",
       "      <td>Harvard University\\n  CWUR Rating System:   Ed...</td>\n",
       "      <td>USA</td>\n",
       "      <td>1</td>\n",
       "      <td>1</td>\n",
       "      <td>1</td>\n",
       "      <td>1</td>\n",
       "      <td>1</td>\n",
       "      <td>100.0</td>\n",
       "    </tr>\n",
       "    <tr>\n",
       "      <th>1</th>\n",
       "      <td>2Top 0.1%</td>\n",
       "      <td>Massachusetts Institute of Technology\\n  Educa...</td>\n",
       "      <td>USA</td>\n",
       "      <td>2</td>\n",
       "      <td>4</td>\n",
       "      <td>12</td>\n",
       "      <td>3</td>\n",
       "      <td>9</td>\n",
       "      <td>96.7</td>\n",
       "    </tr>\n",
       "  </tbody>\n",
       "</table>\n",
       "</div>"
      ],
      "text/plain": [
       "        Rank                                    University Name Location  \\\n",
       "0  1Top 0.1%  Harvard University\\n  CWUR Rating System:   Ed...      USA   \n",
       "1  2Top 0.1%  Massachusetts Institute of Technology\\n  Educa...      USA   \n",
       "\n",
       "   National Rank Educational Rank Employability Rank Faculty Rank  \\\n",
       "0              1                1                  1            1   \n",
       "1              2                4                 12            3   \n",
       "\n",
       "  Research Rank  Total Score  \n",
       "0             1        100.0  \n",
       "1             9         96.7  "
      ]
     },
     "metadata": {},
     "output_type": "display_data"
    }
   ],
   "source": [
    "display('Times Higher Education:', Uni_df['THE'].head(2))\n",
    "display('Shanghai Ranking', Uni_df['ARWU'].head(2))\n",
    "display('Word Rank', Uni_df['CWUR'].head(2))"
   ]
  },
  {
   "cell_type": "code",
   "execution_count": 356,
   "metadata": {},
   "outputs": [
    {
     "data": {
      "text/plain": [
       "'Times Higher Education:'"
      ]
     },
     "metadata": {},
     "output_type": "display_data"
    },
    {
     "data": {
      "text/plain": [
       "Rank                          object\n",
       "University Name               object\n",
       "Location                      object\n",
       "sdg-score-multi__number      float64\n",
       "sdg-score-multi__value        object\n",
       "sdg-score-multi__number 2    float64\n",
       "sdg-score-multi__value 2      object\n",
       "sdg-score-multi__number 3    float64\n",
       "sdg-score-multi__value 3      object\n",
       "sdg-score-multi__value 4      object\n",
       "Total Score                   object\n",
       "sdg-score-multi__number 5    float64\n",
       "sdg-score-multi__value 5      object\n",
       "sdg-score-multi__number 6    float64\n",
       "sdg-score-multi__value 6      object\n",
       "sdg-score-multi__number 7    float64\n",
       "sdg-score-multi__value 7      object\n",
       "sdg-score-multi__number 8    float64\n",
       "sdg-score-multi__value 8      object\n",
       "dtype: object"
      ]
     },
     "metadata": {},
     "output_type": "display_data"
    },
    {
     "data": {
      "text/plain": [
       "'Shanghai Ranking'"
      ]
     },
     "metadata": {},
     "output_type": "display_data"
    },
    {
     "data": {
      "text/plain": [
       "Rank                object\n",
       "University Name     object\n",
       "National Rank       object\n",
       "Total Score        float64\n",
       "dtype: object"
      ]
     },
     "metadata": {},
     "output_type": "display_data"
    },
    {
     "data": {
      "text/plain": [
       "'Word Rank'"
      ]
     },
     "metadata": {},
     "output_type": "display_data"
    },
    {
     "data": {
      "text/plain": [
       "Rank                   object\n",
       "University Name        object\n",
       "Location               object\n",
       "National Rank           int64\n",
       "Educational Rank       object\n",
       "Employability Rank     object\n",
       "Faculty Rank           object\n",
       "Research Rank          object\n",
       "Total Score           float64\n",
       "dtype: object"
      ]
     },
     "metadata": {},
     "output_type": "display_data"
    }
   ],
   "source": [
    "# check columns types \n",
    "display('Times Higher Education:', Uni_df['THE'].dtypes)\n",
    "display('Shanghai Ranking',Uni_df['ARWU'].dtypes)\n",
    "display('Word Rank', Uni_df['CWUR'].dtypes)"
   ]
  },
  {
   "cell_type": "code",
   "execution_count": 357,
   "metadata": {},
   "outputs": [
    {
     "data": {
      "text/html": [
       "<div>\n",
       "<style scoped>\n",
       "    .dataframe tbody tr th:only-of-type {\n",
       "        vertical-align: middle;\n",
       "    }\n",
       "\n",
       "    .dataframe tbody tr th {\n",
       "        vertical-align: top;\n",
       "    }\n",
       "\n",
       "    .dataframe thead th {\n",
       "        text-align: right;\n",
       "    }\n",
       "</style>\n",
       "<table border=\"1\" class=\"dataframe\">\n",
       "  <thead>\n",
       "    <tr style=\"text-align: right;\">\n",
       "      <th></th>\n",
       "      <th>Rank</th>\n",
       "      <th>University Name</th>\n",
       "      <th>National Rank</th>\n",
       "      <th>Total Score</th>\n",
       "    </tr>\n",
       "  </thead>\n",
       "  <tbody>\n",
       "    <tr>\n",
       "      <th>0</th>\n",
       "      <td>1</td>\n",
       "      <td>Harvard University</td>\n",
       "      <td>1</td>\n",
       "      <td>100.0</td>\n",
       "    </tr>\n",
       "    <tr>\n",
       "      <th>1</th>\n",
       "      <td>2</td>\n",
       "      <td>Stanford University</td>\n",
       "      <td>2</td>\n",
       "      <td>76.8</td>\n",
       "    </tr>\n",
       "    <tr>\n",
       "      <th>2</th>\n",
       "      <td>3</td>\n",
       "      <td>Massachusetts Institute of Technology (MIT)</td>\n",
       "      <td>3</td>\n",
       "      <td>70.1</td>\n",
       "    </tr>\n",
       "    <tr>\n",
       "      <th>3</th>\n",
       "      <td>4</td>\n",
       "      <td>University of Cambridge</td>\n",
       "      <td>1</td>\n",
       "      <td>69.6</td>\n",
       "    </tr>\n",
       "    <tr>\n",
       "      <th>4</th>\n",
       "      <td>5</td>\n",
       "      <td>University of California, Berkeley</td>\n",
       "      <td>4</td>\n",
       "      <td>65.3</td>\n",
       "    </tr>\n",
       "    <tr>\n",
       "      <th>...</th>\n",
       "      <td>...</td>\n",
       "      <td>...</td>\n",
       "      <td>...</td>\n",
       "      <td>...</td>\n",
       "    </tr>\n",
       "    <tr>\n",
       "      <th>468</th>\n",
       "      <td>401-500</td>\n",
       "      <td>University of Kent</td>\n",
       "      <td>34-38</td>\n",
       "      <td>19.2</td>\n",
       "    </tr>\n",
       "    <tr>\n",
       "      <th>490</th>\n",
       "      <td>401-500</td>\n",
       "      <td>University of Warsaw</td>\n",
       "      <td>1-2</td>\n",
       "      <td>19.2</td>\n",
       "    </tr>\n",
       "    <tr>\n",
       "      <th>529</th>\n",
       "      <td>501-600</td>\n",
       "      <td>Moscow Institute of Physics and Technology</td>\n",
       "      <td>3</td>\n",
       "      <td>20.7</td>\n",
       "    </tr>\n",
       "    <tr>\n",
       "      <th>755</th>\n",
       "      <td>701-800</td>\n",
       "      <td>Swarthmore College</td>\n",
       "      <td>158-174</td>\n",
       "      <td>23.9</td>\n",
       "    </tr>\n",
       "    <tr>\n",
       "      <th>902</th>\n",
       "      <td>901-1000</td>\n",
       "      <td>Amherst College</td>\n",
       "      <td>183-196</td>\n",
       "      <td>25.0</td>\n",
       "    </tr>\n",
       "  </tbody>\n",
       "</table>\n",
       "<p>122 rows × 4 columns</p>\n",
       "</div>"
      ],
      "text/plain": [
       "         Rank                              University Name National Rank  \\\n",
       "0           1                           Harvard University             1   \n",
       "1           2                          Stanford University             2   \n",
       "2           3  Massachusetts Institute of Technology (MIT)             3   \n",
       "3           4                      University of Cambridge             1   \n",
       "4           5           University of California, Berkeley             4   \n",
       "..        ...                                          ...           ...   \n",
       "468   401-500                           University of Kent         34-38   \n",
       "490   401-500                         University of Warsaw           1-2   \n",
       "529   501-600   Moscow Institute of Physics and Technology             3   \n",
       "755   701-800                           Swarthmore College       158-174   \n",
       "902  901-1000                              Amherst College       183-196   \n",
       "\n",
       "     Total Score  \n",
       "0          100.0  \n",
       "1           76.8  \n",
       "2           70.1  \n",
       "3           69.6  \n",
       "4           65.3  \n",
       "..           ...  \n",
       "468         19.2  \n",
       "490         19.2  \n",
       "529         20.7  \n",
       "755         23.9  \n",
       "902         25.0  \n",
       "\n",
       "[122 rows x 4 columns]"
      ]
     },
     "execution_count": 357,
     "metadata": {},
     "output_type": "execute_result"
    }
   ],
   "source": [
    "# Calculate Q1 (25th percentile) and Q3 (75th percentile)\n",
    "speed_Q1 = Uni_df['ARWU']['Total Score'].quantile(0.25)\n",
    "speed_Q3 = Uni_df['ARWU']['Total Score'].quantile(0.75)\n",
    "\n",
    "# Calculate the IQR by subtracting Q1 from Q3\n",
    "speed_IQR = speed_Q3 - speed_Q1\n",
    "\n",
    "# Define the lower and upper bounds for the outliers\n",
    "speed_lower_bound = speed_Q1 - 1.5 * speed_IQR\n",
    "speed_upper_bound = speed_Q3 + 1.5 * speed_IQR\n",
    "\n",
    "# # Filter out outliers\n",
    "Uni_df['ARWU'][(Uni_df['ARWU']['Total Score'] < speed_lower_bound) | (Uni_df['ARWU']['Total Score'] > speed_upper_bound)]"
   ]
  },
  {
   "cell_type": "code",
   "execution_count": 358,
   "metadata": {},
   "outputs": [
    {
     "data": {
      "text/html": [
       "<div>\n",
       "<style scoped>\n",
       "    .dataframe tbody tr th:only-of-type {\n",
       "        vertical-align: middle;\n",
       "    }\n",
       "\n",
       "    .dataframe tbody tr th {\n",
       "        vertical-align: top;\n",
       "    }\n",
       "\n",
       "    .dataframe thead th {\n",
       "        text-align: right;\n",
       "    }\n",
       "</style>\n",
       "<table border=\"1\" class=\"dataframe\">\n",
       "  <thead>\n",
       "    <tr style=\"text-align: right;\">\n",
       "      <th></th>\n",
       "      <th>Rank</th>\n",
       "      <th>University Name</th>\n",
       "      <th>Location</th>\n",
       "      <th>National Rank</th>\n",
       "      <th>Educational Rank</th>\n",
       "      <th>Employability Rank</th>\n",
       "      <th>Faculty Rank</th>\n",
       "      <th>Research Rank</th>\n",
       "      <th>Total Score</th>\n",
       "    </tr>\n",
       "  </thead>\n",
       "  <tbody>\n",
       "    <tr>\n",
       "      <th>0</th>\n",
       "      <td>1Top 0.1%</td>\n",
       "      <td>Harvard University\\n  CWUR Rating System:   Ed...</td>\n",
       "      <td>USA</td>\n",
       "      <td>1</td>\n",
       "      <td>1</td>\n",
       "      <td>1</td>\n",
       "      <td>1</td>\n",
       "      <td>1</td>\n",
       "      <td>100.0</td>\n",
       "    </tr>\n",
       "    <tr>\n",
       "      <th>1</th>\n",
       "      <td>2Top 0.1%</td>\n",
       "      <td>Massachusetts Institute of Technology\\n  Educa...</td>\n",
       "      <td>USA</td>\n",
       "      <td>2</td>\n",
       "      <td>4</td>\n",
       "      <td>12</td>\n",
       "      <td>3</td>\n",
       "      <td>9</td>\n",
       "      <td>96.7</td>\n",
       "    </tr>\n",
       "    <tr>\n",
       "      <th>2</th>\n",
       "      <td>3Top 0.1%</td>\n",
       "      <td>Stanford University\\n  Education: A+; Employab...</td>\n",
       "      <td>USA</td>\n",
       "      <td>3</td>\n",
       "      <td>11</td>\n",
       "      <td>4</td>\n",
       "      <td>2</td>\n",
       "      <td>2</td>\n",
       "      <td>95.2</td>\n",
       "    </tr>\n",
       "    <tr>\n",
       "      <th>3</th>\n",
       "      <td>4Top 0.1%</td>\n",
       "      <td>University of Cambridge\\n  Education: A+; Empl...</td>\n",
       "      <td>United Kingdom</td>\n",
       "      <td>1</td>\n",
       "      <td>3</td>\n",
       "      <td>25</td>\n",
       "      <td>5</td>\n",
       "      <td>11</td>\n",
       "      <td>94.1</td>\n",
       "    </tr>\n",
       "    <tr>\n",
       "      <th>4</th>\n",
       "      <td>5Top 0.1%</td>\n",
       "      <td>University of Oxford\\n  Education: A+; Employa...</td>\n",
       "      <td>United Kingdom</td>\n",
       "      <td>2</td>\n",
       "      <td>7</td>\n",
       "      <td>27</td>\n",
       "      <td>9</td>\n",
       "      <td>4</td>\n",
       "      <td>93.3</td>\n",
       "    </tr>\n",
       "    <tr>\n",
       "      <th>...</th>\n",
       "      <td>...</td>\n",
       "      <td>...</td>\n",
       "      <td>...</td>\n",
       "      <td>...</td>\n",
       "      <td>...</td>\n",
       "      <td>...</td>\n",
       "      <td>...</td>\n",
       "      <td>...</td>\n",
       "      <td>...</td>\n",
       "    </tr>\n",
       "    <tr>\n",
       "      <th>56</th>\n",
       "      <td>57Top 0.3%</td>\n",
       "      <td>University of Melbourne</td>\n",
       "      <td>Australia</td>\n",
       "      <td>1</td>\n",
       "      <td>142</td>\n",
       "      <td>411</td>\n",
       "      <td>130</td>\n",
       "      <td>33</td>\n",
       "      <td>84.2</td>\n",
       "    </tr>\n",
       "    <tr>\n",
       "      <th>57</th>\n",
       "      <td>58Top 0.3%</td>\n",
       "      <td>Free University of Berlin</td>\n",
       "      <td>Germany</td>\n",
       "      <td>2</td>\n",
       "      <td>80</td>\n",
       "      <td>1123</td>\n",
       "      <td>44</td>\n",
       "      <td>76</td>\n",
       "      <td>84.1</td>\n",
       "    </tr>\n",
       "    <tr>\n",
       "      <th>58</th>\n",
       "      <td>59Top 0.3%</td>\n",
       "      <td>Humboldt University of Berlin</td>\n",
       "      <td>Germany</td>\n",
       "      <td>3</td>\n",
       "      <td>85</td>\n",
       "      <td>1532</td>\n",
       "      <td>50</td>\n",
       "      <td>69</td>\n",
       "      <td>84.0</td>\n",
       "    </tr>\n",
       "    <tr>\n",
       "      <th>59</th>\n",
       "      <td>60Top 0.3%</td>\n",
       "      <td>Ohio State University</td>\n",
       "      <td>USA</td>\n",
       "      <td>32</td>\n",
       "      <td>129</td>\n",
       "      <td>294</td>\n",
       "      <td>133</td>\n",
       "      <td>40</td>\n",
       "      <td>84.0</td>\n",
       "    </tr>\n",
       "    <tr>\n",
       "      <th>60</th>\n",
       "      <td>61Top 0.3%</td>\n",
       "      <td>Rockefeller University</td>\n",
       "      <td>USA</td>\n",
       "      <td>33</td>\n",
       "      <td>13</td>\n",
       "      <td>-</td>\n",
       "      <td>8</td>\n",
       "      <td>460</td>\n",
       "      <td>83.9</td>\n",
       "    </tr>\n",
       "  </tbody>\n",
       "</table>\n",
       "<p>61 rows × 9 columns</p>\n",
       "</div>"
      ],
      "text/plain": [
       "          Rank                                    University Name  \\\n",
       "0    1Top 0.1%  Harvard University\\n  CWUR Rating System:   Ed...   \n",
       "1    2Top 0.1%  Massachusetts Institute of Technology\\n  Educa...   \n",
       "2    3Top 0.1%  Stanford University\\n  Education: A+; Employab...   \n",
       "3    4Top 0.1%  University of Cambridge\\n  Education: A+; Empl...   \n",
       "4    5Top 0.1%  University of Oxford\\n  Education: A+; Employa...   \n",
       "..         ...                                                ...   \n",
       "56  57Top 0.3%                            University of Melbourne   \n",
       "57  58Top 0.3%                          Free University of Berlin   \n",
       "58  59Top 0.3%                      Humboldt University of Berlin   \n",
       "59  60Top 0.3%                              Ohio State University   \n",
       "60  61Top 0.3%                             Rockefeller University   \n",
       "\n",
       "          Location  National Rank Educational Rank Employability Rank  \\\n",
       "0              USA              1                1                  1   \n",
       "1              USA              2                4                 12   \n",
       "2              USA              3               11                  4   \n",
       "3   United Kingdom              1                3                 25   \n",
       "4   United Kingdom              2                7                 27   \n",
       "..             ...            ...              ...                ...   \n",
       "56       Australia              1              142                411   \n",
       "57         Germany              2               80               1123   \n",
       "58         Germany              3               85               1532   \n",
       "59             USA             32              129                294   \n",
       "60             USA             33               13                  -   \n",
       "\n",
       "   Faculty Rank Research Rank  Total Score  \n",
       "0             1             1        100.0  \n",
       "1             3             9         96.7  \n",
       "2             2             2         95.2  \n",
       "3             5            11         94.1  \n",
       "4             9             4         93.3  \n",
       "..          ...           ...          ...  \n",
       "56          130            33         84.2  \n",
       "57           44            76         84.1  \n",
       "58           50            69         84.0  \n",
       "59          133            40         84.0  \n",
       "60            8           460         83.9  \n",
       "\n",
       "[61 rows x 9 columns]"
      ]
     },
     "execution_count": 358,
     "metadata": {},
     "output_type": "execute_result"
    }
   ],
   "source": [
    "# Calculate Q1 (25th percentile) and Q3 (75th percentile)\n",
    "speed_Q1 = Uni_df['CWUR']['Total Score'].quantile(0.25)\n",
    "speed_Q3 = Uni_df['CWUR']['Total Score'].quantile(0.75)\n",
    "\n",
    "# Calculate the IQR by subtracting Q1 from Q3\n",
    "speed_IQR = speed_Q3 - speed_Q1\n",
    "\n",
    "# Define the lower and upper bounds for the outliers\n",
    "speed_lower_bound = speed_Q1 - 1.5 * speed_IQR\n",
    "speed_upper_bound = speed_Q3 + 1.5 * speed_IQR\n",
    "\n",
    "# # Filter out outliers\n",
    "Uni_df['CWUR'][(Uni_df['CWUR']['Total Score'] < speed_lower_bound) | (Uni_df['CWUR']['Total Score'] > speed_upper_bound)]"
   ]
  },
  {
   "cell_type": "markdown",
   "metadata": {},
   "source": [
    "## 2. Data Cleaning: "
   ]
  },
  {
   "cell_type": "code",
   "execution_count": 359,
   "metadata": {},
   "outputs": [
    {
     "name": "stdout",
     "output_type": "stream",
     "text": [
      "sdg-score-multi__number 7    1152\n",
      "sdg-score-multi__value 7     1152\n",
      "sdg-score-multi__value 8     1108\n",
      "sdg-score-multi__number 8    1108\n",
      "sdg-score-multi__value 6     1095\n",
      "sdg-score-multi__number 6    1093\n",
      "sdg-score-multi__value 5     1034\n",
      "sdg-score-multi__number 5    1026\n",
      "sdg-score-multi__value 3      786\n",
      "sdg-score-multi__number 3     779\n",
      "sdg-score-multi__value 2      766\n",
      "sdg-score-multi__number 2     765\n",
      "sdg-score-multi__number       724\n",
      "sdg-score-multi__value        724\n",
      "Location                       91\n",
      "sdg-score-multi__value 4        8\n",
      "Total Score                     0\n",
      "University Name                 0\n",
      "Rank                            0\n",
      "dtype: int64\n",
      "================================\n",
      "Rank               0\n",
      "University Name    0\n",
      "National Rank      0\n",
      "Total Score        0\n",
      "dtype: int64\n",
      "================================\n",
      "Rank                  0\n",
      "University Name       0\n",
      "Location              0\n",
      "National Rank         0\n",
      "Educational Rank      0\n",
      "Employability Rank    0\n",
      "Faculty Rank          0\n",
      "Research Rank         0\n",
      "Total Score           0\n",
      "dtype: int64\n"
     ]
    }
   ],
   "source": [
    "print(Uni_df['THE'].isnull().sum().sort_values(ascending = False))\n",
    "print(\"================================\")\n",
    "print(Uni_df['ARWU'].isnull().sum().sort_values(ascending = False))\n",
    "print(\"================================\")\n",
    "print(Uni_df['CWUR'].isnull().sum().sort_values(ascending = False))"
   ]
  },
  {
   "cell_type": "code",
   "execution_count": 360,
   "metadata": {},
   "outputs": [
    {
     "data": {
      "text/html": [
       "<div>\n",
       "<style scoped>\n",
       "    .dataframe tbody tr th:only-of-type {\n",
       "        vertical-align: middle;\n",
       "    }\n",
       "\n",
       "    .dataframe tbody tr th {\n",
       "        vertical-align: top;\n",
       "    }\n",
       "\n",
       "    .dataframe thead th {\n",
       "        text-align: right;\n",
       "    }\n",
       "</style>\n",
       "<table border=\"1\" class=\"dataframe\">\n",
       "  <thead>\n",
       "    <tr style=\"text-align: right;\">\n",
       "      <th></th>\n",
       "      <th>Rank</th>\n",
       "      <th>University Name</th>\n",
       "      <th>Location</th>\n",
       "      <th>sdg-score-multi__number</th>\n",
       "      <th>sdg-score-multi__value</th>\n",
       "      <th>sdg-score-multi__number 2</th>\n",
       "      <th>sdg-score-multi__value 2</th>\n",
       "      <th>sdg-score-multi__number 3</th>\n",
       "      <th>sdg-score-multi__value 3</th>\n",
       "      <th>sdg-score-multi__value 4</th>\n",
       "      <th>Total Score</th>\n",
       "      <th>sdg-score-multi__number 5</th>\n",
       "      <th>sdg-score-multi__value 5</th>\n",
       "      <th>sdg-score-multi__number 6</th>\n",
       "      <th>sdg-score-multi__value 6</th>\n",
       "      <th>sdg-score-multi__number 7</th>\n",
       "      <th>sdg-score-multi__value 7</th>\n",
       "      <th>sdg-score-multi__number 8</th>\n",
       "      <th>sdg-score-multi__value 8</th>\n",
       "    </tr>\n",
       "  </thead>\n",
       "  <tbody>\n",
       "    <tr>\n",
       "      <th>248</th>\n",
       "      <td>201–300</td>\n",
       "      <td>Kazan Federal University</td>\n",
       "      <td>NaN</td>\n",
       "      <td>8.0</td>\n",
       "      <td>74.3</td>\n",
       "      <td>16.0</td>\n",
       "      <td>74.1</td>\n",
       "      <td>4.0</td>\n",
       "      <td>75.6–81.7</td>\n",
       "      <td>NaN</td>\n",
       "      <td>76.8–82.1</td>\n",
       "      <td>NaN</td>\n",
       "      <td>NaN</td>\n",
       "      <td>NaN</td>\n",
       "      <td>NaN</td>\n",
       "      <td>NaN</td>\n",
       "      <td>NaN</td>\n",
       "      <td>NaN</td>\n",
       "      <td>NaN</td>\n",
       "    </tr>\n",
       "    <tr>\n",
       "      <th>276</th>\n",
       "      <td>201–300</td>\n",
       "      <td>Peter the Great St Petersburg Polytechnic Univ...</td>\n",
       "      <td>NaN</td>\n",
       "      <td>9.0</td>\n",
       "      <td>88.9</td>\n",
       "      <td>8.0</td>\n",
       "      <td>66.4–71.5</td>\n",
       "      <td>11.0</td>\n",
       "      <td>67.1–76.0</td>\n",
       "      <td>75.6–81.7</td>\n",
       "      <td>76.8–82.1</td>\n",
       "      <td>NaN</td>\n",
       "      <td>NaN</td>\n",
       "      <td>NaN</td>\n",
       "      <td>NaN</td>\n",
       "      <td>NaN</td>\n",
       "      <td>NaN</td>\n",
       "      <td>NaN</td>\n",
       "      <td>NaN</td>\n",
       "    </tr>\n",
       "    <tr>\n",
       "      <th>285</th>\n",
       "      <td>201–300</td>\n",
       "      <td>RUDN University</td>\n",
       "      <td>NaN</td>\n",
       "      <td>4.0</td>\n",
       "      <td>84.5</td>\n",
       "      <td>8.0</td>\n",
       "      <td>66.4–71.5</td>\n",
       "      <td>5.0</td>\n",
       "      <td>67.7</td>\n",
       "      <td>53.4–61.0</td>\n",
       "      <td>76.8–82.1</td>\n",
       "      <td>NaN</td>\n",
       "      <td>NaN</td>\n",
       "      <td>NaN</td>\n",
       "      <td>NaN</td>\n",
       "      <td>NaN</td>\n",
       "      <td>NaN</td>\n",
       "      <td>NaN</td>\n",
       "      <td>NaN</td>\n",
       "    </tr>\n",
       "    <tr>\n",
       "      <th>303</th>\n",
       "      <td>301–400</td>\n",
       "      <td>Altai State University</td>\n",
       "      <td>NaN</td>\n",
       "      <td>4.0</td>\n",
       "      <td>78.7</td>\n",
       "      <td>8.0</td>\n",
       "      <td>66.4–71.5</td>\n",
       "      <td>16.0</td>\n",
       "      <td>53.4–61.0</td>\n",
       "      <td>NaN</td>\n",
       "      <td>72.7–76.7</td>\n",
       "      <td>NaN</td>\n",
       "      <td>NaN</td>\n",
       "      <td>NaN</td>\n",
       "      <td>NaN</td>\n",
       "      <td>NaN</td>\n",
       "      <td>NaN</td>\n",
       "      <td>NaN</td>\n",
       "      <td>NaN</td>\n",
       "    </tr>\n",
       "    <tr>\n",
       "      <th>310</th>\n",
       "      <td>301–400</td>\n",
       "      <td>Bauman Moscow State Technical University</td>\n",
       "      <td>NaN</td>\n",
       "      <td>4.0</td>\n",
       "      <td>81.1</td>\n",
       "      <td>13.0</td>\n",
       "      <td>56.6–66.3</td>\n",
       "      <td>9.0</td>\n",
       "      <td>73.0–87.2</td>\n",
       "      <td>61.1–70.5</td>\n",
       "      <td>72.7–76.7</td>\n",
       "      <td>NaN</td>\n",
       "      <td>NaN</td>\n",
       "      <td>NaN</td>\n",
       "      <td>NaN</td>\n",
       "      <td>NaN</td>\n",
       "      <td>NaN</td>\n",
       "      <td>NaN</td>\n",
       "      <td>NaN</td>\n",
       "    </tr>\n",
       "    <tr>\n",
       "      <th>...</th>\n",
       "      <td>...</td>\n",
       "      <td>...</td>\n",
       "      <td>...</td>\n",
       "      <td>...</td>\n",
       "      <td>...</td>\n",
       "      <td>...</td>\n",
       "      <td>...</td>\n",
       "      <td>...</td>\n",
       "      <td>...</td>\n",
       "      <td>...</td>\n",
       "      <td>...</td>\n",
       "      <td>...</td>\n",
       "      <td>...</td>\n",
       "      <td>...</td>\n",
       "      <td>...</td>\n",
       "      <td>...</td>\n",
       "      <td>...</td>\n",
       "      <td>...</td>\n",
       "      <td>...</td>\n",
       "    </tr>\n",
       "    <tr>\n",
       "      <th>1545</th>\n",
       "      <td>1001+</td>\n",
       "      <td>Ural State Medical University</td>\n",
       "      <td>NaN</td>\n",
       "      <td>NaN</td>\n",
       "      <td>NaN</td>\n",
       "      <td>NaN</td>\n",
       "      <td>68.3–73.4</td>\n",
       "      <td>3.0</td>\n",
       "      <td>1.5–45.2</td>\n",
       "      <td>22.1–34.3</td>\n",
       "      <td>7.9–53.8</td>\n",
       "      <td>5.0</td>\n",
       "      <td>25.6–39.9</td>\n",
       "      <td>10.0</td>\n",
       "      <td>NaN</td>\n",
       "      <td>NaN</td>\n",
       "      <td>NaN</td>\n",
       "      <td>NaN</td>\n",
       "      <td>NaN</td>\n",
       "    </tr>\n",
       "    <tr>\n",
       "      <th>1560</th>\n",
       "      <td>1001+</td>\n",
       "      <td>V.I. Vernadsky Crimean Federal University (Ver...</td>\n",
       "      <td>NaN</td>\n",
       "      <td>16.0</td>\n",
       "      <td>NaN</td>\n",
       "      <td>8.0</td>\n",
       "      <td>35.7–48.3</td>\n",
       "      <td>9.0</td>\n",
       "      <td>33.9–50.8</td>\n",
       "      <td>1.5–45.2</td>\n",
       "      <td>7.9–53.8</td>\n",
       "      <td>NaN</td>\n",
       "      <td>NaN</td>\n",
       "      <td>NaN</td>\n",
       "      <td>NaN</td>\n",
       "      <td>NaN</td>\n",
       "      <td>NaN</td>\n",
       "      <td>NaN</td>\n",
       "      <td>NaN</td>\n",
       "    </tr>\n",
       "    <tr>\n",
       "      <th>1562</th>\n",
       "      <td>1001+</td>\n",
       "      <td>Volgograd State Technical University</td>\n",
       "      <td>NaN</td>\n",
       "      <td>9.0</td>\n",
       "      <td>51.0–60.2</td>\n",
       "      <td>11.0</td>\n",
       "      <td>20.9–38.4</td>\n",
       "      <td>8.0</td>\n",
       "      <td>57.8–62.2</td>\n",
       "      <td>1.5–45.2</td>\n",
       "      <td>7.9–53.8</td>\n",
       "      <td>NaN</td>\n",
       "      <td>NaN</td>\n",
       "      <td>NaN</td>\n",
       "      <td>NaN</td>\n",
       "      <td>NaN</td>\n",
       "      <td>NaN</td>\n",
       "      <td>NaN</td>\n",
       "      <td>NaN</td>\n",
       "    </tr>\n",
       "    <tr>\n",
       "      <th>1563</th>\n",
       "      <td>1001+</td>\n",
       "      <td>Voronezh State Technical University</td>\n",
       "      <td>NaN</td>\n",
       "      <td>2.0</td>\n",
       "      <td>35.7–48.3</td>\n",
       "      <td>8.0</td>\n",
       "      <td>38.4–48.2</td>\n",
       "      <td>1.0</td>\n",
       "      <td>1.5–45.2</td>\n",
       "      <td>49.5–54.4</td>\n",
       "      <td>7.9–53.8</td>\n",
       "      <td>NaN</td>\n",
       "      <td>NaN</td>\n",
       "      <td>NaN</td>\n",
       "      <td>NaN</td>\n",
       "      <td>NaN</td>\n",
       "      <td>NaN</td>\n",
       "      <td>NaN</td>\n",
       "      <td>NaN</td>\n",
       "    </tr>\n",
       "    <tr>\n",
       "      <th>1582</th>\n",
       "      <td>1001+</td>\n",
       "      <td>Yanka Kupala State University of Grodno</td>\n",
       "      <td>NaN</td>\n",
       "      <td>10.0</td>\n",
       "      <td>40.0–51.7</td>\n",
       "      <td>16.0</td>\n",
       "      <td>20.9–38.4</td>\n",
       "      <td>11.0</td>\n",
       "      <td>NaN</td>\n",
       "      <td>45.3–53.3</td>\n",
       "      <td>7.9–53.8</td>\n",
       "      <td>NaN</td>\n",
       "      <td>NaN</td>\n",
       "      <td>NaN</td>\n",
       "      <td>NaN</td>\n",
       "      <td>NaN</td>\n",
       "      <td>NaN</td>\n",
       "      <td>NaN</td>\n",
       "      <td>NaN</td>\n",
       "    </tr>\n",
       "  </tbody>\n",
       "</table>\n",
       "<p>91 rows × 19 columns</p>\n",
       "</div>"
      ],
      "text/plain": [
       "         Rank                                    University Name Location  \\\n",
       "248   201–300                           Kazan Federal University      NaN   \n",
       "276   201–300  Peter the Great St Petersburg Polytechnic Univ...      NaN   \n",
       "285   201–300                                    RUDN University      NaN   \n",
       "303   301–400                             Altai State University      NaN   \n",
       "310   301–400           Bauman Moscow State Technical University      NaN   \n",
       "...       ...                                                ...      ...   \n",
       "1545    1001+                      Ural State Medical University      NaN   \n",
       "1560    1001+  V.I. Vernadsky Crimean Federal University (Ver...      NaN   \n",
       "1562    1001+               Volgograd State Technical University      NaN   \n",
       "1563    1001+                Voronezh State Technical University      NaN   \n",
       "1582    1001+            Yanka Kupala State University of Grodno      NaN   \n",
       "\n",
       "      sdg-score-multi__number sdg-score-multi__value  \\\n",
       "248                       8.0                   74.3   \n",
       "276                       9.0                   88.9   \n",
       "285                       4.0                   84.5   \n",
       "303                       4.0                   78.7   \n",
       "310                       4.0                   81.1   \n",
       "...                       ...                    ...   \n",
       "1545                      NaN                    NaN   \n",
       "1560                     16.0                    NaN   \n",
       "1562                      9.0              51.0–60.2   \n",
       "1563                      2.0              35.7–48.3   \n",
       "1582                     10.0              40.0–51.7   \n",
       "\n",
       "      sdg-score-multi__number 2 sdg-score-multi__value 2  \\\n",
       "248                        16.0                     74.1   \n",
       "276                         8.0                66.4–71.5   \n",
       "285                         8.0                66.4–71.5   \n",
       "303                         8.0                66.4–71.5   \n",
       "310                        13.0                56.6–66.3   \n",
       "...                         ...                      ...   \n",
       "1545                        NaN                68.3–73.4   \n",
       "1560                        8.0                35.7–48.3   \n",
       "1562                       11.0                20.9–38.4   \n",
       "1563                        8.0                38.4–48.2   \n",
       "1582                       16.0                20.9–38.4   \n",
       "\n",
       "      sdg-score-multi__number 3 sdg-score-multi__value 3  \\\n",
       "248                         4.0                75.6–81.7   \n",
       "276                        11.0                67.1–76.0   \n",
       "285                         5.0                     67.7   \n",
       "303                        16.0                53.4–61.0   \n",
       "310                         9.0                73.0–87.2   \n",
       "...                         ...                      ...   \n",
       "1545                        3.0                 1.5–45.2   \n",
       "1560                        9.0                33.9–50.8   \n",
       "1562                        8.0                57.8–62.2   \n",
       "1563                        1.0                 1.5–45.2   \n",
       "1582                       11.0                      NaN   \n",
       "\n",
       "     sdg-score-multi__value 4 Total Score  sdg-score-multi__number 5  \\\n",
       "248                       NaN   76.8–82.1                        NaN   \n",
       "276                 75.6–81.7   76.8–82.1                        NaN   \n",
       "285                 53.4–61.0   76.8–82.1                        NaN   \n",
       "303                       NaN   72.7–76.7                        NaN   \n",
       "310                 61.1–70.5   72.7–76.7                        NaN   \n",
       "...                       ...         ...                        ...   \n",
       "1545                22.1–34.3    7.9–53.8                        5.0   \n",
       "1560                 1.5–45.2    7.9–53.8                        NaN   \n",
       "1562                 1.5–45.2    7.9–53.8                        NaN   \n",
       "1563                49.5–54.4    7.9–53.8                        NaN   \n",
       "1582                45.3–53.3    7.9–53.8                        NaN   \n",
       "\n",
       "     sdg-score-multi__value 5  sdg-score-multi__number 6  \\\n",
       "248                       NaN                        NaN   \n",
       "276                       NaN                        NaN   \n",
       "285                       NaN                        NaN   \n",
       "303                       NaN                        NaN   \n",
       "310                       NaN                        NaN   \n",
       "...                       ...                        ...   \n",
       "1545                25.6–39.9                       10.0   \n",
       "1560                      NaN                        NaN   \n",
       "1562                      NaN                        NaN   \n",
       "1563                      NaN                        NaN   \n",
       "1582                      NaN                        NaN   \n",
       "\n",
       "     sdg-score-multi__value 6  sdg-score-multi__number 7  \\\n",
       "248                       NaN                        NaN   \n",
       "276                       NaN                        NaN   \n",
       "285                       NaN                        NaN   \n",
       "303                       NaN                        NaN   \n",
       "310                       NaN                        NaN   \n",
       "...                       ...                        ...   \n",
       "1545                      NaN                        NaN   \n",
       "1560                      NaN                        NaN   \n",
       "1562                      NaN                        NaN   \n",
       "1563                      NaN                        NaN   \n",
       "1582                      NaN                        NaN   \n",
       "\n",
       "     sdg-score-multi__value 7  sdg-score-multi__number 8  \\\n",
       "248                       NaN                        NaN   \n",
       "276                       NaN                        NaN   \n",
       "285                       NaN                        NaN   \n",
       "303                       NaN                        NaN   \n",
       "310                       NaN                        NaN   \n",
       "...                       ...                        ...   \n",
       "1545                      NaN                        NaN   \n",
       "1560                      NaN                        NaN   \n",
       "1562                      NaN                        NaN   \n",
       "1563                      NaN                        NaN   \n",
       "1582                      NaN                        NaN   \n",
       "\n",
       "     sdg-score-multi__value 8  \n",
       "248                       NaN  \n",
       "276                       NaN  \n",
       "285                       NaN  \n",
       "303                       NaN  \n",
       "310                       NaN  \n",
       "...                       ...  \n",
       "1545                      NaN  \n",
       "1560                      NaN  \n",
       "1562                      NaN  \n",
       "1563                      NaN  \n",
       "1582                      NaN  \n",
       "\n",
       "[91 rows x 19 columns]"
      ]
     },
     "execution_count": 360,
     "metadata": {},
     "output_type": "execute_result"
    }
   ],
   "source": [
    "#check the Location nulls\n",
    "Uni_df['THE'][Uni_df['THE']['Location'].isnull()]"
   ]
  },
  {
   "cell_type": "code",
   "execution_count": 361,
   "metadata": {},
   "outputs": [
    {
     "data": {
      "text/plain": [
       "Rank                          0\n",
       "University Name               0\n",
       "Location                     91\n",
       "sdg-score-multi__number       8\n",
       "sdg-score-multi__value        8\n",
       "sdg-score-multi__number 2     6\n",
       "sdg-score-multi__value 2      7\n",
       "sdg-score-multi__number 3    12\n",
       "sdg-score-multi__value 3     19\n",
       "sdg-score-multi__value 4      8\n",
       "Total Score                   0\n",
       "sdg-score-multi__number 5    67\n",
       "sdg-score-multi__value 5     75\n",
       "sdg-score-multi__number 6    89\n",
       "sdg-score-multi__value 6     91\n",
       "sdg-score-multi__number 7    91\n",
       "sdg-score-multi__value 7     91\n",
       "sdg-score-multi__number 8    91\n",
       "sdg-score-multi__value 8     91\n",
       "dtype: int64"
      ]
     },
     "execution_count": 361,
     "metadata": {},
     "output_type": "execute_result"
    }
   ],
   "source": [
    "Uni_df['THE'][Uni_df['THE']['Location'].isnull()].isnull().sum()"
   ]
  },
  {
   "cell_type": "code",
   "execution_count": 362,
   "metadata": {},
   "outputs": [
    {
     "name": "stderr",
     "output_type": "stream",
     "text": [
      "C:\\Users\\Sulaiman\\AppData\\Local\\Temp\\ipykernel_55692\\3739890619.py:2: FutureWarning:\n",
      "\n",
      "A value is trying to be set on a copy of a DataFrame or Series through chained assignment using an inplace method.\n",
      "The behavior will change in pandas 3.0. This inplace method will never work because the intermediate object on which we are setting values always behaves as a copy.\n",
      "\n",
      "For example, when doing 'df[col].method(value, inplace=True)', try using 'df.method({col: value}, inplace=True)' or df[col] = df[col].method(value) instead, to perform the operation inplace on the original object.\n",
      "\n",
      "\n",
      "\n"
     ]
    }
   ],
   "source": [
    "# fill the nulls in location in times higher education with unkown string\n",
    "Uni_df['THE']['Location'].fillna('Unknown', inplace=True)"
   ]
  },
  {
   "cell_type": "code",
   "execution_count": 363,
   "metadata": {},
   "outputs": [],
   "source": [
    "# Uni_df['THE'][Uni_df['THE']['Location'].isnull()]"
   ]
  },
  {
   "cell_type": "code",
   "execution_count": 364,
   "metadata": {},
   "outputs": [],
   "source": [
    "# Uni_df['THE'].head(14)"
   ]
  },
  {
   "cell_type": "code",
   "execution_count": 365,
   "metadata": {},
   "outputs": [],
   "source": [
    "# Uni_df['THE'][Uni_df['THE']['Rank'].isnull()]"
   ]
  },
  {
   "cell_type": "code",
   "execution_count": 366,
   "metadata": {},
   "outputs": [],
   "source": [
    "# Uni_df['THE']['Rank'] = Uni_df['THE']['Rank'].map(lambda x :x)"
   ]
  },
  {
   "cell_type": "code",
   "execution_count": 367,
   "metadata": {},
   "outputs": [],
   "source": [
    "# Uni_df['THE'][Uni_df['THE']['Rank'].isnull()]"
   ]
  },
  {
   "cell_type": "code",
   "execution_count": 368,
   "metadata": {},
   "outputs": [
    {
     "data": {
      "text/plain": [
       "0"
      ]
     },
     "execution_count": 368,
     "metadata": {},
     "output_type": "execute_result"
    }
   ],
   "source": [
    "#check for duplicates in the rank for CWUR\n",
    "Uni_df['CWUR']['Rank'].duplicated().sum()"
   ]
  },
  {
   "cell_type": "code",
   "execution_count": 369,
   "metadata": {},
   "outputs": [
    {
     "data": {
      "text/html": [
       "<div>\n",
       "<style scoped>\n",
       "    .dataframe tbody tr th:only-of-type {\n",
       "        vertical-align: middle;\n",
       "    }\n",
       "\n",
       "    .dataframe tbody tr th {\n",
       "        vertical-align: top;\n",
       "    }\n",
       "\n",
       "    .dataframe thead th {\n",
       "        text-align: right;\n",
       "    }\n",
       "</style>\n",
       "<table border=\"1\" class=\"dataframe\">\n",
       "  <thead>\n",
       "    <tr style=\"text-align: right;\">\n",
       "      <th></th>\n",
       "      <th>Rank</th>\n",
       "      <th>University Name</th>\n",
       "      <th>Location</th>\n",
       "      <th>National Rank</th>\n",
       "      <th>Educational Rank</th>\n",
       "      <th>Employability Rank</th>\n",
       "      <th>Faculty Rank</th>\n",
       "      <th>Research Rank</th>\n",
       "      <th>Total Score</th>\n",
       "    </tr>\n",
       "  </thead>\n",
       "  <tbody>\n",
       "    <tr>\n",
       "      <th>0</th>\n",
       "      <td>1Top 0.1%</td>\n",
       "      <td>Harvard University\\n  CWUR Rating System:   Ed...</td>\n",
       "      <td>USA</td>\n",
       "      <td>1</td>\n",
       "      <td>1</td>\n",
       "      <td>1</td>\n",
       "      <td>1</td>\n",
       "      <td>1</td>\n",
       "      <td>100.0</td>\n",
       "    </tr>\n",
       "  </tbody>\n",
       "</table>\n",
       "</div>"
      ],
      "text/plain": [
       "        Rank                                    University Name Location  \\\n",
       "0  1Top 0.1%  Harvard University\\n  CWUR Rating System:   Ed...      USA   \n",
       "\n",
       "   National Rank Educational Rank Employability Rank Faculty Rank  \\\n",
       "0              1                1                  1            1   \n",
       "\n",
       "  Research Rank  Total Score  \n",
       "0             1        100.0  "
      ]
     },
     "execution_count": 369,
     "metadata": {},
     "output_type": "execute_result"
    }
   ],
   "source": [
    "Uni_df['CWUR'].head(1)"
   ]
  },
  {
   "cell_type": "code",
   "execution_count": 370,
   "metadata": {},
   "outputs": [],
   "source": [
    "#clean the rank in word rank dataset where the first number is the rank and the second number will in a new column called World Ratio\n",
    "Uni_df['CWUR'] ['World Ratio'] = Uni_df['CWUR']['Rank'].map(lambda x : x.split('Top')[1])\n",
    "Uni_df['CWUR'] ['Rank'] = Uni_df['CWUR']['Rank'].map(lambda x : int(x.split('Top')[0]))"
   ]
  },
  {
   "cell_type": "code",
   "execution_count": 371,
   "metadata": {},
   "outputs": [
    {
     "data": {
      "text/html": [
       "<div>\n",
       "<style scoped>\n",
       "    .dataframe tbody tr th:only-of-type {\n",
       "        vertical-align: middle;\n",
       "    }\n",
       "\n",
       "    .dataframe tbody tr th {\n",
       "        vertical-align: top;\n",
       "    }\n",
       "\n",
       "    .dataframe thead th {\n",
       "        text-align: right;\n",
       "    }\n",
       "</style>\n",
       "<table border=\"1\" class=\"dataframe\">\n",
       "  <thead>\n",
       "    <tr style=\"text-align: right;\">\n",
       "      <th></th>\n",
       "      <th>Rank</th>\n",
       "      <th>University Name</th>\n",
       "      <th>Location</th>\n",
       "      <th>National Rank</th>\n",
       "      <th>Educational Rank</th>\n",
       "      <th>Employability Rank</th>\n",
       "      <th>Faculty Rank</th>\n",
       "      <th>Research Rank</th>\n",
       "      <th>Total Score</th>\n",
       "      <th>World Ratio</th>\n",
       "    </tr>\n",
       "  </thead>\n",
       "  <tbody>\n",
       "    <tr>\n",
       "      <th>0</th>\n",
       "      <td>1</td>\n",
       "      <td>Harvard University\\n  CWUR Rating System:   Ed...</td>\n",
       "      <td>USA</td>\n",
       "      <td>1</td>\n",
       "      <td>1</td>\n",
       "      <td>1</td>\n",
       "      <td>1</td>\n",
       "      <td>1</td>\n",
       "      <td>100.0</td>\n",
       "      <td>0.1%</td>\n",
       "    </tr>\n",
       "  </tbody>\n",
       "</table>\n",
       "</div>"
      ],
      "text/plain": [
       "   Rank                                    University Name Location  \\\n",
       "0     1  Harvard University\\n  CWUR Rating System:   Ed...      USA   \n",
       "\n",
       "   National Rank Educational Rank Employability Rank Faculty Rank  \\\n",
       "0              1                1                  1            1   \n",
       "\n",
       "  Research Rank  Total Score World Ratio  \n",
       "0             1        100.0        0.1%  "
      ]
     },
     "execution_count": 371,
     "metadata": {},
     "output_type": "execute_result"
    }
   ],
   "source": [
    "Uni_df['CWUR'].head(1)"
   ]
  },
  {
   "cell_type": "code",
   "execution_count": 372,
   "metadata": {},
   "outputs": [
    {
     "data": {
      "text/plain": [
       "Rank                    int64\n",
       "University Name        object\n",
       "Location               object\n",
       "National Rank           int64\n",
       "Educational Rank       object\n",
       "Employability Rank     object\n",
       "Faculty Rank           object\n",
       "Research Rank          object\n",
       "Total Score           float64\n",
       "World Ratio            object\n",
       "dtype: object"
      ]
     },
     "execution_count": 372,
     "metadata": {},
     "output_type": "execute_result"
    }
   ],
   "source": [
    "Uni_df['CWUR'].dtypes"
   ]
  },
  {
   "cell_type": "code",
   "execution_count": 373,
   "metadata": {},
   "outputs": [
    {
     "data": {
      "text/html": [
       "<div>\n",
       "<style scoped>\n",
       "    .dataframe tbody tr th:only-of-type {\n",
       "        vertical-align: middle;\n",
       "    }\n",
       "\n",
       "    .dataframe tbody tr th {\n",
       "        vertical-align: top;\n",
       "    }\n",
       "\n",
       "    .dataframe thead th {\n",
       "        text-align: right;\n",
       "    }\n",
       "</style>\n",
       "<table border=\"1\" class=\"dataframe\">\n",
       "  <thead>\n",
       "    <tr style=\"text-align: right;\">\n",
       "      <th></th>\n",
       "      <th>Rank</th>\n",
       "      <th>University Name</th>\n",
       "      <th>Location</th>\n",
       "      <th>National Rank</th>\n",
       "      <th>Educational Rank</th>\n",
       "      <th>Employability Rank</th>\n",
       "      <th>Faculty Rank</th>\n",
       "      <th>Research Rank</th>\n",
       "      <th>Total Score</th>\n",
       "      <th>World Ratio</th>\n",
       "    </tr>\n",
       "  </thead>\n",
       "  <tbody>\n",
       "    <tr>\n",
       "      <th>35</th>\n",
       "      <td>36</td>\n",
       "      <td>University of California, San Francisco</td>\n",
       "      <td>USA</td>\n",
       "      <td>23</td>\n",
       "      <td>-</td>\n",
       "      <td>1554</td>\n",
       "      <td>15</td>\n",
       "      <td>27</td>\n",
       "      <td>86.0</td>\n",
       "      <td>0.2%</td>\n",
       "    </tr>\n",
       "    <tr>\n",
       "      <th>54</th>\n",
       "      <td>55</td>\n",
       "      <td>University of Chinese Academy of Sciences</td>\n",
       "      <td>China</td>\n",
       "      <td>3</td>\n",
       "      <td>-</td>\n",
       "      <td>1304</td>\n",
       "      <td>-</td>\n",
       "      <td>6</td>\n",
       "      <td>84.3</td>\n",
       "      <td>0.3%</td>\n",
       "    </tr>\n",
       "    <tr>\n",
       "      <th>68</th>\n",
       "      <td>69</td>\n",
       "      <td>Texas A&amp;M University, College Station</td>\n",
       "      <td>USA</td>\n",
       "      <td>39</td>\n",
       "      <td>-</td>\n",
       "      <td>129</td>\n",
       "      <td>72</td>\n",
       "      <td>85</td>\n",
       "      <td>83.4</td>\n",
       "      <td>0.4%</td>\n",
       "    </tr>\n",
       "    <tr>\n",
       "      <th>73</th>\n",
       "      <td>74</td>\n",
       "      <td>Shanghai Jiao Tong University</td>\n",
       "      <td>China</td>\n",
       "      <td>4</td>\n",
       "      <td>-</td>\n",
       "      <td>140</td>\n",
       "      <td>-</td>\n",
       "      <td>29</td>\n",
       "      <td>83.1</td>\n",
       "      <td>0.4%</td>\n",
       "    </tr>\n",
       "    <tr>\n",
       "      <th>84</th>\n",
       "      <td>85</td>\n",
       "      <td>Zhejiang University</td>\n",
       "      <td>China</td>\n",
       "      <td>5</td>\n",
       "      <td>-</td>\n",
       "      <td>351</td>\n",
       "      <td>-</td>\n",
       "      <td>32</td>\n",
       "      <td>82.5</td>\n",
       "      <td>0.5%</td>\n",
       "    </tr>\n",
       "    <tr>\n",
       "      <th>...</th>\n",
       "      <td>...</td>\n",
       "      <td>...</td>\n",
       "      <td>...</td>\n",
       "      <td>...</td>\n",
       "      <td>...</td>\n",
       "      <td>...</td>\n",
       "      <td>...</td>\n",
       "      <td>...</td>\n",
       "      <td>...</td>\n",
       "      <td>...</td>\n",
       "    </tr>\n",
       "    <tr>\n",
       "      <th>1995</th>\n",
       "      <td>1996</td>\n",
       "      <td>Chongqing Jiaotong University</td>\n",
       "      <td>China</td>\n",
       "      <td>314</td>\n",
       "      <td>-</td>\n",
       "      <td>-</td>\n",
       "      <td>-</td>\n",
       "      <td>1917</td>\n",
       "      <td>66.0</td>\n",
       "      <td>9.8%</td>\n",
       "    </tr>\n",
       "    <tr>\n",
       "      <th>1996</th>\n",
       "      <td>1997</td>\n",
       "      <td>University of Arkansas at Little Rock</td>\n",
       "      <td>USA</td>\n",
       "      <td>332</td>\n",
       "      <td>-</td>\n",
       "      <td>1322</td>\n",
       "      <td>-</td>\n",
       "      <td>1920</td>\n",
       "      <td>66.0</td>\n",
       "      <td>9.8%</td>\n",
       "    </tr>\n",
       "    <tr>\n",
       "      <th>1997</th>\n",
       "      <td>1998</td>\n",
       "      <td>Van Yüzüncü Yıl University</td>\n",
       "      <td>Turkey</td>\n",
       "      <td>54</td>\n",
       "      <td>-</td>\n",
       "      <td>-</td>\n",
       "      <td>-</td>\n",
       "      <td>1919</td>\n",
       "      <td>66.0</td>\n",
       "      <td>9.8%</td>\n",
       "    </tr>\n",
       "    <tr>\n",
       "      <th>1998</th>\n",
       "      <td>1999</td>\n",
       "      <td>Bharathidasan University</td>\n",
       "      <td>India</td>\n",
       "      <td>64</td>\n",
       "      <td>-</td>\n",
       "      <td>-</td>\n",
       "      <td>-</td>\n",
       "      <td>1922</td>\n",
       "      <td>66.0</td>\n",
       "      <td>9.8%</td>\n",
       "    </tr>\n",
       "    <tr>\n",
       "      <th>1999</th>\n",
       "      <td>2000</td>\n",
       "      <td>Gebze Technical University</td>\n",
       "      <td>Turkey</td>\n",
       "      <td>55</td>\n",
       "      <td>-</td>\n",
       "      <td>-</td>\n",
       "      <td>-</td>\n",
       "      <td>1923</td>\n",
       "      <td>66.0</td>\n",
       "      <td>9.8%</td>\n",
       "    </tr>\n",
       "  </tbody>\n",
       "</table>\n",
       "<p>1562 rows × 10 columns</p>\n",
       "</div>"
      ],
      "text/plain": [
       "      Rank                            University Name Location  National Rank  \\\n",
       "35      36    University of California, San Francisco      USA             23   \n",
       "54      55  University of Chinese Academy of Sciences    China              3   \n",
       "68      69      Texas A&M University, College Station      USA             39   \n",
       "73      74              Shanghai Jiao Tong University    China              4   \n",
       "84      85                        Zhejiang University    China              5   \n",
       "...    ...                                        ...      ...            ...   \n",
       "1995  1996              Chongqing Jiaotong University    China            314   \n",
       "1996  1997      University of Arkansas at Little Rock      USA            332   \n",
       "1997  1998                 Van Yüzüncü Yıl University   Turkey             54   \n",
       "1998  1999                   Bharathidasan University    India             64   \n",
       "1999  2000                 Gebze Technical University   Turkey             55   \n",
       "\n",
       "     Educational Rank Employability Rank Faculty Rank Research Rank  \\\n",
       "35                  -               1554           15            27   \n",
       "54                  -               1304            -             6   \n",
       "68                  -                129           72            85   \n",
       "73                  -                140            -            29   \n",
       "84                  -                351            -            32   \n",
       "...               ...                ...          ...           ...   \n",
       "1995                -                  -            -          1917   \n",
       "1996                -               1322            -          1920   \n",
       "1997                -                  -            -          1919   \n",
       "1998                -                  -            -          1922   \n",
       "1999                -                  -            -          1923   \n",
       "\n",
       "      Total Score World Ratio  \n",
       "35           86.0        0.2%  \n",
       "54           84.3        0.3%  \n",
       "68           83.4        0.4%  \n",
       "73           83.1        0.4%  \n",
       "84           82.5        0.5%  \n",
       "...           ...         ...  \n",
       "1995         66.0        9.8%  \n",
       "1996         66.0        9.8%  \n",
       "1997         66.0        9.8%  \n",
       "1998         66.0        9.8%  \n",
       "1999         66.0        9.8%  \n",
       "\n",
       "[1562 rows x 10 columns]"
      ]
     },
     "execution_count": 373,
     "metadata": {},
     "output_type": "execute_result"
    }
   ],
   "source": [
    "#check Word Rank dataset for - where there should be numbers \n",
    "Uni_df['CWUR'][(Uni_df['CWUR']['Educational Rank']=='-')]"
   ]
  },
  {
   "cell_type": "code",
   "execution_count": 374,
   "metadata": {},
   "outputs": [],
   "source": [
    "#\n",
    "Uni_df['CWUR']['Educational Rank'] = Uni_df['CWUR']['Educational Rank'].map(lambda x : 0 if x =='-' else int(x))"
   ]
  },
  {
   "cell_type": "code",
   "execution_count": 375,
   "metadata": {},
   "outputs": [
    {
     "data": {
      "text/plain": [
       "Rank                    int64\n",
       "University Name        object\n",
       "Location               object\n",
       "National Rank           int64\n",
       "Educational Rank        int64\n",
       "Employability Rank     object\n",
       "Faculty Rank           object\n",
       "Research Rank          object\n",
       "Total Score           float64\n",
       "World Ratio            object\n",
       "dtype: object"
      ]
     },
     "execution_count": 375,
     "metadata": {},
     "output_type": "execute_result"
    }
   ],
   "source": [
    "Uni_df['CWUR'].dtypes"
   ]
  },
  {
   "cell_type": "code",
   "execution_count": 376,
   "metadata": {},
   "outputs": [
    {
     "data": {
      "text/html": [
       "<div>\n",
       "<style scoped>\n",
       "    .dataframe tbody tr th:only-of-type {\n",
       "        vertical-align: middle;\n",
       "    }\n",
       "\n",
       "    .dataframe tbody tr th {\n",
       "        vertical-align: top;\n",
       "    }\n",
       "\n",
       "    .dataframe thead th {\n",
       "        text-align: right;\n",
       "    }\n",
       "</style>\n",
       "<table border=\"1\" class=\"dataframe\">\n",
       "  <thead>\n",
       "    <tr style=\"text-align: right;\">\n",
       "      <th></th>\n",
       "      <th>Rank</th>\n",
       "      <th>University Name</th>\n",
       "      <th>Location</th>\n",
       "      <th>National Rank</th>\n",
       "      <th>Educational Rank</th>\n",
       "      <th>Employability Rank</th>\n",
       "      <th>Faculty Rank</th>\n",
       "      <th>Research Rank</th>\n",
       "      <th>Total Score</th>\n",
       "      <th>World Ratio</th>\n",
       "    </tr>\n",
       "  </thead>\n",
       "  <tbody>\n",
       "  </tbody>\n",
       "</table>\n",
       "</div>"
      ],
      "text/plain": [
       "Empty DataFrame\n",
       "Columns: [Rank, University Name, Location, National Rank, Educational Rank, Employability Rank, Faculty Rank, Research Rank, Total Score, World Ratio]\n",
       "Index: []"
      ]
     },
     "execution_count": 376,
     "metadata": {},
     "output_type": "execute_result"
    }
   ],
   "source": [
    "Uni_df['CWUR'][(Uni_df['CWUR']['Educational Rank']=='-')]"
   ]
  },
  {
   "cell_type": "code",
   "execution_count": 377,
   "metadata": {},
   "outputs": [
    {
     "data": {
      "text/html": [
       "<div>\n",
       "<style scoped>\n",
       "    .dataframe tbody tr th:only-of-type {\n",
       "        vertical-align: middle;\n",
       "    }\n",
       "\n",
       "    .dataframe tbody tr th {\n",
       "        vertical-align: top;\n",
       "    }\n",
       "\n",
       "    .dataframe thead th {\n",
       "        text-align: right;\n",
       "    }\n",
       "</style>\n",
       "<table border=\"1\" class=\"dataframe\">\n",
       "  <thead>\n",
       "    <tr style=\"text-align: right;\">\n",
       "      <th></th>\n",
       "      <th>Rank</th>\n",
       "      <th>University Name</th>\n",
       "      <th>Location</th>\n",
       "      <th>National Rank</th>\n",
       "      <th>Educational Rank</th>\n",
       "      <th>Employability Rank</th>\n",
       "      <th>Faculty Rank</th>\n",
       "      <th>Research Rank</th>\n",
       "      <th>Total Score</th>\n",
       "      <th>World Ratio</th>\n",
       "    </tr>\n",
       "  </thead>\n",
       "  <tbody>\n",
       "    <tr>\n",
       "      <th>1995</th>\n",
       "      <td>1996</td>\n",
       "      <td>Chongqing Jiaotong University</td>\n",
       "      <td>China</td>\n",
       "      <td>314</td>\n",
       "      <td>0</td>\n",
       "      <td>-</td>\n",
       "      <td>-</td>\n",
       "      <td>1917</td>\n",
       "      <td>66.0</td>\n",
       "      <td>9.8%</td>\n",
       "    </tr>\n",
       "    <tr>\n",
       "      <th>1996</th>\n",
       "      <td>1997</td>\n",
       "      <td>University of Arkansas at Little Rock</td>\n",
       "      <td>USA</td>\n",
       "      <td>332</td>\n",
       "      <td>0</td>\n",
       "      <td>1322</td>\n",
       "      <td>-</td>\n",
       "      <td>1920</td>\n",
       "      <td>66.0</td>\n",
       "      <td>9.8%</td>\n",
       "    </tr>\n",
       "    <tr>\n",
       "      <th>1997</th>\n",
       "      <td>1998</td>\n",
       "      <td>Van Yüzüncü Yıl University</td>\n",
       "      <td>Turkey</td>\n",
       "      <td>54</td>\n",
       "      <td>0</td>\n",
       "      <td>-</td>\n",
       "      <td>-</td>\n",
       "      <td>1919</td>\n",
       "      <td>66.0</td>\n",
       "      <td>9.8%</td>\n",
       "    </tr>\n",
       "    <tr>\n",
       "      <th>1998</th>\n",
       "      <td>1999</td>\n",
       "      <td>Bharathidasan University</td>\n",
       "      <td>India</td>\n",
       "      <td>64</td>\n",
       "      <td>0</td>\n",
       "      <td>-</td>\n",
       "      <td>-</td>\n",
       "      <td>1922</td>\n",
       "      <td>66.0</td>\n",
       "      <td>9.8%</td>\n",
       "    </tr>\n",
       "    <tr>\n",
       "      <th>1999</th>\n",
       "      <td>2000</td>\n",
       "      <td>Gebze Technical University</td>\n",
       "      <td>Turkey</td>\n",
       "      <td>55</td>\n",
       "      <td>0</td>\n",
       "      <td>-</td>\n",
       "      <td>-</td>\n",
       "      <td>1923</td>\n",
       "      <td>66.0</td>\n",
       "      <td>9.8%</td>\n",
       "    </tr>\n",
       "  </tbody>\n",
       "</table>\n",
       "</div>"
      ],
      "text/plain": [
       "      Rank                        University Name Location  National Rank  \\\n",
       "1995  1996          Chongqing Jiaotong University    China            314   \n",
       "1996  1997  University of Arkansas at Little Rock      USA            332   \n",
       "1997  1998             Van Yüzüncü Yıl University   Turkey             54   \n",
       "1998  1999               Bharathidasan University    India             64   \n",
       "1999  2000             Gebze Technical University   Turkey             55   \n",
       "\n",
       "      Educational Rank Employability Rank Faculty Rank Research Rank  \\\n",
       "1995                 0                  -            -          1917   \n",
       "1996                 0               1322            -          1920   \n",
       "1997                 0                  -            -          1919   \n",
       "1998                 0                  -            -          1922   \n",
       "1999                 0                  -            -          1923   \n",
       "\n",
       "      Total Score World Ratio  \n",
       "1995         66.0        9.8%  \n",
       "1996         66.0        9.8%  \n",
       "1997         66.0        9.8%  \n",
       "1998         66.0        9.8%  \n",
       "1999         66.0        9.8%  "
      ]
     },
     "execution_count": 377,
     "metadata": {},
     "output_type": "execute_result"
    }
   ],
   "source": [
    "Uni_df['CWUR'].tail()"
   ]
  },
  {
   "cell_type": "code",
   "execution_count": 378,
   "metadata": {},
   "outputs": [],
   "source": [
    "Uni_df['CWUR']['Employability Rank'] = Uni_df['CWUR']['Employability Rank'].map(lambda x : 0 if x =='-' else int(x))\n",
    "Uni_df['CWUR']['Faculty Rank'] = Uni_df['CWUR']['Faculty Rank'].map(lambda x : 0 if x =='-' else int(x))\n",
    "Uni_df['CWUR']['Research Rank'] = Uni_df['CWUR']['Research Rank'].map(lambda x : 0 if x =='-' else int(x))"
   ]
  },
  {
   "cell_type": "code",
   "execution_count": 379,
   "metadata": {},
   "outputs": [
    {
     "data": {
      "text/html": [
       "<div>\n",
       "<style scoped>\n",
       "    .dataframe tbody tr th:only-of-type {\n",
       "        vertical-align: middle;\n",
       "    }\n",
       "\n",
       "    .dataframe tbody tr th {\n",
       "        vertical-align: top;\n",
       "    }\n",
       "\n",
       "    .dataframe thead th {\n",
       "        text-align: right;\n",
       "    }\n",
       "</style>\n",
       "<table border=\"1\" class=\"dataframe\">\n",
       "  <thead>\n",
       "    <tr style=\"text-align: right;\">\n",
       "      <th></th>\n",
       "      <th>Rank</th>\n",
       "      <th>University Name</th>\n",
       "      <th>Location</th>\n",
       "      <th>National Rank</th>\n",
       "      <th>Educational Rank</th>\n",
       "      <th>Employability Rank</th>\n",
       "      <th>Faculty Rank</th>\n",
       "      <th>Research Rank</th>\n",
       "      <th>Total Score</th>\n",
       "      <th>World Ratio</th>\n",
       "    </tr>\n",
       "  </thead>\n",
       "  <tbody>\n",
       "  </tbody>\n",
       "</table>\n",
       "</div>"
      ],
      "text/plain": [
       "Empty DataFrame\n",
       "Columns: [Rank, University Name, Location, National Rank, Educational Rank, Employability Rank, Faculty Rank, Research Rank, Total Score, World Ratio]\n",
       "Index: []"
      ]
     },
     "metadata": {},
     "output_type": "display_data"
    },
    {
     "data": {
      "text/html": [
       "<div>\n",
       "<style scoped>\n",
       "    .dataframe tbody tr th:only-of-type {\n",
       "        vertical-align: middle;\n",
       "    }\n",
       "\n",
       "    .dataframe tbody tr th {\n",
       "        vertical-align: top;\n",
       "    }\n",
       "\n",
       "    .dataframe thead th {\n",
       "        text-align: right;\n",
       "    }\n",
       "</style>\n",
       "<table border=\"1\" class=\"dataframe\">\n",
       "  <thead>\n",
       "    <tr style=\"text-align: right;\">\n",
       "      <th></th>\n",
       "      <th>Rank</th>\n",
       "      <th>University Name</th>\n",
       "      <th>Location</th>\n",
       "      <th>National Rank</th>\n",
       "      <th>Educational Rank</th>\n",
       "      <th>Employability Rank</th>\n",
       "      <th>Faculty Rank</th>\n",
       "      <th>Research Rank</th>\n",
       "      <th>Total Score</th>\n",
       "      <th>World Ratio</th>\n",
       "    </tr>\n",
       "  </thead>\n",
       "  <tbody>\n",
       "  </tbody>\n",
       "</table>\n",
       "</div>"
      ],
      "text/plain": [
       "Empty DataFrame\n",
       "Columns: [Rank, University Name, Location, National Rank, Educational Rank, Employability Rank, Faculty Rank, Research Rank, Total Score, World Ratio]\n",
       "Index: []"
      ]
     },
     "metadata": {},
     "output_type": "display_data"
    },
    {
     "data": {
      "text/html": [
       "<div>\n",
       "<style scoped>\n",
       "    .dataframe tbody tr th:only-of-type {\n",
       "        vertical-align: middle;\n",
       "    }\n",
       "\n",
       "    .dataframe tbody tr th {\n",
       "        vertical-align: top;\n",
       "    }\n",
       "\n",
       "    .dataframe thead th {\n",
       "        text-align: right;\n",
       "    }\n",
       "</style>\n",
       "<table border=\"1\" class=\"dataframe\">\n",
       "  <thead>\n",
       "    <tr style=\"text-align: right;\">\n",
       "      <th></th>\n",
       "      <th>Rank</th>\n",
       "      <th>University Name</th>\n",
       "      <th>Location</th>\n",
       "      <th>National Rank</th>\n",
       "      <th>Educational Rank</th>\n",
       "      <th>Employability Rank</th>\n",
       "      <th>Faculty Rank</th>\n",
       "      <th>Research Rank</th>\n",
       "      <th>Total Score</th>\n",
       "      <th>World Ratio</th>\n",
       "    </tr>\n",
       "  </thead>\n",
       "  <tbody>\n",
       "  </tbody>\n",
       "</table>\n",
       "</div>"
      ],
      "text/plain": [
       "Empty DataFrame\n",
       "Columns: [Rank, University Name, Location, National Rank, Educational Rank, Employability Rank, Faculty Rank, Research Rank, Total Score, World Ratio]\n",
       "Index: []"
      ]
     },
     "metadata": {},
     "output_type": "display_data"
    }
   ],
   "source": [
    "display(Uni_df['CWUR'][(Uni_df['CWUR']['Employability Rank']=='-')])\n",
    "display(Uni_df['CWUR'][(Uni_df['CWUR']['Faculty Rank']=='-')])\n",
    "display(Uni_df['CWUR'][(Uni_df['CWUR']['Research Rank']=='-')])\n"
   ]
  },
  {
   "cell_type": "code",
   "execution_count": 380,
   "metadata": {},
   "outputs": [
    {
     "data": {
      "text/html": [
       "<div>\n",
       "<style scoped>\n",
       "    .dataframe tbody tr th:only-of-type {\n",
       "        vertical-align: middle;\n",
       "    }\n",
       "\n",
       "    .dataframe tbody tr th {\n",
       "        vertical-align: top;\n",
       "    }\n",
       "\n",
       "    .dataframe thead th {\n",
       "        text-align: right;\n",
       "    }\n",
       "</style>\n",
       "<table border=\"1\" class=\"dataframe\">\n",
       "  <thead>\n",
       "    <tr style=\"text-align: right;\">\n",
       "      <th></th>\n",
       "      <th>Rank</th>\n",
       "      <th>University Name</th>\n",
       "      <th>Location</th>\n",
       "      <th>National Rank</th>\n",
       "      <th>Educational Rank</th>\n",
       "      <th>Employability Rank</th>\n",
       "      <th>Faculty Rank</th>\n",
       "      <th>Research Rank</th>\n",
       "      <th>Total Score</th>\n",
       "      <th>World Ratio</th>\n",
       "    </tr>\n",
       "  </thead>\n",
       "  <tbody>\n",
       "    <tr>\n",
       "      <th>0</th>\n",
       "      <td>1</td>\n",
       "      <td>Harvard University\\n  CWUR Rating System:   Ed...</td>\n",
       "      <td>USA</td>\n",
       "      <td>1</td>\n",
       "      <td>1</td>\n",
       "      <td>1</td>\n",
       "      <td>1</td>\n",
       "      <td>1</td>\n",
       "      <td>100.0</td>\n",
       "      <td>0.1%</td>\n",
       "    </tr>\n",
       "    <tr>\n",
       "      <th>1</th>\n",
       "      <td>2</td>\n",
       "      <td>Massachusetts Institute of Technology\\n  Educa...</td>\n",
       "      <td>USA</td>\n",
       "      <td>2</td>\n",
       "      <td>4</td>\n",
       "      <td>12</td>\n",
       "      <td>3</td>\n",
       "      <td>9</td>\n",
       "      <td>96.7</td>\n",
       "      <td>0.1%</td>\n",
       "    </tr>\n",
       "    <tr>\n",
       "      <th>2</th>\n",
       "      <td>3</td>\n",
       "      <td>Stanford University\\n  Education: A+; Employab...</td>\n",
       "      <td>USA</td>\n",
       "      <td>3</td>\n",
       "      <td>11</td>\n",
       "      <td>4</td>\n",
       "      <td>2</td>\n",
       "      <td>2</td>\n",
       "      <td>95.2</td>\n",
       "      <td>0.1%</td>\n",
       "    </tr>\n",
       "    <tr>\n",
       "      <th>3</th>\n",
       "      <td>4</td>\n",
       "      <td>University of Cambridge\\n  Education: A+; Empl...</td>\n",
       "      <td>United Kingdom</td>\n",
       "      <td>1</td>\n",
       "      <td>3</td>\n",
       "      <td>25</td>\n",
       "      <td>5</td>\n",
       "      <td>11</td>\n",
       "      <td>94.1</td>\n",
       "      <td>0.1%</td>\n",
       "    </tr>\n",
       "    <tr>\n",
       "      <th>4</th>\n",
       "      <td>5</td>\n",
       "      <td>University of Oxford\\n  Education: A+; Employa...</td>\n",
       "      <td>United Kingdom</td>\n",
       "      <td>2</td>\n",
       "      <td>7</td>\n",
       "      <td>27</td>\n",
       "      <td>9</td>\n",
       "      <td>4</td>\n",
       "      <td>93.3</td>\n",
       "      <td>0.1%</td>\n",
       "    </tr>\n",
       "  </tbody>\n",
       "</table>\n",
       "</div>"
      ],
      "text/plain": [
       "   Rank                                    University Name        Location  \\\n",
       "0     1  Harvard University\\n  CWUR Rating System:   Ed...             USA   \n",
       "1     2  Massachusetts Institute of Technology\\n  Educa...             USA   \n",
       "2     3  Stanford University\\n  Education: A+; Employab...             USA   \n",
       "3     4  University of Cambridge\\n  Education: A+; Empl...  United Kingdom   \n",
       "4     5  University of Oxford\\n  Education: A+; Employa...  United Kingdom   \n",
       "\n",
       "   National Rank  Educational Rank  Employability Rank  Faculty Rank  \\\n",
       "0              1                 1                   1             1   \n",
       "1              2                 4                  12             3   \n",
       "2              3                11                   4             2   \n",
       "3              1                 3                  25             5   \n",
       "4              2                 7                  27             9   \n",
       "\n",
       "   Research Rank  Total Score World Ratio  \n",
       "0              1        100.0        0.1%  \n",
       "1              9         96.7        0.1%  \n",
       "2              2         95.2        0.1%  \n",
       "3             11         94.1        0.1%  \n",
       "4              4         93.3        0.1%  "
      ]
     },
     "execution_count": 380,
     "metadata": {},
     "output_type": "execute_result"
    }
   ],
   "source": [
    "Uni_df['CWUR'].head()"
   ]
  },
  {
   "cell_type": "code",
   "execution_count": 381,
   "metadata": {},
   "outputs": [],
   "source": [
    "Uni_df['CWUR']['University Name'] = Uni_df['CWUR']['University Name'].map(lambda x : x.split('\\n')[0])"
   ]
  },
  {
   "cell_type": "code",
   "execution_count": 382,
   "metadata": {},
   "outputs": [
    {
     "data": {
      "text/html": [
       "<div>\n",
       "<style scoped>\n",
       "    .dataframe tbody tr th:only-of-type {\n",
       "        vertical-align: middle;\n",
       "    }\n",
       "\n",
       "    .dataframe tbody tr th {\n",
       "        vertical-align: top;\n",
       "    }\n",
       "\n",
       "    .dataframe thead th {\n",
       "        text-align: right;\n",
       "    }\n",
       "</style>\n",
       "<table border=\"1\" class=\"dataframe\">\n",
       "  <thead>\n",
       "    <tr style=\"text-align: right;\">\n",
       "      <th></th>\n",
       "      <th>Rank</th>\n",
       "      <th>University Name</th>\n",
       "      <th>Location</th>\n",
       "      <th>National Rank</th>\n",
       "      <th>Educational Rank</th>\n",
       "      <th>Employability Rank</th>\n",
       "      <th>Faculty Rank</th>\n",
       "      <th>Research Rank</th>\n",
       "      <th>Total Score</th>\n",
       "      <th>World Ratio</th>\n",
       "    </tr>\n",
       "  </thead>\n",
       "  <tbody>\n",
       "    <tr>\n",
       "      <th>0</th>\n",
       "      <td>1</td>\n",
       "      <td>Harvard University</td>\n",
       "      <td>USA</td>\n",
       "      <td>1</td>\n",
       "      <td>1</td>\n",
       "      <td>1</td>\n",
       "      <td>1</td>\n",
       "      <td>1</td>\n",
       "      <td>100.0</td>\n",
       "      <td>0.1%</td>\n",
       "    </tr>\n",
       "    <tr>\n",
       "      <th>1</th>\n",
       "      <td>2</td>\n",
       "      <td>Massachusetts Institute of Technology</td>\n",
       "      <td>USA</td>\n",
       "      <td>2</td>\n",
       "      <td>4</td>\n",
       "      <td>12</td>\n",
       "      <td>3</td>\n",
       "      <td>9</td>\n",
       "      <td>96.7</td>\n",
       "      <td>0.1%</td>\n",
       "    </tr>\n",
       "    <tr>\n",
       "      <th>2</th>\n",
       "      <td>3</td>\n",
       "      <td>Stanford University</td>\n",
       "      <td>USA</td>\n",
       "      <td>3</td>\n",
       "      <td>11</td>\n",
       "      <td>4</td>\n",
       "      <td>2</td>\n",
       "      <td>2</td>\n",
       "      <td>95.2</td>\n",
       "      <td>0.1%</td>\n",
       "    </tr>\n",
       "    <tr>\n",
       "      <th>3</th>\n",
       "      <td>4</td>\n",
       "      <td>University of Cambridge</td>\n",
       "      <td>United Kingdom</td>\n",
       "      <td>1</td>\n",
       "      <td>3</td>\n",
       "      <td>25</td>\n",
       "      <td>5</td>\n",
       "      <td>11</td>\n",
       "      <td>94.1</td>\n",
       "      <td>0.1%</td>\n",
       "    </tr>\n",
       "    <tr>\n",
       "      <th>4</th>\n",
       "      <td>5</td>\n",
       "      <td>University of Oxford</td>\n",
       "      <td>United Kingdom</td>\n",
       "      <td>2</td>\n",
       "      <td>7</td>\n",
       "      <td>27</td>\n",
       "      <td>9</td>\n",
       "      <td>4</td>\n",
       "      <td>93.3</td>\n",
       "      <td>0.1%</td>\n",
       "    </tr>\n",
       "  </tbody>\n",
       "</table>\n",
       "</div>"
      ],
      "text/plain": [
       "   Rank                        University Name        Location  National Rank  \\\n",
       "0     1                     Harvard University             USA              1   \n",
       "1     2  Massachusetts Institute of Technology             USA              2   \n",
       "2     3                    Stanford University             USA              3   \n",
       "3     4                University of Cambridge  United Kingdom              1   \n",
       "4     5                   University of Oxford  United Kingdom              2   \n",
       "\n",
       "   Educational Rank  Employability Rank  Faculty Rank  Research Rank  \\\n",
       "0                 1                   1             1              1   \n",
       "1                 4                  12             3              9   \n",
       "2                11                   4             2              2   \n",
       "3                 3                  25             5             11   \n",
       "4                 7                  27             9              4   \n",
       "\n",
       "   Total Score World Ratio  \n",
       "0        100.0        0.1%  \n",
       "1         96.7        0.1%  \n",
       "2         95.2        0.1%  \n",
       "3         94.1        0.1%  \n",
       "4         93.3        0.1%  "
      ]
     },
     "execution_count": 382,
     "metadata": {},
     "output_type": "execute_result"
    }
   ],
   "source": [
    "Uni_df['CWUR'].head()"
   ]
  },
  {
   "cell_type": "code",
   "execution_count": 383,
   "metadata": {},
   "outputs": [
    {
     "data": {
      "text/plain": [
       "Rank                    int64\n",
       "University Name        object\n",
       "Location               object\n",
       "National Rank           int64\n",
       "Educational Rank        int64\n",
       "Employability Rank      int64\n",
       "Faculty Rank            int64\n",
       "Research Rank           int64\n",
       "Total Score           float64\n",
       "World Ratio            object\n",
       "dtype: object"
      ]
     },
     "execution_count": 383,
     "metadata": {},
     "output_type": "execute_result"
    }
   ],
   "source": [
    "Uni_df['CWUR'].dtypes"
   ]
  },
  {
   "cell_type": "code",
   "execution_count": 384,
   "metadata": {},
   "outputs": [],
   "source": [
    "Uni_df['CWUR']['World Ratio'] = Uni_df['CWUR']['World Ratio'].map(lambda x : float(x.split('%')[0]))"
   ]
  },
  {
   "cell_type": "code",
   "execution_count": 385,
   "metadata": {},
   "outputs": [
    {
     "data": {
      "text/html": [
       "<div>\n",
       "<style scoped>\n",
       "    .dataframe tbody tr th:only-of-type {\n",
       "        vertical-align: middle;\n",
       "    }\n",
       "\n",
       "    .dataframe tbody tr th {\n",
       "        vertical-align: top;\n",
       "    }\n",
       "\n",
       "    .dataframe thead th {\n",
       "        text-align: right;\n",
       "    }\n",
       "</style>\n",
       "<table border=\"1\" class=\"dataframe\">\n",
       "  <thead>\n",
       "    <tr style=\"text-align: right;\">\n",
       "      <th></th>\n",
       "      <th>Rank</th>\n",
       "      <th>University Name</th>\n",
       "      <th>Location</th>\n",
       "      <th>National Rank</th>\n",
       "      <th>Educational Rank</th>\n",
       "      <th>Employability Rank</th>\n",
       "      <th>Faculty Rank</th>\n",
       "      <th>Research Rank</th>\n",
       "      <th>Total Score</th>\n",
       "      <th>World Ratio</th>\n",
       "    </tr>\n",
       "  </thead>\n",
       "  <tbody>\n",
       "    <tr>\n",
       "      <th>0</th>\n",
       "      <td>1</td>\n",
       "      <td>Harvard University</td>\n",
       "      <td>USA</td>\n",
       "      <td>1</td>\n",
       "      <td>1</td>\n",
       "      <td>1</td>\n",
       "      <td>1</td>\n",
       "      <td>1</td>\n",
       "      <td>100.0</td>\n",
       "      <td>0.1</td>\n",
       "    </tr>\n",
       "    <tr>\n",
       "      <th>1</th>\n",
       "      <td>2</td>\n",
       "      <td>Massachusetts Institute of Technology</td>\n",
       "      <td>USA</td>\n",
       "      <td>2</td>\n",
       "      <td>4</td>\n",
       "      <td>12</td>\n",
       "      <td>3</td>\n",
       "      <td>9</td>\n",
       "      <td>96.7</td>\n",
       "      <td>0.1</td>\n",
       "    </tr>\n",
       "    <tr>\n",
       "      <th>2</th>\n",
       "      <td>3</td>\n",
       "      <td>Stanford University</td>\n",
       "      <td>USA</td>\n",
       "      <td>3</td>\n",
       "      <td>11</td>\n",
       "      <td>4</td>\n",
       "      <td>2</td>\n",
       "      <td>2</td>\n",
       "      <td>95.2</td>\n",
       "      <td>0.1</td>\n",
       "    </tr>\n",
       "    <tr>\n",
       "      <th>3</th>\n",
       "      <td>4</td>\n",
       "      <td>University of Cambridge</td>\n",
       "      <td>United Kingdom</td>\n",
       "      <td>1</td>\n",
       "      <td>3</td>\n",
       "      <td>25</td>\n",
       "      <td>5</td>\n",
       "      <td>11</td>\n",
       "      <td>94.1</td>\n",
       "      <td>0.1</td>\n",
       "    </tr>\n",
       "    <tr>\n",
       "      <th>4</th>\n",
       "      <td>5</td>\n",
       "      <td>University of Oxford</td>\n",
       "      <td>United Kingdom</td>\n",
       "      <td>2</td>\n",
       "      <td>7</td>\n",
       "      <td>27</td>\n",
       "      <td>9</td>\n",
       "      <td>4</td>\n",
       "      <td>93.3</td>\n",
       "      <td>0.1</td>\n",
       "    </tr>\n",
       "  </tbody>\n",
       "</table>\n",
       "</div>"
      ],
      "text/plain": [
       "   Rank                        University Name        Location  National Rank  \\\n",
       "0     1                     Harvard University             USA              1   \n",
       "1     2  Massachusetts Institute of Technology             USA              2   \n",
       "2     3                    Stanford University             USA              3   \n",
       "3     4                University of Cambridge  United Kingdom              1   \n",
       "4     5                   University of Oxford  United Kingdom              2   \n",
       "\n",
       "   Educational Rank  Employability Rank  Faculty Rank  Research Rank  \\\n",
       "0                 1                   1             1              1   \n",
       "1                 4                  12             3              9   \n",
       "2                11                   4             2              2   \n",
       "3                 3                  25             5             11   \n",
       "4                 7                  27             9              4   \n",
       "\n",
       "   Total Score  World Ratio  \n",
       "0        100.0          0.1  \n",
       "1         96.7          0.1  \n",
       "2         95.2          0.1  \n",
       "3         94.1          0.1  \n",
       "4         93.3          0.1  "
      ]
     },
     "execution_count": 385,
     "metadata": {},
     "output_type": "execute_result"
    }
   ],
   "source": [
    "Uni_df['CWUR'].head()"
   ]
  },
  {
   "cell_type": "code",
   "execution_count": 386,
   "metadata": {},
   "outputs": [
    {
     "data": {
      "text/plain": [
       "[0]"
      ]
     },
     "execution_count": 386,
     "metadata": {},
     "output_type": "execute_result"
    }
   ],
   "source": [
    "[(Uni_df['CWUR']['Educational Rank'] == '-').sum()]"
   ]
  },
  {
   "cell_type": "code",
   "execution_count": 387,
   "metadata": {},
   "outputs": [
    {
     "data": {
      "text/plain": [
       "(2000, 10)"
      ]
     },
     "execution_count": 387,
     "metadata": {},
     "output_type": "execute_result"
    }
   ],
   "source": [
    "Uni_df['CWUR'].shape"
   ]
  },
  {
   "cell_type": "code",
   "execution_count": 388,
   "metadata": {},
   "outputs": [
    {
     "data": {
      "text/plain": [
       "Rank                object\n",
       "University Name     object\n",
       "National Rank       object\n",
       "Total Score        float64\n",
       "dtype: object"
      ]
     },
     "execution_count": 388,
     "metadata": {},
     "output_type": "execute_result"
    }
   ],
   "source": [
    "Uni_df['ARWU'].dtypes"
   ]
  },
  {
   "cell_type": "code",
   "execution_count": 389,
   "metadata": {},
   "outputs": [
    {
     "data": {
      "text/html": [
       "<div>\n",
       "<style scoped>\n",
       "    .dataframe tbody tr th:only-of-type {\n",
       "        vertical-align: middle;\n",
       "    }\n",
       "\n",
       "    .dataframe tbody tr th {\n",
       "        vertical-align: top;\n",
       "    }\n",
       "\n",
       "    .dataframe thead th {\n",
       "        text-align: right;\n",
       "    }\n",
       "</style>\n",
       "<table border=\"1\" class=\"dataframe\">\n",
       "  <thead>\n",
       "    <tr style=\"text-align: right;\">\n",
       "      <th></th>\n",
       "      <th>Rank</th>\n",
       "      <th>University Name</th>\n",
       "      <th>National Rank</th>\n",
       "      <th>Total Score</th>\n",
       "    </tr>\n",
       "  </thead>\n",
       "  <tbody>\n",
       "    <tr>\n",
       "      <th>0</th>\n",
       "      <td>1</td>\n",
       "      <td>Harvard University</td>\n",
       "      <td>1</td>\n",
       "      <td>100.0</td>\n",
       "    </tr>\n",
       "    <tr>\n",
       "      <th>1</th>\n",
       "      <td>2</td>\n",
       "      <td>Stanford University</td>\n",
       "      <td>2</td>\n",
       "      <td>76.8</td>\n",
       "    </tr>\n",
       "    <tr>\n",
       "      <th>2</th>\n",
       "      <td>3</td>\n",
       "      <td>Massachusetts Institute of Technology (MIT)</td>\n",
       "      <td>3</td>\n",
       "      <td>70.1</td>\n",
       "    </tr>\n",
       "    <tr>\n",
       "      <th>3</th>\n",
       "      <td>4</td>\n",
       "      <td>University of Cambridge</td>\n",
       "      <td>1</td>\n",
       "      <td>69.6</td>\n",
       "    </tr>\n",
       "    <tr>\n",
       "      <th>4</th>\n",
       "      <td>5</td>\n",
       "      <td>University of California, Berkeley</td>\n",
       "      <td>4</td>\n",
       "      <td>65.3</td>\n",
       "    </tr>\n",
       "  </tbody>\n",
       "</table>\n",
       "</div>"
      ],
      "text/plain": [
       "  Rank                              University Name National Rank  Total Score\n",
       "0    1                           Harvard University             1        100.0\n",
       "1    2                          Stanford University             2         76.8\n",
       "2    3  Massachusetts Institute of Technology (MIT)             3         70.1\n",
       "3    4                      University of Cambridge             1         69.6\n",
       "4    5           University of California, Berkeley             4         65.3"
      ]
     },
     "execution_count": 389,
     "metadata": {},
     "output_type": "execute_result"
    }
   ],
   "source": [
    "Uni_df['ARWU'].head()"
   ]
  },
  {
   "cell_type": "code",
   "execution_count": 390,
   "metadata": {},
   "outputs": [
    {
     "data": {
      "text/html": [
       "<div>\n",
       "<style scoped>\n",
       "    .dataframe tbody tr th:only-of-type {\n",
       "        vertical-align: middle;\n",
       "    }\n",
       "\n",
       "    .dataframe tbody tr th {\n",
       "        vertical-align: top;\n",
       "    }\n",
       "\n",
       "    .dataframe thead th {\n",
       "        text-align: right;\n",
       "    }\n",
       "</style>\n",
       "<table border=\"1\" class=\"dataframe\">\n",
       "  <thead>\n",
       "    <tr style=\"text-align: right;\">\n",
       "      <th></th>\n",
       "      <th>Rank</th>\n",
       "      <th>University Name</th>\n",
       "      <th>National Rank</th>\n",
       "      <th>Total Score</th>\n",
       "    </tr>\n",
       "  </thead>\n",
       "  <tbody>\n",
       "    <tr>\n",
       "      <th>83</th>\n",
       "      <td>83</td>\n",
       "      <td>Technion-Israel Institute of Technology</td>\n",
       "      <td>2-3</td>\n",
       "      <td>27.2</td>\n",
       "    </tr>\n",
       "    <tr>\n",
       "      <th>85</th>\n",
       "      <td>83</td>\n",
       "      <td>Weizmann Institute of Science</td>\n",
       "      <td>2-3</td>\n",
       "      <td>27.2</td>\n",
       "    </tr>\n",
       "    <tr>\n",
       "      <th>361</th>\n",
       "      <td>301-400</td>\n",
       "      <td>University College Cork</td>\n",
       "      <td>2-3</td>\n",
       "      <td>0.0</td>\n",
       "    </tr>\n",
       "    <tr>\n",
       "      <th>362</th>\n",
       "      <td>301-400</td>\n",
       "      <td>University College Dublin</td>\n",
       "      <td>2-3</td>\n",
       "      <td>0.0</td>\n",
       "    </tr>\n",
       "    <tr>\n",
       "      <th>622</th>\n",
       "      <td>601-700</td>\n",
       "      <td>Hacettepe University</td>\n",
       "      <td>2-3</td>\n",
       "      <td>0.0</td>\n",
       "    </tr>\n",
       "    <tr>\n",
       "      <th>676</th>\n",
       "      <td>601-700</td>\n",
       "      <td>University of Delhi</td>\n",
       "      <td>2-3</td>\n",
       "      <td>0.0</td>\n",
       "    </tr>\n",
       "    <tr>\n",
       "      <th>683</th>\n",
       "      <td>601-700</td>\n",
       "      <td>University of Health Sciences Turkey</td>\n",
       "      <td>2-3</td>\n",
       "      <td>0.0</td>\n",
       "    </tr>\n",
       "    <tr>\n",
       "      <th>696</th>\n",
       "      <td>601-700</td>\n",
       "      <td>Vellore Institute of Technology</td>\n",
       "      <td>2-3</td>\n",
       "      <td>0.0</td>\n",
       "    </tr>\n",
       "  </tbody>\n",
       "</table>\n",
       "</div>"
      ],
      "text/plain": [
       "        Rank                          University Name National Rank  \\\n",
       "83        83  Technion-Israel Institute of Technology           2-3   \n",
       "85        83            Weizmann Institute of Science           2-3   \n",
       "361  301-400                  University College Cork           2-3   \n",
       "362  301-400                University College Dublin           2-3   \n",
       "622  601-700                     Hacettepe University           2-3   \n",
       "676  601-700                      University of Delhi           2-3   \n",
       "683  601-700     University of Health Sciences Turkey           2-3   \n",
       "696  601-700          Vellore Institute of Technology           2-3   \n",
       "\n",
       "     Total Score  \n",
       "83          27.2  \n",
       "85          27.2  \n",
       "361          0.0  \n",
       "362          0.0  \n",
       "622          0.0  \n",
       "676          0.0  \n",
       "683          0.0  \n",
       "696          0.0  "
      ]
     },
     "execution_count": 390,
     "metadata": {},
     "output_type": "execute_result"
    }
   ],
   "source": [
    "Uni_df['ARWU'][Uni_df['ARWU']['National Rank'] == '2-3']"
   ]
  },
  {
   "cell_type": "code",
   "execution_count": 391,
   "metadata": {},
   "outputs": [],
   "source": [
    "Uni_df['ARWU']['National Rank'] = Uni_df['ARWU']['National Rank'].map(lambda x : int(x.split('-')[0]) if '-' in x else int(x))"
   ]
  },
  {
   "cell_type": "code",
   "execution_count": 392,
   "metadata": {},
   "outputs": [
    {
     "data": {
      "text/plain": [
       "Rank                object\n",
       "University Name     object\n",
       "National Rank        int64\n",
       "Total Score        float64\n",
       "dtype: object"
      ]
     },
     "execution_count": 392,
     "metadata": {},
     "output_type": "execute_result"
    }
   ],
   "source": [
    "Uni_df['ARWU'].dtypes"
   ]
  },
  {
   "cell_type": "code",
   "execution_count": 393,
   "metadata": {},
   "outputs": [
    {
     "name": "stderr",
     "output_type": "stream",
     "text": [
      "C:\\Users\\Sulaiman\\AppData\\Local\\Temp\\ipykernel_55692\\495153695.py:1: FutureWarning:\n",
      "\n",
      "ChainedAssignmentError: behaviour will change in pandas 3.0!\n",
      "You are setting values through chained assignment. Currently this works in certain cases, but when using Copy-on-Write (which will become the default behaviour in pandas 3.0) this will never work to update the original DataFrame or Series, because the intermediate object on which we are setting values will behave as a copy.\n",
      "A typical example is when you are setting values in a column of a DataFrame, like:\n",
      "\n",
      "df[\"col\"][row_indexer] = value\n",
      "\n",
      "Use `df.loc[row_indexer, \"col\"] = values` instead, to perform the assignment in a single step and ensure this keeps updating the original `df`.\n",
      "\n",
      "See the caveats in the documentation: https://pandas.pydata.org/pandas-docs/stable/user_guide/indexing.html#returning-a-view-versus-a-copy\n",
      "\n",
      "\n",
      "C:\\Users\\Sulaiman\\AppData\\Local\\Temp\\ipykernel_55692\\495153695.py:1: SettingWithCopyWarning:\n",
      "\n",
      "\n",
      "A value is trying to be set on a copy of a slice from a DataFrame\n",
      "\n",
      "See the caveats in the documentation: https://pandas.pydata.org/pandas-docs/stable/user_guide/indexing.html#returning-a-view-versus-a-copy\n",
      "\n"
     ]
    }
   ],
   "source": [
    "Uni_df['ARWU']['Total Score'][100:] = 0"
   ]
  },
  {
   "cell_type": "code",
   "execution_count": 394,
   "metadata": {},
   "outputs": [],
   "source": [
    "#Change the rank type, and when you find a range take the lowest number\n",
    "Uni_df['ARWU']['Rank'] = Uni_df['ARWU']['Rank'].map(lambda x : int(x.split('-')[0]) if '-' in x else int(x))"
   ]
  },
  {
   "cell_type": "code",
   "execution_count": null,
   "metadata": {},
   "outputs": [],
   "source": []
  },
  {
   "cell_type": "code",
   "execution_count": 395,
   "metadata": {},
   "outputs": [
    {
     "data": {
      "text/html": [
       "<div>\n",
       "<style scoped>\n",
       "    .dataframe tbody tr th:only-of-type {\n",
       "        vertical-align: middle;\n",
       "    }\n",
       "\n",
       "    .dataframe tbody tr th {\n",
       "        vertical-align: top;\n",
       "    }\n",
       "\n",
       "    .dataframe thead th {\n",
       "        text-align: right;\n",
       "    }\n",
       "</style>\n",
       "<table border=\"1\" class=\"dataframe\">\n",
       "  <thead>\n",
       "    <tr style=\"text-align: right;\">\n",
       "      <th></th>\n",
       "      <th>Rank</th>\n",
       "      <th>University Name</th>\n",
       "      <th>Location</th>\n",
       "      <th>National Rank</th>\n",
       "      <th>Educational Rank</th>\n",
       "      <th>Employability Rank</th>\n",
       "      <th>Faculty Rank</th>\n",
       "      <th>Research Rank</th>\n",
       "      <th>Total Score</th>\n",
       "      <th>World Ratio</th>\n",
       "    </tr>\n",
       "  </thead>\n",
       "  <tbody>\n",
       "    <tr>\n",
       "      <th>0</th>\n",
       "      <td>1</td>\n",
       "      <td>Harvard University</td>\n",
       "      <td>USA</td>\n",
       "      <td>1</td>\n",
       "      <td>1</td>\n",
       "      <td>1</td>\n",
       "      <td>1</td>\n",
       "      <td>1</td>\n",
       "      <td>100.0</td>\n",
       "      <td>0.1</td>\n",
       "    </tr>\n",
       "    <tr>\n",
       "      <th>3</th>\n",
       "      <td>4</td>\n",
       "      <td>University of Cambridge</td>\n",
       "      <td>United Kingdom</td>\n",
       "      <td>1</td>\n",
       "      <td>3</td>\n",
       "      <td>25</td>\n",
       "      <td>5</td>\n",
       "      <td>11</td>\n",
       "      <td>94.1</td>\n",
       "      <td>0.1</td>\n",
       "    </tr>\n",
       "    <tr>\n",
       "      <th>12</th>\n",
       "      <td>13</td>\n",
       "      <td>University of Tokyo</td>\n",
       "      <td>Japan</td>\n",
       "      <td>1</td>\n",
       "      <td>37</td>\n",
       "      <td>6</td>\n",
       "      <td>113</td>\n",
       "      <td>30</td>\n",
       "      <td>89.8</td>\n",
       "      <td>0.1</td>\n",
       "    </tr>\n",
       "    <tr>\n",
       "      <th>20</th>\n",
       "      <td>21</td>\n",
       "      <td>PSL University</td>\n",
       "      <td>France</td>\n",
       "      <td>1</td>\n",
       "      <td>17</td>\n",
       "      <td>31</td>\n",
       "      <td>111</td>\n",
       "      <td>91</td>\n",
       "      <td>88.0</td>\n",
       "      <td>0.2</td>\n",
       "    </tr>\n",
       "    <tr>\n",
       "      <th>22</th>\n",
       "      <td>23</td>\n",
       "      <td>University of Toronto</td>\n",
       "      <td>Canada</td>\n",
       "      <td>1</td>\n",
       "      <td>233</td>\n",
       "      <td>163</td>\n",
       "      <td>23</td>\n",
       "      <td>3</td>\n",
       "      <td>87.7</td>\n",
       "      <td>0.2</td>\n",
       "    </tr>\n",
       "    <tr>\n",
       "      <th>...</th>\n",
       "      <td>...</td>\n",
       "      <td>...</td>\n",
       "      <td>...</td>\n",
       "      <td>...</td>\n",
       "      <td>...</td>\n",
       "      <td>...</td>\n",
       "      <td>...</td>\n",
       "      <td>...</td>\n",
       "      <td>...</td>\n",
       "      <td>...</td>\n",
       "    </tr>\n",
       "    <tr>\n",
       "      <th>1823</th>\n",
       "      <td>1824</td>\n",
       "      <td>Tribhuvan University</td>\n",
       "      <td>Nepal</td>\n",
       "      <td>1</td>\n",
       "      <td>0</td>\n",
       "      <td>0</td>\n",
       "      <td>0</td>\n",
       "      <td>1751</td>\n",
       "      <td>66.6</td>\n",
       "      <td>8.9</td>\n",
       "    </tr>\n",
       "    <tr>\n",
       "      <th>1919</th>\n",
       "      <td>1920</td>\n",
       "      <td>Muhimbili University of Health and Allied Scie...</td>\n",
       "      <td>Tanzania</td>\n",
       "      <td>1</td>\n",
       "      <td>0</td>\n",
       "      <td>0</td>\n",
       "      <td>0</td>\n",
       "      <td>1843</td>\n",
       "      <td>66.2</td>\n",
       "      <td>9.4</td>\n",
       "    </tr>\n",
       "    <tr>\n",
       "      <th>1929</th>\n",
       "      <td>1930</td>\n",
       "      <td>University of Science and Technology Houari Bo...</td>\n",
       "      <td>Algeria</td>\n",
       "      <td>1</td>\n",
       "      <td>0</td>\n",
       "      <td>0</td>\n",
       "      <td>0</td>\n",
       "      <td>1853</td>\n",
       "      <td>66.2</td>\n",
       "      <td>9.5</td>\n",
       "    </tr>\n",
       "    <tr>\n",
       "      <th>1945</th>\n",
       "      <td>1946</td>\n",
       "      <td>An-Najah National University</td>\n",
       "      <td>Palestine</td>\n",
       "      <td>1</td>\n",
       "      <td>0</td>\n",
       "      <td>0</td>\n",
       "      <td>0</td>\n",
       "      <td>1866</td>\n",
       "      <td>66.2</td>\n",
       "      <td>9.5</td>\n",
       "    </tr>\n",
       "    <tr>\n",
       "      <th>1989</th>\n",
       "      <td>1990</td>\n",
       "      <td>Ss. Cyril and Methodius University in Skopje</td>\n",
       "      <td>North Macedonia</td>\n",
       "      <td>1</td>\n",
       "      <td>0</td>\n",
       "      <td>0</td>\n",
       "      <td>0</td>\n",
       "      <td>1912</td>\n",
       "      <td>66.0</td>\n",
       "      <td>9.7</td>\n",
       "    </tr>\n",
       "  </tbody>\n",
       "</table>\n",
       "<p>95 rows × 10 columns</p>\n",
       "</div>"
      ],
      "text/plain": [
       "      Rank                                    University Name  \\\n",
       "0        1                                 Harvard University   \n",
       "3        4                            University of Cambridge   \n",
       "12      13                                University of Tokyo   \n",
       "20      21                                     PSL University   \n",
       "22      23                              University of Toronto   \n",
       "...    ...                                                ...   \n",
       "1823  1824                               Tribhuvan University   \n",
       "1919  1920  Muhimbili University of Health and Allied Scie...   \n",
       "1929  1930  University of Science and Technology Houari Bo...   \n",
       "1945  1946                       An-Najah National University   \n",
       "1989  1990       Ss. Cyril and Methodius University in Skopje   \n",
       "\n",
       "             Location  National Rank  Educational Rank  Employability Rank  \\\n",
       "0                 USA              1                 1                   1   \n",
       "3      United Kingdom              1                 3                  25   \n",
       "12              Japan              1                37                   6   \n",
       "20             France              1                17                  31   \n",
       "22             Canada              1               233                 163   \n",
       "...               ...            ...               ...                 ...   \n",
       "1823            Nepal              1                 0                   0   \n",
       "1919         Tanzania              1                 0                   0   \n",
       "1929          Algeria              1                 0                   0   \n",
       "1945        Palestine              1                 0                   0   \n",
       "1989  North Macedonia              1                 0                   0   \n",
       "\n",
       "      Faculty Rank  Research Rank  Total Score  World Ratio  \n",
       "0                1              1        100.0          0.1  \n",
       "3                5             11         94.1          0.1  \n",
       "12             113             30         89.8          0.1  \n",
       "20             111             91         88.0          0.2  \n",
       "22              23              3         87.7          0.2  \n",
       "...            ...            ...          ...          ...  \n",
       "1823             0           1751         66.6          8.9  \n",
       "1919             0           1843         66.2          9.4  \n",
       "1929             0           1853         66.2          9.5  \n",
       "1945             0           1866         66.2          9.5  \n",
       "1989             0           1912         66.0          9.7  \n",
       "\n",
       "[95 rows x 10 columns]"
      ]
     },
     "execution_count": 395,
     "metadata": {},
     "output_type": "execute_result"
    }
   ],
   "source": [
    "#extra question what are the top 1 universties in each region or country\n",
    "Uni_df['CWUR'][Uni_df['CWUR']['National Rank'] == 1]"
   ]
  },
  {
   "cell_type": "code",
   "execution_count": 396,
   "metadata": {},
   "outputs": [
    {
     "data": {
      "text/html": [
       "<div>\n",
       "<style scoped>\n",
       "    .dataframe tbody tr th:only-of-type {\n",
       "        vertical-align: middle;\n",
       "    }\n",
       "\n",
       "    .dataframe tbody tr th {\n",
       "        vertical-align: top;\n",
       "    }\n",
       "\n",
       "    .dataframe thead th {\n",
       "        text-align: right;\n",
       "    }\n",
       "</style>\n",
       "<table border=\"1\" class=\"dataframe\">\n",
       "  <thead>\n",
       "    <tr style=\"text-align: right;\">\n",
       "      <th></th>\n",
       "      <th>Rank</th>\n",
       "      <th>University Name</th>\n",
       "      <th>Location</th>\n",
       "      <th>National Rank</th>\n",
       "      <th>Educational Rank</th>\n",
       "      <th>Employability Rank</th>\n",
       "      <th>Faculty Rank</th>\n",
       "      <th>Research Rank</th>\n",
       "      <th>Total Score</th>\n",
       "      <th>World Ratio</th>\n",
       "    </tr>\n",
       "  </thead>\n",
       "  <tbody>\n",
       "    <tr>\n",
       "      <th>244</th>\n",
       "      <td>245</td>\n",
       "      <td>King Abdulaziz University</td>\n",
       "      <td>Saudi Arabia</td>\n",
       "      <td>1</td>\n",
       "      <td>0</td>\n",
       "      <td>1330</td>\n",
       "      <td>0</td>\n",
       "      <td>186</td>\n",
       "      <td>77.8</td>\n",
       "      <td>1.2</td>\n",
       "    </tr>\n",
       "    <tr>\n",
       "      <th>278</th>\n",
       "      <td>279</td>\n",
       "      <td>King Abdullah University of Science and Techno...</td>\n",
       "      <td>Saudi Arabia</td>\n",
       "      <td>2</td>\n",
       "      <td>0</td>\n",
       "      <td>0</td>\n",
       "      <td>171</td>\n",
       "      <td>297</td>\n",
       "      <td>77.2</td>\n",
       "      <td>1.4</td>\n",
       "    </tr>\n",
       "    <tr>\n",
       "      <th>351</th>\n",
       "      <td>352</td>\n",
       "      <td>King Saud University</td>\n",
       "      <td>Saudi Arabia</td>\n",
       "      <td>3</td>\n",
       "      <td>0</td>\n",
       "      <td>344</td>\n",
       "      <td>0</td>\n",
       "      <td>332</td>\n",
       "      <td>76.1</td>\n",
       "      <td>1.8</td>\n",
       "    </tr>\n",
       "    <tr>\n",
       "      <th>656</th>\n",
       "      <td>657</td>\n",
       "      <td>King Fahd University of Petroleum and Minerals</td>\n",
       "      <td>Saudi Arabia</td>\n",
       "      <td>4</td>\n",
       "      <td>0</td>\n",
       "      <td>107</td>\n",
       "      <td>0</td>\n",
       "      <td>792</td>\n",
       "      <td>72.8</td>\n",
       "      <td>3.3</td>\n",
       "    </tr>\n",
       "    <tr>\n",
       "      <th>1310</th>\n",
       "      <td>1311</td>\n",
       "      <td>King Saud bin Abdulaziz University for Health ...</td>\n",
       "      <td>Saudi Arabia</td>\n",
       "      <td>5</td>\n",
       "      <td>0</td>\n",
       "      <td>0</td>\n",
       "      <td>0</td>\n",
       "      <td>1255</td>\n",
       "      <td>68.8</td>\n",
       "      <td>6.4</td>\n",
       "    </tr>\n",
       "    <tr>\n",
       "      <th>1446</th>\n",
       "      <td>1447</td>\n",
       "      <td>King Khalid University</td>\n",
       "      <td>Saudi Arabia</td>\n",
       "      <td>6</td>\n",
       "      <td>0</td>\n",
       "      <td>0</td>\n",
       "      <td>0</td>\n",
       "      <td>1385</td>\n",
       "      <td>68.1</td>\n",
       "      <td>7.1</td>\n",
       "    </tr>\n",
       "    <tr>\n",
       "      <th>1508</th>\n",
       "      <td>1509</td>\n",
       "      <td>Taif University</td>\n",
       "      <td>Saudi Arabia</td>\n",
       "      <td>7</td>\n",
       "      <td>0</td>\n",
       "      <td>0</td>\n",
       "      <td>0</td>\n",
       "      <td>1445</td>\n",
       "      <td>67.9</td>\n",
       "      <td>7.4</td>\n",
       "    </tr>\n",
       "    <tr>\n",
       "      <th>1546</th>\n",
       "      <td>1547</td>\n",
       "      <td>Imam Abdulrahman Bin Faisal University</td>\n",
       "      <td>Saudi Arabia</td>\n",
       "      <td>8</td>\n",
       "      <td>0</td>\n",
       "      <td>0</td>\n",
       "      <td>0</td>\n",
       "      <td>1484</td>\n",
       "      <td>67.7</td>\n",
       "      <td>7.6</td>\n",
       "    </tr>\n",
       "    <tr>\n",
       "      <th>1585</th>\n",
       "      <td>1586</td>\n",
       "      <td>Taibah University</td>\n",
       "      <td>Saudi Arabia</td>\n",
       "      <td>9</td>\n",
       "      <td>0</td>\n",
       "      <td>0</td>\n",
       "      <td>0</td>\n",
       "      <td>1520</td>\n",
       "      <td>67.5</td>\n",
       "      <td>7.8</td>\n",
       "    </tr>\n",
       "    <tr>\n",
       "      <th>1710</th>\n",
       "      <td>1711</td>\n",
       "      <td>Prince Sattam Bin Abdulaziz University</td>\n",
       "      <td>Saudi Arabia</td>\n",
       "      <td>10</td>\n",
       "      <td>0</td>\n",
       "      <td>0</td>\n",
       "      <td>0</td>\n",
       "      <td>1636</td>\n",
       "      <td>67.0</td>\n",
       "      <td>8.4</td>\n",
       "    </tr>\n",
       "    <tr>\n",
       "      <th>1741</th>\n",
       "      <td>1742</td>\n",
       "      <td>Umm Al-Qura University</td>\n",
       "      <td>Saudi Arabia</td>\n",
       "      <td>11</td>\n",
       "      <td>0</td>\n",
       "      <td>0</td>\n",
       "      <td>0</td>\n",
       "      <td>1666</td>\n",
       "      <td>66.9</td>\n",
       "      <td>8.5</td>\n",
       "    </tr>\n",
       "    <tr>\n",
       "      <th>1761</th>\n",
       "      <td>1762</td>\n",
       "      <td>Alfaisal University</td>\n",
       "      <td>Saudi Arabia</td>\n",
       "      <td>12</td>\n",
       "      <td>0</td>\n",
       "      <td>0</td>\n",
       "      <td>0</td>\n",
       "      <td>1688</td>\n",
       "      <td>66.8</td>\n",
       "      <td>8.6</td>\n",
       "    </tr>\n",
       "    <tr>\n",
       "      <th>1810</th>\n",
       "      <td>1811</td>\n",
       "      <td>Jazan University</td>\n",
       "      <td>Saudi Arabia</td>\n",
       "      <td>13</td>\n",
       "      <td>0</td>\n",
       "      <td>0</td>\n",
       "      <td>0</td>\n",
       "      <td>1737</td>\n",
       "      <td>66.6</td>\n",
       "      <td>8.9</td>\n",
       "    </tr>\n",
       "    <tr>\n",
       "      <th>1906</th>\n",
       "      <td>1907</td>\n",
       "      <td>Qassim University</td>\n",
       "      <td>Saudi Arabia</td>\n",
       "      <td>14</td>\n",
       "      <td>0</td>\n",
       "      <td>0</td>\n",
       "      <td>0</td>\n",
       "      <td>1830</td>\n",
       "      <td>66.3</td>\n",
       "      <td>9.3</td>\n",
       "    </tr>\n",
       "    <tr>\n",
       "      <th>1973</th>\n",
       "      <td>1974</td>\n",
       "      <td>University of Tabuk</td>\n",
       "      <td>Saudi Arabia</td>\n",
       "      <td>15</td>\n",
       "      <td>0</td>\n",
       "      <td>0</td>\n",
       "      <td>0</td>\n",
       "      <td>1896</td>\n",
       "      <td>66.1</td>\n",
       "      <td>9.7</td>\n",
       "    </tr>\n",
       "    <tr>\n",
       "      <th>1978</th>\n",
       "      <td>1979</td>\n",
       "      <td>King Faisal University</td>\n",
       "      <td>Saudi Arabia</td>\n",
       "      <td>16</td>\n",
       "      <td>0</td>\n",
       "      <td>0</td>\n",
       "      <td>0</td>\n",
       "      <td>1903</td>\n",
       "      <td>66.0</td>\n",
       "      <td>9.7</td>\n",
       "    </tr>\n",
       "  </tbody>\n",
       "</table>\n",
       "</div>"
      ],
      "text/plain": [
       "      Rank                                    University Name      Location  \\\n",
       "244    245                          King Abdulaziz University  Saudi Arabia   \n",
       "278    279  King Abdullah University of Science and Techno...  Saudi Arabia   \n",
       "351    352                               King Saud University  Saudi Arabia   \n",
       "656    657     King Fahd University of Petroleum and Minerals  Saudi Arabia   \n",
       "1310  1311  King Saud bin Abdulaziz University for Health ...  Saudi Arabia   \n",
       "1446  1447                             King Khalid University  Saudi Arabia   \n",
       "1508  1509                                    Taif University  Saudi Arabia   \n",
       "1546  1547             Imam Abdulrahman Bin Faisal University  Saudi Arabia   \n",
       "1585  1586                                  Taibah University  Saudi Arabia   \n",
       "1710  1711             Prince Sattam Bin Abdulaziz University  Saudi Arabia   \n",
       "1741  1742                             Umm Al-Qura University  Saudi Arabia   \n",
       "1761  1762                                Alfaisal University  Saudi Arabia   \n",
       "1810  1811                                   Jazan University  Saudi Arabia   \n",
       "1906  1907                                  Qassim University  Saudi Arabia   \n",
       "1973  1974                                University of Tabuk  Saudi Arabia   \n",
       "1978  1979                             King Faisal University  Saudi Arabia   \n",
       "\n",
       "      National Rank  Educational Rank  Employability Rank  Faculty Rank  \\\n",
       "244               1                 0                1330             0   \n",
       "278               2                 0                   0           171   \n",
       "351               3                 0                 344             0   \n",
       "656               4                 0                 107             0   \n",
       "1310              5                 0                   0             0   \n",
       "1446              6                 0                   0             0   \n",
       "1508              7                 0                   0             0   \n",
       "1546              8                 0                   0             0   \n",
       "1585              9                 0                   0             0   \n",
       "1710             10                 0                   0             0   \n",
       "1741             11                 0                   0             0   \n",
       "1761             12                 0                   0             0   \n",
       "1810             13                 0                   0             0   \n",
       "1906             14                 0                   0             0   \n",
       "1973             15                 0                   0             0   \n",
       "1978             16                 0                   0             0   \n",
       "\n",
       "      Research Rank  Total Score  World Ratio  \n",
       "244             186         77.8          1.2  \n",
       "278             297         77.2          1.4  \n",
       "351             332         76.1          1.8  \n",
       "656             792         72.8          3.3  \n",
       "1310           1255         68.8          6.4  \n",
       "1446           1385         68.1          7.1  \n",
       "1508           1445         67.9          7.4  \n",
       "1546           1484         67.7          7.6  \n",
       "1585           1520         67.5          7.8  \n",
       "1710           1636         67.0          8.4  \n",
       "1741           1666         66.9          8.5  \n",
       "1761           1688         66.8          8.6  \n",
       "1810           1737         66.6          8.9  \n",
       "1906           1830         66.3          9.3  \n",
       "1973           1896         66.1          9.7  \n",
       "1978           1903         66.0          9.7  "
      ]
     },
     "execution_count": 396,
     "metadata": {},
     "output_type": "execute_result"
    }
   ],
   "source": [
    "#extra question what are the top universties in suadi arabia\n",
    "Uni_df['CWUR'][Uni_df['CWUR']['Location'] == 'Saudi Arabia']"
   ]
  },
  {
   "cell_type": "code",
   "execution_count": 397,
   "metadata": {},
   "outputs": [],
   "source": [
    "Uni_df['ARWU'].drop(Uni_df['ARWU'][Uni_df['ARWU']['Total Score'] == 0].index,inplace=True)"
   ]
  },
  {
   "cell_type": "code",
   "execution_count": 398,
   "metadata": {},
   "outputs": [
    {
     "data": {
      "text/html": [
       "<div>\n",
       "<style scoped>\n",
       "    .dataframe tbody tr th:only-of-type {\n",
       "        vertical-align: middle;\n",
       "    }\n",
       "\n",
       "    .dataframe tbody tr th {\n",
       "        vertical-align: top;\n",
       "    }\n",
       "\n",
       "    .dataframe thead th {\n",
       "        text-align: right;\n",
       "    }\n",
       "</style>\n",
       "<table border=\"1\" class=\"dataframe\">\n",
       "  <thead>\n",
       "    <tr style=\"text-align: right;\">\n",
       "      <th></th>\n",
       "      <th>Rank</th>\n",
       "      <th>University Name</th>\n",
       "      <th>National Rank</th>\n",
       "      <th>Total Score</th>\n",
       "    </tr>\n",
       "  </thead>\n",
       "  <tbody>\n",
       "    <tr>\n",
       "      <th>95</th>\n",
       "      <td>96</td>\n",
       "      <td>Huazhong University of Science and Technology</td>\n",
       "      <td>8</td>\n",
       "      <td>26.1</td>\n",
       "    </tr>\n",
       "    <tr>\n",
       "      <th>96</th>\n",
       "      <td>96</td>\n",
       "      <td>The University of Hong Kong</td>\n",
       "      <td>1</td>\n",
       "      <td>26.1</td>\n",
       "    </tr>\n",
       "    <tr>\n",
       "      <th>97</th>\n",
       "      <td>98</td>\n",
       "      <td>Seoul National University</td>\n",
       "      <td>1</td>\n",
       "      <td>25.9</td>\n",
       "    </tr>\n",
       "    <tr>\n",
       "      <th>98</th>\n",
       "      <td>99</td>\n",
       "      <td>Brown University</td>\n",
       "      <td>39</td>\n",
       "      <td>25.8</td>\n",
       "    </tr>\n",
       "    <tr>\n",
       "      <th>99</th>\n",
       "      <td>99</td>\n",
       "      <td>The University of Western Australia</td>\n",
       "      <td>7</td>\n",
       "      <td>25.8</td>\n",
       "    </tr>\n",
       "  </tbody>\n",
       "</table>\n",
       "</div>"
      ],
      "text/plain": [
       "    Rank                                University Name  National Rank  \\\n",
       "95    96  Huazhong University of Science and Technology              8   \n",
       "96    96                    The University of Hong Kong              1   \n",
       "97    98                      Seoul National University              1   \n",
       "98    99                               Brown University             39   \n",
       "99    99            The University of Western Australia              7   \n",
       "\n",
       "    Total Score  \n",
       "95         26.1  \n",
       "96         26.1  \n",
       "97         25.9  \n",
       "98         25.8  \n",
       "99         25.8  "
      ]
     },
     "execution_count": 398,
     "metadata": {},
     "output_type": "execute_result"
    }
   ],
   "source": [
    "Uni_df['ARWU'].tail()"
   ]
  },
  {
   "cell_type": "code",
   "execution_count": null,
   "metadata": {},
   "outputs": [],
   "source": []
  },
  {
   "cell_type": "markdown",
   "metadata": {},
   "source": [
    "## 3. Univariate Analysis: \n",
    "\n",
    "This involves examining single variables to understand their characteristics (distribution, central tendency, dispersion, and shape).\n",
    "\n",
    "We calculate **numerical values** about the data that tells us about the distribution of the data. We also **draw graphs** showing visually how the data is distributed. **To answer the following questions about Features/characteristics of Data:**\n",
    "- Where is the center of the data? (location)\n",
    "- How much does the data vary? (scale)\n",
    "- What is the shape of the data? (shape)\n",
    "\n",
    "**The benefits of this analysis:**\n",
    "Statistics summary gives a high-level idea to identify whether the data has any outliers, data entry error, distribution of data such as the data is normally distributed or left/right skewed\n",
    "\n",
    "**In this step, we will explore variables one by one using following approaches:**"
   ]
  },
  {
   "cell_type": "code",
   "execution_count": 399,
   "metadata": {},
   "outputs": [
    {
     "data": {
      "application/vnd.plotly.v1+json": {
       "config": {
        "plotlyServerURL": "https://plot.ly"
       },
       "data": [
        {
         "alignmentgroup": "True",
         "bingroup": "x",
         "hovertemplate": "Total Score=%{x}<br>count=%{y}<extra></extra>",
         "legendgroup": "",
         "marker": {
          "color": "rgb(102, 197, 204)",
          "pattern": {
           "shape": ""
          }
         },
         "name": "",
         "offsetgroup": "",
         "orientation": "v",
         "showlegend": false,
         "type": "histogram",
         "x": [
          100,
          96.7,
          95.2,
          94.1,
          93.3,
          92.6,
          92.1,
          91.6,
          91.2,
          90.8,
          90.4,
          90.1,
          89.8,
          89.5,
          89.3,
          89.1,
          88.8,
          88.6,
          88.4,
          88.2,
          88,
          87.9,
          87.7,
          87.5,
          87.4,
          87.2,
          87.1,
          87,
          86.8,
          86.7,
          86.6,
          86.4,
          86.3,
          86.2,
          86.1,
          86,
          85.9,
          85.8,
          85.7,
          85.6,
          85.5,
          85.4,
          85.3,
          85.2,
          85.1,
          85,
          84.9,
          84.9,
          84.8,
          84.7,
          84.6,
          84.5,
          84.5,
          84.4,
          84.3,
          84.2,
          84.2,
          84.1,
          84,
          84,
          83.9,
          83.8,
          83.8,
          83.7,
          83.6,
          83.6,
          83.5,
          83.5,
          83.4,
          83.3,
          83.3,
          83.2,
          83.2,
          83.1,
          83,
          83,
          82.9,
          82.9,
          82.8,
          82.8,
          82.7,
          82.7,
          82.6,
          82.6,
          82.5,
          82.5,
          82.4,
          82.4,
          82.3,
          82.3,
          82.2,
          82.2,
          82.1,
          82.1,
          82.1,
          82,
          82,
          81.9,
          81.9,
          81.8,
          81.8,
          81.8,
          81.7,
          81.7,
          81.6,
          81.6,
          81.6,
          81.5,
          81.5,
          81.4,
          81.4,
          81.4,
          81.3,
          81.3,
          81.2,
          81.2,
          81.2,
          81.1,
          81.1,
          81.1,
          81,
          81,
          80.9,
          80.9,
          80.9,
          80.8,
          80.8,
          80.8,
          80.7,
          80.7,
          80.7,
          80.6,
          80.6,
          80.6,
          80.5,
          80.5,
          80.5,
          80.4,
          80.4,
          80.4,
          80.3,
          80.3,
          80.3,
          80.3,
          80.2,
          80.2,
          80.2,
          80.1,
          80.1,
          80.1,
          80,
          80,
          80,
          80,
          79.9,
          79.9,
          79.9,
          79.8,
          79.8,
          79.8,
          79.8,
          79.7,
          79.7,
          79.7,
          79.6,
          79.6,
          79.6,
          79.6,
          79.5,
          79.5,
          79.5,
          79.5,
          79.4,
          79.4,
          79.4,
          79.4,
          79.3,
          79.3,
          79.3,
          79.3,
          79.2,
          79.2,
          79.2,
          79.2,
          79.1,
          79.1,
          79.1,
          79.1,
          79,
          79,
          79,
          79,
          78.9,
          78.9,
          78.9,
          78.9,
          78.8,
          78.8,
          78.8,
          78.8,
          78.7,
          78.7,
          78.7,
          78.7,
          78.7,
          78.6,
          78.6,
          78.6,
          78.6,
          78.5,
          78.5,
          78.5,
          78.5,
          78.5,
          78.4,
          78.4,
          78.4,
          78.4,
          78.3,
          78.3,
          78.3,
          78.3,
          78.3,
          78.2,
          78.2,
          78.2,
          78.2,
          78.2,
          78.1,
          78.1,
          78.1,
          78.1,
          78.1,
          78,
          78,
          78,
          78,
          78,
          77.9,
          77.9,
          77.9,
          77.9,
          77.9,
          77.8,
          77.8,
          77.8,
          77.8,
          77.8,
          77.7,
          77.7,
          77.7,
          77.7,
          77.7,
          77.7,
          77.6,
          77.6,
          77.6,
          77.6,
          77.6,
          77.5,
          77.5,
          77.5,
          77.5,
          77.5,
          77.4,
          77.4,
          77.4,
          77.4,
          77.4,
          77.4,
          77.3,
          77.3,
          77.3,
          77.3,
          77.3,
          77.3,
          77.2,
          77.2,
          77.2,
          77.2,
          77.2,
          77.1,
          77.1,
          77.1,
          77.1,
          77.1,
          77.1,
          77,
          77,
          77,
          77,
          77,
          77,
          76.9,
          76.9,
          76.9,
          76.9,
          76.9,
          76.9,
          76.8,
          76.8,
          76.8,
          76.8,
          76.8,
          76.8,
          76.8,
          76.7,
          76.7,
          76.7,
          76.7,
          76.7,
          76.7,
          76.6,
          76.6,
          76.6,
          76.6,
          76.6,
          76.6,
          76.5,
          76.5,
          76.5,
          76.5,
          76.5,
          76.5,
          76.5,
          76.4,
          76.4,
          76.4,
          76.4,
          76.4,
          76.4,
          76.4,
          76.3,
          76.3,
          76.3,
          76.3,
          76.3,
          76.3,
          76.2,
          76.2,
          76.2,
          76.2,
          76.2,
          76.2,
          76.2,
          76.1,
          76.1,
          76.1,
          76.1,
          76.1,
          76.1,
          76.1,
          76,
          76,
          76,
          76,
          76,
          76,
          76,
          76,
          75.9,
          75.9,
          75.9,
          75.9,
          75.9,
          75.9,
          75.9,
          75.8,
          75.8,
          75.8,
          75.8,
          75.8,
          75.8,
          75.8,
          75.7,
          75.7,
          75.7,
          75.7,
          75.7,
          75.7,
          75.7,
          75.7,
          75.6,
          75.6,
          75.6,
          75.6,
          75.6,
          75.6,
          75.6,
          75.5,
          75.5,
          75.5,
          75.5,
          75.5,
          75.5,
          75.5,
          75.5,
          75.4,
          75.4,
          75.4,
          75.4,
          75.4,
          75.4,
          75.4,
          75.4,
          75.3,
          75.3,
          75.3,
          75.3,
          75.3,
          75.3,
          75.3,
          75.3,
          75.2,
          75.2,
          75.2,
          75.2,
          75.2,
          75.2,
          75.2,
          75.2,
          75.1,
          75.1,
          75.1,
          75.1,
          75.1,
          75.1,
          75.1,
          75.1,
          75.1,
          75,
          75,
          75,
          75,
          75,
          75,
          75,
          75,
          74.9,
          74.9,
          74.9,
          74.9,
          74.9,
          74.9,
          74.9,
          74.9,
          74.9,
          74.8,
          74.8,
          74.8,
          74.8,
          74.8,
          74.8,
          74.8,
          74.8,
          74.7,
          74.7,
          74.7,
          74.7,
          74.7,
          74.7,
          74.7,
          74.7,
          74.7,
          74.6,
          74.6,
          74.6,
          74.6,
          74.6,
          74.6,
          74.6,
          74.6,
          74.6,
          74.5,
          74.5,
          74.5,
          74.5,
          74.5,
          74.5,
          74.5,
          74.5,
          74.5,
          74.5,
          74.4,
          74.4,
          74.4,
          74.4,
          74.4,
          74.4,
          74.4,
          74.4,
          74.4,
          74.3,
          74.3,
          74.3,
          74.3,
          74.3,
          74.3,
          74.3,
          74.3,
          74.3,
          74.2,
          74.2,
          74.2,
          74.2,
          74.2,
          74.2,
          74.2,
          74.2,
          74.2,
          74.2,
          74.1,
          74.1,
          74.1,
          74.1,
          74.1,
          74.1,
          74.1,
          74.1,
          74.1,
          74.1,
          74,
          74,
          74,
          74,
          74,
          74,
          74,
          74,
          74,
          74,
          73.9,
          73.9,
          73.9,
          73.9,
          73.9,
          73.9,
          73.9,
          73.9,
          73.9,
          73.9,
          73.8,
          73.8,
          73.8,
          73.8,
          73.8,
          73.8,
          73.8,
          73.8,
          73.8,
          73.8,
          73.7,
          73.7,
          73.7,
          73.7,
          73.7,
          73.7,
          73.7,
          73.7,
          73.7,
          73.7,
          73.7,
          73.6,
          73.6,
          73.6,
          73.6,
          73.6,
          73.6,
          73.6,
          73.6,
          73.6,
          73.6,
          73.5,
          73.5,
          73.5,
          73.5,
          73.5,
          73.5,
          73.5,
          73.5,
          73.5,
          73.5,
          73.5,
          73.4,
          73.4,
          73.4,
          73.4,
          73.4,
          73.4,
          73.4,
          73.4,
          73.4,
          73.4,
          73.4,
          73.3,
          73.3,
          73.3,
          73.3,
          73.3,
          73.3,
          73.3,
          73.3,
          73.3,
          73.3,
          73.3,
          73.2,
          73.2,
          73.2,
          73.2,
          73.2,
          73.2,
          73.2,
          73.2,
          73.2,
          73.2,
          73.2,
          73.1,
          73.1,
          73.1,
          73.1,
          73.1,
          73.1,
          73.1,
          73.1,
          73.1,
          73.1,
          73.1,
          73.1,
          73,
          73,
          73,
          73,
          73,
          73,
          73,
          73,
          73,
          73,
          73,
          72.9,
          72.9,
          72.9,
          72.9,
          72.9,
          72.9,
          72.9,
          72.9,
          72.9,
          72.9,
          72.9,
          72.9,
          72.8,
          72.8,
          72.8,
          72.8,
          72.8,
          72.8,
          72.8,
          72.8,
          72.8,
          72.8,
          72.8,
          72.8,
          72.7,
          72.7,
          72.7,
          72.7,
          72.7,
          72.7,
          72.7,
          72.7,
          72.7,
          72.7,
          72.7,
          72.7,
          72.6,
          72.6,
          72.6,
          72.6,
          72.6,
          72.6,
          72.6,
          72.6,
          72.6,
          72.6,
          72.6,
          72.6,
          72.6,
          72.5,
          72.5,
          72.5,
          72.5,
          72.5,
          72.5,
          72.5,
          72.5,
          72.5,
          72.5,
          72.5,
          72.5,
          72.4,
          72.4,
          72.4,
          72.4,
          72.4,
          72.4,
          72.4,
          72.4,
          72.4,
          72.4,
          72.4,
          72.4,
          72.4,
          72.3,
          72.3,
          72.3,
          72.3,
          72.3,
          72.3,
          72.3,
          72.3,
          72.3,
          72.3,
          72.3,
          72.3,
          72.3,
          72.2,
          72.2,
          72.2,
          72.2,
          72.2,
          72.2,
          72.2,
          72.2,
          72.2,
          72.2,
          72.2,
          72.2,
          72.2,
          72.1,
          72.1,
          72.1,
          72.1,
          72.1,
          72.1,
          72.1,
          72.1,
          72.1,
          72.1,
          72.1,
          72.1,
          72.1,
          72,
          72,
          72,
          72,
          72,
          72,
          72,
          72,
          72,
          72,
          72,
          72,
          72,
          71.9,
          71.9,
          71.9,
          71.9,
          71.9,
          71.9,
          71.9,
          71.9,
          71.9,
          71.9,
          71.9,
          71.9,
          71.9,
          71.9,
          71.8,
          71.8,
          71.8,
          71.8,
          71.8,
          71.8,
          71.8,
          71.8,
          71.8,
          71.8,
          71.8,
          71.8,
          71.8,
          71.8,
          71.7,
          71.7,
          71.7,
          71.7,
          71.7,
          71.7,
          71.7,
          71.7,
          71.7,
          71.7,
          71.7,
          71.7,
          71.7,
          71.7,
          71.6,
          71.6,
          71.6,
          71.6,
          71.6,
          71.6,
          71.6,
          71.6,
          71.6,
          71.6,
          71.6,
          71.6,
          71.6,
          71.6,
          71.5,
          71.5,
          71.5,
          71.5,
          71.5,
          71.5,
          71.5,
          71.5,
          71.5,
          71.5,
          71.5,
          71.5,
          71.5,
          71.5,
          71.5,
          71.4,
          71.4,
          71.4,
          71.4,
          71.4,
          71.4,
          71.4,
          71.4,
          71.4,
          71.4,
          71.4,
          71.4,
          71.4,
          71.4,
          71.4,
          71.3,
          71.3,
          71.3,
          71.3,
          71.3,
          71.3,
          71.3,
          71.3,
          71.3,
          71.3,
          71.3,
          71.3,
          71.3,
          71.3,
          71.2,
          71.2,
          71.2,
          71.2,
          71.2,
          71.2,
          71.2,
          71.2,
          71.2,
          71.2,
          71.2,
          71.2,
          71.2,
          71.2,
          71.2,
          71.2,
          71.1,
          71.1,
          71.1,
          71.1,
          71.1,
          71.1,
          71.1,
          71.1,
          71.1,
          71.1,
          71.1,
          71.1,
          71.1,
          71.1,
          71.1,
          71,
          71,
          71,
          71,
          71,
          71,
          71,
          71,
          71,
          71,
          71,
          71,
          71,
          71,
          71,
          70.9,
          70.9,
          70.9,
          70.9,
          70.9,
          70.9,
          70.9,
          70.9,
          70.9,
          70.9,
          70.9,
          70.9,
          70.9,
          70.9,
          70.9,
          70.9,
          70.8,
          70.8,
          70.8,
          70.8,
          70.8,
          70.8,
          70.8,
          70.8,
          70.8,
          70.8,
          70.8,
          70.8,
          70.8,
          70.8,
          70.8,
          70.8,
          70.7,
          70.7,
          70.7,
          70.7,
          70.7,
          70.7,
          70.7,
          70.7,
          70.7,
          70.7,
          70.7,
          70.7,
          70.7,
          70.7,
          70.7,
          70.7,
          70.6,
          70.6,
          70.6,
          70.6,
          70.6,
          70.6,
          70.6,
          70.6,
          70.6,
          70.6,
          70.6,
          70.6,
          70.6,
          70.6,
          70.6,
          70.6,
          70.6,
          70.5,
          70.5,
          70.5,
          70.5,
          70.5,
          70.5,
          70.5,
          70.5,
          70.5,
          70.5,
          70.5,
          70.5,
          70.5,
          70.5,
          70.5,
          70.5,
          70.4,
          70.4,
          70.4,
          70.4,
          70.4,
          70.4,
          70.4,
          70.4,
          70.4,
          70.4,
          70.4,
          70.4,
          70.4,
          70.4,
          70.4,
          70.4,
          70.4,
          70.3,
          70.3,
          70.3,
          70.3,
          70.3,
          70.3,
          70.3,
          70.3,
          70.3,
          70.3,
          70.3,
          70.3,
          70.3,
          70.3,
          70.3,
          70.3,
          70.3,
          70.2,
          70.2,
          70.2,
          70.2,
          70.2,
          70.2,
          70.2,
          70.2,
          70.2,
          70.2,
          70.2,
          70.2,
          70.2,
          70.2,
          70.2,
          70.2,
          70.2,
          70.2,
          70.1,
          70.1,
          70.1,
          70.1,
          70.1,
          70.1,
          70.1,
          70.1,
          70.1,
          70.1,
          70.1,
          70.1,
          70.1,
          70.1,
          70.1,
          70.1,
          70.1,
          70,
          70,
          70,
          70,
          70,
          70,
          70,
          70,
          70,
          70,
          70,
          70,
          70,
          70,
          70,
          70,
          70,
          70,
          69.9,
          69.9,
          69.9,
          69.9,
          69.9,
          69.9,
          69.9,
          69.9,
          69.9,
          69.9,
          69.9,
          69.9,
          69.9,
          69.9,
          69.9,
          69.9,
          69.9,
          69.9,
          69.8,
          69.8,
          69.8,
          69.8,
          69.8,
          69.8,
          69.8,
          69.8,
          69.8,
          69.8,
          69.8,
          69.8,
          69.8,
          69.8,
          69.8,
          69.8,
          69.8,
          69.8,
          69.7,
          69.7,
          69.7,
          69.7,
          69.7,
          69.7,
          69.7,
          69.7,
          69.7,
          69.7,
          69.7,
          69.7,
          69.7,
          69.7,
          69.7,
          69.7,
          69.7,
          69.7,
          69.7,
          69.6,
          69.6,
          69.6,
          69.6,
          69.6,
          69.6,
          69.6,
          69.6,
          69.6,
          69.6,
          69.6,
          69.6,
          69.6,
          69.6,
          69.6,
          69.6,
          69.6,
          69.6,
          69.5,
          69.5,
          69.5,
          69.5,
          69.5,
          69.5,
          69.5,
          69.5,
          69.5,
          69.5,
          69.5,
          69.5,
          69.5,
          69.5,
          69.5,
          69.5,
          69.5,
          69.5,
          69.5,
          69.4,
          69.4,
          69.4,
          69.4,
          69.4,
          69.4,
          69.4,
          69.4,
          69.4,
          69.4,
          69.4,
          69.4,
          69.4,
          69.4,
          69.4,
          69.4,
          69.4,
          69.4,
          69.4,
          69.4,
          69.3,
          69.3,
          69.3,
          69.3,
          69.3,
          69.3,
          69.3,
          69.3,
          69.3,
          69.3,
          69.3,
          69.3,
          69.3,
          69.3,
          69.3,
          69.3,
          69.3,
          69.3,
          69.3,
          69.2,
          69.2,
          69.2,
          69.2,
          69.2,
          69.2,
          69.2,
          69.2,
          69.2,
          69.2,
          69.2,
          69.2,
          69.2,
          69.2,
          69.2,
          69.2,
          69.2,
          69.2,
          69.2,
          69.2,
          69.1,
          69.1,
          69.1,
          69.1,
          69.1,
          69.1,
          69.1,
          69.1,
          69.1,
          69.1,
          69.1,
          69.1,
          69.1,
          69.1,
          69.1,
          69.1,
          69.1,
          69.1,
          69.1,
          69.1,
          69,
          69,
          69,
          69,
          69,
          69,
          69,
          69,
          69,
          69,
          69,
          69,
          69,
          69,
          69,
          69,
          69,
          69,
          69,
          69,
          68.9,
          68.9,
          68.9,
          68.9,
          68.9,
          68.9,
          68.9,
          68.9,
          68.9,
          68.9,
          68.9,
          68.9,
          68.9,
          68.9,
          68.9,
          68.9,
          68.9,
          68.9,
          68.9,
          68.9,
          68.8,
          68.8,
          68.8,
          68.8,
          68.8,
          68.8,
          68.8,
          68.8,
          68.8,
          68.8,
          68.8,
          68.8,
          68.8,
          68.8,
          68.8,
          68.8,
          68.8,
          68.8,
          68.8,
          68.8,
          68.8,
          68.7,
          68.7,
          68.7,
          68.7,
          68.7,
          68.7,
          68.7,
          68.7,
          68.7,
          68.7,
          68.7,
          68.7,
          68.7,
          68.7,
          68.7,
          68.7,
          68.7,
          68.7,
          68.7,
          68.7,
          68.7,
          68.6,
          68.6,
          68.6,
          68.6,
          68.6,
          68.6,
          68.6,
          68.6,
          68.6,
          68.6,
          68.6,
          68.6,
          68.6,
          68.6,
          68.6,
          68.6,
          68.6,
          68.6,
          68.6,
          68.6,
          68.6,
          68.5,
          68.5,
          68.5,
          68.5,
          68.5,
          68.5,
          68.5,
          68.5,
          68.5,
          68.5,
          68.5,
          68.5,
          68.5,
          68.5,
          68.5,
          68.5,
          68.5,
          68.5,
          68.5,
          68.5,
          68.5,
          68.5,
          68.4,
          68.4,
          68.4,
          68.4,
          68.4,
          68.4,
          68.4,
          68.4,
          68.4,
          68.4,
          68.4,
          68.4,
          68.4,
          68.4,
          68.4,
          68.4,
          68.4,
          68.4,
          68.4,
          68.4,
          68.4,
          68.4,
          68.3,
          68.3,
          68.3,
          68.3,
          68.3,
          68.3,
          68.3,
          68.3,
          68.3,
          68.3,
          68.3,
          68.3,
          68.3,
          68.3,
          68.3,
          68.3,
          68.3,
          68.3,
          68.3,
          68.3,
          68.3,
          68.3,
          68.2,
          68.2,
          68.2,
          68.2,
          68.2,
          68.2,
          68.2,
          68.2,
          68.2,
          68.2,
          68.2,
          68.2,
          68.2,
          68.2,
          68.2,
          68.2,
          68.2,
          68.2,
          68.2,
          68.2,
          68.2,
          68.2,
          68.1,
          68.1,
          68.1,
          68.1,
          68.1,
          68.1,
          68.1,
          68.1,
          68.1,
          68.1,
          68.1,
          68.1,
          68.1,
          68.1,
          68.1,
          68.1,
          68.1,
          68.1,
          68.1,
          68.1,
          68.1,
          68.1,
          68.1,
          68,
          68,
          68,
          68,
          68,
          68,
          68,
          68,
          68,
          68,
          68,
          68,
          68,
          68,
          68,
          68,
          68,
          68,
          68,
          68,
          68,
          68,
          67.9,
          67.9,
          67.9,
          67.9,
          67.9,
          67.9,
          67.9,
          67.9,
          67.9,
          67.9,
          67.9,
          67.9,
          67.9,
          67.9,
          67.9,
          67.9,
          67.9,
          67.9,
          67.9,
          67.9,
          67.9,
          67.9,
          67.9,
          67.9,
          67.8,
          67.8,
          67.8,
          67.8,
          67.8,
          67.8,
          67.8,
          67.8,
          67.8,
          67.8,
          67.8,
          67.8,
          67.8,
          67.8,
          67.8,
          67.8,
          67.8,
          67.8,
          67.8,
          67.8,
          67.8,
          67.8,
          67.8,
          67.7,
          67.7,
          67.7,
          67.7,
          67.7,
          67.7,
          67.7,
          67.7,
          67.7,
          67.7,
          67.7,
          67.7,
          67.7,
          67.7,
          67.7,
          67.7,
          67.7,
          67.7,
          67.7,
          67.7,
          67.7,
          67.7,
          67.7,
          67.7,
          67.6,
          67.6,
          67.6,
          67.6,
          67.6,
          67.6,
          67.6,
          67.6,
          67.6,
          67.6,
          67.6,
          67.6,
          67.6,
          67.6,
          67.6,
          67.6,
          67.6,
          67.6,
          67.6,
          67.6,
          67.6,
          67.6,
          67.6,
          67.6,
          67.5,
          67.5,
          67.5,
          67.5,
          67.5,
          67.5,
          67.5,
          67.5,
          67.5,
          67.5,
          67.5,
          67.5,
          67.5,
          67.5,
          67.5,
          67.5,
          67.5,
          67.5,
          67.5,
          67.5,
          67.5,
          67.5,
          67.5,
          67.5,
          67.4,
          67.4,
          67.4,
          67.4,
          67.4,
          67.4,
          67.4,
          67.4,
          67.4,
          67.4,
          67.4,
          67.4,
          67.4,
          67.4,
          67.4,
          67.4,
          67.4,
          67.4,
          67.4,
          67.4,
          67.4,
          67.4,
          67.4,
          67.4,
          67.3,
          67.3,
          67.3,
          67.3,
          67.3,
          67.3,
          67.3,
          67.3,
          67.3,
          67.3,
          67.3,
          67.3,
          67.3,
          67.3,
          67.3,
          67.3,
          67.3,
          67.3,
          67.3,
          67.3,
          67.3,
          67.3,
          67.3,
          67.3,
          67.3,
          67.2,
          67.2,
          67.2,
          67.2,
          67.2,
          67.2,
          67.2,
          67.2,
          67.2,
          67.2,
          67.2,
          67.2,
          67.2,
          67.2,
          67.2,
          67.2,
          67.2,
          67.2,
          67.2,
          67.2,
          67.2,
          67.2,
          67.2,
          67.2,
          67.2,
          67.1,
          67.1,
          67.1,
          67.1,
          67.1,
          67.1,
          67.1,
          67.1,
          67.1,
          67.1,
          67.1,
          67.1,
          67.1,
          67.1,
          67.1,
          67.1,
          67.1,
          67.1,
          67.1,
          67.1,
          67.1,
          67.1,
          67.1,
          67.1,
          67.1,
          67,
          67,
          67,
          67,
          67,
          67,
          67,
          67,
          67,
          67,
          67,
          67,
          67,
          67,
          67,
          67,
          67,
          67,
          67,
          67,
          67,
          67,
          67,
          67,
          67,
          67,
          66.9,
          66.9,
          66.9,
          66.9,
          66.9,
          66.9,
          66.9,
          66.9,
          66.9,
          66.9,
          66.9,
          66.9,
          66.9,
          66.9,
          66.9,
          66.9,
          66.9,
          66.9,
          66.9,
          66.9,
          66.9,
          66.9,
          66.9,
          66.9,
          66.9,
          66.9,
          66.8,
          66.8,
          66.8,
          66.8,
          66.8,
          66.8,
          66.8,
          66.8,
          66.8,
          66.8,
          66.8,
          66.8,
          66.8,
          66.8,
          66.8,
          66.8,
          66.8,
          66.8,
          66.8,
          66.8,
          66.8,
          66.8,
          66.8,
          66.8,
          66.8,
          66.8,
          66.7,
          66.7,
          66.7,
          66.7,
          66.7,
          66.7,
          66.7,
          66.7,
          66.7,
          66.7,
          66.7,
          66.7,
          66.7,
          66.7,
          66.7,
          66.7,
          66.7,
          66.7,
          66.7,
          66.7,
          66.7,
          66.7,
          66.7,
          66.7,
          66.7,
          66.7,
          66.7,
          66.6,
          66.6,
          66.6,
          66.6,
          66.6,
          66.6,
          66.6,
          66.6,
          66.6,
          66.6,
          66.6,
          66.6,
          66.6,
          66.6,
          66.6,
          66.6,
          66.6,
          66.6,
          66.6,
          66.6,
          66.6,
          66.6,
          66.6,
          66.6,
          66.6,
          66.6,
          66.6,
          66.5,
          66.5,
          66.5,
          66.5,
          66.5,
          66.5,
          66.5,
          66.5,
          66.5,
          66.5,
          66.5,
          66.5,
          66.5,
          66.5,
          66.5,
          66.5,
          66.5,
          66.5,
          66.5,
          66.5,
          66.5,
          66.5,
          66.5,
          66.5,
          66.5,
          66.5,
          66.5,
          66.4,
          66.4,
          66.4,
          66.4,
          66.4,
          66.4,
          66.4,
          66.4,
          66.4,
          66.4,
          66.4,
          66.4,
          66.4,
          66.4,
          66.4,
          66.4,
          66.4,
          66.4,
          66.4,
          66.4,
          66.4,
          66.4,
          66.4,
          66.4,
          66.4,
          66.4,
          66.4,
          66.3,
          66.3,
          66.3,
          66.3,
          66.3,
          66.3,
          66.3,
          66.3,
          66.3,
          66.3,
          66.3,
          66.3,
          66.3,
          66.3,
          66.3,
          66.3,
          66.3,
          66.3,
          66.3,
          66.3,
          66.3,
          66.3,
          66.3,
          66.3,
          66.3,
          66.3,
          66.3,
          66.3,
          66.2,
          66.2,
          66.2,
          66.2,
          66.2,
          66.2,
          66.2,
          66.2,
          66.2,
          66.2,
          66.2,
          66.2,
          66.2,
          66.2,
          66.2,
          66.2,
          66.2,
          66.2,
          66.2,
          66.2,
          66.2,
          66.2,
          66.2,
          66.2,
          66.2,
          66.2,
          66.2,
          66.2,
          66.1,
          66.1,
          66.1,
          66.1,
          66.1,
          66.1,
          66.1,
          66.1,
          66.1,
          66.1,
          66.1,
          66.1,
          66.1,
          66.1,
          66.1,
          66.1,
          66.1,
          66.1,
          66.1,
          66.1,
          66.1,
          66.1,
          66.1,
          66.1,
          66.1,
          66.1,
          66.1,
          66.1,
          66,
          66,
          66,
          66,
          66,
          66,
          66,
          66,
          66,
          66,
          66,
          66,
          66,
          66,
          66,
          66,
          66,
          66,
          66,
          66,
          66,
          66,
          66,
          66,
          66,
          66
         ],
         "xaxis": "x",
         "yaxis": "y"
        }
       ],
       "layout": {
        "barmode": "relative",
        "legend": {
         "tracegroupgap": 0
        },
        "margin": {
         "t": 60
        },
        "template": {
         "data": {
          "bar": [
           {
            "error_x": {
             "color": "#2a3f5f"
            },
            "error_y": {
             "color": "#2a3f5f"
            },
            "marker": {
             "line": {
              "color": "#E5ECF6",
              "width": 0.5
             },
             "pattern": {
              "fillmode": "overlay",
              "size": 10,
              "solidity": 0.2
             }
            },
            "type": "bar"
           }
          ],
          "barpolar": [
           {
            "marker": {
             "line": {
              "color": "#E5ECF6",
              "width": 0.5
             },
             "pattern": {
              "fillmode": "overlay",
              "size": 10,
              "solidity": 0.2
             }
            },
            "type": "barpolar"
           }
          ],
          "carpet": [
           {
            "aaxis": {
             "endlinecolor": "#2a3f5f",
             "gridcolor": "white",
             "linecolor": "white",
             "minorgridcolor": "white",
             "startlinecolor": "#2a3f5f"
            },
            "baxis": {
             "endlinecolor": "#2a3f5f",
             "gridcolor": "white",
             "linecolor": "white",
             "minorgridcolor": "white",
             "startlinecolor": "#2a3f5f"
            },
            "type": "carpet"
           }
          ],
          "choropleth": [
           {
            "colorbar": {
             "outlinewidth": 0,
             "ticks": ""
            },
            "type": "choropleth"
           }
          ],
          "contour": [
           {
            "colorbar": {
             "outlinewidth": 0,
             "ticks": ""
            },
            "colorscale": [
             [
              0,
              "#0d0887"
             ],
             [
              0.1111111111111111,
              "#46039f"
             ],
             [
              0.2222222222222222,
              "#7201a8"
             ],
             [
              0.3333333333333333,
              "#9c179e"
             ],
             [
              0.4444444444444444,
              "#bd3786"
             ],
             [
              0.5555555555555556,
              "#d8576b"
             ],
             [
              0.6666666666666666,
              "#ed7953"
             ],
             [
              0.7777777777777778,
              "#fb9f3a"
             ],
             [
              0.8888888888888888,
              "#fdca26"
             ],
             [
              1,
              "#f0f921"
             ]
            ],
            "type": "contour"
           }
          ],
          "contourcarpet": [
           {
            "colorbar": {
             "outlinewidth": 0,
             "ticks": ""
            },
            "type": "contourcarpet"
           }
          ],
          "heatmap": [
           {
            "colorbar": {
             "outlinewidth": 0,
             "ticks": ""
            },
            "colorscale": [
             [
              0,
              "#0d0887"
             ],
             [
              0.1111111111111111,
              "#46039f"
             ],
             [
              0.2222222222222222,
              "#7201a8"
             ],
             [
              0.3333333333333333,
              "#9c179e"
             ],
             [
              0.4444444444444444,
              "#bd3786"
             ],
             [
              0.5555555555555556,
              "#d8576b"
             ],
             [
              0.6666666666666666,
              "#ed7953"
             ],
             [
              0.7777777777777778,
              "#fb9f3a"
             ],
             [
              0.8888888888888888,
              "#fdca26"
             ],
             [
              1,
              "#f0f921"
             ]
            ],
            "type": "heatmap"
           }
          ],
          "heatmapgl": [
           {
            "colorbar": {
             "outlinewidth": 0,
             "ticks": ""
            },
            "colorscale": [
             [
              0,
              "#0d0887"
             ],
             [
              0.1111111111111111,
              "#46039f"
             ],
             [
              0.2222222222222222,
              "#7201a8"
             ],
             [
              0.3333333333333333,
              "#9c179e"
             ],
             [
              0.4444444444444444,
              "#bd3786"
             ],
             [
              0.5555555555555556,
              "#d8576b"
             ],
             [
              0.6666666666666666,
              "#ed7953"
             ],
             [
              0.7777777777777778,
              "#fb9f3a"
             ],
             [
              0.8888888888888888,
              "#fdca26"
             ],
             [
              1,
              "#f0f921"
             ]
            ],
            "type": "heatmapgl"
           }
          ],
          "histogram": [
           {
            "marker": {
             "pattern": {
              "fillmode": "overlay",
              "size": 10,
              "solidity": 0.2
             }
            },
            "type": "histogram"
           }
          ],
          "histogram2d": [
           {
            "colorbar": {
             "outlinewidth": 0,
             "ticks": ""
            },
            "colorscale": [
             [
              0,
              "#0d0887"
             ],
             [
              0.1111111111111111,
              "#46039f"
             ],
             [
              0.2222222222222222,
              "#7201a8"
             ],
             [
              0.3333333333333333,
              "#9c179e"
             ],
             [
              0.4444444444444444,
              "#bd3786"
             ],
             [
              0.5555555555555556,
              "#d8576b"
             ],
             [
              0.6666666666666666,
              "#ed7953"
             ],
             [
              0.7777777777777778,
              "#fb9f3a"
             ],
             [
              0.8888888888888888,
              "#fdca26"
             ],
             [
              1,
              "#f0f921"
             ]
            ],
            "type": "histogram2d"
           }
          ],
          "histogram2dcontour": [
           {
            "colorbar": {
             "outlinewidth": 0,
             "ticks": ""
            },
            "colorscale": [
             [
              0,
              "#0d0887"
             ],
             [
              0.1111111111111111,
              "#46039f"
             ],
             [
              0.2222222222222222,
              "#7201a8"
             ],
             [
              0.3333333333333333,
              "#9c179e"
             ],
             [
              0.4444444444444444,
              "#bd3786"
             ],
             [
              0.5555555555555556,
              "#d8576b"
             ],
             [
              0.6666666666666666,
              "#ed7953"
             ],
             [
              0.7777777777777778,
              "#fb9f3a"
             ],
             [
              0.8888888888888888,
              "#fdca26"
             ],
             [
              1,
              "#f0f921"
             ]
            ],
            "type": "histogram2dcontour"
           }
          ],
          "mesh3d": [
           {
            "colorbar": {
             "outlinewidth": 0,
             "ticks": ""
            },
            "type": "mesh3d"
           }
          ],
          "parcoords": [
           {
            "line": {
             "colorbar": {
              "outlinewidth": 0,
              "ticks": ""
             }
            },
            "type": "parcoords"
           }
          ],
          "pie": [
           {
            "automargin": true,
            "type": "pie"
           }
          ],
          "scatter": [
           {
            "fillpattern": {
             "fillmode": "overlay",
             "size": 10,
             "solidity": 0.2
            },
            "type": "scatter"
           }
          ],
          "scatter3d": [
           {
            "line": {
             "colorbar": {
              "outlinewidth": 0,
              "ticks": ""
             }
            },
            "marker": {
             "colorbar": {
              "outlinewidth": 0,
              "ticks": ""
             }
            },
            "type": "scatter3d"
           }
          ],
          "scattercarpet": [
           {
            "marker": {
             "colorbar": {
              "outlinewidth": 0,
              "ticks": ""
             }
            },
            "type": "scattercarpet"
           }
          ],
          "scattergeo": [
           {
            "marker": {
             "colorbar": {
              "outlinewidth": 0,
              "ticks": ""
             }
            },
            "type": "scattergeo"
           }
          ],
          "scattergl": [
           {
            "marker": {
             "colorbar": {
              "outlinewidth": 0,
              "ticks": ""
             }
            },
            "type": "scattergl"
           }
          ],
          "scattermapbox": [
           {
            "marker": {
             "colorbar": {
              "outlinewidth": 0,
              "ticks": ""
             }
            },
            "type": "scattermapbox"
           }
          ],
          "scatterpolar": [
           {
            "marker": {
             "colorbar": {
              "outlinewidth": 0,
              "ticks": ""
             }
            },
            "type": "scatterpolar"
           }
          ],
          "scatterpolargl": [
           {
            "marker": {
             "colorbar": {
              "outlinewidth": 0,
              "ticks": ""
             }
            },
            "type": "scatterpolargl"
           }
          ],
          "scatterternary": [
           {
            "marker": {
             "colorbar": {
              "outlinewidth": 0,
              "ticks": ""
             }
            },
            "type": "scatterternary"
           }
          ],
          "surface": [
           {
            "colorbar": {
             "outlinewidth": 0,
             "ticks": ""
            },
            "colorscale": [
             [
              0,
              "#0d0887"
             ],
             [
              0.1111111111111111,
              "#46039f"
             ],
             [
              0.2222222222222222,
              "#7201a8"
             ],
             [
              0.3333333333333333,
              "#9c179e"
             ],
             [
              0.4444444444444444,
              "#bd3786"
             ],
             [
              0.5555555555555556,
              "#d8576b"
             ],
             [
              0.6666666666666666,
              "#ed7953"
             ],
             [
              0.7777777777777778,
              "#fb9f3a"
             ],
             [
              0.8888888888888888,
              "#fdca26"
             ],
             [
              1,
              "#f0f921"
             ]
            ],
            "type": "surface"
           }
          ],
          "table": [
           {
            "cells": {
             "fill": {
              "color": "#EBF0F8"
             },
             "line": {
              "color": "white"
             }
            },
            "header": {
             "fill": {
              "color": "#C8D4E3"
             },
             "line": {
              "color": "white"
             }
            },
            "type": "table"
           }
          ]
         },
         "layout": {
          "annotationdefaults": {
           "arrowcolor": "#2a3f5f",
           "arrowhead": 0,
           "arrowwidth": 1
          },
          "autotypenumbers": "strict",
          "coloraxis": {
           "colorbar": {
            "outlinewidth": 0,
            "ticks": ""
           }
          },
          "colorscale": {
           "diverging": [
            [
             0,
             "#8e0152"
            ],
            [
             0.1,
             "#c51b7d"
            ],
            [
             0.2,
             "#de77ae"
            ],
            [
             0.3,
             "#f1b6da"
            ],
            [
             0.4,
             "#fde0ef"
            ],
            [
             0.5,
             "#f7f7f7"
            ],
            [
             0.6,
             "#e6f5d0"
            ],
            [
             0.7,
             "#b8e186"
            ],
            [
             0.8,
             "#7fbc41"
            ],
            [
             0.9,
             "#4d9221"
            ],
            [
             1,
             "#276419"
            ]
           ],
           "sequential": [
            [
             0,
             "#0d0887"
            ],
            [
             0.1111111111111111,
             "#46039f"
            ],
            [
             0.2222222222222222,
             "#7201a8"
            ],
            [
             0.3333333333333333,
             "#9c179e"
            ],
            [
             0.4444444444444444,
             "#bd3786"
            ],
            [
             0.5555555555555556,
             "#d8576b"
            ],
            [
             0.6666666666666666,
             "#ed7953"
            ],
            [
             0.7777777777777778,
             "#fb9f3a"
            ],
            [
             0.8888888888888888,
             "#fdca26"
            ],
            [
             1,
             "#f0f921"
            ]
           ],
           "sequentialminus": [
            [
             0,
             "#0d0887"
            ],
            [
             0.1111111111111111,
             "#46039f"
            ],
            [
             0.2222222222222222,
             "#7201a8"
            ],
            [
             0.3333333333333333,
             "#9c179e"
            ],
            [
             0.4444444444444444,
             "#bd3786"
            ],
            [
             0.5555555555555556,
             "#d8576b"
            ],
            [
             0.6666666666666666,
             "#ed7953"
            ],
            [
             0.7777777777777778,
             "#fb9f3a"
            ],
            [
             0.8888888888888888,
             "#fdca26"
            ],
            [
             1,
             "#f0f921"
            ]
           ]
          },
          "colorway": [
           "#636efa",
           "#EF553B",
           "#00cc96",
           "#ab63fa",
           "#FFA15A",
           "#19d3f3",
           "#FF6692",
           "#B6E880",
           "#FF97FF",
           "#FECB52"
          ],
          "font": {
           "color": "#2a3f5f"
          },
          "geo": {
           "bgcolor": "white",
           "lakecolor": "white",
           "landcolor": "#E5ECF6",
           "showlakes": true,
           "showland": true,
           "subunitcolor": "white"
          },
          "hoverlabel": {
           "align": "left"
          },
          "hovermode": "closest",
          "mapbox": {
           "style": "light"
          },
          "paper_bgcolor": "white",
          "plot_bgcolor": "#E5ECF6",
          "polar": {
           "angularaxis": {
            "gridcolor": "white",
            "linecolor": "white",
            "ticks": ""
           },
           "bgcolor": "#E5ECF6",
           "radialaxis": {
            "gridcolor": "white",
            "linecolor": "white",
            "ticks": ""
           }
          },
          "scene": {
           "xaxis": {
            "backgroundcolor": "#E5ECF6",
            "gridcolor": "white",
            "gridwidth": 2,
            "linecolor": "white",
            "showbackground": true,
            "ticks": "",
            "zerolinecolor": "white"
           },
           "yaxis": {
            "backgroundcolor": "#E5ECF6",
            "gridcolor": "white",
            "gridwidth": 2,
            "linecolor": "white",
            "showbackground": true,
            "ticks": "",
            "zerolinecolor": "white"
           },
           "zaxis": {
            "backgroundcolor": "#E5ECF6",
            "gridcolor": "white",
            "gridwidth": 2,
            "linecolor": "white",
            "showbackground": true,
            "ticks": "",
            "zerolinecolor": "white"
           }
          },
          "shapedefaults": {
           "line": {
            "color": "#2a3f5f"
           }
          },
          "ternary": {
           "aaxis": {
            "gridcolor": "white",
            "linecolor": "white",
            "ticks": ""
           },
           "baxis": {
            "gridcolor": "white",
            "linecolor": "white",
            "ticks": ""
           },
           "bgcolor": "#E5ECF6",
           "caxis": {
            "gridcolor": "white",
            "linecolor": "white",
            "ticks": ""
           }
          },
          "title": {
           "x": 0.05
          },
          "xaxis": {
           "automargin": true,
           "gridcolor": "white",
           "linecolor": "white",
           "ticks": "",
           "title": {
            "standoff": 15
           },
           "zerolinecolor": "white",
           "zerolinewidth": 2
          },
          "yaxis": {
           "automargin": true,
           "gridcolor": "white",
           "linecolor": "white",
           "ticks": "",
           "title": {
            "standoff": 15
           },
           "zerolinecolor": "white",
           "zerolinewidth": 2
          }
         }
        },
        "xaxis": {
         "anchor": "y",
         "domain": [
          0,
          1
         ],
         "title": {
          "text": "Total Score"
         }
        },
        "yaxis": {
         "anchor": "x",
         "domain": [
          0,
          1
         ],
         "title": {
          "text": "count"
         }
        }
       }
      }
     },
     "metadata": {},
     "output_type": "display_data"
    }
   ],
   "source": [
    "fig = px.histogram(Uni_df['CWUR'], x=\"Total Score\",color_discrete_sequence=px.colors.qualitative.Pastel)\n",
    "fig.show()"
   ]
  },
  {
   "cell_type": "code",
   "execution_count": 400,
   "metadata": {},
   "outputs": [
    {
     "data": {
      "application/vnd.plotly.v1+json": {
       "config": {
        "plotlyServerURL": "https://plot.ly"
       },
       "data": [
        {
         "alignmentgroup": "True",
         "bingroup": "x",
         "hovertemplate": "Total Score=%{x}<br>count=%{y}<extra></extra>",
         "legendgroup": "",
         "marker": {
          "color": "rgb(102, 197, 204)",
          "pattern": {
           "shape": ""
          }
         },
         "name": "",
         "offsetgroup": "",
         "orientation": "v",
         "showlegend": false,
         "type": "histogram",
         "x": [
          100,
          76.8,
          70.1,
          69.6,
          65.3,
          60,
          58.7,
          57.2,
          56.1,
          55.1,
          53.2,
          50.4,
          50.2,
          47.9,
          47.5,
          47,
          46.8,
          46.6,
          45.9,
          45.6,
          45.5,
          40.5,
          40.3,
          39.8,
          39.5,
          39.3,
          39.1,
          39,
          38,
          37.3,
          37.2,
          36.6,
          36.1,
          35.9,
          35.4,
          34.7,
          34.6,
          34.5,
          34.4,
          34.3,
          34.2,
          34.2,
          33.9,
          33.8,
          33.8,
          33.8,
          33.6,
          33.4,
          33.3,
          33.1,
          33,
          32.9,
          32.6,
          32,
          32,
          31.7,
          31.5,
          31.5,
          31.4,
          30.8,
          30.7,
          30.3,
          30.3,
          30.2,
          30.2,
          30.1,
          30,
          30,
          29.7,
          29.5,
          29.3,
          29.3,
          29.1,
          28.9,
          28.4,
          28.1,
          27.9,
          27.7,
          27.5,
          27.5,
          27.4,
          27.3,
          27.2,
          27.2,
          27.2,
          27.2,
          27,
          26.9,
          26.8,
          26.7,
          26.7,
          26.5,
          26.5,
          26.4,
          26.3,
          26.1,
          26.1,
          25.9,
          25.8,
          25.8
         ],
         "xaxis": "x",
         "yaxis": "y"
        }
       ],
       "layout": {
        "barmode": "relative",
        "legend": {
         "tracegroupgap": 0
        },
        "margin": {
         "t": 60
        },
        "template": {
         "data": {
          "bar": [
           {
            "error_x": {
             "color": "#2a3f5f"
            },
            "error_y": {
             "color": "#2a3f5f"
            },
            "marker": {
             "line": {
              "color": "#E5ECF6",
              "width": 0.5
             },
             "pattern": {
              "fillmode": "overlay",
              "size": 10,
              "solidity": 0.2
             }
            },
            "type": "bar"
           }
          ],
          "barpolar": [
           {
            "marker": {
             "line": {
              "color": "#E5ECF6",
              "width": 0.5
             },
             "pattern": {
              "fillmode": "overlay",
              "size": 10,
              "solidity": 0.2
             }
            },
            "type": "barpolar"
           }
          ],
          "carpet": [
           {
            "aaxis": {
             "endlinecolor": "#2a3f5f",
             "gridcolor": "white",
             "linecolor": "white",
             "minorgridcolor": "white",
             "startlinecolor": "#2a3f5f"
            },
            "baxis": {
             "endlinecolor": "#2a3f5f",
             "gridcolor": "white",
             "linecolor": "white",
             "minorgridcolor": "white",
             "startlinecolor": "#2a3f5f"
            },
            "type": "carpet"
           }
          ],
          "choropleth": [
           {
            "colorbar": {
             "outlinewidth": 0,
             "ticks": ""
            },
            "type": "choropleth"
           }
          ],
          "contour": [
           {
            "colorbar": {
             "outlinewidth": 0,
             "ticks": ""
            },
            "colorscale": [
             [
              0,
              "#0d0887"
             ],
             [
              0.1111111111111111,
              "#46039f"
             ],
             [
              0.2222222222222222,
              "#7201a8"
             ],
             [
              0.3333333333333333,
              "#9c179e"
             ],
             [
              0.4444444444444444,
              "#bd3786"
             ],
             [
              0.5555555555555556,
              "#d8576b"
             ],
             [
              0.6666666666666666,
              "#ed7953"
             ],
             [
              0.7777777777777778,
              "#fb9f3a"
             ],
             [
              0.8888888888888888,
              "#fdca26"
             ],
             [
              1,
              "#f0f921"
             ]
            ],
            "type": "contour"
           }
          ],
          "contourcarpet": [
           {
            "colorbar": {
             "outlinewidth": 0,
             "ticks": ""
            },
            "type": "contourcarpet"
           }
          ],
          "heatmap": [
           {
            "colorbar": {
             "outlinewidth": 0,
             "ticks": ""
            },
            "colorscale": [
             [
              0,
              "#0d0887"
             ],
             [
              0.1111111111111111,
              "#46039f"
             ],
             [
              0.2222222222222222,
              "#7201a8"
             ],
             [
              0.3333333333333333,
              "#9c179e"
             ],
             [
              0.4444444444444444,
              "#bd3786"
             ],
             [
              0.5555555555555556,
              "#d8576b"
             ],
             [
              0.6666666666666666,
              "#ed7953"
             ],
             [
              0.7777777777777778,
              "#fb9f3a"
             ],
             [
              0.8888888888888888,
              "#fdca26"
             ],
             [
              1,
              "#f0f921"
             ]
            ],
            "type": "heatmap"
           }
          ],
          "heatmapgl": [
           {
            "colorbar": {
             "outlinewidth": 0,
             "ticks": ""
            },
            "colorscale": [
             [
              0,
              "#0d0887"
             ],
             [
              0.1111111111111111,
              "#46039f"
             ],
             [
              0.2222222222222222,
              "#7201a8"
             ],
             [
              0.3333333333333333,
              "#9c179e"
             ],
             [
              0.4444444444444444,
              "#bd3786"
             ],
             [
              0.5555555555555556,
              "#d8576b"
             ],
             [
              0.6666666666666666,
              "#ed7953"
             ],
             [
              0.7777777777777778,
              "#fb9f3a"
             ],
             [
              0.8888888888888888,
              "#fdca26"
             ],
             [
              1,
              "#f0f921"
             ]
            ],
            "type": "heatmapgl"
           }
          ],
          "histogram": [
           {
            "marker": {
             "pattern": {
              "fillmode": "overlay",
              "size": 10,
              "solidity": 0.2
             }
            },
            "type": "histogram"
           }
          ],
          "histogram2d": [
           {
            "colorbar": {
             "outlinewidth": 0,
             "ticks": ""
            },
            "colorscale": [
             [
              0,
              "#0d0887"
             ],
             [
              0.1111111111111111,
              "#46039f"
             ],
             [
              0.2222222222222222,
              "#7201a8"
             ],
             [
              0.3333333333333333,
              "#9c179e"
             ],
             [
              0.4444444444444444,
              "#bd3786"
             ],
             [
              0.5555555555555556,
              "#d8576b"
             ],
             [
              0.6666666666666666,
              "#ed7953"
             ],
             [
              0.7777777777777778,
              "#fb9f3a"
             ],
             [
              0.8888888888888888,
              "#fdca26"
             ],
             [
              1,
              "#f0f921"
             ]
            ],
            "type": "histogram2d"
           }
          ],
          "histogram2dcontour": [
           {
            "colorbar": {
             "outlinewidth": 0,
             "ticks": ""
            },
            "colorscale": [
             [
              0,
              "#0d0887"
             ],
             [
              0.1111111111111111,
              "#46039f"
             ],
             [
              0.2222222222222222,
              "#7201a8"
             ],
             [
              0.3333333333333333,
              "#9c179e"
             ],
             [
              0.4444444444444444,
              "#bd3786"
             ],
             [
              0.5555555555555556,
              "#d8576b"
             ],
             [
              0.6666666666666666,
              "#ed7953"
             ],
             [
              0.7777777777777778,
              "#fb9f3a"
             ],
             [
              0.8888888888888888,
              "#fdca26"
             ],
             [
              1,
              "#f0f921"
             ]
            ],
            "type": "histogram2dcontour"
           }
          ],
          "mesh3d": [
           {
            "colorbar": {
             "outlinewidth": 0,
             "ticks": ""
            },
            "type": "mesh3d"
           }
          ],
          "parcoords": [
           {
            "line": {
             "colorbar": {
              "outlinewidth": 0,
              "ticks": ""
             }
            },
            "type": "parcoords"
           }
          ],
          "pie": [
           {
            "automargin": true,
            "type": "pie"
           }
          ],
          "scatter": [
           {
            "fillpattern": {
             "fillmode": "overlay",
             "size": 10,
             "solidity": 0.2
            },
            "type": "scatter"
           }
          ],
          "scatter3d": [
           {
            "line": {
             "colorbar": {
              "outlinewidth": 0,
              "ticks": ""
             }
            },
            "marker": {
             "colorbar": {
              "outlinewidth": 0,
              "ticks": ""
             }
            },
            "type": "scatter3d"
           }
          ],
          "scattercarpet": [
           {
            "marker": {
             "colorbar": {
              "outlinewidth": 0,
              "ticks": ""
             }
            },
            "type": "scattercarpet"
           }
          ],
          "scattergeo": [
           {
            "marker": {
             "colorbar": {
              "outlinewidth": 0,
              "ticks": ""
             }
            },
            "type": "scattergeo"
           }
          ],
          "scattergl": [
           {
            "marker": {
             "colorbar": {
              "outlinewidth": 0,
              "ticks": ""
             }
            },
            "type": "scattergl"
           }
          ],
          "scattermapbox": [
           {
            "marker": {
             "colorbar": {
              "outlinewidth": 0,
              "ticks": ""
             }
            },
            "type": "scattermapbox"
           }
          ],
          "scatterpolar": [
           {
            "marker": {
             "colorbar": {
              "outlinewidth": 0,
              "ticks": ""
             }
            },
            "type": "scatterpolar"
           }
          ],
          "scatterpolargl": [
           {
            "marker": {
             "colorbar": {
              "outlinewidth": 0,
              "ticks": ""
             }
            },
            "type": "scatterpolargl"
           }
          ],
          "scatterternary": [
           {
            "marker": {
             "colorbar": {
              "outlinewidth": 0,
              "ticks": ""
             }
            },
            "type": "scatterternary"
           }
          ],
          "surface": [
           {
            "colorbar": {
             "outlinewidth": 0,
             "ticks": ""
            },
            "colorscale": [
             [
              0,
              "#0d0887"
             ],
             [
              0.1111111111111111,
              "#46039f"
             ],
             [
              0.2222222222222222,
              "#7201a8"
             ],
             [
              0.3333333333333333,
              "#9c179e"
             ],
             [
              0.4444444444444444,
              "#bd3786"
             ],
             [
              0.5555555555555556,
              "#d8576b"
             ],
             [
              0.6666666666666666,
              "#ed7953"
             ],
             [
              0.7777777777777778,
              "#fb9f3a"
             ],
             [
              0.8888888888888888,
              "#fdca26"
             ],
             [
              1,
              "#f0f921"
             ]
            ],
            "type": "surface"
           }
          ],
          "table": [
           {
            "cells": {
             "fill": {
              "color": "#EBF0F8"
             },
             "line": {
              "color": "white"
             }
            },
            "header": {
             "fill": {
              "color": "#C8D4E3"
             },
             "line": {
              "color": "white"
             }
            },
            "type": "table"
           }
          ]
         },
         "layout": {
          "annotationdefaults": {
           "arrowcolor": "#2a3f5f",
           "arrowhead": 0,
           "arrowwidth": 1
          },
          "autotypenumbers": "strict",
          "coloraxis": {
           "colorbar": {
            "outlinewidth": 0,
            "ticks": ""
           }
          },
          "colorscale": {
           "diverging": [
            [
             0,
             "#8e0152"
            ],
            [
             0.1,
             "#c51b7d"
            ],
            [
             0.2,
             "#de77ae"
            ],
            [
             0.3,
             "#f1b6da"
            ],
            [
             0.4,
             "#fde0ef"
            ],
            [
             0.5,
             "#f7f7f7"
            ],
            [
             0.6,
             "#e6f5d0"
            ],
            [
             0.7,
             "#b8e186"
            ],
            [
             0.8,
             "#7fbc41"
            ],
            [
             0.9,
             "#4d9221"
            ],
            [
             1,
             "#276419"
            ]
           ],
           "sequential": [
            [
             0,
             "#0d0887"
            ],
            [
             0.1111111111111111,
             "#46039f"
            ],
            [
             0.2222222222222222,
             "#7201a8"
            ],
            [
             0.3333333333333333,
             "#9c179e"
            ],
            [
             0.4444444444444444,
             "#bd3786"
            ],
            [
             0.5555555555555556,
             "#d8576b"
            ],
            [
             0.6666666666666666,
             "#ed7953"
            ],
            [
             0.7777777777777778,
             "#fb9f3a"
            ],
            [
             0.8888888888888888,
             "#fdca26"
            ],
            [
             1,
             "#f0f921"
            ]
           ],
           "sequentialminus": [
            [
             0,
             "#0d0887"
            ],
            [
             0.1111111111111111,
             "#46039f"
            ],
            [
             0.2222222222222222,
             "#7201a8"
            ],
            [
             0.3333333333333333,
             "#9c179e"
            ],
            [
             0.4444444444444444,
             "#bd3786"
            ],
            [
             0.5555555555555556,
             "#d8576b"
            ],
            [
             0.6666666666666666,
             "#ed7953"
            ],
            [
             0.7777777777777778,
             "#fb9f3a"
            ],
            [
             0.8888888888888888,
             "#fdca26"
            ],
            [
             1,
             "#f0f921"
            ]
           ]
          },
          "colorway": [
           "#636efa",
           "#EF553B",
           "#00cc96",
           "#ab63fa",
           "#FFA15A",
           "#19d3f3",
           "#FF6692",
           "#B6E880",
           "#FF97FF",
           "#FECB52"
          ],
          "font": {
           "color": "#2a3f5f"
          },
          "geo": {
           "bgcolor": "white",
           "lakecolor": "white",
           "landcolor": "#E5ECF6",
           "showlakes": true,
           "showland": true,
           "subunitcolor": "white"
          },
          "hoverlabel": {
           "align": "left"
          },
          "hovermode": "closest",
          "mapbox": {
           "style": "light"
          },
          "paper_bgcolor": "white",
          "plot_bgcolor": "#E5ECF6",
          "polar": {
           "angularaxis": {
            "gridcolor": "white",
            "linecolor": "white",
            "ticks": ""
           },
           "bgcolor": "#E5ECF6",
           "radialaxis": {
            "gridcolor": "white",
            "linecolor": "white",
            "ticks": ""
           }
          },
          "scene": {
           "xaxis": {
            "backgroundcolor": "#E5ECF6",
            "gridcolor": "white",
            "gridwidth": 2,
            "linecolor": "white",
            "showbackground": true,
            "ticks": "",
            "zerolinecolor": "white"
           },
           "yaxis": {
            "backgroundcolor": "#E5ECF6",
            "gridcolor": "white",
            "gridwidth": 2,
            "linecolor": "white",
            "showbackground": true,
            "ticks": "",
            "zerolinecolor": "white"
           },
           "zaxis": {
            "backgroundcolor": "#E5ECF6",
            "gridcolor": "white",
            "gridwidth": 2,
            "linecolor": "white",
            "showbackground": true,
            "ticks": "",
            "zerolinecolor": "white"
           }
          },
          "shapedefaults": {
           "line": {
            "color": "#2a3f5f"
           }
          },
          "ternary": {
           "aaxis": {
            "gridcolor": "white",
            "linecolor": "white",
            "ticks": ""
           },
           "baxis": {
            "gridcolor": "white",
            "linecolor": "white",
            "ticks": ""
           },
           "bgcolor": "#E5ECF6",
           "caxis": {
            "gridcolor": "white",
            "linecolor": "white",
            "ticks": ""
           }
          },
          "title": {
           "x": 0.05
          },
          "xaxis": {
           "automargin": true,
           "gridcolor": "white",
           "linecolor": "white",
           "ticks": "",
           "title": {
            "standoff": 15
           },
           "zerolinecolor": "white",
           "zerolinewidth": 2
          },
          "yaxis": {
           "automargin": true,
           "gridcolor": "white",
           "linecolor": "white",
           "ticks": "",
           "title": {
            "standoff": 15
           },
           "zerolinecolor": "white",
           "zerolinewidth": 2
          }
         }
        },
        "xaxis": {
         "anchor": "y",
         "domain": [
          0,
          1
         ],
         "title": {
          "text": "Total Score"
         }
        },
        "yaxis": {
         "anchor": "x",
         "domain": [
          0,
          1
         ],
         "title": {
          "text": "count"
         }
        }
       }
      }
     },
     "metadata": {},
     "output_type": "display_data"
    }
   ],
   "source": [
    "fig = px.histogram(Uni_df['ARWU'], x=\"Total Score\",color_discrete_sequence=px.colors.qualitative.Pastel)\n",
    "fig.show()"
   ]
  },
  {
   "cell_type": "code",
   "execution_count": 401,
   "metadata": {},
   "outputs": [
    {
     "data": {
      "application/vnd.plotly.v1+json": {
       "config": {
        "plotlyServerURL": "https://plot.ly"
       },
       "data": [
        {
         "domain": {
          "x": [
           0,
           1
          ],
          "y": [
           0,
           1
          ]
         },
         "hovertemplate": "Location=%{label}<br>count=%{value}<extra></extra>",
         "labels": [
          "USA",
          "China",
          "Japan",
          "United Kingdom",
          "France",
          "Germany",
          "Italy",
          "India",
          "South Korea",
          "Turkey",
          "Brazil",
          "Spain",
          "Russia",
          "Iran",
          "Poland",
          "Canada",
          "Australia",
          "Taiwan",
          "Other countries",
          "Other countries",
          "Other countries",
          "Other countries",
          "Other countries",
          "Other countries",
          "Other countries",
          "Other countries",
          "Other countries",
          "Other countries",
          "Other countries",
          "Other countries",
          "Other countries",
          "Other countries",
          "Other countries",
          "Other countries",
          "Other countries",
          "Other countries",
          "Other countries",
          "Other countries",
          "Other countries",
          "Other countries",
          "Other countries",
          "Other countries",
          "Other countries",
          "Other countries",
          "Other countries",
          "Other countries",
          "Other countries",
          "Other countries",
          "Other countries",
          "Other countries",
          "Other countries",
          "Other countries",
          "Other countries",
          "Other countries",
          "Other countries",
          "Other countries",
          "Other countries",
          "Other countries",
          "Other countries",
          "Other countries",
          "Other countries",
          "Other countries",
          "Other countries",
          "Other countries",
          "Other countries",
          "Other countries",
          "Other countries",
          "Other countries",
          "Other countries",
          "Other countries",
          "Other countries",
          "Other countries",
          "Other countries",
          "Other countries",
          "Other countries",
          "Other countries",
          "Other countries",
          "Other countries",
          "Other countries",
          "Other countries",
          "Other countries",
          "Other countries",
          "Other countries",
          "Other countries",
          "Other countries",
          "Other countries",
          "Other countries",
          "Other countries",
          "Other countries",
          "Other countries",
          "Other countries",
          "Other countries",
          "Other countries",
          "Other countries",
          "Other countries"
         ],
         "legendgroup": "",
         "name": "",
         "showlegend": true,
         "type": "pie",
         "values": [
          332,
          314,
          114,
          93,
          76,
          69,
          66,
          64,
          57,
          55,
          54,
          52,
          43,
          41,
          40,
          40,
          39,
          33,
          20,
          20,
          17,
          16,
          16,
          15,
          14,
          13,
          13,
          13,
          12,
          12,
          11,
          11,
          10,
          10,
          10,
          9,
          9,
          9,
          8,
          8,
          8,
          7,
          7,
          7,
          6,
          6,
          5,
          5,
          4,
          4,
          4,
          4,
          4,
          4,
          3,
          3,
          3,
          3,
          3,
          3,
          3,
          2,
          2,
          2,
          2,
          2,
          2,
          2,
          2,
          2,
          2,
          2,
          2,
          1,
          1,
          1,
          1,
          1,
          1,
          1,
          1,
          1,
          1,
          1,
          1,
          1,
          1,
          1,
          1,
          1,
          1,
          1,
          1,
          1,
          1
         ]
        }
       ],
       "layout": {
        "height": 900,
        "legend": {
         "tracegroupgap": 0
        },
        "piecolorway": [
         "rgb(102, 197, 204)",
         "rgb(246, 207, 113)",
         "rgb(248, 156, 116)",
         "rgb(220, 176, 242)",
         "rgb(135, 197, 95)",
         "rgb(158, 185, 243)",
         "rgb(254, 136, 177)",
         "rgb(201, 219, 116)",
         "rgb(139, 224, 164)",
         "rgb(180, 151, 231)",
         "rgb(179, 179, 179)"
        ],
        "template": {
         "data": {
          "bar": [
           {
            "error_x": {
             "color": "#2a3f5f"
            },
            "error_y": {
             "color": "#2a3f5f"
            },
            "marker": {
             "line": {
              "color": "#E5ECF6",
              "width": 0.5
             },
             "pattern": {
              "fillmode": "overlay",
              "size": 10,
              "solidity": 0.2
             }
            },
            "type": "bar"
           }
          ],
          "barpolar": [
           {
            "marker": {
             "line": {
              "color": "#E5ECF6",
              "width": 0.5
             },
             "pattern": {
              "fillmode": "overlay",
              "size": 10,
              "solidity": 0.2
             }
            },
            "type": "barpolar"
           }
          ],
          "carpet": [
           {
            "aaxis": {
             "endlinecolor": "#2a3f5f",
             "gridcolor": "white",
             "linecolor": "white",
             "minorgridcolor": "white",
             "startlinecolor": "#2a3f5f"
            },
            "baxis": {
             "endlinecolor": "#2a3f5f",
             "gridcolor": "white",
             "linecolor": "white",
             "minorgridcolor": "white",
             "startlinecolor": "#2a3f5f"
            },
            "type": "carpet"
           }
          ],
          "choropleth": [
           {
            "colorbar": {
             "outlinewidth": 0,
             "ticks": ""
            },
            "type": "choropleth"
           }
          ],
          "contour": [
           {
            "colorbar": {
             "outlinewidth": 0,
             "ticks": ""
            },
            "colorscale": [
             [
              0,
              "#0d0887"
             ],
             [
              0.1111111111111111,
              "#46039f"
             ],
             [
              0.2222222222222222,
              "#7201a8"
             ],
             [
              0.3333333333333333,
              "#9c179e"
             ],
             [
              0.4444444444444444,
              "#bd3786"
             ],
             [
              0.5555555555555556,
              "#d8576b"
             ],
             [
              0.6666666666666666,
              "#ed7953"
             ],
             [
              0.7777777777777778,
              "#fb9f3a"
             ],
             [
              0.8888888888888888,
              "#fdca26"
             ],
             [
              1,
              "#f0f921"
             ]
            ],
            "type": "contour"
           }
          ],
          "contourcarpet": [
           {
            "colorbar": {
             "outlinewidth": 0,
             "ticks": ""
            },
            "type": "contourcarpet"
           }
          ],
          "heatmap": [
           {
            "colorbar": {
             "outlinewidth": 0,
             "ticks": ""
            },
            "colorscale": [
             [
              0,
              "#0d0887"
             ],
             [
              0.1111111111111111,
              "#46039f"
             ],
             [
              0.2222222222222222,
              "#7201a8"
             ],
             [
              0.3333333333333333,
              "#9c179e"
             ],
             [
              0.4444444444444444,
              "#bd3786"
             ],
             [
              0.5555555555555556,
              "#d8576b"
             ],
             [
              0.6666666666666666,
              "#ed7953"
             ],
             [
              0.7777777777777778,
              "#fb9f3a"
             ],
             [
              0.8888888888888888,
              "#fdca26"
             ],
             [
              1,
              "#f0f921"
             ]
            ],
            "type": "heatmap"
           }
          ],
          "heatmapgl": [
           {
            "colorbar": {
             "outlinewidth": 0,
             "ticks": ""
            },
            "colorscale": [
             [
              0,
              "#0d0887"
             ],
             [
              0.1111111111111111,
              "#46039f"
             ],
             [
              0.2222222222222222,
              "#7201a8"
             ],
             [
              0.3333333333333333,
              "#9c179e"
             ],
             [
              0.4444444444444444,
              "#bd3786"
             ],
             [
              0.5555555555555556,
              "#d8576b"
             ],
             [
              0.6666666666666666,
              "#ed7953"
             ],
             [
              0.7777777777777778,
              "#fb9f3a"
             ],
             [
              0.8888888888888888,
              "#fdca26"
             ],
             [
              1,
              "#f0f921"
             ]
            ],
            "type": "heatmapgl"
           }
          ],
          "histogram": [
           {
            "marker": {
             "pattern": {
              "fillmode": "overlay",
              "size": 10,
              "solidity": 0.2
             }
            },
            "type": "histogram"
           }
          ],
          "histogram2d": [
           {
            "colorbar": {
             "outlinewidth": 0,
             "ticks": ""
            },
            "colorscale": [
             [
              0,
              "#0d0887"
             ],
             [
              0.1111111111111111,
              "#46039f"
             ],
             [
              0.2222222222222222,
              "#7201a8"
             ],
             [
              0.3333333333333333,
              "#9c179e"
             ],
             [
              0.4444444444444444,
              "#bd3786"
             ],
             [
              0.5555555555555556,
              "#d8576b"
             ],
             [
              0.6666666666666666,
              "#ed7953"
             ],
             [
              0.7777777777777778,
              "#fb9f3a"
             ],
             [
              0.8888888888888888,
              "#fdca26"
             ],
             [
              1,
              "#f0f921"
             ]
            ],
            "type": "histogram2d"
           }
          ],
          "histogram2dcontour": [
           {
            "colorbar": {
             "outlinewidth": 0,
             "ticks": ""
            },
            "colorscale": [
             [
              0,
              "#0d0887"
             ],
             [
              0.1111111111111111,
              "#46039f"
             ],
             [
              0.2222222222222222,
              "#7201a8"
             ],
             [
              0.3333333333333333,
              "#9c179e"
             ],
             [
              0.4444444444444444,
              "#bd3786"
             ],
             [
              0.5555555555555556,
              "#d8576b"
             ],
             [
              0.6666666666666666,
              "#ed7953"
             ],
             [
              0.7777777777777778,
              "#fb9f3a"
             ],
             [
              0.8888888888888888,
              "#fdca26"
             ],
             [
              1,
              "#f0f921"
             ]
            ],
            "type": "histogram2dcontour"
           }
          ],
          "mesh3d": [
           {
            "colorbar": {
             "outlinewidth": 0,
             "ticks": ""
            },
            "type": "mesh3d"
           }
          ],
          "parcoords": [
           {
            "line": {
             "colorbar": {
              "outlinewidth": 0,
              "ticks": ""
             }
            },
            "type": "parcoords"
           }
          ],
          "pie": [
           {
            "automargin": true,
            "type": "pie"
           }
          ],
          "scatter": [
           {
            "fillpattern": {
             "fillmode": "overlay",
             "size": 10,
             "solidity": 0.2
            },
            "type": "scatter"
           }
          ],
          "scatter3d": [
           {
            "line": {
             "colorbar": {
              "outlinewidth": 0,
              "ticks": ""
             }
            },
            "marker": {
             "colorbar": {
              "outlinewidth": 0,
              "ticks": ""
             }
            },
            "type": "scatter3d"
           }
          ],
          "scattercarpet": [
           {
            "marker": {
             "colorbar": {
              "outlinewidth": 0,
              "ticks": ""
             }
            },
            "type": "scattercarpet"
           }
          ],
          "scattergeo": [
           {
            "marker": {
             "colorbar": {
              "outlinewidth": 0,
              "ticks": ""
             }
            },
            "type": "scattergeo"
           }
          ],
          "scattergl": [
           {
            "marker": {
             "colorbar": {
              "outlinewidth": 0,
              "ticks": ""
             }
            },
            "type": "scattergl"
           }
          ],
          "scattermapbox": [
           {
            "marker": {
             "colorbar": {
              "outlinewidth": 0,
              "ticks": ""
             }
            },
            "type": "scattermapbox"
           }
          ],
          "scatterpolar": [
           {
            "marker": {
             "colorbar": {
              "outlinewidth": 0,
              "ticks": ""
             }
            },
            "type": "scatterpolar"
           }
          ],
          "scatterpolargl": [
           {
            "marker": {
             "colorbar": {
              "outlinewidth": 0,
              "ticks": ""
             }
            },
            "type": "scatterpolargl"
           }
          ],
          "scatterternary": [
           {
            "marker": {
             "colorbar": {
              "outlinewidth": 0,
              "ticks": ""
             }
            },
            "type": "scatterternary"
           }
          ],
          "surface": [
           {
            "colorbar": {
             "outlinewidth": 0,
             "ticks": ""
            },
            "colorscale": [
             [
              0,
              "#0d0887"
             ],
             [
              0.1111111111111111,
              "#46039f"
             ],
             [
              0.2222222222222222,
              "#7201a8"
             ],
             [
              0.3333333333333333,
              "#9c179e"
             ],
             [
              0.4444444444444444,
              "#bd3786"
             ],
             [
              0.5555555555555556,
              "#d8576b"
             ],
             [
              0.6666666666666666,
              "#ed7953"
             ],
             [
              0.7777777777777778,
              "#fb9f3a"
             ],
             [
              0.8888888888888888,
              "#fdca26"
             ],
             [
              1,
              "#f0f921"
             ]
            ],
            "type": "surface"
           }
          ],
          "table": [
           {
            "cells": {
             "fill": {
              "color": "#EBF0F8"
             },
             "line": {
              "color": "white"
             }
            },
            "header": {
             "fill": {
              "color": "#C8D4E3"
             },
             "line": {
              "color": "white"
             }
            },
            "type": "table"
           }
          ]
         },
         "layout": {
          "annotationdefaults": {
           "arrowcolor": "#2a3f5f",
           "arrowhead": 0,
           "arrowwidth": 1
          },
          "autotypenumbers": "strict",
          "coloraxis": {
           "colorbar": {
            "outlinewidth": 0,
            "ticks": ""
           }
          },
          "colorscale": {
           "diverging": [
            [
             0,
             "#8e0152"
            ],
            [
             0.1,
             "#c51b7d"
            ],
            [
             0.2,
             "#de77ae"
            ],
            [
             0.3,
             "#f1b6da"
            ],
            [
             0.4,
             "#fde0ef"
            ],
            [
             0.5,
             "#f7f7f7"
            ],
            [
             0.6,
             "#e6f5d0"
            ],
            [
             0.7,
             "#b8e186"
            ],
            [
             0.8,
             "#7fbc41"
            ],
            [
             0.9,
             "#4d9221"
            ],
            [
             1,
             "#276419"
            ]
           ],
           "sequential": [
            [
             0,
             "#0d0887"
            ],
            [
             0.1111111111111111,
             "#46039f"
            ],
            [
             0.2222222222222222,
             "#7201a8"
            ],
            [
             0.3333333333333333,
             "#9c179e"
            ],
            [
             0.4444444444444444,
             "#bd3786"
            ],
            [
             0.5555555555555556,
             "#d8576b"
            ],
            [
             0.6666666666666666,
             "#ed7953"
            ],
            [
             0.7777777777777778,
             "#fb9f3a"
            ],
            [
             0.8888888888888888,
             "#fdca26"
            ],
            [
             1,
             "#f0f921"
            ]
           ],
           "sequentialminus": [
            [
             0,
             "#0d0887"
            ],
            [
             0.1111111111111111,
             "#46039f"
            ],
            [
             0.2222222222222222,
             "#7201a8"
            ],
            [
             0.3333333333333333,
             "#9c179e"
            ],
            [
             0.4444444444444444,
             "#bd3786"
            ],
            [
             0.5555555555555556,
             "#d8576b"
            ],
            [
             0.6666666666666666,
             "#ed7953"
            ],
            [
             0.7777777777777778,
             "#fb9f3a"
            ],
            [
             0.8888888888888888,
             "#fdca26"
            ],
            [
             1,
             "#f0f921"
            ]
           ]
          },
          "colorway": [
           "#636efa",
           "#EF553B",
           "#00cc96",
           "#ab63fa",
           "#FFA15A",
           "#19d3f3",
           "#FF6692",
           "#B6E880",
           "#FF97FF",
           "#FECB52"
          ],
          "font": {
           "color": "#2a3f5f"
          },
          "geo": {
           "bgcolor": "white",
           "lakecolor": "white",
           "landcolor": "#E5ECF6",
           "showlakes": true,
           "showland": true,
           "subunitcolor": "white"
          },
          "hoverlabel": {
           "align": "left"
          },
          "hovermode": "closest",
          "mapbox": {
           "style": "light"
          },
          "paper_bgcolor": "white",
          "plot_bgcolor": "#E5ECF6",
          "polar": {
           "angularaxis": {
            "gridcolor": "white",
            "linecolor": "white",
            "ticks": ""
           },
           "bgcolor": "#E5ECF6",
           "radialaxis": {
            "gridcolor": "white",
            "linecolor": "white",
            "ticks": ""
           }
          },
          "scene": {
           "xaxis": {
            "backgroundcolor": "#E5ECF6",
            "gridcolor": "white",
            "gridwidth": 2,
            "linecolor": "white",
            "showbackground": true,
            "ticks": "",
            "zerolinecolor": "white"
           },
           "yaxis": {
            "backgroundcolor": "#E5ECF6",
            "gridcolor": "white",
            "gridwidth": 2,
            "linecolor": "white",
            "showbackground": true,
            "ticks": "",
            "zerolinecolor": "white"
           },
           "zaxis": {
            "backgroundcolor": "#E5ECF6",
            "gridcolor": "white",
            "gridwidth": 2,
            "linecolor": "white",
            "showbackground": true,
            "ticks": "",
            "zerolinecolor": "white"
           }
          },
          "shapedefaults": {
           "line": {
            "color": "#2a3f5f"
           }
          },
          "ternary": {
           "aaxis": {
            "gridcolor": "white",
            "linecolor": "white",
            "ticks": ""
           },
           "baxis": {
            "gridcolor": "white",
            "linecolor": "white",
            "ticks": ""
           },
           "bgcolor": "#E5ECF6",
           "caxis": {
            "gridcolor": "white",
            "linecolor": "white",
            "ticks": ""
           }
          },
          "title": {
           "x": 0.05
          },
          "xaxis": {
           "automargin": true,
           "gridcolor": "white",
           "linecolor": "white",
           "ticks": "",
           "title": {
            "standoff": 15
           },
           "zerolinecolor": "white",
           "zerolinewidth": 2
          },
          "yaxis": {
           "automargin": true,
           "gridcolor": "white",
           "linecolor": "white",
           "ticks": "",
           "title": {
            "standoff": 15
           },
           "zerolinecolor": "white",
           "zerolinewidth": 2
          }
         }
        },
        "title": {
         "text": "Number of universities in each country "
        },
        "width": 1000
       }
      }
     },
     "metadata": {},
     "output_type": "display_data"
    }
   ],
   "source": [
    "# Convert 'count' column to numeric\n",
    "category_counts = Uni_df['CWUR']['Location'].value_counts()\n",
    "category_counts=pd.DataFrame({'Location':category_counts.index, 'count':category_counts.values})\n",
    "\n",
    "\n",
    "category_counts['count'] = pd.to_numeric(category_counts['count'], errors='coerce')\n",
    "\n",
    "# Replace values less than 30 with 'Other countries'\n",
    "category_counts.loc[category_counts['count'] < 30, 'Location'] = 'Other countries'\n",
    "\n",
    "# Create the pie chart\n",
    "fig = px.pie(category_counts, values='count', names='Location', title='Number of universities in each country ' ,height=900 , width=1000 ,color_discrete_sequence=px.colors.qualitative.Pastel)\n",
    "\n",
    "fig.show()\n"
   ]
  },
  {
   "cell_type": "code",
   "execution_count": 402,
   "metadata": {},
   "outputs": [],
   "source": [
    "def get_score(rank):\n",
    "    if rank == 0:\n",
    "        return 0\n",
    "    return 2001 - rank\n",
    "\n",
    "filtered_df3 = Uni_df['CWUR'].sort_values(by='Rank').copy()\n",
    "filtered_df3['Rank Score']=filtered_df3['Rank'].apply(get_score)\n",
    "filtered_df3['Educational Score']=filtered_df3['Educational Rank'].apply(get_score)\n",
    "filtered_df3['Employability Score']=filtered_df3['Employability Rank'].apply(get_score)\n",
    "filtered_df3['Faculty Score']=filtered_df3['Faculty Rank'].apply(get_score)\n",
    "filtered_df3['Research Score']=filtered_df3['Research Rank'].apply(get_score)\n",
    "# filtered_df3 = filtered_df3[filtered_df3['Educational Rank'] != 0]\n",
    "# filtered_df3 = filtered_df3[filtered_df3['Employability Rank'] != 0]\n",
    "# filtered_df3 = filtered_df3[filtered_df3['Faculty Rank'] != 0]\n",
    "# filtered_df3 = filtered_df3[filtered_df3['Research Rank'] != 0]"
   ]
  },
  {
   "cell_type": "code",
   "execution_count": 403,
   "metadata": {},
   "outputs": [
    {
     "data": {
      "text/html": [
       "<div>\n",
       "<style scoped>\n",
       "    .dataframe tbody tr th:only-of-type {\n",
       "        vertical-align: middle;\n",
       "    }\n",
       "\n",
       "    .dataframe tbody tr th {\n",
       "        vertical-align: top;\n",
       "    }\n",
       "\n",
       "    .dataframe thead th {\n",
       "        text-align: right;\n",
       "    }\n",
       "</style>\n",
       "<table border=\"1\" class=\"dataframe\">\n",
       "  <thead>\n",
       "    <tr style=\"text-align: right;\">\n",
       "      <th></th>\n",
       "      <th>Rank</th>\n",
       "      <th>University Name</th>\n",
       "      <th>Location</th>\n",
       "      <th>National Rank</th>\n",
       "      <th>Educational Rank</th>\n",
       "      <th>Employability Rank</th>\n",
       "      <th>Faculty Rank</th>\n",
       "      <th>Research Rank</th>\n",
       "      <th>Total Score</th>\n",
       "      <th>World Ratio</th>\n",
       "      <th>Rank Score</th>\n",
       "      <th>Educational Score</th>\n",
       "      <th>Employability Score</th>\n",
       "      <th>Faculty Score</th>\n",
       "      <th>Research Score</th>\n",
       "    </tr>\n",
       "  </thead>\n",
       "  <tbody>\n",
       "    <tr>\n",
       "      <th>0</th>\n",
       "      <td>1</td>\n",
       "      <td>Harvard University</td>\n",
       "      <td>USA</td>\n",
       "      <td>1</td>\n",
       "      <td>1</td>\n",
       "      <td>1</td>\n",
       "      <td>1</td>\n",
       "      <td>1</td>\n",
       "      <td>100.0</td>\n",
       "      <td>0.1</td>\n",
       "      <td>2000</td>\n",
       "      <td>2000</td>\n",
       "      <td>2000</td>\n",
       "      <td>2000</td>\n",
       "      <td>2000</td>\n",
       "    </tr>\n",
       "    <tr>\n",
       "      <th>1</th>\n",
       "      <td>2</td>\n",
       "      <td>Massachusetts Institute of Technology</td>\n",
       "      <td>USA</td>\n",
       "      <td>2</td>\n",
       "      <td>4</td>\n",
       "      <td>12</td>\n",
       "      <td>3</td>\n",
       "      <td>9</td>\n",
       "      <td>96.7</td>\n",
       "      <td>0.1</td>\n",
       "      <td>1999</td>\n",
       "      <td>1997</td>\n",
       "      <td>1989</td>\n",
       "      <td>1998</td>\n",
       "      <td>1992</td>\n",
       "    </tr>\n",
       "    <tr>\n",
       "      <th>2</th>\n",
       "      <td>3</td>\n",
       "      <td>Stanford University</td>\n",
       "      <td>USA</td>\n",
       "      <td>3</td>\n",
       "      <td>11</td>\n",
       "      <td>4</td>\n",
       "      <td>2</td>\n",
       "      <td>2</td>\n",
       "      <td>95.2</td>\n",
       "      <td>0.1</td>\n",
       "      <td>1998</td>\n",
       "      <td>1990</td>\n",
       "      <td>1997</td>\n",
       "      <td>1999</td>\n",
       "      <td>1999</td>\n",
       "    </tr>\n",
       "    <tr>\n",
       "      <th>3</th>\n",
       "      <td>4</td>\n",
       "      <td>University of Cambridge</td>\n",
       "      <td>United Kingdom</td>\n",
       "      <td>1</td>\n",
       "      <td>3</td>\n",
       "      <td>25</td>\n",
       "      <td>5</td>\n",
       "      <td>11</td>\n",
       "      <td>94.1</td>\n",
       "      <td>0.1</td>\n",
       "      <td>1997</td>\n",
       "      <td>1998</td>\n",
       "      <td>1976</td>\n",
       "      <td>1996</td>\n",
       "      <td>1990</td>\n",
       "    </tr>\n",
       "    <tr>\n",
       "      <th>4</th>\n",
       "      <td>5</td>\n",
       "      <td>University of Oxford</td>\n",
       "      <td>United Kingdom</td>\n",
       "      <td>2</td>\n",
       "      <td>7</td>\n",
       "      <td>27</td>\n",
       "      <td>9</td>\n",
       "      <td>4</td>\n",
       "      <td>93.3</td>\n",
       "      <td>0.1</td>\n",
       "      <td>1996</td>\n",
       "      <td>1994</td>\n",
       "      <td>1974</td>\n",
       "      <td>1992</td>\n",
       "      <td>1997</td>\n",
       "    </tr>\n",
       "  </tbody>\n",
       "</table>\n",
       "</div>"
      ],
      "text/plain": [
       "   Rank                        University Name        Location  National Rank  \\\n",
       "0     1                     Harvard University             USA              1   \n",
       "1     2  Massachusetts Institute of Technology             USA              2   \n",
       "2     3                    Stanford University             USA              3   \n",
       "3     4                University of Cambridge  United Kingdom              1   \n",
       "4     5                   University of Oxford  United Kingdom              2   \n",
       "\n",
       "   Educational Rank  Employability Rank  Faculty Rank  Research Rank  \\\n",
       "0                 1                   1             1              1   \n",
       "1                 4                  12             3              9   \n",
       "2                11                   4             2              2   \n",
       "3                 3                  25             5             11   \n",
       "4                 7                  27             9              4   \n",
       "\n",
       "   Total Score  World Ratio  Rank Score  Educational Score  \\\n",
       "0        100.0          0.1        2000               2000   \n",
       "1         96.7          0.1        1999               1997   \n",
       "2         95.2          0.1        1998               1990   \n",
       "3         94.1          0.1        1997               1998   \n",
       "4         93.3          0.1        1996               1994   \n",
       "\n",
       "   Employability Score  Faculty Score  Research Score  \n",
       "0                 2000           2000            2000  \n",
       "1                 1989           1998            1992  \n",
       "2                 1997           1999            1999  \n",
       "3                 1976           1996            1990  \n",
       "4                 1974           1992            1997  "
      ]
     },
     "execution_count": 403,
     "metadata": {},
     "output_type": "execute_result"
    }
   ],
   "source": [
    "filtered_df3.head()"
   ]
  },
  {
   "cell_type": "code",
   "execution_count": 404,
   "metadata": {},
   "outputs": [],
   "source": [
    "def rank_per(score):\n",
    "    return(score/2000)*100\n",
    "filtered_df3['Educational Percentage']=filtered_df3['Educational Score'].apply(rank_per)\n",
    "filtered_df3['Employability Percentage']=filtered_df3['Employability Score'].apply(rank_per)\n",
    "filtered_df3['Faculty Percentage']=filtered_df3['Faculty Score'].apply(rank_per)\n",
    "filtered_df3['Research Percentage']=filtered_df3['Research Score'].apply(rank_per)"
   ]
  },
  {
   "cell_type": "code",
   "execution_count": 405,
   "metadata": {},
   "outputs": [
    {
     "data": {
      "text/html": [
       "<div>\n",
       "<style scoped>\n",
       "    .dataframe tbody tr th:only-of-type {\n",
       "        vertical-align: middle;\n",
       "    }\n",
       "\n",
       "    .dataframe tbody tr th {\n",
       "        vertical-align: top;\n",
       "    }\n",
       "\n",
       "    .dataframe thead th {\n",
       "        text-align: right;\n",
       "    }\n",
       "</style>\n",
       "<table border=\"1\" class=\"dataframe\">\n",
       "  <thead>\n",
       "    <tr style=\"text-align: right;\">\n",
       "      <th></th>\n",
       "      <th>Rank</th>\n",
       "      <th>University Name</th>\n",
       "      <th>Location</th>\n",
       "      <th>National Rank</th>\n",
       "      <th>Educational Rank</th>\n",
       "      <th>Employability Rank</th>\n",
       "      <th>Faculty Rank</th>\n",
       "      <th>Research Rank</th>\n",
       "      <th>Total Score</th>\n",
       "      <th>World Ratio</th>\n",
       "      <th>Rank Score</th>\n",
       "      <th>Educational Score</th>\n",
       "      <th>Employability Score</th>\n",
       "      <th>Faculty Score</th>\n",
       "      <th>Research Score</th>\n",
       "      <th>Educational Percentage</th>\n",
       "      <th>Employability Percentage</th>\n",
       "      <th>Faculty Percentage</th>\n",
       "      <th>Research Percentage</th>\n",
       "    </tr>\n",
       "  </thead>\n",
       "  <tbody>\n",
       "    <tr>\n",
       "      <th>0</th>\n",
       "      <td>1</td>\n",
       "      <td>Harvard University</td>\n",
       "      <td>USA</td>\n",
       "      <td>1</td>\n",
       "      <td>1</td>\n",
       "      <td>1</td>\n",
       "      <td>1</td>\n",
       "      <td>1</td>\n",
       "      <td>100.0</td>\n",
       "      <td>0.1</td>\n",
       "      <td>2000</td>\n",
       "      <td>2000</td>\n",
       "      <td>2000</td>\n",
       "      <td>2000</td>\n",
       "      <td>2000</td>\n",
       "      <td>100.00</td>\n",
       "      <td>100.00</td>\n",
       "      <td>100.0</td>\n",
       "      <td>100.0</td>\n",
       "    </tr>\n",
       "    <tr>\n",
       "      <th>1</th>\n",
       "      <td>2</td>\n",
       "      <td>Massachusetts Institute of Technology</td>\n",
       "      <td>USA</td>\n",
       "      <td>2</td>\n",
       "      <td>4</td>\n",
       "      <td>12</td>\n",
       "      <td>3</td>\n",
       "      <td>9</td>\n",
       "      <td>96.7</td>\n",
       "      <td>0.1</td>\n",
       "      <td>1999</td>\n",
       "      <td>1997</td>\n",
       "      <td>1989</td>\n",
       "      <td>1998</td>\n",
       "      <td>1992</td>\n",
       "      <td>99.85</td>\n",
       "      <td>99.45</td>\n",
       "      <td>99.9</td>\n",
       "      <td>99.6</td>\n",
       "    </tr>\n",
       "  </tbody>\n",
       "</table>\n",
       "</div>"
      ],
      "text/plain": [
       "   Rank                        University Name Location  National Rank  \\\n",
       "0     1                     Harvard University      USA              1   \n",
       "1     2  Massachusetts Institute of Technology      USA              2   \n",
       "\n",
       "   Educational Rank  Employability Rank  Faculty Rank  Research Rank  \\\n",
       "0                 1                   1             1              1   \n",
       "1                 4                  12             3              9   \n",
       "\n",
       "   Total Score  World Ratio  Rank Score  Educational Score  \\\n",
       "0        100.0          0.1        2000               2000   \n",
       "1         96.7          0.1        1999               1997   \n",
       "\n",
       "   Employability Score  Faculty Score  Research Score  Educational Percentage  \\\n",
       "0                 2000           2000            2000                  100.00   \n",
       "1                 1989           1998            1992                   99.85   \n",
       "\n",
       "   Employability Percentage  Faculty Percentage  Research Percentage  \n",
       "0                    100.00               100.0                100.0  \n",
       "1                     99.45                99.9                 99.6  "
      ]
     },
     "execution_count": 405,
     "metadata": {},
     "output_type": "execute_result"
    }
   ],
   "source": [
    "filtered_df3.head(2)"
   ]
  },
  {
   "cell_type": "code",
   "execution_count": 406,
   "metadata": {},
   "outputs": [
    {
     "data": {
      "text/html": [
       "<div>\n",
       "<style scoped>\n",
       "    .dataframe tbody tr th:only-of-type {\n",
       "        vertical-align: middle;\n",
       "    }\n",
       "\n",
       "    .dataframe tbody tr th {\n",
       "        vertical-align: top;\n",
       "    }\n",
       "\n",
       "    .dataframe thead th {\n",
       "        text-align: right;\n",
       "    }\n",
       "</style>\n",
       "<table border=\"1\" class=\"dataframe\">\n",
       "  <thead>\n",
       "    <tr style=\"text-align: right;\">\n",
       "      <th></th>\n",
       "      <th>Rank</th>\n",
       "      <th>University Name</th>\n",
       "      <th>Location</th>\n",
       "      <th>National Rank</th>\n",
       "      <th>Educational Rank</th>\n",
       "      <th>Employability Rank</th>\n",
       "      <th>Faculty Rank</th>\n",
       "      <th>Research Rank</th>\n",
       "      <th>Total Score</th>\n",
       "      <th>World Ratio</th>\n",
       "      <th>Rank Score</th>\n",
       "      <th>Educational Score</th>\n",
       "      <th>Employability Score</th>\n",
       "      <th>Faculty Score</th>\n",
       "      <th>Research Score</th>\n",
       "      <th>Educational Percentage</th>\n",
       "      <th>Employability Percentage</th>\n",
       "      <th>Faculty Percentage</th>\n",
       "      <th>Research Percentage</th>\n",
       "    </tr>\n",
       "  </thead>\n",
       "  <tbody>\n",
       "    <tr>\n",
       "      <th>999</th>\n",
       "      <td>1000</td>\n",
       "      <td>Shantou University</td>\n",
       "      <td>China</td>\n",
       "      <td>152</td>\n",
       "      <td>0</td>\n",
       "      <td>0</td>\n",
       "      <td>0</td>\n",
       "      <td>955</td>\n",
       "      <td>70.4</td>\n",
       "      <td>4.9</td>\n",
       "      <td>1001</td>\n",
       "      <td>0</td>\n",
       "      <td>0</td>\n",
       "      <td>0</td>\n",
       "      <td>1046</td>\n",
       "      <td>0.0</td>\n",
       "      <td>0.0</td>\n",
       "      <td>0.0</td>\n",
       "      <td>52.30</td>\n",
       "    </tr>\n",
       "    <tr>\n",
       "      <th>1268</th>\n",
       "      <td>1269</td>\n",
       "      <td>Northwest Normal University</td>\n",
       "      <td>China</td>\n",
       "      <td>194</td>\n",
       "      <td>0</td>\n",
       "      <td>0</td>\n",
       "      <td>0</td>\n",
       "      <td>1216</td>\n",
       "      <td>69.0</td>\n",
       "      <td>6.2</td>\n",
       "      <td>732</td>\n",
       "      <td>0</td>\n",
       "      <td>0</td>\n",
       "      <td>0</td>\n",
       "      <td>785</td>\n",
       "      <td>0.0</td>\n",
       "      <td>0.0</td>\n",
       "      <td>0.0</td>\n",
       "      <td>39.25</td>\n",
       "    </tr>\n",
       "    <tr>\n",
       "      <th>1267</th>\n",
       "      <td>1268</td>\n",
       "      <td>Maynooth University</td>\n",
       "      <td>Ireland</td>\n",
       "      <td>8</td>\n",
       "      <td>0</td>\n",
       "      <td>0</td>\n",
       "      <td>0</td>\n",
       "      <td>1215</td>\n",
       "      <td>69.0</td>\n",
       "      <td>6.2</td>\n",
       "      <td>733</td>\n",
       "      <td>0</td>\n",
       "      <td>0</td>\n",
       "      <td>0</td>\n",
       "      <td>786</td>\n",
       "      <td>0.0</td>\n",
       "      <td>0.0</td>\n",
       "      <td>0.0</td>\n",
       "      <td>39.30</td>\n",
       "    </tr>\n",
       "    <tr>\n",
       "      <th>1266</th>\n",
       "      <td>1267</td>\n",
       "      <td>Public University of Navarre</td>\n",
       "      <td>Spain</td>\n",
       "      <td>43</td>\n",
       "      <td>0</td>\n",
       "      <td>0</td>\n",
       "      <td>0</td>\n",
       "      <td>1214</td>\n",
       "      <td>69.0</td>\n",
       "      <td>6.2</td>\n",
       "      <td>734</td>\n",
       "      <td>0</td>\n",
       "      <td>0</td>\n",
       "      <td>0</td>\n",
       "      <td>787</td>\n",
       "      <td>0.0</td>\n",
       "      <td>0.0</td>\n",
       "      <td>0.0</td>\n",
       "      <td>39.35</td>\n",
       "    </tr>\n",
       "    <tr>\n",
       "      <th>1265</th>\n",
       "      <td>1266</td>\n",
       "      <td>Tokat Gaziosmanpaşa University</td>\n",
       "      <td>Turkey</td>\n",
       "      <td>18</td>\n",
       "      <td>0</td>\n",
       "      <td>0</td>\n",
       "      <td>0</td>\n",
       "      <td>1213</td>\n",
       "      <td>69.0</td>\n",
       "      <td>6.2</td>\n",
       "      <td>735</td>\n",
       "      <td>0</td>\n",
       "      <td>0</td>\n",
       "      <td>0</td>\n",
       "      <td>788</td>\n",
       "      <td>0.0</td>\n",
       "      <td>0.0</td>\n",
       "      <td>0.0</td>\n",
       "      <td>39.40</td>\n",
       "    </tr>\n",
       "    <tr>\n",
       "      <th>1264</th>\n",
       "      <td>1265</td>\n",
       "      <td>University of Hyderabad</td>\n",
       "      <td>India</td>\n",
       "      <td>28</td>\n",
       "      <td>0</td>\n",
       "      <td>0</td>\n",
       "      <td>0</td>\n",
       "      <td>1212</td>\n",
       "      <td>69.0</td>\n",
       "      <td>6.2</td>\n",
       "      <td>736</td>\n",
       "      <td>0</td>\n",
       "      <td>0</td>\n",
       "      <td>0</td>\n",
       "      <td>789</td>\n",
       "      <td>0.0</td>\n",
       "      <td>0.0</td>\n",
       "      <td>0.0</td>\n",
       "      <td>39.45</td>\n",
       "    </tr>\n",
       "    <tr>\n",
       "      <th>1262</th>\n",
       "      <td>1263</td>\n",
       "      <td>Sultan Qaboos University</td>\n",
       "      <td>Sultanate of Oman</td>\n",
       "      <td>1</td>\n",
       "      <td>0</td>\n",
       "      <td>0</td>\n",
       "      <td>0</td>\n",
       "      <td>1210</td>\n",
       "      <td>69.0</td>\n",
       "      <td>6.2</td>\n",
       "      <td>738</td>\n",
       "      <td>0</td>\n",
       "      <td>0</td>\n",
       "      <td>0</td>\n",
       "      <td>791</td>\n",
       "      <td>0.0</td>\n",
       "      <td>0.0</td>\n",
       "      <td>0.0</td>\n",
       "      <td>39.55</td>\n",
       "    </tr>\n",
       "    <tr>\n",
       "      <th>1261</th>\n",
       "      <td>1262</td>\n",
       "      <td>National Institute for Space Research (INPE)</td>\n",
       "      <td>Brazil</td>\n",
       "      <td>34</td>\n",
       "      <td>0</td>\n",
       "      <td>0</td>\n",
       "      <td>0</td>\n",
       "      <td>1209</td>\n",
       "      <td>69.0</td>\n",
       "      <td>6.2</td>\n",
       "      <td>739</td>\n",
       "      <td>0</td>\n",
       "      <td>0</td>\n",
       "      <td>0</td>\n",
       "      <td>792</td>\n",
       "      <td>0.0</td>\n",
       "      <td>0.0</td>\n",
       "      <td>0.0</td>\n",
       "      <td>39.60</td>\n",
       "    </tr>\n",
       "    <tr>\n",
       "      <th>1257</th>\n",
       "      <td>1258</td>\n",
       "      <td>Federal University of Lavras</td>\n",
       "      <td>Brazil</td>\n",
       "      <td>33</td>\n",
       "      <td>0</td>\n",
       "      <td>0</td>\n",
       "      <td>0</td>\n",
       "      <td>1208</td>\n",
       "      <td>69.0</td>\n",
       "      <td>6.2</td>\n",
       "      <td>743</td>\n",
       "      <td>0</td>\n",
       "      <td>0</td>\n",
       "      <td>0</td>\n",
       "      <td>793</td>\n",
       "      <td>0.0</td>\n",
       "      <td>0.0</td>\n",
       "      <td>0.0</td>\n",
       "      <td>39.65</td>\n",
       "    </tr>\n",
       "    <tr>\n",
       "      <th>1255</th>\n",
       "      <td>1256</td>\n",
       "      <td>Albany Medical College</td>\n",
       "      <td>USA</td>\n",
       "      <td>248</td>\n",
       "      <td>0</td>\n",
       "      <td>0</td>\n",
       "      <td>0</td>\n",
       "      <td>1205</td>\n",
       "      <td>69.0</td>\n",
       "      <td>6.2</td>\n",
       "      <td>745</td>\n",
       "      <td>0</td>\n",
       "      <td>0</td>\n",
       "      <td>0</td>\n",
       "      <td>796</td>\n",
       "      <td>0.0</td>\n",
       "      <td>0.0</td>\n",
       "      <td>0.0</td>\n",
       "      <td>39.80</td>\n",
       "    </tr>\n",
       "  </tbody>\n",
       "</table>\n",
       "</div>"
      ],
      "text/plain": [
       "      Rank                               University Name           Location  \\\n",
       "999   1000                            Shantou University              China   \n",
       "1268  1269                   Northwest Normal University              China   \n",
       "1267  1268                           Maynooth University            Ireland   \n",
       "1266  1267                  Public University of Navarre              Spain   \n",
       "1265  1266                Tokat Gaziosmanpaşa University             Turkey   \n",
       "1264  1265                       University of Hyderabad              India   \n",
       "1262  1263                      Sultan Qaboos University  Sultanate of Oman   \n",
       "1261  1262  National Institute for Space Research (INPE)             Brazil   \n",
       "1257  1258                  Federal University of Lavras             Brazil   \n",
       "1255  1256                        Albany Medical College                USA   \n",
       "\n",
       "      National Rank  Educational Rank  Employability Rank  Faculty Rank  \\\n",
       "999             152                 0                   0             0   \n",
       "1268            194                 0                   0             0   \n",
       "1267              8                 0                   0             0   \n",
       "1266             43                 0                   0             0   \n",
       "1265             18                 0                   0             0   \n",
       "1264             28                 0                   0             0   \n",
       "1262              1                 0                   0             0   \n",
       "1261             34                 0                   0             0   \n",
       "1257             33                 0                   0             0   \n",
       "1255            248                 0                   0             0   \n",
       "\n",
       "      Research Rank  Total Score  World Ratio  Rank Score  Educational Score  \\\n",
       "999             955         70.4          4.9        1001                  0   \n",
       "1268           1216         69.0          6.2         732                  0   \n",
       "1267           1215         69.0          6.2         733                  0   \n",
       "1266           1214         69.0          6.2         734                  0   \n",
       "1265           1213         69.0          6.2         735                  0   \n",
       "1264           1212         69.0          6.2         736                  0   \n",
       "1262           1210         69.0          6.2         738                  0   \n",
       "1261           1209         69.0          6.2         739                  0   \n",
       "1257           1208         69.0          6.2         743                  0   \n",
       "1255           1205         69.0          6.2         745                  0   \n",
       "\n",
       "      Employability Score  Faculty Score  Research Score  \\\n",
       "999                     0              0            1046   \n",
       "1268                    0              0             785   \n",
       "1267                    0              0             786   \n",
       "1266                    0              0             787   \n",
       "1265                    0              0             788   \n",
       "1264                    0              0             789   \n",
       "1262                    0              0             791   \n",
       "1261                    0              0             792   \n",
       "1257                    0              0             793   \n",
       "1255                    0              0             796   \n",
       "\n",
       "      Educational Percentage  Employability Percentage  Faculty Percentage  \\\n",
       "999                      0.0                       0.0                 0.0   \n",
       "1268                     0.0                       0.0                 0.0   \n",
       "1267                     0.0                       0.0                 0.0   \n",
       "1266                     0.0                       0.0                 0.0   \n",
       "1265                     0.0                       0.0                 0.0   \n",
       "1264                     0.0                       0.0                 0.0   \n",
       "1262                     0.0                       0.0                 0.0   \n",
       "1261                     0.0                       0.0                 0.0   \n",
       "1257                     0.0                       0.0                 0.0   \n",
       "1255                     0.0                       0.0                 0.0   \n",
       "\n",
       "      Research Percentage  \n",
       "999                 52.30  \n",
       "1268                39.25  \n",
       "1267                39.30  \n",
       "1266                39.35  \n",
       "1265                39.40  \n",
       "1264                39.45  \n",
       "1262                39.55  \n",
       "1261                39.60  \n",
       "1257                39.65  \n",
       "1255                39.80  "
      ]
     },
     "execution_count": 406,
     "metadata": {},
     "output_type": "execute_result"
    }
   ],
   "source": [
    "filtered_df3.sort_values('Employability Rank').head(10)"
   ]
  },
  {
   "cell_type": "code",
   "execution_count": 407,
   "metadata": {},
   "outputs": [
    {
     "data": {
      "application/vnd.plotly.v1+json": {
       "config": {
        "plotlyServerURL": "https://plot.ly"
       },
       "data": [
        {
         "alignmentgroup": "True",
         "hovertemplate": "University Name=%{x}<br>Employability Score=%{y}<extra></extra>",
         "legendgroup": "",
         "marker": {
          "color": "rgb(102, 197, 204)",
          "pattern": {
           "shape": ""
          }
         },
         "name": "",
         "offsetgroup": "",
         "orientation": "v",
         "showlegend": false,
         "textposition": "auto",
         "type": "bar",
         "x": [
          "Harvard University",
          "Massachusetts Institute of Technology",
          "Stanford University",
          "University of Cambridge",
          "University of Oxford",
          "Princeton University",
          "University of Chicago",
          "Columbia University",
          "University of Pennsylvania",
          "Yale University"
         ],
         "xaxis": "x",
         "y": [
          2000,
          1989,
          1997,
          1976,
          1974,
          1985,
          1986,
          1987,
          1993,
          1966
         ],
         "yaxis": "y"
        }
       ],
       "layout": {
        "barmode": "relative",
        "legend": {
         "tracegroupgap": 0
        },
        "margin": {
         "t": 60
        },
        "template": {
         "data": {
          "bar": [
           {
            "error_x": {
             "color": "#2a3f5f"
            },
            "error_y": {
             "color": "#2a3f5f"
            },
            "marker": {
             "line": {
              "color": "#E5ECF6",
              "width": 0.5
             },
             "pattern": {
              "fillmode": "overlay",
              "size": 10,
              "solidity": 0.2
             }
            },
            "type": "bar"
           }
          ],
          "barpolar": [
           {
            "marker": {
             "line": {
              "color": "#E5ECF6",
              "width": 0.5
             },
             "pattern": {
              "fillmode": "overlay",
              "size": 10,
              "solidity": 0.2
             }
            },
            "type": "barpolar"
           }
          ],
          "carpet": [
           {
            "aaxis": {
             "endlinecolor": "#2a3f5f",
             "gridcolor": "white",
             "linecolor": "white",
             "minorgridcolor": "white",
             "startlinecolor": "#2a3f5f"
            },
            "baxis": {
             "endlinecolor": "#2a3f5f",
             "gridcolor": "white",
             "linecolor": "white",
             "minorgridcolor": "white",
             "startlinecolor": "#2a3f5f"
            },
            "type": "carpet"
           }
          ],
          "choropleth": [
           {
            "colorbar": {
             "outlinewidth": 0,
             "ticks": ""
            },
            "type": "choropleth"
           }
          ],
          "contour": [
           {
            "colorbar": {
             "outlinewidth": 0,
             "ticks": ""
            },
            "colorscale": [
             [
              0,
              "#0d0887"
             ],
             [
              0.1111111111111111,
              "#46039f"
             ],
             [
              0.2222222222222222,
              "#7201a8"
             ],
             [
              0.3333333333333333,
              "#9c179e"
             ],
             [
              0.4444444444444444,
              "#bd3786"
             ],
             [
              0.5555555555555556,
              "#d8576b"
             ],
             [
              0.6666666666666666,
              "#ed7953"
             ],
             [
              0.7777777777777778,
              "#fb9f3a"
             ],
             [
              0.8888888888888888,
              "#fdca26"
             ],
             [
              1,
              "#f0f921"
             ]
            ],
            "type": "contour"
           }
          ],
          "contourcarpet": [
           {
            "colorbar": {
             "outlinewidth": 0,
             "ticks": ""
            },
            "type": "contourcarpet"
           }
          ],
          "heatmap": [
           {
            "colorbar": {
             "outlinewidth": 0,
             "ticks": ""
            },
            "colorscale": [
             [
              0,
              "#0d0887"
             ],
             [
              0.1111111111111111,
              "#46039f"
             ],
             [
              0.2222222222222222,
              "#7201a8"
             ],
             [
              0.3333333333333333,
              "#9c179e"
             ],
             [
              0.4444444444444444,
              "#bd3786"
             ],
             [
              0.5555555555555556,
              "#d8576b"
             ],
             [
              0.6666666666666666,
              "#ed7953"
             ],
             [
              0.7777777777777778,
              "#fb9f3a"
             ],
             [
              0.8888888888888888,
              "#fdca26"
             ],
             [
              1,
              "#f0f921"
             ]
            ],
            "type": "heatmap"
           }
          ],
          "heatmapgl": [
           {
            "colorbar": {
             "outlinewidth": 0,
             "ticks": ""
            },
            "colorscale": [
             [
              0,
              "#0d0887"
             ],
             [
              0.1111111111111111,
              "#46039f"
             ],
             [
              0.2222222222222222,
              "#7201a8"
             ],
             [
              0.3333333333333333,
              "#9c179e"
             ],
             [
              0.4444444444444444,
              "#bd3786"
             ],
             [
              0.5555555555555556,
              "#d8576b"
             ],
             [
              0.6666666666666666,
              "#ed7953"
             ],
             [
              0.7777777777777778,
              "#fb9f3a"
             ],
             [
              0.8888888888888888,
              "#fdca26"
             ],
             [
              1,
              "#f0f921"
             ]
            ],
            "type": "heatmapgl"
           }
          ],
          "histogram": [
           {
            "marker": {
             "pattern": {
              "fillmode": "overlay",
              "size": 10,
              "solidity": 0.2
             }
            },
            "type": "histogram"
           }
          ],
          "histogram2d": [
           {
            "colorbar": {
             "outlinewidth": 0,
             "ticks": ""
            },
            "colorscale": [
             [
              0,
              "#0d0887"
             ],
             [
              0.1111111111111111,
              "#46039f"
             ],
             [
              0.2222222222222222,
              "#7201a8"
             ],
             [
              0.3333333333333333,
              "#9c179e"
             ],
             [
              0.4444444444444444,
              "#bd3786"
             ],
             [
              0.5555555555555556,
              "#d8576b"
             ],
             [
              0.6666666666666666,
              "#ed7953"
             ],
             [
              0.7777777777777778,
              "#fb9f3a"
             ],
             [
              0.8888888888888888,
              "#fdca26"
             ],
             [
              1,
              "#f0f921"
             ]
            ],
            "type": "histogram2d"
           }
          ],
          "histogram2dcontour": [
           {
            "colorbar": {
             "outlinewidth": 0,
             "ticks": ""
            },
            "colorscale": [
             [
              0,
              "#0d0887"
             ],
             [
              0.1111111111111111,
              "#46039f"
             ],
             [
              0.2222222222222222,
              "#7201a8"
             ],
             [
              0.3333333333333333,
              "#9c179e"
             ],
             [
              0.4444444444444444,
              "#bd3786"
             ],
             [
              0.5555555555555556,
              "#d8576b"
             ],
             [
              0.6666666666666666,
              "#ed7953"
             ],
             [
              0.7777777777777778,
              "#fb9f3a"
             ],
             [
              0.8888888888888888,
              "#fdca26"
             ],
             [
              1,
              "#f0f921"
             ]
            ],
            "type": "histogram2dcontour"
           }
          ],
          "mesh3d": [
           {
            "colorbar": {
             "outlinewidth": 0,
             "ticks": ""
            },
            "type": "mesh3d"
           }
          ],
          "parcoords": [
           {
            "line": {
             "colorbar": {
              "outlinewidth": 0,
              "ticks": ""
             }
            },
            "type": "parcoords"
           }
          ],
          "pie": [
           {
            "automargin": true,
            "type": "pie"
           }
          ],
          "scatter": [
           {
            "fillpattern": {
             "fillmode": "overlay",
             "size": 10,
             "solidity": 0.2
            },
            "type": "scatter"
           }
          ],
          "scatter3d": [
           {
            "line": {
             "colorbar": {
              "outlinewidth": 0,
              "ticks": ""
             }
            },
            "marker": {
             "colorbar": {
              "outlinewidth": 0,
              "ticks": ""
             }
            },
            "type": "scatter3d"
           }
          ],
          "scattercarpet": [
           {
            "marker": {
             "colorbar": {
              "outlinewidth": 0,
              "ticks": ""
             }
            },
            "type": "scattercarpet"
           }
          ],
          "scattergeo": [
           {
            "marker": {
             "colorbar": {
              "outlinewidth": 0,
              "ticks": ""
             }
            },
            "type": "scattergeo"
           }
          ],
          "scattergl": [
           {
            "marker": {
             "colorbar": {
              "outlinewidth": 0,
              "ticks": ""
             }
            },
            "type": "scattergl"
           }
          ],
          "scattermapbox": [
           {
            "marker": {
             "colorbar": {
              "outlinewidth": 0,
              "ticks": ""
             }
            },
            "type": "scattermapbox"
           }
          ],
          "scatterpolar": [
           {
            "marker": {
             "colorbar": {
              "outlinewidth": 0,
              "ticks": ""
             }
            },
            "type": "scatterpolar"
           }
          ],
          "scatterpolargl": [
           {
            "marker": {
             "colorbar": {
              "outlinewidth": 0,
              "ticks": ""
             }
            },
            "type": "scatterpolargl"
           }
          ],
          "scatterternary": [
           {
            "marker": {
             "colorbar": {
              "outlinewidth": 0,
              "ticks": ""
             }
            },
            "type": "scatterternary"
           }
          ],
          "surface": [
           {
            "colorbar": {
             "outlinewidth": 0,
             "ticks": ""
            },
            "colorscale": [
             [
              0,
              "#0d0887"
             ],
             [
              0.1111111111111111,
              "#46039f"
             ],
             [
              0.2222222222222222,
              "#7201a8"
             ],
             [
              0.3333333333333333,
              "#9c179e"
             ],
             [
              0.4444444444444444,
              "#bd3786"
             ],
             [
              0.5555555555555556,
              "#d8576b"
             ],
             [
              0.6666666666666666,
              "#ed7953"
             ],
             [
              0.7777777777777778,
              "#fb9f3a"
             ],
             [
              0.8888888888888888,
              "#fdca26"
             ],
             [
              1,
              "#f0f921"
             ]
            ],
            "type": "surface"
           }
          ],
          "table": [
           {
            "cells": {
             "fill": {
              "color": "#EBF0F8"
             },
             "line": {
              "color": "white"
             }
            },
            "header": {
             "fill": {
              "color": "#C8D4E3"
             },
             "line": {
              "color": "white"
             }
            },
            "type": "table"
           }
          ]
         },
         "layout": {
          "annotationdefaults": {
           "arrowcolor": "#2a3f5f",
           "arrowhead": 0,
           "arrowwidth": 1
          },
          "autotypenumbers": "strict",
          "coloraxis": {
           "colorbar": {
            "outlinewidth": 0,
            "ticks": ""
           }
          },
          "colorscale": {
           "diverging": [
            [
             0,
             "#8e0152"
            ],
            [
             0.1,
             "#c51b7d"
            ],
            [
             0.2,
             "#de77ae"
            ],
            [
             0.3,
             "#f1b6da"
            ],
            [
             0.4,
             "#fde0ef"
            ],
            [
             0.5,
             "#f7f7f7"
            ],
            [
             0.6,
             "#e6f5d0"
            ],
            [
             0.7,
             "#b8e186"
            ],
            [
             0.8,
             "#7fbc41"
            ],
            [
             0.9,
             "#4d9221"
            ],
            [
             1,
             "#276419"
            ]
           ],
           "sequential": [
            [
             0,
             "#0d0887"
            ],
            [
             0.1111111111111111,
             "#46039f"
            ],
            [
             0.2222222222222222,
             "#7201a8"
            ],
            [
             0.3333333333333333,
             "#9c179e"
            ],
            [
             0.4444444444444444,
             "#bd3786"
            ],
            [
             0.5555555555555556,
             "#d8576b"
            ],
            [
             0.6666666666666666,
             "#ed7953"
            ],
            [
             0.7777777777777778,
             "#fb9f3a"
            ],
            [
             0.8888888888888888,
             "#fdca26"
            ],
            [
             1,
             "#f0f921"
            ]
           ],
           "sequentialminus": [
            [
             0,
             "#0d0887"
            ],
            [
             0.1111111111111111,
             "#46039f"
            ],
            [
             0.2222222222222222,
             "#7201a8"
            ],
            [
             0.3333333333333333,
             "#9c179e"
            ],
            [
             0.4444444444444444,
             "#bd3786"
            ],
            [
             0.5555555555555556,
             "#d8576b"
            ],
            [
             0.6666666666666666,
             "#ed7953"
            ],
            [
             0.7777777777777778,
             "#fb9f3a"
            ],
            [
             0.8888888888888888,
             "#fdca26"
            ],
            [
             1,
             "#f0f921"
            ]
           ]
          },
          "colorway": [
           "#636efa",
           "#EF553B",
           "#00cc96",
           "#ab63fa",
           "#FFA15A",
           "#19d3f3",
           "#FF6692",
           "#B6E880",
           "#FF97FF",
           "#FECB52"
          ],
          "font": {
           "color": "#2a3f5f"
          },
          "geo": {
           "bgcolor": "white",
           "lakecolor": "white",
           "landcolor": "#E5ECF6",
           "showlakes": true,
           "showland": true,
           "subunitcolor": "white"
          },
          "hoverlabel": {
           "align": "left"
          },
          "hovermode": "closest",
          "mapbox": {
           "style": "light"
          },
          "paper_bgcolor": "white",
          "plot_bgcolor": "#E5ECF6",
          "polar": {
           "angularaxis": {
            "gridcolor": "white",
            "linecolor": "white",
            "ticks": ""
           },
           "bgcolor": "#E5ECF6",
           "radialaxis": {
            "gridcolor": "white",
            "linecolor": "white",
            "ticks": ""
           }
          },
          "scene": {
           "xaxis": {
            "backgroundcolor": "#E5ECF6",
            "gridcolor": "white",
            "gridwidth": 2,
            "linecolor": "white",
            "showbackground": true,
            "ticks": "",
            "zerolinecolor": "white"
           },
           "yaxis": {
            "backgroundcolor": "#E5ECF6",
            "gridcolor": "white",
            "gridwidth": 2,
            "linecolor": "white",
            "showbackground": true,
            "ticks": "",
            "zerolinecolor": "white"
           },
           "zaxis": {
            "backgroundcolor": "#E5ECF6",
            "gridcolor": "white",
            "gridwidth": 2,
            "linecolor": "white",
            "showbackground": true,
            "ticks": "",
            "zerolinecolor": "white"
           }
          },
          "shapedefaults": {
           "line": {
            "color": "#2a3f5f"
           }
          },
          "ternary": {
           "aaxis": {
            "gridcolor": "white",
            "linecolor": "white",
            "ticks": ""
           },
           "baxis": {
            "gridcolor": "white",
            "linecolor": "white",
            "ticks": ""
           },
           "bgcolor": "#E5ECF6",
           "caxis": {
            "gridcolor": "white",
            "linecolor": "white",
            "ticks": ""
           }
          },
          "title": {
           "x": 0.05
          },
          "xaxis": {
           "automargin": true,
           "gridcolor": "white",
           "linecolor": "white",
           "ticks": "",
           "title": {
            "standoff": 15
           },
           "zerolinecolor": "white",
           "zerolinewidth": 2
          },
          "yaxis": {
           "automargin": true,
           "gridcolor": "white",
           "linecolor": "white",
           "ticks": "",
           "title": {
            "standoff": 15
           },
           "zerolinecolor": "white",
           "zerolinewidth": 2
          }
         }
        },
        "xaxis": {
         "anchor": "y",
         "domain": [
          0,
          1
         ],
         "title": {
          "text": "University Name"
         }
        },
        "yaxis": {
         "anchor": "x",
         "domain": [
          0,
          1
         ],
         "range": [
          1965,
          2002
         ],
         "title": {
          "text": "Employability Score"
         }
        }
       }
      }
     },
     "metadata": {},
     "output_type": "display_data"
    }
   ],
   "source": [
    "#Answer Q-b\n",
    "filtered_df3.sort_values('Employability Rank')\n",
    "fig = px.bar(filtered_df3.sort_values('Total Score', ascending=False).head(10), x='University Name', y='Employability Score',color_discrete_sequence=px.colors.qualitative.Pastel, range_y=[1965, 2002])\n",
    "fig.show()"
   ]
  },
  {
   "cell_type": "code",
   "execution_count": 408,
   "metadata": {},
   "outputs": [
    {
     "data": {
      "text/html": [
       "<div>\n",
       "<style scoped>\n",
       "    .dataframe tbody tr th:only-of-type {\n",
       "        vertical-align: middle;\n",
       "    }\n",
       "\n",
       "    .dataframe tbody tr th {\n",
       "        vertical-align: top;\n",
       "    }\n",
       "\n",
       "    .dataframe thead th {\n",
       "        text-align: right;\n",
       "    }\n",
       "</style>\n",
       "<table border=\"1\" class=\"dataframe\">\n",
       "  <thead>\n",
       "    <tr style=\"text-align: right;\">\n",
       "      <th></th>\n",
       "      <th>Rank</th>\n",
       "      <th>University Name</th>\n",
       "      <th>Location</th>\n",
       "      <th>National Rank</th>\n",
       "      <th>Educational Rank</th>\n",
       "      <th>Employability Rank</th>\n",
       "      <th>Faculty Rank</th>\n",
       "      <th>Research Rank</th>\n",
       "      <th>Total Score</th>\n",
       "      <th>World Ratio</th>\n",
       "    </tr>\n",
       "  </thead>\n",
       "  <tbody>\n",
       "    <tr>\n",
       "      <th>0</th>\n",
       "      <td>1</td>\n",
       "      <td>Harvard University</td>\n",
       "      <td>USA</td>\n",
       "      <td>1</td>\n",
       "      <td>1</td>\n",
       "      <td>1</td>\n",
       "      <td>1</td>\n",
       "      <td>1</td>\n",
       "      <td>100.0</td>\n",
       "      <td>0.1</td>\n",
       "    </tr>\n",
       "    <tr>\n",
       "      <th>1</th>\n",
       "      <td>2</td>\n",
       "      <td>Massachusetts Institute of Technology</td>\n",
       "      <td>USA</td>\n",
       "      <td>2</td>\n",
       "      <td>4</td>\n",
       "      <td>12</td>\n",
       "      <td>3</td>\n",
       "      <td>9</td>\n",
       "      <td>96.7</td>\n",
       "      <td>0.1</td>\n",
       "    </tr>\n",
       "    <tr>\n",
       "      <th>2</th>\n",
       "      <td>3</td>\n",
       "      <td>Stanford University</td>\n",
       "      <td>USA</td>\n",
       "      <td>3</td>\n",
       "      <td>11</td>\n",
       "      <td>4</td>\n",
       "      <td>2</td>\n",
       "      <td>2</td>\n",
       "      <td>95.2</td>\n",
       "      <td>0.1</td>\n",
       "    </tr>\n",
       "    <tr>\n",
       "      <th>3</th>\n",
       "      <td>4</td>\n",
       "      <td>University of Cambridge</td>\n",
       "      <td>United Kingdom</td>\n",
       "      <td>1</td>\n",
       "      <td>3</td>\n",
       "      <td>25</td>\n",
       "      <td>5</td>\n",
       "      <td>11</td>\n",
       "      <td>94.1</td>\n",
       "      <td>0.1</td>\n",
       "    </tr>\n",
       "    <tr>\n",
       "      <th>4</th>\n",
       "      <td>5</td>\n",
       "      <td>University of Oxford</td>\n",
       "      <td>United Kingdom</td>\n",
       "      <td>2</td>\n",
       "      <td>7</td>\n",
       "      <td>27</td>\n",
       "      <td>9</td>\n",
       "      <td>4</td>\n",
       "      <td>93.3</td>\n",
       "      <td>0.1</td>\n",
       "    </tr>\n",
       "  </tbody>\n",
       "</table>\n",
       "</div>"
      ],
      "text/plain": [
       "   Rank                        University Name        Location  National Rank  \\\n",
       "0     1                     Harvard University             USA              1   \n",
       "1     2  Massachusetts Institute of Technology             USA              2   \n",
       "2     3                    Stanford University             USA              3   \n",
       "3     4                University of Cambridge  United Kingdom              1   \n",
       "4     5                   University of Oxford  United Kingdom              2   \n",
       "\n",
       "   Educational Rank  Employability Rank  Faculty Rank  Research Rank  \\\n",
       "0                 1                   1             1              1   \n",
       "1                 4                  12             3              9   \n",
       "2                11                   4             2              2   \n",
       "3                 3                  25             5             11   \n",
       "4                 7                  27             9              4   \n",
       "\n",
       "   Total Score  World Ratio  \n",
       "0        100.0          0.1  \n",
       "1         96.7          0.1  \n",
       "2         95.2          0.1  \n",
       "3         94.1          0.1  \n",
       "4         93.3          0.1  "
      ]
     },
     "execution_count": 408,
     "metadata": {},
     "output_type": "execute_result"
    }
   ],
   "source": [
    "Uni_df['CWUR'].head()"
   ]
  },
  {
   "cell_type": "code",
   "execution_count": 409,
   "metadata": {},
   "outputs": [
    {
     "data": {
      "application/vnd.plotly.v1+json": {
       "config": {
        "plotlyServerURL": "https://plot.ly"
       },
       "data": [
        {
         "alignmentgroup": "True",
         "hovertemplate": "Total Score=%{y}<extra></extra>",
         "legendgroup": "",
         "marker": {
          "color": "rgb(102, 197, 204)"
         },
         "name": "",
         "notched": false,
         "offsetgroup": "",
         "orientation": "v",
         "showlegend": false,
         "type": "box",
         "x0": " ",
         "xaxis": "x",
         "y": [
          100,
          96.7,
          95.2,
          94.1,
          93.3,
          92.6,
          92.1,
          91.6,
          91.2,
          90.8,
          90.4,
          90.1,
          89.8,
          89.5,
          89.3,
          89.1,
          88.8,
          88.6,
          88.4,
          88.2,
          88,
          87.9,
          87.7,
          87.5,
          87.4,
          87.2,
          87.1,
          87,
          86.8,
          86.7,
          86.6,
          86.4,
          86.3,
          86.2,
          86.1,
          86,
          85.9,
          85.8,
          85.7,
          85.6,
          85.5,
          85.4,
          85.3,
          85.2,
          85.1,
          85,
          84.9,
          84.9,
          84.8,
          84.7,
          84.6,
          84.5,
          84.5,
          84.4,
          84.3,
          84.2,
          84.2,
          84.1,
          84,
          84,
          83.9,
          83.8,
          83.8,
          83.7,
          83.6,
          83.6,
          83.5,
          83.5,
          83.4,
          83.3,
          83.3,
          83.2,
          83.2,
          83.1,
          83,
          83,
          82.9,
          82.9,
          82.8,
          82.8,
          82.7,
          82.7,
          82.6,
          82.6,
          82.5,
          82.5,
          82.4,
          82.4,
          82.3,
          82.3,
          82.2,
          82.2,
          82.1,
          82.1,
          82.1,
          82,
          82,
          81.9,
          81.9,
          81.8,
          81.8,
          81.8,
          81.7,
          81.7,
          81.6,
          81.6,
          81.6,
          81.5,
          81.5,
          81.4,
          81.4,
          81.4,
          81.3,
          81.3,
          81.2,
          81.2,
          81.2,
          81.1,
          81.1,
          81.1,
          81,
          81,
          80.9,
          80.9,
          80.9,
          80.8,
          80.8,
          80.8,
          80.7,
          80.7,
          80.7,
          80.6,
          80.6,
          80.6,
          80.5,
          80.5,
          80.5,
          80.4,
          80.4,
          80.4,
          80.3,
          80.3,
          80.3,
          80.3,
          80.2,
          80.2,
          80.2,
          80.1,
          80.1,
          80.1,
          80,
          80,
          80,
          80,
          79.9,
          79.9,
          79.9,
          79.8,
          79.8,
          79.8,
          79.8,
          79.7,
          79.7,
          79.7,
          79.6,
          79.6,
          79.6,
          79.6,
          79.5,
          79.5,
          79.5,
          79.5,
          79.4,
          79.4,
          79.4,
          79.4,
          79.3,
          79.3,
          79.3,
          79.3,
          79.2,
          79.2,
          79.2,
          79.2,
          79.1,
          79.1,
          79.1,
          79.1,
          79,
          79,
          79,
          79,
          78.9,
          78.9,
          78.9,
          78.9,
          78.8,
          78.8,
          78.8,
          78.8,
          78.7,
          78.7,
          78.7,
          78.7,
          78.7,
          78.6,
          78.6,
          78.6,
          78.6,
          78.5,
          78.5,
          78.5,
          78.5,
          78.5,
          78.4,
          78.4,
          78.4,
          78.4,
          78.3,
          78.3,
          78.3,
          78.3,
          78.3,
          78.2,
          78.2,
          78.2,
          78.2,
          78.2,
          78.1,
          78.1,
          78.1,
          78.1,
          78.1,
          78,
          78,
          78,
          78,
          78,
          77.9,
          77.9,
          77.9,
          77.9,
          77.9,
          77.8,
          77.8,
          77.8,
          77.8,
          77.8,
          77.7,
          77.7,
          77.7,
          77.7,
          77.7,
          77.7,
          77.6,
          77.6,
          77.6,
          77.6,
          77.6,
          77.5,
          77.5,
          77.5,
          77.5,
          77.5,
          77.4,
          77.4,
          77.4,
          77.4,
          77.4,
          77.4,
          77.3,
          77.3,
          77.3,
          77.3,
          77.3,
          77.3,
          77.2,
          77.2,
          77.2,
          77.2,
          77.2,
          77.1,
          77.1,
          77.1,
          77.1,
          77.1,
          77.1,
          77,
          77,
          77,
          77,
          77,
          77,
          76.9,
          76.9,
          76.9,
          76.9,
          76.9,
          76.9,
          76.8,
          76.8,
          76.8,
          76.8,
          76.8,
          76.8,
          76.8,
          76.7,
          76.7,
          76.7,
          76.7,
          76.7,
          76.7,
          76.6,
          76.6,
          76.6,
          76.6,
          76.6,
          76.6,
          76.5,
          76.5,
          76.5,
          76.5,
          76.5,
          76.5,
          76.5,
          76.4,
          76.4,
          76.4,
          76.4,
          76.4,
          76.4,
          76.4,
          76.3,
          76.3,
          76.3,
          76.3,
          76.3,
          76.3,
          76.2,
          76.2,
          76.2,
          76.2,
          76.2,
          76.2,
          76.2,
          76.1,
          76.1,
          76.1,
          76.1,
          76.1,
          76.1,
          76.1,
          76,
          76,
          76,
          76,
          76,
          76,
          76,
          76,
          75.9,
          75.9,
          75.9,
          75.9,
          75.9,
          75.9,
          75.9,
          75.8,
          75.8,
          75.8,
          75.8,
          75.8,
          75.8,
          75.8,
          75.7,
          75.7,
          75.7,
          75.7,
          75.7,
          75.7,
          75.7,
          75.7,
          75.6,
          75.6,
          75.6,
          75.6,
          75.6,
          75.6,
          75.6,
          75.5,
          75.5,
          75.5,
          75.5,
          75.5,
          75.5,
          75.5,
          75.5,
          75.4,
          75.4,
          75.4,
          75.4,
          75.4,
          75.4,
          75.4,
          75.4,
          75.3,
          75.3,
          75.3,
          75.3,
          75.3,
          75.3,
          75.3,
          75.3,
          75.2,
          75.2,
          75.2,
          75.2,
          75.2,
          75.2,
          75.2,
          75.2,
          75.1,
          75.1,
          75.1,
          75.1,
          75.1,
          75.1,
          75.1,
          75.1,
          75.1,
          75,
          75,
          75,
          75,
          75,
          75,
          75,
          75,
          74.9,
          74.9,
          74.9,
          74.9,
          74.9,
          74.9,
          74.9,
          74.9,
          74.9,
          74.8,
          74.8,
          74.8,
          74.8,
          74.8,
          74.8,
          74.8,
          74.8,
          74.7,
          74.7,
          74.7,
          74.7,
          74.7,
          74.7,
          74.7,
          74.7,
          74.7,
          74.6,
          74.6,
          74.6,
          74.6,
          74.6,
          74.6,
          74.6,
          74.6,
          74.6,
          74.5,
          74.5,
          74.5,
          74.5,
          74.5,
          74.5,
          74.5,
          74.5,
          74.5,
          74.5,
          74.4,
          74.4,
          74.4,
          74.4,
          74.4,
          74.4,
          74.4,
          74.4,
          74.4,
          74.3,
          74.3,
          74.3,
          74.3,
          74.3,
          74.3,
          74.3,
          74.3,
          74.3,
          74.2,
          74.2,
          74.2,
          74.2,
          74.2,
          74.2,
          74.2,
          74.2,
          74.2,
          74.2,
          74.1,
          74.1,
          74.1,
          74.1,
          74.1,
          74.1,
          74.1,
          74.1,
          74.1,
          74.1,
          74,
          74,
          74,
          74,
          74,
          74,
          74,
          74,
          74,
          74,
          73.9,
          73.9,
          73.9,
          73.9,
          73.9,
          73.9,
          73.9,
          73.9,
          73.9,
          73.9,
          73.8,
          73.8,
          73.8,
          73.8,
          73.8,
          73.8,
          73.8,
          73.8,
          73.8,
          73.8,
          73.7,
          73.7,
          73.7,
          73.7,
          73.7,
          73.7,
          73.7,
          73.7,
          73.7,
          73.7,
          73.7,
          73.6,
          73.6,
          73.6,
          73.6,
          73.6,
          73.6,
          73.6,
          73.6,
          73.6,
          73.6,
          73.5,
          73.5,
          73.5,
          73.5,
          73.5,
          73.5,
          73.5,
          73.5,
          73.5,
          73.5,
          73.5,
          73.4,
          73.4,
          73.4,
          73.4,
          73.4,
          73.4,
          73.4,
          73.4,
          73.4,
          73.4,
          73.4,
          73.3,
          73.3,
          73.3,
          73.3,
          73.3,
          73.3,
          73.3,
          73.3,
          73.3,
          73.3,
          73.3,
          73.2,
          73.2,
          73.2,
          73.2,
          73.2,
          73.2,
          73.2,
          73.2,
          73.2,
          73.2,
          73.2,
          73.1,
          73.1,
          73.1,
          73.1,
          73.1,
          73.1,
          73.1,
          73.1,
          73.1,
          73.1,
          73.1,
          73.1,
          73,
          73,
          73,
          73,
          73,
          73,
          73,
          73,
          73,
          73,
          73,
          72.9,
          72.9,
          72.9,
          72.9,
          72.9,
          72.9,
          72.9,
          72.9,
          72.9,
          72.9,
          72.9,
          72.9,
          72.8,
          72.8,
          72.8,
          72.8,
          72.8,
          72.8,
          72.8,
          72.8,
          72.8,
          72.8,
          72.8,
          72.8,
          72.7,
          72.7,
          72.7,
          72.7,
          72.7,
          72.7,
          72.7,
          72.7,
          72.7,
          72.7,
          72.7,
          72.7,
          72.6,
          72.6,
          72.6,
          72.6,
          72.6,
          72.6,
          72.6,
          72.6,
          72.6,
          72.6,
          72.6,
          72.6,
          72.6,
          72.5,
          72.5,
          72.5,
          72.5,
          72.5,
          72.5,
          72.5,
          72.5,
          72.5,
          72.5,
          72.5,
          72.5,
          72.4,
          72.4,
          72.4,
          72.4,
          72.4,
          72.4,
          72.4,
          72.4,
          72.4,
          72.4,
          72.4,
          72.4,
          72.4,
          72.3,
          72.3,
          72.3,
          72.3,
          72.3,
          72.3,
          72.3,
          72.3,
          72.3,
          72.3,
          72.3,
          72.3,
          72.3,
          72.2,
          72.2,
          72.2,
          72.2,
          72.2,
          72.2,
          72.2,
          72.2,
          72.2,
          72.2,
          72.2,
          72.2,
          72.2,
          72.1,
          72.1,
          72.1,
          72.1,
          72.1,
          72.1,
          72.1,
          72.1,
          72.1,
          72.1,
          72.1,
          72.1,
          72.1,
          72,
          72,
          72,
          72,
          72,
          72,
          72,
          72,
          72,
          72,
          72,
          72,
          72,
          71.9,
          71.9,
          71.9,
          71.9,
          71.9,
          71.9,
          71.9,
          71.9,
          71.9,
          71.9,
          71.9,
          71.9,
          71.9,
          71.9,
          71.8,
          71.8,
          71.8,
          71.8,
          71.8,
          71.8,
          71.8,
          71.8,
          71.8,
          71.8,
          71.8,
          71.8,
          71.8,
          71.8,
          71.7,
          71.7,
          71.7,
          71.7,
          71.7,
          71.7,
          71.7,
          71.7,
          71.7,
          71.7,
          71.7,
          71.7,
          71.7,
          71.7,
          71.6,
          71.6,
          71.6,
          71.6,
          71.6,
          71.6,
          71.6,
          71.6,
          71.6,
          71.6,
          71.6,
          71.6,
          71.6,
          71.6,
          71.5,
          71.5,
          71.5,
          71.5,
          71.5,
          71.5,
          71.5,
          71.5,
          71.5,
          71.5,
          71.5,
          71.5,
          71.5,
          71.5,
          71.5,
          71.4,
          71.4,
          71.4,
          71.4,
          71.4,
          71.4,
          71.4,
          71.4,
          71.4,
          71.4,
          71.4,
          71.4,
          71.4,
          71.4,
          71.4,
          71.3,
          71.3,
          71.3,
          71.3,
          71.3,
          71.3,
          71.3,
          71.3,
          71.3,
          71.3,
          71.3,
          71.3,
          71.3,
          71.3,
          71.2,
          71.2,
          71.2,
          71.2,
          71.2,
          71.2,
          71.2,
          71.2,
          71.2,
          71.2,
          71.2,
          71.2,
          71.2,
          71.2,
          71.2,
          71.2,
          71.1,
          71.1,
          71.1,
          71.1,
          71.1,
          71.1,
          71.1,
          71.1,
          71.1,
          71.1,
          71.1,
          71.1,
          71.1,
          71.1,
          71.1,
          71,
          71,
          71,
          71,
          71,
          71,
          71,
          71,
          71,
          71,
          71,
          71,
          71,
          71,
          71,
          70.9,
          70.9,
          70.9,
          70.9,
          70.9,
          70.9,
          70.9,
          70.9,
          70.9,
          70.9,
          70.9,
          70.9,
          70.9,
          70.9,
          70.9,
          70.9,
          70.8,
          70.8,
          70.8,
          70.8,
          70.8,
          70.8,
          70.8,
          70.8,
          70.8,
          70.8,
          70.8,
          70.8,
          70.8,
          70.8,
          70.8,
          70.8,
          70.7,
          70.7,
          70.7,
          70.7,
          70.7,
          70.7,
          70.7,
          70.7,
          70.7,
          70.7,
          70.7,
          70.7,
          70.7,
          70.7,
          70.7,
          70.7,
          70.6,
          70.6,
          70.6,
          70.6,
          70.6,
          70.6,
          70.6,
          70.6,
          70.6,
          70.6,
          70.6,
          70.6,
          70.6,
          70.6,
          70.6,
          70.6,
          70.6,
          70.5,
          70.5,
          70.5,
          70.5,
          70.5,
          70.5,
          70.5,
          70.5,
          70.5,
          70.5,
          70.5,
          70.5,
          70.5,
          70.5,
          70.5,
          70.5,
          70.4,
          70.4,
          70.4,
          70.4,
          70.4,
          70.4,
          70.4,
          70.4,
          70.4,
          70.4,
          70.4,
          70.4,
          70.4,
          70.4,
          70.4,
          70.4,
          70.4,
          70.3,
          70.3,
          70.3,
          70.3,
          70.3,
          70.3,
          70.3,
          70.3,
          70.3,
          70.3,
          70.3,
          70.3,
          70.3,
          70.3,
          70.3,
          70.3,
          70.3,
          70.2,
          70.2,
          70.2,
          70.2,
          70.2,
          70.2,
          70.2,
          70.2,
          70.2,
          70.2,
          70.2,
          70.2,
          70.2,
          70.2,
          70.2,
          70.2,
          70.2,
          70.2,
          70.1,
          70.1,
          70.1,
          70.1,
          70.1,
          70.1,
          70.1,
          70.1,
          70.1,
          70.1,
          70.1,
          70.1,
          70.1,
          70.1,
          70.1,
          70.1,
          70.1,
          70,
          70,
          70,
          70,
          70,
          70,
          70,
          70,
          70,
          70,
          70,
          70,
          70,
          70,
          70,
          70,
          70,
          70,
          69.9,
          69.9,
          69.9,
          69.9,
          69.9,
          69.9,
          69.9,
          69.9,
          69.9,
          69.9,
          69.9,
          69.9,
          69.9,
          69.9,
          69.9,
          69.9,
          69.9,
          69.9,
          69.8,
          69.8,
          69.8,
          69.8,
          69.8,
          69.8,
          69.8,
          69.8,
          69.8,
          69.8,
          69.8,
          69.8,
          69.8,
          69.8,
          69.8,
          69.8,
          69.8,
          69.8,
          69.7,
          69.7,
          69.7,
          69.7,
          69.7,
          69.7,
          69.7,
          69.7,
          69.7,
          69.7,
          69.7,
          69.7,
          69.7,
          69.7,
          69.7,
          69.7,
          69.7,
          69.7,
          69.7,
          69.6,
          69.6,
          69.6,
          69.6,
          69.6,
          69.6,
          69.6,
          69.6,
          69.6,
          69.6,
          69.6,
          69.6,
          69.6,
          69.6,
          69.6,
          69.6,
          69.6,
          69.6,
          69.5,
          69.5,
          69.5,
          69.5,
          69.5,
          69.5,
          69.5,
          69.5,
          69.5,
          69.5,
          69.5,
          69.5,
          69.5,
          69.5,
          69.5,
          69.5,
          69.5,
          69.5,
          69.5,
          69.4,
          69.4,
          69.4,
          69.4,
          69.4,
          69.4,
          69.4,
          69.4,
          69.4,
          69.4,
          69.4,
          69.4,
          69.4,
          69.4,
          69.4,
          69.4,
          69.4,
          69.4,
          69.4,
          69.4,
          69.3,
          69.3,
          69.3,
          69.3,
          69.3,
          69.3,
          69.3,
          69.3,
          69.3,
          69.3,
          69.3,
          69.3,
          69.3,
          69.3,
          69.3,
          69.3,
          69.3,
          69.3,
          69.3,
          69.2,
          69.2,
          69.2,
          69.2,
          69.2,
          69.2,
          69.2,
          69.2,
          69.2,
          69.2,
          69.2,
          69.2,
          69.2,
          69.2,
          69.2,
          69.2,
          69.2,
          69.2,
          69.2,
          69.2,
          69.1,
          69.1,
          69.1,
          69.1,
          69.1,
          69.1,
          69.1,
          69.1,
          69.1,
          69.1,
          69.1,
          69.1,
          69.1,
          69.1,
          69.1,
          69.1,
          69.1,
          69.1,
          69.1,
          69.1,
          69,
          69,
          69,
          69,
          69,
          69,
          69,
          69,
          69,
          69,
          69,
          69,
          69,
          69,
          69,
          69,
          69,
          69,
          69,
          69,
          68.9,
          68.9,
          68.9,
          68.9,
          68.9,
          68.9,
          68.9,
          68.9,
          68.9,
          68.9,
          68.9,
          68.9,
          68.9,
          68.9,
          68.9,
          68.9,
          68.9,
          68.9,
          68.9,
          68.9,
          68.8,
          68.8,
          68.8,
          68.8,
          68.8,
          68.8,
          68.8,
          68.8,
          68.8,
          68.8,
          68.8,
          68.8,
          68.8,
          68.8,
          68.8,
          68.8,
          68.8,
          68.8,
          68.8,
          68.8,
          68.8,
          68.7,
          68.7,
          68.7,
          68.7,
          68.7,
          68.7,
          68.7,
          68.7,
          68.7,
          68.7,
          68.7,
          68.7,
          68.7,
          68.7,
          68.7,
          68.7,
          68.7,
          68.7,
          68.7,
          68.7,
          68.7,
          68.6,
          68.6,
          68.6,
          68.6,
          68.6,
          68.6,
          68.6,
          68.6,
          68.6,
          68.6,
          68.6,
          68.6,
          68.6,
          68.6,
          68.6,
          68.6,
          68.6,
          68.6,
          68.6,
          68.6,
          68.6,
          68.5,
          68.5,
          68.5,
          68.5,
          68.5,
          68.5,
          68.5,
          68.5,
          68.5,
          68.5,
          68.5,
          68.5,
          68.5,
          68.5,
          68.5,
          68.5,
          68.5,
          68.5,
          68.5,
          68.5,
          68.5,
          68.5,
          68.4,
          68.4,
          68.4,
          68.4,
          68.4,
          68.4,
          68.4,
          68.4,
          68.4,
          68.4,
          68.4,
          68.4,
          68.4,
          68.4,
          68.4,
          68.4,
          68.4,
          68.4,
          68.4,
          68.4,
          68.4,
          68.4,
          68.3,
          68.3,
          68.3,
          68.3,
          68.3,
          68.3,
          68.3,
          68.3,
          68.3,
          68.3,
          68.3,
          68.3,
          68.3,
          68.3,
          68.3,
          68.3,
          68.3,
          68.3,
          68.3,
          68.3,
          68.3,
          68.3,
          68.2,
          68.2,
          68.2,
          68.2,
          68.2,
          68.2,
          68.2,
          68.2,
          68.2,
          68.2,
          68.2,
          68.2,
          68.2,
          68.2,
          68.2,
          68.2,
          68.2,
          68.2,
          68.2,
          68.2,
          68.2,
          68.2,
          68.1,
          68.1,
          68.1,
          68.1,
          68.1,
          68.1,
          68.1,
          68.1,
          68.1,
          68.1,
          68.1,
          68.1,
          68.1,
          68.1,
          68.1,
          68.1,
          68.1,
          68.1,
          68.1,
          68.1,
          68.1,
          68.1,
          68.1,
          68,
          68,
          68,
          68,
          68,
          68,
          68,
          68,
          68,
          68,
          68,
          68,
          68,
          68,
          68,
          68,
          68,
          68,
          68,
          68,
          68,
          68,
          67.9,
          67.9,
          67.9,
          67.9,
          67.9,
          67.9,
          67.9,
          67.9,
          67.9,
          67.9,
          67.9,
          67.9,
          67.9,
          67.9,
          67.9,
          67.9,
          67.9,
          67.9,
          67.9,
          67.9,
          67.9,
          67.9,
          67.9,
          67.9,
          67.8,
          67.8,
          67.8,
          67.8,
          67.8,
          67.8,
          67.8,
          67.8,
          67.8,
          67.8,
          67.8,
          67.8,
          67.8,
          67.8,
          67.8,
          67.8,
          67.8,
          67.8,
          67.8,
          67.8,
          67.8,
          67.8,
          67.8,
          67.7,
          67.7,
          67.7,
          67.7,
          67.7,
          67.7,
          67.7,
          67.7,
          67.7,
          67.7,
          67.7,
          67.7,
          67.7,
          67.7,
          67.7,
          67.7,
          67.7,
          67.7,
          67.7,
          67.7,
          67.7,
          67.7,
          67.7,
          67.7,
          67.6,
          67.6,
          67.6,
          67.6,
          67.6,
          67.6,
          67.6,
          67.6,
          67.6,
          67.6,
          67.6,
          67.6,
          67.6,
          67.6,
          67.6,
          67.6,
          67.6,
          67.6,
          67.6,
          67.6,
          67.6,
          67.6,
          67.6,
          67.6,
          67.5,
          67.5,
          67.5,
          67.5,
          67.5,
          67.5,
          67.5,
          67.5,
          67.5,
          67.5,
          67.5,
          67.5,
          67.5,
          67.5,
          67.5,
          67.5,
          67.5,
          67.5,
          67.5,
          67.5,
          67.5,
          67.5,
          67.5,
          67.5,
          67.4,
          67.4,
          67.4,
          67.4,
          67.4,
          67.4,
          67.4,
          67.4,
          67.4,
          67.4,
          67.4,
          67.4,
          67.4,
          67.4,
          67.4,
          67.4,
          67.4,
          67.4,
          67.4,
          67.4,
          67.4,
          67.4,
          67.4,
          67.4,
          67.3,
          67.3,
          67.3,
          67.3,
          67.3,
          67.3,
          67.3,
          67.3,
          67.3,
          67.3,
          67.3,
          67.3,
          67.3,
          67.3,
          67.3,
          67.3,
          67.3,
          67.3,
          67.3,
          67.3,
          67.3,
          67.3,
          67.3,
          67.3,
          67.3,
          67.2,
          67.2,
          67.2,
          67.2,
          67.2,
          67.2,
          67.2,
          67.2,
          67.2,
          67.2,
          67.2,
          67.2,
          67.2,
          67.2,
          67.2,
          67.2,
          67.2,
          67.2,
          67.2,
          67.2,
          67.2,
          67.2,
          67.2,
          67.2,
          67.2,
          67.1,
          67.1,
          67.1,
          67.1,
          67.1,
          67.1,
          67.1,
          67.1,
          67.1,
          67.1,
          67.1,
          67.1,
          67.1,
          67.1,
          67.1,
          67.1,
          67.1,
          67.1,
          67.1,
          67.1,
          67.1,
          67.1,
          67.1,
          67.1,
          67.1,
          67,
          67,
          67,
          67,
          67,
          67,
          67,
          67,
          67,
          67,
          67,
          67,
          67,
          67,
          67,
          67,
          67,
          67,
          67,
          67,
          67,
          67,
          67,
          67,
          67,
          67,
          66.9,
          66.9,
          66.9,
          66.9,
          66.9,
          66.9,
          66.9,
          66.9,
          66.9,
          66.9,
          66.9,
          66.9,
          66.9,
          66.9,
          66.9,
          66.9,
          66.9,
          66.9,
          66.9,
          66.9,
          66.9,
          66.9,
          66.9,
          66.9,
          66.9,
          66.9,
          66.8,
          66.8,
          66.8,
          66.8,
          66.8,
          66.8,
          66.8,
          66.8,
          66.8,
          66.8,
          66.8,
          66.8,
          66.8,
          66.8,
          66.8,
          66.8,
          66.8,
          66.8,
          66.8,
          66.8,
          66.8,
          66.8,
          66.8,
          66.8,
          66.8,
          66.8,
          66.7,
          66.7,
          66.7,
          66.7,
          66.7,
          66.7,
          66.7,
          66.7,
          66.7,
          66.7,
          66.7,
          66.7,
          66.7,
          66.7,
          66.7,
          66.7,
          66.7,
          66.7,
          66.7,
          66.7,
          66.7,
          66.7,
          66.7,
          66.7,
          66.7,
          66.7,
          66.7,
          66.6,
          66.6,
          66.6,
          66.6,
          66.6,
          66.6,
          66.6,
          66.6,
          66.6,
          66.6,
          66.6,
          66.6,
          66.6,
          66.6,
          66.6,
          66.6,
          66.6,
          66.6,
          66.6,
          66.6,
          66.6,
          66.6,
          66.6,
          66.6,
          66.6,
          66.6,
          66.6,
          66.5,
          66.5,
          66.5,
          66.5,
          66.5,
          66.5,
          66.5,
          66.5,
          66.5,
          66.5,
          66.5,
          66.5,
          66.5,
          66.5,
          66.5,
          66.5,
          66.5,
          66.5,
          66.5,
          66.5,
          66.5,
          66.5,
          66.5,
          66.5,
          66.5,
          66.5,
          66.5,
          66.4,
          66.4,
          66.4,
          66.4,
          66.4,
          66.4,
          66.4,
          66.4,
          66.4,
          66.4,
          66.4,
          66.4,
          66.4,
          66.4,
          66.4,
          66.4,
          66.4,
          66.4,
          66.4,
          66.4,
          66.4,
          66.4,
          66.4,
          66.4,
          66.4,
          66.4,
          66.4,
          66.3,
          66.3,
          66.3,
          66.3,
          66.3,
          66.3,
          66.3,
          66.3,
          66.3,
          66.3,
          66.3,
          66.3,
          66.3,
          66.3,
          66.3,
          66.3,
          66.3,
          66.3,
          66.3,
          66.3,
          66.3,
          66.3,
          66.3,
          66.3,
          66.3,
          66.3,
          66.3,
          66.3,
          66.2,
          66.2,
          66.2,
          66.2,
          66.2,
          66.2,
          66.2,
          66.2,
          66.2,
          66.2,
          66.2,
          66.2,
          66.2,
          66.2,
          66.2,
          66.2,
          66.2,
          66.2,
          66.2,
          66.2,
          66.2,
          66.2,
          66.2,
          66.2,
          66.2,
          66.2,
          66.2,
          66.2,
          66.1,
          66.1,
          66.1,
          66.1,
          66.1,
          66.1,
          66.1,
          66.1,
          66.1,
          66.1,
          66.1,
          66.1,
          66.1,
          66.1,
          66.1,
          66.1,
          66.1,
          66.1,
          66.1,
          66.1,
          66.1,
          66.1,
          66.1,
          66.1,
          66.1,
          66.1,
          66.1,
          66.1,
          66,
          66,
          66,
          66,
          66,
          66,
          66,
          66,
          66,
          66,
          66,
          66,
          66,
          66,
          66,
          66,
          66,
          66,
          66,
          66,
          66,
          66,
          66,
          66,
          66,
          66
         ],
         "y0": " ",
         "yaxis": "y"
        }
       ],
       "layout": {
        "boxmode": "group",
        "height": 600,
        "legend": {
         "tracegroupgap": 0
        },
        "template": {
         "data": {
          "bar": [
           {
            "error_x": {
             "color": "#2a3f5f"
            },
            "error_y": {
             "color": "#2a3f5f"
            },
            "marker": {
             "line": {
              "color": "#E5ECF6",
              "width": 0.5
             },
             "pattern": {
              "fillmode": "overlay",
              "size": 10,
              "solidity": 0.2
             }
            },
            "type": "bar"
           }
          ],
          "barpolar": [
           {
            "marker": {
             "line": {
              "color": "#E5ECF6",
              "width": 0.5
             },
             "pattern": {
              "fillmode": "overlay",
              "size": 10,
              "solidity": 0.2
             }
            },
            "type": "barpolar"
           }
          ],
          "carpet": [
           {
            "aaxis": {
             "endlinecolor": "#2a3f5f",
             "gridcolor": "white",
             "linecolor": "white",
             "minorgridcolor": "white",
             "startlinecolor": "#2a3f5f"
            },
            "baxis": {
             "endlinecolor": "#2a3f5f",
             "gridcolor": "white",
             "linecolor": "white",
             "minorgridcolor": "white",
             "startlinecolor": "#2a3f5f"
            },
            "type": "carpet"
           }
          ],
          "choropleth": [
           {
            "colorbar": {
             "outlinewidth": 0,
             "ticks": ""
            },
            "type": "choropleth"
           }
          ],
          "contour": [
           {
            "colorbar": {
             "outlinewidth": 0,
             "ticks": ""
            },
            "colorscale": [
             [
              0,
              "#0d0887"
             ],
             [
              0.1111111111111111,
              "#46039f"
             ],
             [
              0.2222222222222222,
              "#7201a8"
             ],
             [
              0.3333333333333333,
              "#9c179e"
             ],
             [
              0.4444444444444444,
              "#bd3786"
             ],
             [
              0.5555555555555556,
              "#d8576b"
             ],
             [
              0.6666666666666666,
              "#ed7953"
             ],
             [
              0.7777777777777778,
              "#fb9f3a"
             ],
             [
              0.8888888888888888,
              "#fdca26"
             ],
             [
              1,
              "#f0f921"
             ]
            ],
            "type": "contour"
           }
          ],
          "contourcarpet": [
           {
            "colorbar": {
             "outlinewidth": 0,
             "ticks": ""
            },
            "type": "contourcarpet"
           }
          ],
          "heatmap": [
           {
            "colorbar": {
             "outlinewidth": 0,
             "ticks": ""
            },
            "colorscale": [
             [
              0,
              "#0d0887"
             ],
             [
              0.1111111111111111,
              "#46039f"
             ],
             [
              0.2222222222222222,
              "#7201a8"
             ],
             [
              0.3333333333333333,
              "#9c179e"
             ],
             [
              0.4444444444444444,
              "#bd3786"
             ],
             [
              0.5555555555555556,
              "#d8576b"
             ],
             [
              0.6666666666666666,
              "#ed7953"
             ],
             [
              0.7777777777777778,
              "#fb9f3a"
             ],
             [
              0.8888888888888888,
              "#fdca26"
             ],
             [
              1,
              "#f0f921"
             ]
            ],
            "type": "heatmap"
           }
          ],
          "heatmapgl": [
           {
            "colorbar": {
             "outlinewidth": 0,
             "ticks": ""
            },
            "colorscale": [
             [
              0,
              "#0d0887"
             ],
             [
              0.1111111111111111,
              "#46039f"
             ],
             [
              0.2222222222222222,
              "#7201a8"
             ],
             [
              0.3333333333333333,
              "#9c179e"
             ],
             [
              0.4444444444444444,
              "#bd3786"
             ],
             [
              0.5555555555555556,
              "#d8576b"
             ],
             [
              0.6666666666666666,
              "#ed7953"
             ],
             [
              0.7777777777777778,
              "#fb9f3a"
             ],
             [
              0.8888888888888888,
              "#fdca26"
             ],
             [
              1,
              "#f0f921"
             ]
            ],
            "type": "heatmapgl"
           }
          ],
          "histogram": [
           {
            "marker": {
             "pattern": {
              "fillmode": "overlay",
              "size": 10,
              "solidity": 0.2
             }
            },
            "type": "histogram"
           }
          ],
          "histogram2d": [
           {
            "colorbar": {
             "outlinewidth": 0,
             "ticks": ""
            },
            "colorscale": [
             [
              0,
              "#0d0887"
             ],
             [
              0.1111111111111111,
              "#46039f"
             ],
             [
              0.2222222222222222,
              "#7201a8"
             ],
             [
              0.3333333333333333,
              "#9c179e"
             ],
             [
              0.4444444444444444,
              "#bd3786"
             ],
             [
              0.5555555555555556,
              "#d8576b"
             ],
             [
              0.6666666666666666,
              "#ed7953"
             ],
             [
              0.7777777777777778,
              "#fb9f3a"
             ],
             [
              0.8888888888888888,
              "#fdca26"
             ],
             [
              1,
              "#f0f921"
             ]
            ],
            "type": "histogram2d"
           }
          ],
          "histogram2dcontour": [
           {
            "colorbar": {
             "outlinewidth": 0,
             "ticks": ""
            },
            "colorscale": [
             [
              0,
              "#0d0887"
             ],
             [
              0.1111111111111111,
              "#46039f"
             ],
             [
              0.2222222222222222,
              "#7201a8"
             ],
             [
              0.3333333333333333,
              "#9c179e"
             ],
             [
              0.4444444444444444,
              "#bd3786"
             ],
             [
              0.5555555555555556,
              "#d8576b"
             ],
             [
              0.6666666666666666,
              "#ed7953"
             ],
             [
              0.7777777777777778,
              "#fb9f3a"
             ],
             [
              0.8888888888888888,
              "#fdca26"
             ],
             [
              1,
              "#f0f921"
             ]
            ],
            "type": "histogram2dcontour"
           }
          ],
          "mesh3d": [
           {
            "colorbar": {
             "outlinewidth": 0,
             "ticks": ""
            },
            "type": "mesh3d"
           }
          ],
          "parcoords": [
           {
            "line": {
             "colorbar": {
              "outlinewidth": 0,
              "ticks": ""
             }
            },
            "type": "parcoords"
           }
          ],
          "pie": [
           {
            "automargin": true,
            "type": "pie"
           }
          ],
          "scatter": [
           {
            "fillpattern": {
             "fillmode": "overlay",
             "size": 10,
             "solidity": 0.2
            },
            "type": "scatter"
           }
          ],
          "scatter3d": [
           {
            "line": {
             "colorbar": {
              "outlinewidth": 0,
              "ticks": ""
             }
            },
            "marker": {
             "colorbar": {
              "outlinewidth": 0,
              "ticks": ""
             }
            },
            "type": "scatter3d"
           }
          ],
          "scattercarpet": [
           {
            "marker": {
             "colorbar": {
              "outlinewidth": 0,
              "ticks": ""
             }
            },
            "type": "scattercarpet"
           }
          ],
          "scattergeo": [
           {
            "marker": {
             "colorbar": {
              "outlinewidth": 0,
              "ticks": ""
             }
            },
            "type": "scattergeo"
           }
          ],
          "scattergl": [
           {
            "marker": {
             "colorbar": {
              "outlinewidth": 0,
              "ticks": ""
             }
            },
            "type": "scattergl"
           }
          ],
          "scattermapbox": [
           {
            "marker": {
             "colorbar": {
              "outlinewidth": 0,
              "ticks": ""
             }
            },
            "type": "scattermapbox"
           }
          ],
          "scatterpolar": [
           {
            "marker": {
             "colorbar": {
              "outlinewidth": 0,
              "ticks": ""
             }
            },
            "type": "scatterpolar"
           }
          ],
          "scatterpolargl": [
           {
            "marker": {
             "colorbar": {
              "outlinewidth": 0,
              "ticks": ""
             }
            },
            "type": "scatterpolargl"
           }
          ],
          "scatterternary": [
           {
            "marker": {
             "colorbar": {
              "outlinewidth": 0,
              "ticks": ""
             }
            },
            "type": "scatterternary"
           }
          ],
          "surface": [
           {
            "colorbar": {
             "outlinewidth": 0,
             "ticks": ""
            },
            "colorscale": [
             [
              0,
              "#0d0887"
             ],
             [
              0.1111111111111111,
              "#46039f"
             ],
             [
              0.2222222222222222,
              "#7201a8"
             ],
             [
              0.3333333333333333,
              "#9c179e"
             ],
             [
              0.4444444444444444,
              "#bd3786"
             ],
             [
              0.5555555555555556,
              "#d8576b"
             ],
             [
              0.6666666666666666,
              "#ed7953"
             ],
             [
              0.7777777777777778,
              "#fb9f3a"
             ],
             [
              0.8888888888888888,
              "#fdca26"
             ],
             [
              1,
              "#f0f921"
             ]
            ],
            "type": "surface"
           }
          ],
          "table": [
           {
            "cells": {
             "fill": {
              "color": "#EBF0F8"
             },
             "line": {
              "color": "white"
             }
            },
            "header": {
             "fill": {
              "color": "#C8D4E3"
             },
             "line": {
              "color": "white"
             }
            },
            "type": "table"
           }
          ]
         },
         "layout": {
          "annotationdefaults": {
           "arrowcolor": "#2a3f5f",
           "arrowhead": 0,
           "arrowwidth": 1
          },
          "autotypenumbers": "strict",
          "coloraxis": {
           "colorbar": {
            "outlinewidth": 0,
            "ticks": ""
           }
          },
          "colorscale": {
           "diverging": [
            [
             0,
             "#8e0152"
            ],
            [
             0.1,
             "#c51b7d"
            ],
            [
             0.2,
             "#de77ae"
            ],
            [
             0.3,
             "#f1b6da"
            ],
            [
             0.4,
             "#fde0ef"
            ],
            [
             0.5,
             "#f7f7f7"
            ],
            [
             0.6,
             "#e6f5d0"
            ],
            [
             0.7,
             "#b8e186"
            ],
            [
             0.8,
             "#7fbc41"
            ],
            [
             0.9,
             "#4d9221"
            ],
            [
             1,
             "#276419"
            ]
           ],
           "sequential": [
            [
             0,
             "#0d0887"
            ],
            [
             0.1111111111111111,
             "#46039f"
            ],
            [
             0.2222222222222222,
             "#7201a8"
            ],
            [
             0.3333333333333333,
             "#9c179e"
            ],
            [
             0.4444444444444444,
             "#bd3786"
            ],
            [
             0.5555555555555556,
             "#d8576b"
            ],
            [
             0.6666666666666666,
             "#ed7953"
            ],
            [
             0.7777777777777778,
             "#fb9f3a"
            ],
            [
             0.8888888888888888,
             "#fdca26"
            ],
            [
             1,
             "#f0f921"
            ]
           ],
           "sequentialminus": [
            [
             0,
             "#0d0887"
            ],
            [
             0.1111111111111111,
             "#46039f"
            ],
            [
             0.2222222222222222,
             "#7201a8"
            ],
            [
             0.3333333333333333,
             "#9c179e"
            ],
            [
             0.4444444444444444,
             "#bd3786"
            ],
            [
             0.5555555555555556,
             "#d8576b"
            ],
            [
             0.6666666666666666,
             "#ed7953"
            ],
            [
             0.7777777777777778,
             "#fb9f3a"
            ],
            [
             0.8888888888888888,
             "#fdca26"
            ],
            [
             1,
             "#f0f921"
            ]
           ]
          },
          "colorway": [
           "#636efa",
           "#EF553B",
           "#00cc96",
           "#ab63fa",
           "#FFA15A",
           "#19d3f3",
           "#FF6692",
           "#B6E880",
           "#FF97FF",
           "#FECB52"
          ],
          "font": {
           "color": "#2a3f5f"
          },
          "geo": {
           "bgcolor": "white",
           "lakecolor": "white",
           "landcolor": "#E5ECF6",
           "showlakes": true,
           "showland": true,
           "subunitcolor": "white"
          },
          "hoverlabel": {
           "align": "left"
          },
          "hovermode": "closest",
          "mapbox": {
           "style": "light"
          },
          "paper_bgcolor": "white",
          "plot_bgcolor": "#E5ECF6",
          "polar": {
           "angularaxis": {
            "gridcolor": "white",
            "linecolor": "white",
            "ticks": ""
           },
           "bgcolor": "#E5ECF6",
           "radialaxis": {
            "gridcolor": "white",
            "linecolor": "white",
            "ticks": ""
           }
          },
          "scene": {
           "xaxis": {
            "backgroundcolor": "#E5ECF6",
            "gridcolor": "white",
            "gridwidth": 2,
            "linecolor": "white",
            "showbackground": true,
            "ticks": "",
            "zerolinecolor": "white"
           },
           "yaxis": {
            "backgroundcolor": "#E5ECF6",
            "gridcolor": "white",
            "gridwidth": 2,
            "linecolor": "white",
            "showbackground": true,
            "ticks": "",
            "zerolinecolor": "white"
           },
           "zaxis": {
            "backgroundcolor": "#E5ECF6",
            "gridcolor": "white",
            "gridwidth": 2,
            "linecolor": "white",
            "showbackground": true,
            "ticks": "",
            "zerolinecolor": "white"
           }
          },
          "shapedefaults": {
           "line": {
            "color": "#2a3f5f"
           }
          },
          "ternary": {
           "aaxis": {
            "gridcolor": "white",
            "linecolor": "white",
            "ticks": ""
           },
           "baxis": {
            "gridcolor": "white",
            "linecolor": "white",
            "ticks": ""
           },
           "bgcolor": "#E5ECF6",
           "caxis": {
            "gridcolor": "white",
            "linecolor": "white",
            "ticks": ""
           }
          },
          "title": {
           "x": 0.05
          },
          "xaxis": {
           "automargin": true,
           "gridcolor": "white",
           "linecolor": "white",
           "ticks": "",
           "title": {
            "standoff": 15
           },
           "zerolinecolor": "white",
           "zerolinewidth": 2
          },
          "yaxis": {
           "automargin": true,
           "gridcolor": "white",
           "linecolor": "white",
           "ticks": "",
           "title": {
            "standoff": 15
           },
           "zerolinecolor": "white",
           "zerolinewidth": 2
          }
         }
        },
        "title": {
         "text": "Total score boxplot for Word Ranking (CWUR)"
        },
        "width": 800,
        "xaxis": {
         "anchor": "y",
         "domain": [
          0,
          1
         ]
        },
        "yaxis": {
         "anchor": "x",
         "domain": [
          0,
          1
         ],
         "title": {
          "text": "Total Score"
         }
        }
       }
      }
     },
     "metadata": {},
     "output_type": "display_data"
    }
   ],
   "source": [
    "#boxplot for word Rank dataset\n",
    "\n",
    "fig = px.box(Uni_df['CWUR'], y=\"Total Score\",color_discrete_sequence=px.colors.qualitative.Pastel, height=600, width=800, title='Total score boxplot for Word Ranking (CWUR)')\n",
    "\n",
    "fig.show()"
   ]
  },
  {
   "cell_type": "code",
   "execution_count": 410,
   "metadata": {},
   "outputs": [
    {
     "data": {
      "application/vnd.plotly.v1+json": {
       "config": {
        "plotlyServerURL": "https://plot.ly"
       },
       "data": [
        {
         "alignmentgroup": "True",
         "hovertemplate": "Total Score=%{y}<extra></extra>",
         "legendgroup": "",
         "marker": {
          "color": "rgb(102, 197, 204)"
         },
         "name": "",
         "notched": false,
         "offsetgroup": "",
         "orientation": "v",
         "showlegend": false,
         "type": "box",
         "x0": " ",
         "xaxis": "x",
         "y": [
          100,
          76.8,
          70.1,
          69.6,
          65.3,
          60,
          58.7,
          57.2,
          56.1,
          55.1,
          53.2,
          50.4,
          50.2,
          47.9,
          47.5,
          47,
          46.8,
          46.6,
          45.9,
          45.6,
          45.5,
          40.5,
          40.3,
          39.8,
          39.5,
          39.3,
          39.1,
          39,
          38,
          37.3,
          37.2,
          36.6,
          36.1,
          35.9,
          35.4,
          34.7,
          34.6,
          34.5,
          34.4,
          34.3,
          34.2,
          34.2,
          33.9,
          33.8,
          33.8,
          33.8,
          33.6,
          33.4,
          33.3,
          33.1,
          33,
          32.9,
          32.6,
          32,
          32,
          31.7,
          31.5,
          31.5,
          31.4,
          30.8,
          30.7,
          30.3,
          30.3,
          30.2,
          30.2,
          30.1,
          30,
          30,
          29.7,
          29.5,
          29.3,
          29.3,
          29.1,
          28.9,
          28.4,
          28.1,
          27.9,
          27.7,
          27.5,
          27.5,
          27.4,
          27.3,
          27.2,
          27.2,
          27.2,
          27.2,
          27,
          26.9,
          26.8,
          26.7,
          26.7,
          26.5,
          26.5,
          26.4,
          26.3,
          26.1,
          26.1,
          25.9,
          25.8,
          25.8
         ],
         "y0": " ",
         "yaxis": "y"
        }
       ],
       "layout": {
        "boxmode": "group",
        "height": 600,
        "legend": {
         "tracegroupgap": 0
        },
        "template": {
         "data": {
          "bar": [
           {
            "error_x": {
             "color": "#2a3f5f"
            },
            "error_y": {
             "color": "#2a3f5f"
            },
            "marker": {
             "line": {
              "color": "#E5ECF6",
              "width": 0.5
             },
             "pattern": {
              "fillmode": "overlay",
              "size": 10,
              "solidity": 0.2
             }
            },
            "type": "bar"
           }
          ],
          "barpolar": [
           {
            "marker": {
             "line": {
              "color": "#E5ECF6",
              "width": 0.5
             },
             "pattern": {
              "fillmode": "overlay",
              "size": 10,
              "solidity": 0.2
             }
            },
            "type": "barpolar"
           }
          ],
          "carpet": [
           {
            "aaxis": {
             "endlinecolor": "#2a3f5f",
             "gridcolor": "white",
             "linecolor": "white",
             "minorgridcolor": "white",
             "startlinecolor": "#2a3f5f"
            },
            "baxis": {
             "endlinecolor": "#2a3f5f",
             "gridcolor": "white",
             "linecolor": "white",
             "minorgridcolor": "white",
             "startlinecolor": "#2a3f5f"
            },
            "type": "carpet"
           }
          ],
          "choropleth": [
           {
            "colorbar": {
             "outlinewidth": 0,
             "ticks": ""
            },
            "type": "choropleth"
           }
          ],
          "contour": [
           {
            "colorbar": {
             "outlinewidth": 0,
             "ticks": ""
            },
            "colorscale": [
             [
              0,
              "#0d0887"
             ],
             [
              0.1111111111111111,
              "#46039f"
             ],
             [
              0.2222222222222222,
              "#7201a8"
             ],
             [
              0.3333333333333333,
              "#9c179e"
             ],
             [
              0.4444444444444444,
              "#bd3786"
             ],
             [
              0.5555555555555556,
              "#d8576b"
             ],
             [
              0.6666666666666666,
              "#ed7953"
             ],
             [
              0.7777777777777778,
              "#fb9f3a"
             ],
             [
              0.8888888888888888,
              "#fdca26"
             ],
             [
              1,
              "#f0f921"
             ]
            ],
            "type": "contour"
           }
          ],
          "contourcarpet": [
           {
            "colorbar": {
             "outlinewidth": 0,
             "ticks": ""
            },
            "type": "contourcarpet"
           }
          ],
          "heatmap": [
           {
            "colorbar": {
             "outlinewidth": 0,
             "ticks": ""
            },
            "colorscale": [
             [
              0,
              "#0d0887"
             ],
             [
              0.1111111111111111,
              "#46039f"
             ],
             [
              0.2222222222222222,
              "#7201a8"
             ],
             [
              0.3333333333333333,
              "#9c179e"
             ],
             [
              0.4444444444444444,
              "#bd3786"
             ],
             [
              0.5555555555555556,
              "#d8576b"
             ],
             [
              0.6666666666666666,
              "#ed7953"
             ],
             [
              0.7777777777777778,
              "#fb9f3a"
             ],
             [
              0.8888888888888888,
              "#fdca26"
             ],
             [
              1,
              "#f0f921"
             ]
            ],
            "type": "heatmap"
           }
          ],
          "heatmapgl": [
           {
            "colorbar": {
             "outlinewidth": 0,
             "ticks": ""
            },
            "colorscale": [
             [
              0,
              "#0d0887"
             ],
             [
              0.1111111111111111,
              "#46039f"
             ],
             [
              0.2222222222222222,
              "#7201a8"
             ],
             [
              0.3333333333333333,
              "#9c179e"
             ],
             [
              0.4444444444444444,
              "#bd3786"
             ],
             [
              0.5555555555555556,
              "#d8576b"
             ],
             [
              0.6666666666666666,
              "#ed7953"
             ],
             [
              0.7777777777777778,
              "#fb9f3a"
             ],
             [
              0.8888888888888888,
              "#fdca26"
             ],
             [
              1,
              "#f0f921"
             ]
            ],
            "type": "heatmapgl"
           }
          ],
          "histogram": [
           {
            "marker": {
             "pattern": {
              "fillmode": "overlay",
              "size": 10,
              "solidity": 0.2
             }
            },
            "type": "histogram"
           }
          ],
          "histogram2d": [
           {
            "colorbar": {
             "outlinewidth": 0,
             "ticks": ""
            },
            "colorscale": [
             [
              0,
              "#0d0887"
             ],
             [
              0.1111111111111111,
              "#46039f"
             ],
             [
              0.2222222222222222,
              "#7201a8"
             ],
             [
              0.3333333333333333,
              "#9c179e"
             ],
             [
              0.4444444444444444,
              "#bd3786"
             ],
             [
              0.5555555555555556,
              "#d8576b"
             ],
             [
              0.6666666666666666,
              "#ed7953"
             ],
             [
              0.7777777777777778,
              "#fb9f3a"
             ],
             [
              0.8888888888888888,
              "#fdca26"
             ],
             [
              1,
              "#f0f921"
             ]
            ],
            "type": "histogram2d"
           }
          ],
          "histogram2dcontour": [
           {
            "colorbar": {
             "outlinewidth": 0,
             "ticks": ""
            },
            "colorscale": [
             [
              0,
              "#0d0887"
             ],
             [
              0.1111111111111111,
              "#46039f"
             ],
             [
              0.2222222222222222,
              "#7201a8"
             ],
             [
              0.3333333333333333,
              "#9c179e"
             ],
             [
              0.4444444444444444,
              "#bd3786"
             ],
             [
              0.5555555555555556,
              "#d8576b"
             ],
             [
              0.6666666666666666,
              "#ed7953"
             ],
             [
              0.7777777777777778,
              "#fb9f3a"
             ],
             [
              0.8888888888888888,
              "#fdca26"
             ],
             [
              1,
              "#f0f921"
             ]
            ],
            "type": "histogram2dcontour"
           }
          ],
          "mesh3d": [
           {
            "colorbar": {
             "outlinewidth": 0,
             "ticks": ""
            },
            "type": "mesh3d"
           }
          ],
          "parcoords": [
           {
            "line": {
             "colorbar": {
              "outlinewidth": 0,
              "ticks": ""
             }
            },
            "type": "parcoords"
           }
          ],
          "pie": [
           {
            "automargin": true,
            "type": "pie"
           }
          ],
          "scatter": [
           {
            "fillpattern": {
             "fillmode": "overlay",
             "size": 10,
             "solidity": 0.2
            },
            "type": "scatter"
           }
          ],
          "scatter3d": [
           {
            "line": {
             "colorbar": {
              "outlinewidth": 0,
              "ticks": ""
             }
            },
            "marker": {
             "colorbar": {
              "outlinewidth": 0,
              "ticks": ""
             }
            },
            "type": "scatter3d"
           }
          ],
          "scattercarpet": [
           {
            "marker": {
             "colorbar": {
              "outlinewidth": 0,
              "ticks": ""
             }
            },
            "type": "scattercarpet"
           }
          ],
          "scattergeo": [
           {
            "marker": {
             "colorbar": {
              "outlinewidth": 0,
              "ticks": ""
             }
            },
            "type": "scattergeo"
           }
          ],
          "scattergl": [
           {
            "marker": {
             "colorbar": {
              "outlinewidth": 0,
              "ticks": ""
             }
            },
            "type": "scattergl"
           }
          ],
          "scattermapbox": [
           {
            "marker": {
             "colorbar": {
              "outlinewidth": 0,
              "ticks": ""
             }
            },
            "type": "scattermapbox"
           }
          ],
          "scatterpolar": [
           {
            "marker": {
             "colorbar": {
              "outlinewidth": 0,
              "ticks": ""
             }
            },
            "type": "scatterpolar"
           }
          ],
          "scatterpolargl": [
           {
            "marker": {
             "colorbar": {
              "outlinewidth": 0,
              "ticks": ""
             }
            },
            "type": "scatterpolargl"
           }
          ],
          "scatterternary": [
           {
            "marker": {
             "colorbar": {
              "outlinewidth": 0,
              "ticks": ""
             }
            },
            "type": "scatterternary"
           }
          ],
          "surface": [
           {
            "colorbar": {
             "outlinewidth": 0,
             "ticks": ""
            },
            "colorscale": [
             [
              0,
              "#0d0887"
             ],
             [
              0.1111111111111111,
              "#46039f"
             ],
             [
              0.2222222222222222,
              "#7201a8"
             ],
             [
              0.3333333333333333,
              "#9c179e"
             ],
             [
              0.4444444444444444,
              "#bd3786"
             ],
             [
              0.5555555555555556,
              "#d8576b"
             ],
             [
              0.6666666666666666,
              "#ed7953"
             ],
             [
              0.7777777777777778,
              "#fb9f3a"
             ],
             [
              0.8888888888888888,
              "#fdca26"
             ],
             [
              1,
              "#f0f921"
             ]
            ],
            "type": "surface"
           }
          ],
          "table": [
           {
            "cells": {
             "fill": {
              "color": "#EBF0F8"
             },
             "line": {
              "color": "white"
             }
            },
            "header": {
             "fill": {
              "color": "#C8D4E3"
             },
             "line": {
              "color": "white"
             }
            },
            "type": "table"
           }
          ]
         },
         "layout": {
          "annotationdefaults": {
           "arrowcolor": "#2a3f5f",
           "arrowhead": 0,
           "arrowwidth": 1
          },
          "autotypenumbers": "strict",
          "coloraxis": {
           "colorbar": {
            "outlinewidth": 0,
            "ticks": ""
           }
          },
          "colorscale": {
           "diverging": [
            [
             0,
             "#8e0152"
            ],
            [
             0.1,
             "#c51b7d"
            ],
            [
             0.2,
             "#de77ae"
            ],
            [
             0.3,
             "#f1b6da"
            ],
            [
             0.4,
             "#fde0ef"
            ],
            [
             0.5,
             "#f7f7f7"
            ],
            [
             0.6,
             "#e6f5d0"
            ],
            [
             0.7,
             "#b8e186"
            ],
            [
             0.8,
             "#7fbc41"
            ],
            [
             0.9,
             "#4d9221"
            ],
            [
             1,
             "#276419"
            ]
           ],
           "sequential": [
            [
             0,
             "#0d0887"
            ],
            [
             0.1111111111111111,
             "#46039f"
            ],
            [
             0.2222222222222222,
             "#7201a8"
            ],
            [
             0.3333333333333333,
             "#9c179e"
            ],
            [
             0.4444444444444444,
             "#bd3786"
            ],
            [
             0.5555555555555556,
             "#d8576b"
            ],
            [
             0.6666666666666666,
             "#ed7953"
            ],
            [
             0.7777777777777778,
             "#fb9f3a"
            ],
            [
             0.8888888888888888,
             "#fdca26"
            ],
            [
             1,
             "#f0f921"
            ]
           ],
           "sequentialminus": [
            [
             0,
             "#0d0887"
            ],
            [
             0.1111111111111111,
             "#46039f"
            ],
            [
             0.2222222222222222,
             "#7201a8"
            ],
            [
             0.3333333333333333,
             "#9c179e"
            ],
            [
             0.4444444444444444,
             "#bd3786"
            ],
            [
             0.5555555555555556,
             "#d8576b"
            ],
            [
             0.6666666666666666,
             "#ed7953"
            ],
            [
             0.7777777777777778,
             "#fb9f3a"
            ],
            [
             0.8888888888888888,
             "#fdca26"
            ],
            [
             1,
             "#f0f921"
            ]
           ]
          },
          "colorway": [
           "#636efa",
           "#EF553B",
           "#00cc96",
           "#ab63fa",
           "#FFA15A",
           "#19d3f3",
           "#FF6692",
           "#B6E880",
           "#FF97FF",
           "#FECB52"
          ],
          "font": {
           "color": "#2a3f5f"
          },
          "geo": {
           "bgcolor": "white",
           "lakecolor": "white",
           "landcolor": "#E5ECF6",
           "showlakes": true,
           "showland": true,
           "subunitcolor": "white"
          },
          "hoverlabel": {
           "align": "left"
          },
          "hovermode": "closest",
          "mapbox": {
           "style": "light"
          },
          "paper_bgcolor": "white",
          "plot_bgcolor": "#E5ECF6",
          "polar": {
           "angularaxis": {
            "gridcolor": "white",
            "linecolor": "white",
            "ticks": ""
           },
           "bgcolor": "#E5ECF6",
           "radialaxis": {
            "gridcolor": "white",
            "linecolor": "white",
            "ticks": ""
           }
          },
          "scene": {
           "xaxis": {
            "backgroundcolor": "#E5ECF6",
            "gridcolor": "white",
            "gridwidth": 2,
            "linecolor": "white",
            "showbackground": true,
            "ticks": "",
            "zerolinecolor": "white"
           },
           "yaxis": {
            "backgroundcolor": "#E5ECF6",
            "gridcolor": "white",
            "gridwidth": 2,
            "linecolor": "white",
            "showbackground": true,
            "ticks": "",
            "zerolinecolor": "white"
           },
           "zaxis": {
            "backgroundcolor": "#E5ECF6",
            "gridcolor": "white",
            "gridwidth": 2,
            "linecolor": "white",
            "showbackground": true,
            "ticks": "",
            "zerolinecolor": "white"
           }
          },
          "shapedefaults": {
           "line": {
            "color": "#2a3f5f"
           }
          },
          "ternary": {
           "aaxis": {
            "gridcolor": "white",
            "linecolor": "white",
            "ticks": ""
           },
           "baxis": {
            "gridcolor": "white",
            "linecolor": "white",
            "ticks": ""
           },
           "bgcolor": "#E5ECF6",
           "caxis": {
            "gridcolor": "white",
            "linecolor": "white",
            "ticks": ""
           }
          },
          "title": {
           "x": 0.05
          },
          "xaxis": {
           "automargin": true,
           "gridcolor": "white",
           "linecolor": "white",
           "ticks": "",
           "title": {
            "standoff": 15
           },
           "zerolinecolor": "white",
           "zerolinewidth": 2
          },
          "yaxis": {
           "automargin": true,
           "gridcolor": "white",
           "linecolor": "white",
           "ticks": "",
           "title": {
            "standoff": 15
           },
           "zerolinecolor": "white",
           "zerolinewidth": 2
          }
         }
        },
        "title": {
         "text": "Total score boxplot for Shanghai Ranking"
        },
        "width": 800,
        "xaxis": {
         "anchor": "y",
         "domain": [
          0,
          1
         ]
        },
        "yaxis": {
         "anchor": "x",
         "domain": [
          0,
          1
         ],
         "title": {
          "text": "Total Score"
         }
        }
       }
      }
     },
     "metadata": {},
     "output_type": "display_data"
    }
   ],
   "source": [
    "#box plot for shanghai dataset\n",
    "\n",
    "fig = px.box(Uni_df['ARWU'], y=\"Total Score\",color_discrete_sequence=px.colors.qualitative.Pastel, height=600, width=800, title='Total score boxplot for Shanghai Ranking')\n",
    "\n",
    "fig.show()"
   ]
  },
  {
   "cell_type": "code",
   "execution_count": 411,
   "metadata": {},
   "outputs": [
    {
     "data": {
      "application/vnd.plotly.v1+json": {
       "config": {
        "plotlyServerURL": "https://plot.ly"
       },
       "data": [
        {
         "alignmentgroup": "True",
         "hovertemplate": "University Name=%{x}<br>Total Score=%{y}<extra></extra>",
         "legendgroup": "",
         "marker": {
          "color": "rgb(102, 197, 204)",
          "pattern": {
           "shape": ""
          }
         },
         "name": "",
         "offsetgroup": "",
         "orientation": "v",
         "showlegend": false,
         "textposition": "auto",
         "type": "bar",
         "x": [
          "Harvard University",
          "Massachusetts Institute of Technology",
          "Stanford University",
          "University of Cambridge",
          "University of Oxford",
          "Princeton University",
          "University of Chicago",
          "Columbia University",
          "University of Pennsylvania",
          "Yale University"
         ],
         "xaxis": "x",
         "y": [
          100,
          96.7,
          95.2,
          94.1,
          93.3,
          92.6,
          92.1,
          91.6,
          91.2,
          90.8
         ],
         "yaxis": "y"
        }
       ],
       "layout": {
        "barmode": "relative",
        "legend": {
         "tracegroupgap": 0
        },
        "template": {
         "data": {
          "bar": [
           {
            "error_x": {
             "color": "#2a3f5f"
            },
            "error_y": {
             "color": "#2a3f5f"
            },
            "marker": {
             "line": {
              "color": "#E5ECF6",
              "width": 0.5
             },
             "pattern": {
              "fillmode": "overlay",
              "size": 10,
              "solidity": 0.2
             }
            },
            "type": "bar"
           }
          ],
          "barpolar": [
           {
            "marker": {
             "line": {
              "color": "#E5ECF6",
              "width": 0.5
             },
             "pattern": {
              "fillmode": "overlay",
              "size": 10,
              "solidity": 0.2
             }
            },
            "type": "barpolar"
           }
          ],
          "carpet": [
           {
            "aaxis": {
             "endlinecolor": "#2a3f5f",
             "gridcolor": "white",
             "linecolor": "white",
             "minorgridcolor": "white",
             "startlinecolor": "#2a3f5f"
            },
            "baxis": {
             "endlinecolor": "#2a3f5f",
             "gridcolor": "white",
             "linecolor": "white",
             "minorgridcolor": "white",
             "startlinecolor": "#2a3f5f"
            },
            "type": "carpet"
           }
          ],
          "choropleth": [
           {
            "colorbar": {
             "outlinewidth": 0,
             "ticks": ""
            },
            "type": "choropleth"
           }
          ],
          "contour": [
           {
            "colorbar": {
             "outlinewidth": 0,
             "ticks": ""
            },
            "colorscale": [
             [
              0,
              "#0d0887"
             ],
             [
              0.1111111111111111,
              "#46039f"
             ],
             [
              0.2222222222222222,
              "#7201a8"
             ],
             [
              0.3333333333333333,
              "#9c179e"
             ],
             [
              0.4444444444444444,
              "#bd3786"
             ],
             [
              0.5555555555555556,
              "#d8576b"
             ],
             [
              0.6666666666666666,
              "#ed7953"
             ],
             [
              0.7777777777777778,
              "#fb9f3a"
             ],
             [
              0.8888888888888888,
              "#fdca26"
             ],
             [
              1,
              "#f0f921"
             ]
            ],
            "type": "contour"
           }
          ],
          "contourcarpet": [
           {
            "colorbar": {
             "outlinewidth": 0,
             "ticks": ""
            },
            "type": "contourcarpet"
           }
          ],
          "heatmap": [
           {
            "colorbar": {
             "outlinewidth": 0,
             "ticks": ""
            },
            "colorscale": [
             [
              0,
              "#0d0887"
             ],
             [
              0.1111111111111111,
              "#46039f"
             ],
             [
              0.2222222222222222,
              "#7201a8"
             ],
             [
              0.3333333333333333,
              "#9c179e"
             ],
             [
              0.4444444444444444,
              "#bd3786"
             ],
             [
              0.5555555555555556,
              "#d8576b"
             ],
             [
              0.6666666666666666,
              "#ed7953"
             ],
             [
              0.7777777777777778,
              "#fb9f3a"
             ],
             [
              0.8888888888888888,
              "#fdca26"
             ],
             [
              1,
              "#f0f921"
             ]
            ],
            "type": "heatmap"
           }
          ],
          "heatmapgl": [
           {
            "colorbar": {
             "outlinewidth": 0,
             "ticks": ""
            },
            "colorscale": [
             [
              0,
              "#0d0887"
             ],
             [
              0.1111111111111111,
              "#46039f"
             ],
             [
              0.2222222222222222,
              "#7201a8"
             ],
             [
              0.3333333333333333,
              "#9c179e"
             ],
             [
              0.4444444444444444,
              "#bd3786"
             ],
             [
              0.5555555555555556,
              "#d8576b"
             ],
             [
              0.6666666666666666,
              "#ed7953"
             ],
             [
              0.7777777777777778,
              "#fb9f3a"
             ],
             [
              0.8888888888888888,
              "#fdca26"
             ],
             [
              1,
              "#f0f921"
             ]
            ],
            "type": "heatmapgl"
           }
          ],
          "histogram": [
           {
            "marker": {
             "pattern": {
              "fillmode": "overlay",
              "size": 10,
              "solidity": 0.2
             }
            },
            "type": "histogram"
           }
          ],
          "histogram2d": [
           {
            "colorbar": {
             "outlinewidth": 0,
             "ticks": ""
            },
            "colorscale": [
             [
              0,
              "#0d0887"
             ],
             [
              0.1111111111111111,
              "#46039f"
             ],
             [
              0.2222222222222222,
              "#7201a8"
             ],
             [
              0.3333333333333333,
              "#9c179e"
             ],
             [
              0.4444444444444444,
              "#bd3786"
             ],
             [
              0.5555555555555556,
              "#d8576b"
             ],
             [
              0.6666666666666666,
              "#ed7953"
             ],
             [
              0.7777777777777778,
              "#fb9f3a"
             ],
             [
              0.8888888888888888,
              "#fdca26"
             ],
             [
              1,
              "#f0f921"
             ]
            ],
            "type": "histogram2d"
           }
          ],
          "histogram2dcontour": [
           {
            "colorbar": {
             "outlinewidth": 0,
             "ticks": ""
            },
            "colorscale": [
             [
              0,
              "#0d0887"
             ],
             [
              0.1111111111111111,
              "#46039f"
             ],
             [
              0.2222222222222222,
              "#7201a8"
             ],
             [
              0.3333333333333333,
              "#9c179e"
             ],
             [
              0.4444444444444444,
              "#bd3786"
             ],
             [
              0.5555555555555556,
              "#d8576b"
             ],
             [
              0.6666666666666666,
              "#ed7953"
             ],
             [
              0.7777777777777778,
              "#fb9f3a"
             ],
             [
              0.8888888888888888,
              "#fdca26"
             ],
             [
              1,
              "#f0f921"
             ]
            ],
            "type": "histogram2dcontour"
           }
          ],
          "mesh3d": [
           {
            "colorbar": {
             "outlinewidth": 0,
             "ticks": ""
            },
            "type": "mesh3d"
           }
          ],
          "parcoords": [
           {
            "line": {
             "colorbar": {
              "outlinewidth": 0,
              "ticks": ""
             }
            },
            "type": "parcoords"
           }
          ],
          "pie": [
           {
            "automargin": true,
            "type": "pie"
           }
          ],
          "scatter": [
           {
            "fillpattern": {
             "fillmode": "overlay",
             "size": 10,
             "solidity": 0.2
            },
            "type": "scatter"
           }
          ],
          "scatter3d": [
           {
            "line": {
             "colorbar": {
              "outlinewidth": 0,
              "ticks": ""
             }
            },
            "marker": {
             "colorbar": {
              "outlinewidth": 0,
              "ticks": ""
             }
            },
            "type": "scatter3d"
           }
          ],
          "scattercarpet": [
           {
            "marker": {
             "colorbar": {
              "outlinewidth": 0,
              "ticks": ""
             }
            },
            "type": "scattercarpet"
           }
          ],
          "scattergeo": [
           {
            "marker": {
             "colorbar": {
              "outlinewidth": 0,
              "ticks": ""
             }
            },
            "type": "scattergeo"
           }
          ],
          "scattergl": [
           {
            "marker": {
             "colorbar": {
              "outlinewidth": 0,
              "ticks": ""
             }
            },
            "type": "scattergl"
           }
          ],
          "scattermapbox": [
           {
            "marker": {
             "colorbar": {
              "outlinewidth": 0,
              "ticks": ""
             }
            },
            "type": "scattermapbox"
           }
          ],
          "scatterpolar": [
           {
            "marker": {
             "colorbar": {
              "outlinewidth": 0,
              "ticks": ""
             }
            },
            "type": "scatterpolar"
           }
          ],
          "scatterpolargl": [
           {
            "marker": {
             "colorbar": {
              "outlinewidth": 0,
              "ticks": ""
             }
            },
            "type": "scatterpolargl"
           }
          ],
          "scatterternary": [
           {
            "marker": {
             "colorbar": {
              "outlinewidth": 0,
              "ticks": ""
             }
            },
            "type": "scatterternary"
           }
          ],
          "surface": [
           {
            "colorbar": {
             "outlinewidth": 0,
             "ticks": ""
            },
            "colorscale": [
             [
              0,
              "#0d0887"
             ],
             [
              0.1111111111111111,
              "#46039f"
             ],
             [
              0.2222222222222222,
              "#7201a8"
             ],
             [
              0.3333333333333333,
              "#9c179e"
             ],
             [
              0.4444444444444444,
              "#bd3786"
             ],
             [
              0.5555555555555556,
              "#d8576b"
             ],
             [
              0.6666666666666666,
              "#ed7953"
             ],
             [
              0.7777777777777778,
              "#fb9f3a"
             ],
             [
              0.8888888888888888,
              "#fdca26"
             ],
             [
              1,
              "#f0f921"
             ]
            ],
            "type": "surface"
           }
          ],
          "table": [
           {
            "cells": {
             "fill": {
              "color": "#EBF0F8"
             },
             "line": {
              "color": "white"
             }
            },
            "header": {
             "fill": {
              "color": "#C8D4E3"
             },
             "line": {
              "color": "white"
             }
            },
            "type": "table"
           }
          ]
         },
         "layout": {
          "annotationdefaults": {
           "arrowcolor": "#2a3f5f",
           "arrowhead": 0,
           "arrowwidth": 1
          },
          "autotypenumbers": "strict",
          "coloraxis": {
           "colorbar": {
            "outlinewidth": 0,
            "ticks": ""
           }
          },
          "colorscale": {
           "diverging": [
            [
             0,
             "#8e0152"
            ],
            [
             0.1,
             "#c51b7d"
            ],
            [
             0.2,
             "#de77ae"
            ],
            [
             0.3,
             "#f1b6da"
            ],
            [
             0.4,
             "#fde0ef"
            ],
            [
             0.5,
             "#f7f7f7"
            ],
            [
             0.6,
             "#e6f5d0"
            ],
            [
             0.7,
             "#b8e186"
            ],
            [
             0.8,
             "#7fbc41"
            ],
            [
             0.9,
             "#4d9221"
            ],
            [
             1,
             "#276419"
            ]
           ],
           "sequential": [
            [
             0,
             "#0d0887"
            ],
            [
             0.1111111111111111,
             "#46039f"
            ],
            [
             0.2222222222222222,
             "#7201a8"
            ],
            [
             0.3333333333333333,
             "#9c179e"
            ],
            [
             0.4444444444444444,
             "#bd3786"
            ],
            [
             0.5555555555555556,
             "#d8576b"
            ],
            [
             0.6666666666666666,
             "#ed7953"
            ],
            [
             0.7777777777777778,
             "#fb9f3a"
            ],
            [
             0.8888888888888888,
             "#fdca26"
            ],
            [
             1,
             "#f0f921"
            ]
           ],
           "sequentialminus": [
            [
             0,
             "#0d0887"
            ],
            [
             0.1111111111111111,
             "#46039f"
            ],
            [
             0.2222222222222222,
             "#7201a8"
            ],
            [
             0.3333333333333333,
             "#9c179e"
            ],
            [
             0.4444444444444444,
             "#bd3786"
            ],
            [
             0.5555555555555556,
             "#d8576b"
            ],
            [
             0.6666666666666666,
             "#ed7953"
            ],
            [
             0.7777777777777778,
             "#fb9f3a"
            ],
            [
             0.8888888888888888,
             "#fdca26"
            ],
            [
             1,
             "#f0f921"
            ]
           ]
          },
          "colorway": [
           "#636efa",
           "#EF553B",
           "#00cc96",
           "#ab63fa",
           "#FFA15A",
           "#19d3f3",
           "#FF6692",
           "#B6E880",
           "#FF97FF",
           "#FECB52"
          ],
          "font": {
           "color": "#2a3f5f"
          },
          "geo": {
           "bgcolor": "white",
           "lakecolor": "white",
           "landcolor": "#E5ECF6",
           "showlakes": true,
           "showland": true,
           "subunitcolor": "white"
          },
          "hoverlabel": {
           "align": "left"
          },
          "hovermode": "closest",
          "mapbox": {
           "style": "light"
          },
          "paper_bgcolor": "white",
          "plot_bgcolor": "#E5ECF6",
          "polar": {
           "angularaxis": {
            "gridcolor": "white",
            "linecolor": "white",
            "ticks": ""
           },
           "bgcolor": "#E5ECF6",
           "radialaxis": {
            "gridcolor": "white",
            "linecolor": "white",
            "ticks": ""
           }
          },
          "scene": {
           "xaxis": {
            "backgroundcolor": "#E5ECF6",
            "gridcolor": "white",
            "gridwidth": 2,
            "linecolor": "white",
            "showbackground": true,
            "ticks": "",
            "zerolinecolor": "white"
           },
           "yaxis": {
            "backgroundcolor": "#E5ECF6",
            "gridcolor": "white",
            "gridwidth": 2,
            "linecolor": "white",
            "showbackground": true,
            "ticks": "",
            "zerolinecolor": "white"
           },
           "zaxis": {
            "backgroundcolor": "#E5ECF6",
            "gridcolor": "white",
            "gridwidth": 2,
            "linecolor": "white",
            "showbackground": true,
            "ticks": "",
            "zerolinecolor": "white"
           }
          },
          "shapedefaults": {
           "line": {
            "color": "#2a3f5f"
           }
          },
          "ternary": {
           "aaxis": {
            "gridcolor": "white",
            "linecolor": "white",
            "ticks": ""
           },
           "baxis": {
            "gridcolor": "white",
            "linecolor": "white",
            "ticks": ""
           },
           "bgcolor": "#E5ECF6",
           "caxis": {
            "gridcolor": "white",
            "linecolor": "white",
            "ticks": ""
           }
          },
          "title": {
           "x": 0.05
          },
          "xaxis": {
           "automargin": true,
           "gridcolor": "white",
           "linecolor": "white",
           "ticks": "",
           "title": {
            "standoff": 15
           },
           "zerolinecolor": "white",
           "zerolinewidth": 2
          },
          "yaxis": {
           "automargin": true,
           "gridcolor": "white",
           "linecolor": "white",
           "ticks": "",
           "title": {
            "standoff": 15
           },
           "zerolinecolor": "white",
           "zerolinewidth": 2
          }
         }
        },
        "title": {
         "text": "Top 10 universities based on Word Rankings (CWUR)"
        },
        "xaxis": {
         "anchor": "y",
         "domain": [
          0,
          1
         ],
         "title": {
          "text": "University Name"
         }
        },
        "yaxis": {
         "anchor": "x",
         "domain": [
          0,
          1
         ],
         "title": {
          "text": "Total Score"
         }
        }
       }
      }
     },
     "metadata": {},
     "output_type": "display_data"
    }
   ],
   "source": [
    "#word ranking\n",
    "#answer to Q-a\n",
    "fig = px.bar(Uni_df['CWUR'].head(10), x='University Name', y='Total Score',color_discrete_sequence=px.colors.qualitative.Pastel, title='Top 10 universities based on Word Rankings (CWUR)')\n",
    "fig.show()"
   ]
  },
  {
   "cell_type": "code",
   "execution_count": 412,
   "metadata": {},
   "outputs": [
    {
     "data": {
      "application/vnd.plotly.v1+json": {
       "config": {
        "plotlyServerURL": "https://plot.ly"
       },
       "data": [
        {
         "alignmentgroup": "True",
         "hovertemplate": "University Name=%{x}<br>Total Score=%{y}<extra></extra>",
         "legendgroup": "",
         "marker": {
          "color": "rgb(102, 197, 204)",
          "pattern": {
           "shape": ""
          }
         },
         "name": "",
         "offsetgroup": "",
         "orientation": "v",
         "showlegend": false,
         "textposition": "auto",
         "type": "bar",
         "x": [
          "Harvard University",
          "Stanford University",
          "Massachusetts Institute of Technology (MIT)",
          "University of Cambridge",
          "University of California, Berkeley",
          "Princeton University",
          "University of Oxford",
          "Columbia University",
          "California Institute of Technology",
          "University of Chicago"
         ],
         "xaxis": "x",
         "y": [
          100,
          76.8,
          70.1,
          69.6,
          65.3,
          60,
          58.7,
          57.2,
          56.1,
          55.1
         ],
         "yaxis": "y"
        }
       ],
       "layout": {
        "barmode": "relative",
        "legend": {
         "tracegroupgap": 0
        },
        "template": {
         "data": {
          "bar": [
           {
            "error_x": {
             "color": "#2a3f5f"
            },
            "error_y": {
             "color": "#2a3f5f"
            },
            "marker": {
             "line": {
              "color": "#E5ECF6",
              "width": 0.5
             },
             "pattern": {
              "fillmode": "overlay",
              "size": 10,
              "solidity": 0.2
             }
            },
            "type": "bar"
           }
          ],
          "barpolar": [
           {
            "marker": {
             "line": {
              "color": "#E5ECF6",
              "width": 0.5
             },
             "pattern": {
              "fillmode": "overlay",
              "size": 10,
              "solidity": 0.2
             }
            },
            "type": "barpolar"
           }
          ],
          "carpet": [
           {
            "aaxis": {
             "endlinecolor": "#2a3f5f",
             "gridcolor": "white",
             "linecolor": "white",
             "minorgridcolor": "white",
             "startlinecolor": "#2a3f5f"
            },
            "baxis": {
             "endlinecolor": "#2a3f5f",
             "gridcolor": "white",
             "linecolor": "white",
             "minorgridcolor": "white",
             "startlinecolor": "#2a3f5f"
            },
            "type": "carpet"
           }
          ],
          "choropleth": [
           {
            "colorbar": {
             "outlinewidth": 0,
             "ticks": ""
            },
            "type": "choropleth"
           }
          ],
          "contour": [
           {
            "colorbar": {
             "outlinewidth": 0,
             "ticks": ""
            },
            "colorscale": [
             [
              0,
              "#0d0887"
             ],
             [
              0.1111111111111111,
              "#46039f"
             ],
             [
              0.2222222222222222,
              "#7201a8"
             ],
             [
              0.3333333333333333,
              "#9c179e"
             ],
             [
              0.4444444444444444,
              "#bd3786"
             ],
             [
              0.5555555555555556,
              "#d8576b"
             ],
             [
              0.6666666666666666,
              "#ed7953"
             ],
             [
              0.7777777777777778,
              "#fb9f3a"
             ],
             [
              0.8888888888888888,
              "#fdca26"
             ],
             [
              1,
              "#f0f921"
             ]
            ],
            "type": "contour"
           }
          ],
          "contourcarpet": [
           {
            "colorbar": {
             "outlinewidth": 0,
             "ticks": ""
            },
            "type": "contourcarpet"
           }
          ],
          "heatmap": [
           {
            "colorbar": {
             "outlinewidth": 0,
             "ticks": ""
            },
            "colorscale": [
             [
              0,
              "#0d0887"
             ],
             [
              0.1111111111111111,
              "#46039f"
             ],
             [
              0.2222222222222222,
              "#7201a8"
             ],
             [
              0.3333333333333333,
              "#9c179e"
             ],
             [
              0.4444444444444444,
              "#bd3786"
             ],
             [
              0.5555555555555556,
              "#d8576b"
             ],
             [
              0.6666666666666666,
              "#ed7953"
             ],
             [
              0.7777777777777778,
              "#fb9f3a"
             ],
             [
              0.8888888888888888,
              "#fdca26"
             ],
             [
              1,
              "#f0f921"
             ]
            ],
            "type": "heatmap"
           }
          ],
          "heatmapgl": [
           {
            "colorbar": {
             "outlinewidth": 0,
             "ticks": ""
            },
            "colorscale": [
             [
              0,
              "#0d0887"
             ],
             [
              0.1111111111111111,
              "#46039f"
             ],
             [
              0.2222222222222222,
              "#7201a8"
             ],
             [
              0.3333333333333333,
              "#9c179e"
             ],
             [
              0.4444444444444444,
              "#bd3786"
             ],
             [
              0.5555555555555556,
              "#d8576b"
             ],
             [
              0.6666666666666666,
              "#ed7953"
             ],
             [
              0.7777777777777778,
              "#fb9f3a"
             ],
             [
              0.8888888888888888,
              "#fdca26"
             ],
             [
              1,
              "#f0f921"
             ]
            ],
            "type": "heatmapgl"
           }
          ],
          "histogram": [
           {
            "marker": {
             "pattern": {
              "fillmode": "overlay",
              "size": 10,
              "solidity": 0.2
             }
            },
            "type": "histogram"
           }
          ],
          "histogram2d": [
           {
            "colorbar": {
             "outlinewidth": 0,
             "ticks": ""
            },
            "colorscale": [
             [
              0,
              "#0d0887"
             ],
             [
              0.1111111111111111,
              "#46039f"
             ],
             [
              0.2222222222222222,
              "#7201a8"
             ],
             [
              0.3333333333333333,
              "#9c179e"
             ],
             [
              0.4444444444444444,
              "#bd3786"
             ],
             [
              0.5555555555555556,
              "#d8576b"
             ],
             [
              0.6666666666666666,
              "#ed7953"
             ],
             [
              0.7777777777777778,
              "#fb9f3a"
             ],
             [
              0.8888888888888888,
              "#fdca26"
             ],
             [
              1,
              "#f0f921"
             ]
            ],
            "type": "histogram2d"
           }
          ],
          "histogram2dcontour": [
           {
            "colorbar": {
             "outlinewidth": 0,
             "ticks": ""
            },
            "colorscale": [
             [
              0,
              "#0d0887"
             ],
             [
              0.1111111111111111,
              "#46039f"
             ],
             [
              0.2222222222222222,
              "#7201a8"
             ],
             [
              0.3333333333333333,
              "#9c179e"
             ],
             [
              0.4444444444444444,
              "#bd3786"
             ],
             [
              0.5555555555555556,
              "#d8576b"
             ],
             [
              0.6666666666666666,
              "#ed7953"
             ],
             [
              0.7777777777777778,
              "#fb9f3a"
             ],
             [
              0.8888888888888888,
              "#fdca26"
             ],
             [
              1,
              "#f0f921"
             ]
            ],
            "type": "histogram2dcontour"
           }
          ],
          "mesh3d": [
           {
            "colorbar": {
             "outlinewidth": 0,
             "ticks": ""
            },
            "type": "mesh3d"
           }
          ],
          "parcoords": [
           {
            "line": {
             "colorbar": {
              "outlinewidth": 0,
              "ticks": ""
             }
            },
            "type": "parcoords"
           }
          ],
          "pie": [
           {
            "automargin": true,
            "type": "pie"
           }
          ],
          "scatter": [
           {
            "fillpattern": {
             "fillmode": "overlay",
             "size": 10,
             "solidity": 0.2
            },
            "type": "scatter"
           }
          ],
          "scatter3d": [
           {
            "line": {
             "colorbar": {
              "outlinewidth": 0,
              "ticks": ""
             }
            },
            "marker": {
             "colorbar": {
              "outlinewidth": 0,
              "ticks": ""
             }
            },
            "type": "scatter3d"
           }
          ],
          "scattercarpet": [
           {
            "marker": {
             "colorbar": {
              "outlinewidth": 0,
              "ticks": ""
             }
            },
            "type": "scattercarpet"
           }
          ],
          "scattergeo": [
           {
            "marker": {
             "colorbar": {
              "outlinewidth": 0,
              "ticks": ""
             }
            },
            "type": "scattergeo"
           }
          ],
          "scattergl": [
           {
            "marker": {
             "colorbar": {
              "outlinewidth": 0,
              "ticks": ""
             }
            },
            "type": "scattergl"
           }
          ],
          "scattermapbox": [
           {
            "marker": {
             "colorbar": {
              "outlinewidth": 0,
              "ticks": ""
             }
            },
            "type": "scattermapbox"
           }
          ],
          "scatterpolar": [
           {
            "marker": {
             "colorbar": {
              "outlinewidth": 0,
              "ticks": ""
             }
            },
            "type": "scatterpolar"
           }
          ],
          "scatterpolargl": [
           {
            "marker": {
             "colorbar": {
              "outlinewidth": 0,
              "ticks": ""
             }
            },
            "type": "scatterpolargl"
           }
          ],
          "scatterternary": [
           {
            "marker": {
             "colorbar": {
              "outlinewidth": 0,
              "ticks": ""
             }
            },
            "type": "scatterternary"
           }
          ],
          "surface": [
           {
            "colorbar": {
             "outlinewidth": 0,
             "ticks": ""
            },
            "colorscale": [
             [
              0,
              "#0d0887"
             ],
             [
              0.1111111111111111,
              "#46039f"
             ],
             [
              0.2222222222222222,
              "#7201a8"
             ],
             [
              0.3333333333333333,
              "#9c179e"
             ],
             [
              0.4444444444444444,
              "#bd3786"
             ],
             [
              0.5555555555555556,
              "#d8576b"
             ],
             [
              0.6666666666666666,
              "#ed7953"
             ],
             [
              0.7777777777777778,
              "#fb9f3a"
             ],
             [
              0.8888888888888888,
              "#fdca26"
             ],
             [
              1,
              "#f0f921"
             ]
            ],
            "type": "surface"
           }
          ],
          "table": [
           {
            "cells": {
             "fill": {
              "color": "#EBF0F8"
             },
             "line": {
              "color": "white"
             }
            },
            "header": {
             "fill": {
              "color": "#C8D4E3"
             },
             "line": {
              "color": "white"
             }
            },
            "type": "table"
           }
          ]
         },
         "layout": {
          "annotationdefaults": {
           "arrowcolor": "#2a3f5f",
           "arrowhead": 0,
           "arrowwidth": 1
          },
          "autotypenumbers": "strict",
          "coloraxis": {
           "colorbar": {
            "outlinewidth": 0,
            "ticks": ""
           }
          },
          "colorscale": {
           "diverging": [
            [
             0,
             "#8e0152"
            ],
            [
             0.1,
             "#c51b7d"
            ],
            [
             0.2,
             "#de77ae"
            ],
            [
             0.3,
             "#f1b6da"
            ],
            [
             0.4,
             "#fde0ef"
            ],
            [
             0.5,
             "#f7f7f7"
            ],
            [
             0.6,
             "#e6f5d0"
            ],
            [
             0.7,
             "#b8e186"
            ],
            [
             0.8,
             "#7fbc41"
            ],
            [
             0.9,
             "#4d9221"
            ],
            [
             1,
             "#276419"
            ]
           ],
           "sequential": [
            [
             0,
             "#0d0887"
            ],
            [
             0.1111111111111111,
             "#46039f"
            ],
            [
             0.2222222222222222,
             "#7201a8"
            ],
            [
             0.3333333333333333,
             "#9c179e"
            ],
            [
             0.4444444444444444,
             "#bd3786"
            ],
            [
             0.5555555555555556,
             "#d8576b"
            ],
            [
             0.6666666666666666,
             "#ed7953"
            ],
            [
             0.7777777777777778,
             "#fb9f3a"
            ],
            [
             0.8888888888888888,
             "#fdca26"
            ],
            [
             1,
             "#f0f921"
            ]
           ],
           "sequentialminus": [
            [
             0,
             "#0d0887"
            ],
            [
             0.1111111111111111,
             "#46039f"
            ],
            [
             0.2222222222222222,
             "#7201a8"
            ],
            [
             0.3333333333333333,
             "#9c179e"
            ],
            [
             0.4444444444444444,
             "#bd3786"
            ],
            [
             0.5555555555555556,
             "#d8576b"
            ],
            [
             0.6666666666666666,
             "#ed7953"
            ],
            [
             0.7777777777777778,
             "#fb9f3a"
            ],
            [
             0.8888888888888888,
             "#fdca26"
            ],
            [
             1,
             "#f0f921"
            ]
           ]
          },
          "colorway": [
           "#636efa",
           "#EF553B",
           "#00cc96",
           "#ab63fa",
           "#FFA15A",
           "#19d3f3",
           "#FF6692",
           "#B6E880",
           "#FF97FF",
           "#FECB52"
          ],
          "font": {
           "color": "#2a3f5f"
          },
          "geo": {
           "bgcolor": "white",
           "lakecolor": "white",
           "landcolor": "#E5ECF6",
           "showlakes": true,
           "showland": true,
           "subunitcolor": "white"
          },
          "hoverlabel": {
           "align": "left"
          },
          "hovermode": "closest",
          "mapbox": {
           "style": "light"
          },
          "paper_bgcolor": "white",
          "plot_bgcolor": "#E5ECF6",
          "polar": {
           "angularaxis": {
            "gridcolor": "white",
            "linecolor": "white",
            "ticks": ""
           },
           "bgcolor": "#E5ECF6",
           "radialaxis": {
            "gridcolor": "white",
            "linecolor": "white",
            "ticks": ""
           }
          },
          "scene": {
           "xaxis": {
            "backgroundcolor": "#E5ECF6",
            "gridcolor": "white",
            "gridwidth": 2,
            "linecolor": "white",
            "showbackground": true,
            "ticks": "",
            "zerolinecolor": "white"
           },
           "yaxis": {
            "backgroundcolor": "#E5ECF6",
            "gridcolor": "white",
            "gridwidth": 2,
            "linecolor": "white",
            "showbackground": true,
            "ticks": "",
            "zerolinecolor": "white"
           },
           "zaxis": {
            "backgroundcolor": "#E5ECF6",
            "gridcolor": "white",
            "gridwidth": 2,
            "linecolor": "white",
            "showbackground": true,
            "ticks": "",
            "zerolinecolor": "white"
           }
          },
          "shapedefaults": {
           "line": {
            "color": "#2a3f5f"
           }
          },
          "ternary": {
           "aaxis": {
            "gridcolor": "white",
            "linecolor": "white",
            "ticks": ""
           },
           "baxis": {
            "gridcolor": "white",
            "linecolor": "white",
            "ticks": ""
           },
           "bgcolor": "#E5ECF6",
           "caxis": {
            "gridcolor": "white",
            "linecolor": "white",
            "ticks": ""
           }
          },
          "title": {
           "x": 0.05
          },
          "xaxis": {
           "automargin": true,
           "gridcolor": "white",
           "linecolor": "white",
           "ticks": "",
           "title": {
            "standoff": 15
           },
           "zerolinecolor": "white",
           "zerolinewidth": 2
          },
          "yaxis": {
           "automargin": true,
           "gridcolor": "white",
           "linecolor": "white",
           "ticks": "",
           "title": {
            "standoff": 15
           },
           "zerolinecolor": "white",
           "zerolinewidth": 2
          }
         }
        },
        "title": {
         "text": "Top 10 universities based on Shanghai Rankings"
        },
        "xaxis": {
         "anchor": "y",
         "domain": [
          0,
          1
         ],
         "title": {
          "text": "University Name"
         }
        },
        "yaxis": {
         "anchor": "x",
         "domain": [
          0,
          1
         ],
         "title": {
          "text": "Total Score"
         }
        }
       }
      }
     },
     "metadata": {},
     "output_type": "display_data"
    }
   ],
   "source": [
    "#shanghai ranking \n",
    "#answer to Q-a\n",
    "fig = px.bar(Uni_df['ARWU'].head(10), x='University Name', y='Total Score',color_discrete_sequence=px.colors.qualitative.Pastel, title='Top 10 universities based on Shanghai Rankings')\n",
    "fig.show()"
   ]
  },
  {
   "cell_type": "code",
   "execution_count": 413,
   "metadata": {},
   "outputs": [
    {
     "data": {
      "application/vnd.plotly.v1+json": {
       "config": {
        "plotlyServerURL": "https://plot.ly"
       },
       "data": [
        {
         "alignmentgroup": "True",
         "hovertemplate": "University Name=%{x}<br>Rank Score=%{y}<extra></extra>",
         "legendgroup": "",
         "marker": {
          "color": "rgb(102, 197, 204)",
          "pattern": {
           "shape": ""
          }
         },
         "name": "",
         "offsetgroup": "",
         "orientation": "v",
         "showlegend": false,
         "textposition": "auto",
         "type": "bar",
         "x": [
          "King Abdulaziz University",
          "King Abdullah University of Science and Technology",
          "King Saud University",
          "King Fahd University of Petroleum and Minerals",
          "King Saud bin Abdulaziz University for Health Sciences",
          "King Khalid University",
          "Taif University",
          "Imam Abdulrahman Bin Faisal University",
          "Taibah University",
          "Prince Sattam Bin Abdulaziz University",
          "Umm Al-Qura University",
          "Alfaisal University",
          "Jazan University",
          "Qassim University",
          "University of Tabuk",
          "King Faisal University"
         ],
         "xaxis": "x",
         "y": [
          1756,
          1722,
          1649,
          1344,
          690,
          554,
          492,
          454,
          415,
          290,
          259,
          239,
          190,
          94,
          27,
          22
         ],
         "yaxis": "y"
        }
       ],
       "layout": {
        "barmode": "relative",
        "legend": {
         "tracegroupgap": 0
        },
        "template": {
         "data": {
          "bar": [
           {
            "error_x": {
             "color": "#2a3f5f"
            },
            "error_y": {
             "color": "#2a3f5f"
            },
            "marker": {
             "line": {
              "color": "#E5ECF6",
              "width": 0.5
             },
             "pattern": {
              "fillmode": "overlay",
              "size": 10,
              "solidity": 0.2
             }
            },
            "type": "bar"
           }
          ],
          "barpolar": [
           {
            "marker": {
             "line": {
              "color": "#E5ECF6",
              "width": 0.5
             },
             "pattern": {
              "fillmode": "overlay",
              "size": 10,
              "solidity": 0.2
             }
            },
            "type": "barpolar"
           }
          ],
          "carpet": [
           {
            "aaxis": {
             "endlinecolor": "#2a3f5f",
             "gridcolor": "white",
             "linecolor": "white",
             "minorgridcolor": "white",
             "startlinecolor": "#2a3f5f"
            },
            "baxis": {
             "endlinecolor": "#2a3f5f",
             "gridcolor": "white",
             "linecolor": "white",
             "minorgridcolor": "white",
             "startlinecolor": "#2a3f5f"
            },
            "type": "carpet"
           }
          ],
          "choropleth": [
           {
            "colorbar": {
             "outlinewidth": 0,
             "ticks": ""
            },
            "type": "choropleth"
           }
          ],
          "contour": [
           {
            "colorbar": {
             "outlinewidth": 0,
             "ticks": ""
            },
            "colorscale": [
             [
              0,
              "#0d0887"
             ],
             [
              0.1111111111111111,
              "#46039f"
             ],
             [
              0.2222222222222222,
              "#7201a8"
             ],
             [
              0.3333333333333333,
              "#9c179e"
             ],
             [
              0.4444444444444444,
              "#bd3786"
             ],
             [
              0.5555555555555556,
              "#d8576b"
             ],
             [
              0.6666666666666666,
              "#ed7953"
             ],
             [
              0.7777777777777778,
              "#fb9f3a"
             ],
             [
              0.8888888888888888,
              "#fdca26"
             ],
             [
              1,
              "#f0f921"
             ]
            ],
            "type": "contour"
           }
          ],
          "contourcarpet": [
           {
            "colorbar": {
             "outlinewidth": 0,
             "ticks": ""
            },
            "type": "contourcarpet"
           }
          ],
          "heatmap": [
           {
            "colorbar": {
             "outlinewidth": 0,
             "ticks": ""
            },
            "colorscale": [
             [
              0,
              "#0d0887"
             ],
             [
              0.1111111111111111,
              "#46039f"
             ],
             [
              0.2222222222222222,
              "#7201a8"
             ],
             [
              0.3333333333333333,
              "#9c179e"
             ],
             [
              0.4444444444444444,
              "#bd3786"
             ],
             [
              0.5555555555555556,
              "#d8576b"
             ],
             [
              0.6666666666666666,
              "#ed7953"
             ],
             [
              0.7777777777777778,
              "#fb9f3a"
             ],
             [
              0.8888888888888888,
              "#fdca26"
             ],
             [
              1,
              "#f0f921"
             ]
            ],
            "type": "heatmap"
           }
          ],
          "heatmapgl": [
           {
            "colorbar": {
             "outlinewidth": 0,
             "ticks": ""
            },
            "colorscale": [
             [
              0,
              "#0d0887"
             ],
             [
              0.1111111111111111,
              "#46039f"
             ],
             [
              0.2222222222222222,
              "#7201a8"
             ],
             [
              0.3333333333333333,
              "#9c179e"
             ],
             [
              0.4444444444444444,
              "#bd3786"
             ],
             [
              0.5555555555555556,
              "#d8576b"
             ],
             [
              0.6666666666666666,
              "#ed7953"
             ],
             [
              0.7777777777777778,
              "#fb9f3a"
             ],
             [
              0.8888888888888888,
              "#fdca26"
             ],
             [
              1,
              "#f0f921"
             ]
            ],
            "type": "heatmapgl"
           }
          ],
          "histogram": [
           {
            "marker": {
             "pattern": {
              "fillmode": "overlay",
              "size": 10,
              "solidity": 0.2
             }
            },
            "type": "histogram"
           }
          ],
          "histogram2d": [
           {
            "colorbar": {
             "outlinewidth": 0,
             "ticks": ""
            },
            "colorscale": [
             [
              0,
              "#0d0887"
             ],
             [
              0.1111111111111111,
              "#46039f"
             ],
             [
              0.2222222222222222,
              "#7201a8"
             ],
             [
              0.3333333333333333,
              "#9c179e"
             ],
             [
              0.4444444444444444,
              "#bd3786"
             ],
             [
              0.5555555555555556,
              "#d8576b"
             ],
             [
              0.6666666666666666,
              "#ed7953"
             ],
             [
              0.7777777777777778,
              "#fb9f3a"
             ],
             [
              0.8888888888888888,
              "#fdca26"
             ],
             [
              1,
              "#f0f921"
             ]
            ],
            "type": "histogram2d"
           }
          ],
          "histogram2dcontour": [
           {
            "colorbar": {
             "outlinewidth": 0,
             "ticks": ""
            },
            "colorscale": [
             [
              0,
              "#0d0887"
             ],
             [
              0.1111111111111111,
              "#46039f"
             ],
             [
              0.2222222222222222,
              "#7201a8"
             ],
             [
              0.3333333333333333,
              "#9c179e"
             ],
             [
              0.4444444444444444,
              "#bd3786"
             ],
             [
              0.5555555555555556,
              "#d8576b"
             ],
             [
              0.6666666666666666,
              "#ed7953"
             ],
             [
              0.7777777777777778,
              "#fb9f3a"
             ],
             [
              0.8888888888888888,
              "#fdca26"
             ],
             [
              1,
              "#f0f921"
             ]
            ],
            "type": "histogram2dcontour"
           }
          ],
          "mesh3d": [
           {
            "colorbar": {
             "outlinewidth": 0,
             "ticks": ""
            },
            "type": "mesh3d"
           }
          ],
          "parcoords": [
           {
            "line": {
             "colorbar": {
              "outlinewidth": 0,
              "ticks": ""
             }
            },
            "type": "parcoords"
           }
          ],
          "pie": [
           {
            "automargin": true,
            "type": "pie"
           }
          ],
          "scatter": [
           {
            "fillpattern": {
             "fillmode": "overlay",
             "size": 10,
             "solidity": 0.2
            },
            "type": "scatter"
           }
          ],
          "scatter3d": [
           {
            "line": {
             "colorbar": {
              "outlinewidth": 0,
              "ticks": ""
             }
            },
            "marker": {
             "colorbar": {
              "outlinewidth": 0,
              "ticks": ""
             }
            },
            "type": "scatter3d"
           }
          ],
          "scattercarpet": [
           {
            "marker": {
             "colorbar": {
              "outlinewidth": 0,
              "ticks": ""
             }
            },
            "type": "scattercarpet"
           }
          ],
          "scattergeo": [
           {
            "marker": {
             "colorbar": {
              "outlinewidth": 0,
              "ticks": ""
             }
            },
            "type": "scattergeo"
           }
          ],
          "scattergl": [
           {
            "marker": {
             "colorbar": {
              "outlinewidth": 0,
              "ticks": ""
             }
            },
            "type": "scattergl"
           }
          ],
          "scattermapbox": [
           {
            "marker": {
             "colorbar": {
              "outlinewidth": 0,
              "ticks": ""
             }
            },
            "type": "scattermapbox"
           }
          ],
          "scatterpolar": [
           {
            "marker": {
             "colorbar": {
              "outlinewidth": 0,
              "ticks": ""
             }
            },
            "type": "scatterpolar"
           }
          ],
          "scatterpolargl": [
           {
            "marker": {
             "colorbar": {
              "outlinewidth": 0,
              "ticks": ""
             }
            },
            "type": "scatterpolargl"
           }
          ],
          "scatterternary": [
           {
            "marker": {
             "colorbar": {
              "outlinewidth": 0,
              "ticks": ""
             }
            },
            "type": "scatterternary"
           }
          ],
          "surface": [
           {
            "colorbar": {
             "outlinewidth": 0,
             "ticks": ""
            },
            "colorscale": [
             [
              0,
              "#0d0887"
             ],
             [
              0.1111111111111111,
              "#46039f"
             ],
             [
              0.2222222222222222,
              "#7201a8"
             ],
             [
              0.3333333333333333,
              "#9c179e"
             ],
             [
              0.4444444444444444,
              "#bd3786"
             ],
             [
              0.5555555555555556,
              "#d8576b"
             ],
             [
              0.6666666666666666,
              "#ed7953"
             ],
             [
              0.7777777777777778,
              "#fb9f3a"
             ],
             [
              0.8888888888888888,
              "#fdca26"
             ],
             [
              1,
              "#f0f921"
             ]
            ],
            "type": "surface"
           }
          ],
          "table": [
           {
            "cells": {
             "fill": {
              "color": "#EBF0F8"
             },
             "line": {
              "color": "white"
             }
            },
            "header": {
             "fill": {
              "color": "#C8D4E3"
             },
             "line": {
              "color": "white"
             }
            },
            "type": "table"
           }
          ]
         },
         "layout": {
          "annotationdefaults": {
           "arrowcolor": "#2a3f5f",
           "arrowhead": 0,
           "arrowwidth": 1
          },
          "autotypenumbers": "strict",
          "coloraxis": {
           "colorbar": {
            "outlinewidth": 0,
            "ticks": ""
           }
          },
          "colorscale": {
           "diverging": [
            [
             0,
             "#8e0152"
            ],
            [
             0.1,
             "#c51b7d"
            ],
            [
             0.2,
             "#de77ae"
            ],
            [
             0.3,
             "#f1b6da"
            ],
            [
             0.4,
             "#fde0ef"
            ],
            [
             0.5,
             "#f7f7f7"
            ],
            [
             0.6,
             "#e6f5d0"
            ],
            [
             0.7,
             "#b8e186"
            ],
            [
             0.8,
             "#7fbc41"
            ],
            [
             0.9,
             "#4d9221"
            ],
            [
             1,
             "#276419"
            ]
           ],
           "sequential": [
            [
             0,
             "#0d0887"
            ],
            [
             0.1111111111111111,
             "#46039f"
            ],
            [
             0.2222222222222222,
             "#7201a8"
            ],
            [
             0.3333333333333333,
             "#9c179e"
            ],
            [
             0.4444444444444444,
             "#bd3786"
            ],
            [
             0.5555555555555556,
             "#d8576b"
            ],
            [
             0.6666666666666666,
             "#ed7953"
            ],
            [
             0.7777777777777778,
             "#fb9f3a"
            ],
            [
             0.8888888888888888,
             "#fdca26"
            ],
            [
             1,
             "#f0f921"
            ]
           ],
           "sequentialminus": [
            [
             0,
             "#0d0887"
            ],
            [
             0.1111111111111111,
             "#46039f"
            ],
            [
             0.2222222222222222,
             "#7201a8"
            ],
            [
             0.3333333333333333,
             "#9c179e"
            ],
            [
             0.4444444444444444,
             "#bd3786"
            ],
            [
             0.5555555555555556,
             "#d8576b"
            ],
            [
             0.6666666666666666,
             "#ed7953"
            ],
            [
             0.7777777777777778,
             "#fb9f3a"
            ],
            [
             0.8888888888888888,
             "#fdca26"
            ],
            [
             1,
             "#f0f921"
            ]
           ]
          },
          "colorway": [
           "#636efa",
           "#EF553B",
           "#00cc96",
           "#ab63fa",
           "#FFA15A",
           "#19d3f3",
           "#FF6692",
           "#B6E880",
           "#FF97FF",
           "#FECB52"
          ],
          "font": {
           "color": "#2a3f5f"
          },
          "geo": {
           "bgcolor": "white",
           "lakecolor": "white",
           "landcolor": "#E5ECF6",
           "showlakes": true,
           "showland": true,
           "subunitcolor": "white"
          },
          "hoverlabel": {
           "align": "left"
          },
          "hovermode": "closest",
          "mapbox": {
           "style": "light"
          },
          "paper_bgcolor": "white",
          "plot_bgcolor": "#E5ECF6",
          "polar": {
           "angularaxis": {
            "gridcolor": "white",
            "linecolor": "white",
            "ticks": ""
           },
           "bgcolor": "#E5ECF6",
           "radialaxis": {
            "gridcolor": "white",
            "linecolor": "white",
            "ticks": ""
           }
          },
          "scene": {
           "xaxis": {
            "backgroundcolor": "#E5ECF6",
            "gridcolor": "white",
            "gridwidth": 2,
            "linecolor": "white",
            "showbackground": true,
            "ticks": "",
            "zerolinecolor": "white"
           },
           "yaxis": {
            "backgroundcolor": "#E5ECF6",
            "gridcolor": "white",
            "gridwidth": 2,
            "linecolor": "white",
            "showbackground": true,
            "ticks": "",
            "zerolinecolor": "white"
           },
           "zaxis": {
            "backgroundcolor": "#E5ECF6",
            "gridcolor": "white",
            "gridwidth": 2,
            "linecolor": "white",
            "showbackground": true,
            "ticks": "",
            "zerolinecolor": "white"
           }
          },
          "shapedefaults": {
           "line": {
            "color": "#2a3f5f"
           }
          },
          "ternary": {
           "aaxis": {
            "gridcolor": "white",
            "linecolor": "white",
            "ticks": ""
           },
           "baxis": {
            "gridcolor": "white",
            "linecolor": "white",
            "ticks": ""
           },
           "bgcolor": "#E5ECF6",
           "caxis": {
            "gridcolor": "white",
            "linecolor": "white",
            "ticks": ""
           }
          },
          "title": {
           "x": 0.05
          },
          "xaxis": {
           "automargin": true,
           "gridcolor": "white",
           "linecolor": "white",
           "ticks": "",
           "title": {
            "standoff": 15
           },
           "zerolinecolor": "white",
           "zerolinewidth": 2
          },
          "yaxis": {
           "automargin": true,
           "gridcolor": "white",
           "linecolor": "white",
           "ticks": "",
           "title": {
            "standoff": 15
           },
           "zerolinecolor": "white",
           "zerolinewidth": 2
          }
         }
        },
        "title": {
         "text": "Top universties in Saudi Arabia based on the total rank"
        },
        "xaxis": {
         "anchor": "y",
         "domain": [
          0,
          1
         ],
         "title": {
          "text": "University Name"
         }
        },
        "yaxis": {
         "anchor": "x",
         "domain": [
          0,
          1
         ],
         "title": {
          "text": "Rank Score"
         }
        }
       }
      }
     },
     "metadata": {},
     "output_type": "display_data"
    }
   ],
   "source": [
    "#answer Q-c\n",
    "Saudi_df = filtered_df3[filtered_df3['Location'] == 'Saudi Arabia']\n",
    "\n",
    "fig = px.bar(Saudi_df, x='University Name', y='Rank Score',color_discrete_sequence=px.colors.qualitative.Pastel, title='Top universties in Saudi Arabia based on the total rank')\n",
    "fig.show()"
   ]
  },
  {
   "cell_type": "code",
   "execution_count": null,
   "metadata": {},
   "outputs": [],
   "source": []
  },
  {
   "cell_type": "code",
   "execution_count": null,
   "metadata": {},
   "outputs": [],
   "source": []
  },
  {
   "cell_type": "code",
   "execution_count": null,
   "metadata": {},
   "outputs": [],
   "source": []
  },
  {
   "cell_type": "markdown",
   "metadata": {},
   "source": [
    "## 4. Bivariate/Multivariate Analysis:\n",
    "\n",
    "Here, you look at the relationships between two or more variables. This can involve looking for correlations, patterns, and trends that suggest a relationship or an association.\n",
    "\n",
    "We can perform bi-variate analysis for any combination of categorical and numerical variables. The combination can be:\n",
    "| bi-variate variables   | Plot type |\n",
    "| ------------- | ------------- |\n",
    "| Categorical & Categorical| Stacked Bar Chart |\n",
    "| Categorical & numerical  | scatter plot, histogram, box plot|\n",
    "| numerical  & numerical  | Scatter plot, line chart| \n",
    "\n",
    "\n",
    "Multivariate Analysis:\n",
    "- Heat map\n",
    "- Bar Chart\n",
    "- Scatter Chart\n",
    "- Line Chart"
   ]
  },
  {
   "cell_type": "markdown",
   "metadata": {},
   "source": []
  },
  {
   "cell_type": "code",
   "execution_count": 414,
   "metadata": {},
   "outputs": [
    {
     "data": {
      "application/vnd.plotly.v1+json": {
       "config": {
        "plotlyServerURL": "https://plot.ly"
       },
       "data": [
        {
         "name": "Educational Score",
         "type": "bar",
         "x": [
          "Harvard University",
          "Massachusetts Institute of Technology",
          "Stanford University",
          "University of Cambridge",
          "University of Oxford",
          "Princeton University",
          "University of Chicago",
          "Columbia University",
          "University of Pennsylvania",
          "Yale University"
         ],
         "y": [
          2000,
          1997,
          1990,
          1998,
          1994,
          1996,
          1993,
          1989,
          1987,
          1995
         ]
        },
        {
         "name": "Employability Score",
         "type": "bar",
         "x": [
          "Harvard University",
          "Massachusetts Institute of Technology",
          "Stanford University",
          "University of Cambridge",
          "University of Oxford",
          "Princeton University",
          "University of Chicago",
          "Columbia University",
          "University of Pennsylvania",
          "Yale University"
         ],
         "y": [
          2000,
          1989,
          1997,
          1976,
          1974,
          1985,
          1986,
          1987,
          1993,
          1966
         ]
        },
        {
         "name": "Faculty Score",
         "type": "bar",
         "x": [
          "Harvard University",
          "Massachusetts Institute of Technology",
          "Stanford University",
          "University of Cambridge",
          "University of Oxford",
          "Princeton University",
          "University of Chicago",
          "Columbia University",
          "University of Pennsylvania",
          "Yale University"
         ],
         "y": [
          2000,
          1998,
          1999,
          1996,
          1992,
          1995,
          1979,
          1991,
          1956,
          1988
         ]
        },
        {
         "name": "Research Score",
         "type": "bar",
         "x": [
          "Harvard University",
          "Massachusetts Institute of Technology",
          "Stanford University",
          "University of Cambridge",
          "University of Oxford",
          "Princeton University",
          "University of Chicago",
          "Columbia University",
          "University of Pennsylvania",
          "Yale University"
         ],
         "y": [
          2000,
          1992,
          1999,
          1990,
          1997,
          1919,
          1973,
          1988,
          1989,
          1980
         ]
        }
       ],
       "layout": {
        "barmode": "group",
        "legend": {
         "orientation": "h",
         "title": {
          "text": "Factors"
         },
         "x": 1,
         "xanchor": "right",
         "y": 1.02,
         "yanchor": "bottom"
        },
        "template": {
         "data": {
          "bar": [
           {
            "error_x": {
             "color": "#2a3f5f"
            },
            "error_y": {
             "color": "#2a3f5f"
            },
            "marker": {
             "line": {
              "color": "#E5ECF6",
              "width": 0.5
             },
             "pattern": {
              "fillmode": "overlay",
              "size": 10,
              "solidity": 0.2
             }
            },
            "type": "bar"
           }
          ],
          "barpolar": [
           {
            "marker": {
             "line": {
              "color": "#E5ECF6",
              "width": 0.5
             },
             "pattern": {
              "fillmode": "overlay",
              "size": 10,
              "solidity": 0.2
             }
            },
            "type": "barpolar"
           }
          ],
          "carpet": [
           {
            "aaxis": {
             "endlinecolor": "#2a3f5f",
             "gridcolor": "white",
             "linecolor": "white",
             "minorgridcolor": "white",
             "startlinecolor": "#2a3f5f"
            },
            "baxis": {
             "endlinecolor": "#2a3f5f",
             "gridcolor": "white",
             "linecolor": "white",
             "minorgridcolor": "white",
             "startlinecolor": "#2a3f5f"
            },
            "type": "carpet"
           }
          ],
          "choropleth": [
           {
            "colorbar": {
             "outlinewidth": 0,
             "ticks": ""
            },
            "type": "choropleth"
           }
          ],
          "contour": [
           {
            "colorbar": {
             "outlinewidth": 0,
             "ticks": ""
            },
            "colorscale": [
             [
              0,
              "#0d0887"
             ],
             [
              0.1111111111111111,
              "#46039f"
             ],
             [
              0.2222222222222222,
              "#7201a8"
             ],
             [
              0.3333333333333333,
              "#9c179e"
             ],
             [
              0.4444444444444444,
              "#bd3786"
             ],
             [
              0.5555555555555556,
              "#d8576b"
             ],
             [
              0.6666666666666666,
              "#ed7953"
             ],
             [
              0.7777777777777778,
              "#fb9f3a"
             ],
             [
              0.8888888888888888,
              "#fdca26"
             ],
             [
              1,
              "#f0f921"
             ]
            ],
            "type": "contour"
           }
          ],
          "contourcarpet": [
           {
            "colorbar": {
             "outlinewidth": 0,
             "ticks": ""
            },
            "type": "contourcarpet"
           }
          ],
          "heatmap": [
           {
            "colorbar": {
             "outlinewidth": 0,
             "ticks": ""
            },
            "colorscale": [
             [
              0,
              "#0d0887"
             ],
             [
              0.1111111111111111,
              "#46039f"
             ],
             [
              0.2222222222222222,
              "#7201a8"
             ],
             [
              0.3333333333333333,
              "#9c179e"
             ],
             [
              0.4444444444444444,
              "#bd3786"
             ],
             [
              0.5555555555555556,
              "#d8576b"
             ],
             [
              0.6666666666666666,
              "#ed7953"
             ],
             [
              0.7777777777777778,
              "#fb9f3a"
             ],
             [
              0.8888888888888888,
              "#fdca26"
             ],
             [
              1,
              "#f0f921"
             ]
            ],
            "type": "heatmap"
           }
          ],
          "heatmapgl": [
           {
            "colorbar": {
             "outlinewidth": 0,
             "ticks": ""
            },
            "colorscale": [
             [
              0,
              "#0d0887"
             ],
             [
              0.1111111111111111,
              "#46039f"
             ],
             [
              0.2222222222222222,
              "#7201a8"
             ],
             [
              0.3333333333333333,
              "#9c179e"
             ],
             [
              0.4444444444444444,
              "#bd3786"
             ],
             [
              0.5555555555555556,
              "#d8576b"
             ],
             [
              0.6666666666666666,
              "#ed7953"
             ],
             [
              0.7777777777777778,
              "#fb9f3a"
             ],
             [
              0.8888888888888888,
              "#fdca26"
             ],
             [
              1,
              "#f0f921"
             ]
            ],
            "type": "heatmapgl"
           }
          ],
          "histogram": [
           {
            "marker": {
             "pattern": {
              "fillmode": "overlay",
              "size": 10,
              "solidity": 0.2
             }
            },
            "type": "histogram"
           }
          ],
          "histogram2d": [
           {
            "colorbar": {
             "outlinewidth": 0,
             "ticks": ""
            },
            "colorscale": [
             [
              0,
              "#0d0887"
             ],
             [
              0.1111111111111111,
              "#46039f"
             ],
             [
              0.2222222222222222,
              "#7201a8"
             ],
             [
              0.3333333333333333,
              "#9c179e"
             ],
             [
              0.4444444444444444,
              "#bd3786"
             ],
             [
              0.5555555555555556,
              "#d8576b"
             ],
             [
              0.6666666666666666,
              "#ed7953"
             ],
             [
              0.7777777777777778,
              "#fb9f3a"
             ],
             [
              0.8888888888888888,
              "#fdca26"
             ],
             [
              1,
              "#f0f921"
             ]
            ],
            "type": "histogram2d"
           }
          ],
          "histogram2dcontour": [
           {
            "colorbar": {
             "outlinewidth": 0,
             "ticks": ""
            },
            "colorscale": [
             [
              0,
              "#0d0887"
             ],
             [
              0.1111111111111111,
              "#46039f"
             ],
             [
              0.2222222222222222,
              "#7201a8"
             ],
             [
              0.3333333333333333,
              "#9c179e"
             ],
             [
              0.4444444444444444,
              "#bd3786"
             ],
             [
              0.5555555555555556,
              "#d8576b"
             ],
             [
              0.6666666666666666,
              "#ed7953"
             ],
             [
              0.7777777777777778,
              "#fb9f3a"
             ],
             [
              0.8888888888888888,
              "#fdca26"
             ],
             [
              1,
              "#f0f921"
             ]
            ],
            "type": "histogram2dcontour"
           }
          ],
          "mesh3d": [
           {
            "colorbar": {
             "outlinewidth": 0,
             "ticks": ""
            },
            "type": "mesh3d"
           }
          ],
          "parcoords": [
           {
            "line": {
             "colorbar": {
              "outlinewidth": 0,
              "ticks": ""
             }
            },
            "type": "parcoords"
           }
          ],
          "pie": [
           {
            "automargin": true,
            "type": "pie"
           }
          ],
          "scatter": [
           {
            "fillpattern": {
             "fillmode": "overlay",
             "size": 10,
             "solidity": 0.2
            },
            "type": "scatter"
           }
          ],
          "scatter3d": [
           {
            "line": {
             "colorbar": {
              "outlinewidth": 0,
              "ticks": ""
             }
            },
            "marker": {
             "colorbar": {
              "outlinewidth": 0,
              "ticks": ""
             }
            },
            "type": "scatter3d"
           }
          ],
          "scattercarpet": [
           {
            "marker": {
             "colorbar": {
              "outlinewidth": 0,
              "ticks": ""
             }
            },
            "type": "scattercarpet"
           }
          ],
          "scattergeo": [
           {
            "marker": {
             "colorbar": {
              "outlinewidth": 0,
              "ticks": ""
             }
            },
            "type": "scattergeo"
           }
          ],
          "scattergl": [
           {
            "marker": {
             "colorbar": {
              "outlinewidth": 0,
              "ticks": ""
             }
            },
            "type": "scattergl"
           }
          ],
          "scattermapbox": [
           {
            "marker": {
             "colorbar": {
              "outlinewidth": 0,
              "ticks": ""
             }
            },
            "type": "scattermapbox"
           }
          ],
          "scatterpolar": [
           {
            "marker": {
             "colorbar": {
              "outlinewidth": 0,
              "ticks": ""
             }
            },
            "type": "scatterpolar"
           }
          ],
          "scatterpolargl": [
           {
            "marker": {
             "colorbar": {
              "outlinewidth": 0,
              "ticks": ""
             }
            },
            "type": "scatterpolargl"
           }
          ],
          "scatterternary": [
           {
            "marker": {
             "colorbar": {
              "outlinewidth": 0,
              "ticks": ""
             }
            },
            "type": "scatterternary"
           }
          ],
          "surface": [
           {
            "colorbar": {
             "outlinewidth": 0,
             "ticks": ""
            },
            "colorscale": [
             [
              0,
              "#0d0887"
             ],
             [
              0.1111111111111111,
              "#46039f"
             ],
             [
              0.2222222222222222,
              "#7201a8"
             ],
             [
              0.3333333333333333,
              "#9c179e"
             ],
             [
              0.4444444444444444,
              "#bd3786"
             ],
             [
              0.5555555555555556,
              "#d8576b"
             ],
             [
              0.6666666666666666,
              "#ed7953"
             ],
             [
              0.7777777777777778,
              "#fb9f3a"
             ],
             [
              0.8888888888888888,
              "#fdca26"
             ],
             [
              1,
              "#f0f921"
             ]
            ],
            "type": "surface"
           }
          ],
          "table": [
           {
            "cells": {
             "fill": {
              "color": "#EBF0F8"
             },
             "line": {
              "color": "white"
             }
            },
            "header": {
             "fill": {
              "color": "#C8D4E3"
             },
             "line": {
              "color": "white"
             }
            },
            "type": "table"
           }
          ]
         },
         "layout": {
          "annotationdefaults": {
           "arrowcolor": "#2a3f5f",
           "arrowhead": 0,
           "arrowwidth": 1
          },
          "autotypenumbers": "strict",
          "coloraxis": {
           "colorbar": {
            "outlinewidth": 0,
            "ticks": ""
           }
          },
          "colorscale": {
           "diverging": [
            [
             0,
             "#8e0152"
            ],
            [
             0.1,
             "#c51b7d"
            ],
            [
             0.2,
             "#de77ae"
            ],
            [
             0.3,
             "#f1b6da"
            ],
            [
             0.4,
             "#fde0ef"
            ],
            [
             0.5,
             "#f7f7f7"
            ],
            [
             0.6,
             "#e6f5d0"
            ],
            [
             0.7,
             "#b8e186"
            ],
            [
             0.8,
             "#7fbc41"
            ],
            [
             0.9,
             "#4d9221"
            ],
            [
             1,
             "#276419"
            ]
           ],
           "sequential": [
            [
             0,
             "#0d0887"
            ],
            [
             0.1111111111111111,
             "#46039f"
            ],
            [
             0.2222222222222222,
             "#7201a8"
            ],
            [
             0.3333333333333333,
             "#9c179e"
            ],
            [
             0.4444444444444444,
             "#bd3786"
            ],
            [
             0.5555555555555556,
             "#d8576b"
            ],
            [
             0.6666666666666666,
             "#ed7953"
            ],
            [
             0.7777777777777778,
             "#fb9f3a"
            ],
            [
             0.8888888888888888,
             "#fdca26"
            ],
            [
             1,
             "#f0f921"
            ]
           ],
           "sequentialminus": [
            [
             0,
             "#0d0887"
            ],
            [
             0.1111111111111111,
             "#46039f"
            ],
            [
             0.2222222222222222,
             "#7201a8"
            ],
            [
             0.3333333333333333,
             "#9c179e"
            ],
            [
             0.4444444444444444,
             "#bd3786"
            ],
            [
             0.5555555555555556,
             "#d8576b"
            ],
            [
             0.6666666666666666,
             "#ed7953"
            ],
            [
             0.7777777777777778,
             "#fb9f3a"
            ],
            [
             0.8888888888888888,
             "#fdca26"
            ],
            [
             1,
             "#f0f921"
            ]
           ]
          },
          "colorway": [
           "#636efa",
           "#EF553B",
           "#00cc96",
           "#ab63fa",
           "#FFA15A",
           "#19d3f3",
           "#FF6692",
           "#B6E880",
           "#FF97FF",
           "#FECB52"
          ],
          "font": {
           "color": "#2a3f5f"
          },
          "geo": {
           "bgcolor": "white",
           "lakecolor": "white",
           "landcolor": "#E5ECF6",
           "showlakes": true,
           "showland": true,
           "subunitcolor": "white"
          },
          "hoverlabel": {
           "align": "left"
          },
          "hovermode": "closest",
          "mapbox": {
           "style": "light"
          },
          "paper_bgcolor": "white",
          "plot_bgcolor": "#E5ECF6",
          "polar": {
           "angularaxis": {
            "gridcolor": "white",
            "linecolor": "white",
            "ticks": ""
           },
           "bgcolor": "#E5ECF6",
           "radialaxis": {
            "gridcolor": "white",
            "linecolor": "white",
            "ticks": ""
           }
          },
          "scene": {
           "xaxis": {
            "backgroundcolor": "#E5ECF6",
            "gridcolor": "white",
            "gridwidth": 2,
            "linecolor": "white",
            "showbackground": true,
            "ticks": "",
            "zerolinecolor": "white"
           },
           "yaxis": {
            "backgroundcolor": "#E5ECF6",
            "gridcolor": "white",
            "gridwidth": 2,
            "linecolor": "white",
            "showbackground": true,
            "ticks": "",
            "zerolinecolor": "white"
           },
           "zaxis": {
            "backgroundcolor": "#E5ECF6",
            "gridcolor": "white",
            "gridwidth": 2,
            "linecolor": "white",
            "showbackground": true,
            "ticks": "",
            "zerolinecolor": "white"
           }
          },
          "shapedefaults": {
           "line": {
            "color": "#2a3f5f"
           }
          },
          "ternary": {
           "aaxis": {
            "gridcolor": "white",
            "linecolor": "white",
            "ticks": ""
           },
           "baxis": {
            "gridcolor": "white",
            "linecolor": "white",
            "ticks": ""
           },
           "bgcolor": "#E5ECF6",
           "caxis": {
            "gridcolor": "white",
            "linecolor": "white",
            "ticks": ""
           }
          },
          "title": {
           "x": 0.05
          },
          "xaxis": {
           "automargin": true,
           "gridcolor": "white",
           "linecolor": "white",
           "ticks": "",
           "title": {
            "standoff": 15
           },
           "zerolinecolor": "white",
           "zerolinewidth": 2
          },
          "yaxis": {
           "automargin": true,
           "gridcolor": "white",
           "linecolor": "white",
           "ticks": "",
           "title": {
            "standoff": 15
           },
           "zerolinecolor": "white",
           "zerolinewidth": 2
          }
         }
        },
        "title": {
         "text": "University rank and Factors for Top 10 Universities (CWUR)"
        },
        "xaxis": {
         "title": {
          "text": "Country"
         }
        },
        "yaxis": {
         "range": [
          1900,
          2002
         ],
         "title": {
          "text": "Score"
         }
        }
       }
      }
     },
     "metadata": {},
     "output_type": "display_data"
    }
   ],
   "source": [
    "#Answer Q-d\n",
    "df_top10 = filtered_df3.sort_values(by='Rank', ascending=True).head(10)\n",
    "\n",
    "countries = df_top10['University Name']\n",
    "countries_rank = df_top10['Rank']\n",
    "factors = ['Educational Score', 'Employability Score', 'Faculty Score', 'Research Score']\n",
    "scores = df_top10[factors].values.T\n",
    "\n",
    "fig = go.Figure()\n",
    "\n",
    "for i, factor in enumerate(factors):\n",
    "    fig.add_trace(go.Bar(x=countries, y=scores[i], name=factor))\n",
    "\n",
    "#Reverse the order of happiness_score\n",
    "happiness_score = countries_rank\n",
    "\n",
    "# fig.add_trace(go.Bar(x=countries, y=happiness_score, name='Rank'))\n",
    "\n",
    "fig.update_layout(\n",
    "    barmode='group',\n",
    "    title='University rank and Factors for Top 10 Universities (CWUR)',\n",
    "    xaxis=dict(title='Country'),\n",
    "    yaxis=dict(title='Score', range=[1900, 2002]),  # Set the range for reversed scores\n",
    "    legend=dict(title='Factors', orientation='h', yanchor='bottom', y=1.02, xanchor='right', x=1)\n",
    "    #color_discrete_sequence=px.colors.qualitative.Pastel\n",
    "    \n",
    ")\n",
    "\n",
    "fig.show()"
   ]
  },
  {
   "cell_type": "code",
   "execution_count": 415,
   "metadata": {},
   "outputs": [
    {
     "data": {
      "text/html": [
       "<div>\n",
       "<style scoped>\n",
       "    .dataframe tbody tr th:only-of-type {\n",
       "        vertical-align: middle;\n",
       "    }\n",
       "\n",
       "    .dataframe tbody tr th {\n",
       "        vertical-align: top;\n",
       "    }\n",
       "\n",
       "    .dataframe thead th {\n",
       "        text-align: right;\n",
       "    }\n",
       "</style>\n",
       "<table border=\"1\" class=\"dataframe\">\n",
       "  <thead>\n",
       "    <tr style=\"text-align: right;\">\n",
       "      <th></th>\n",
       "      <th>Rank</th>\n",
       "      <th>University Name</th>\n",
       "      <th>Location</th>\n",
       "      <th>National Rank</th>\n",
       "      <th>Educational Rank</th>\n",
       "      <th>Employability Rank</th>\n",
       "      <th>Faculty Rank</th>\n",
       "      <th>Research Rank</th>\n",
       "      <th>Total Score</th>\n",
       "      <th>World Ratio</th>\n",
       "      <th>Rank Score</th>\n",
       "      <th>Educational Score</th>\n",
       "      <th>Employability Score</th>\n",
       "      <th>Faculty Score</th>\n",
       "      <th>Research Score</th>\n",
       "      <th>Educational Percentage</th>\n",
       "      <th>Employability Percentage</th>\n",
       "      <th>Faculty Percentage</th>\n",
       "      <th>Research Percentage</th>\n",
       "    </tr>\n",
       "  </thead>\n",
       "  <tbody>\n",
       "    <tr>\n",
       "      <th>0</th>\n",
       "      <td>1</td>\n",
       "      <td>Harvard University</td>\n",
       "      <td>USA</td>\n",
       "      <td>1</td>\n",
       "      <td>1</td>\n",
       "      <td>1</td>\n",
       "      <td>1</td>\n",
       "      <td>1</td>\n",
       "      <td>100.0</td>\n",
       "      <td>0.1</td>\n",
       "      <td>2000</td>\n",
       "      <td>2000</td>\n",
       "      <td>2000</td>\n",
       "      <td>2000</td>\n",
       "      <td>2000</td>\n",
       "      <td>100.00</td>\n",
       "      <td>100.00</td>\n",
       "      <td>100.00</td>\n",
       "      <td>100.00</td>\n",
       "    </tr>\n",
       "    <tr>\n",
       "      <th>1</th>\n",
       "      <td>2</td>\n",
       "      <td>Massachusetts Institute of Technology</td>\n",
       "      <td>USA</td>\n",
       "      <td>2</td>\n",
       "      <td>4</td>\n",
       "      <td>12</td>\n",
       "      <td>3</td>\n",
       "      <td>9</td>\n",
       "      <td>96.7</td>\n",
       "      <td>0.1</td>\n",
       "      <td>1999</td>\n",
       "      <td>1997</td>\n",
       "      <td>1989</td>\n",
       "      <td>1998</td>\n",
       "      <td>1992</td>\n",
       "      <td>99.85</td>\n",
       "      <td>99.45</td>\n",
       "      <td>99.90</td>\n",
       "      <td>99.60</td>\n",
       "    </tr>\n",
       "    <tr>\n",
       "      <th>2</th>\n",
       "      <td>3</td>\n",
       "      <td>Stanford University</td>\n",
       "      <td>USA</td>\n",
       "      <td>3</td>\n",
       "      <td>11</td>\n",
       "      <td>4</td>\n",
       "      <td>2</td>\n",
       "      <td>2</td>\n",
       "      <td>95.2</td>\n",
       "      <td>0.1</td>\n",
       "      <td>1998</td>\n",
       "      <td>1990</td>\n",
       "      <td>1997</td>\n",
       "      <td>1999</td>\n",
       "      <td>1999</td>\n",
       "      <td>99.50</td>\n",
       "      <td>99.85</td>\n",
       "      <td>99.95</td>\n",
       "      <td>99.95</td>\n",
       "    </tr>\n",
       "    <tr>\n",
       "      <th>3</th>\n",
       "      <td>4</td>\n",
       "      <td>University of Cambridge</td>\n",
       "      <td>United Kingdom</td>\n",
       "      <td>1</td>\n",
       "      <td>3</td>\n",
       "      <td>25</td>\n",
       "      <td>5</td>\n",
       "      <td>11</td>\n",
       "      <td>94.1</td>\n",
       "      <td>0.1</td>\n",
       "      <td>1997</td>\n",
       "      <td>1998</td>\n",
       "      <td>1976</td>\n",
       "      <td>1996</td>\n",
       "      <td>1990</td>\n",
       "      <td>99.90</td>\n",
       "      <td>98.80</td>\n",
       "      <td>99.80</td>\n",
       "      <td>99.50</td>\n",
       "    </tr>\n",
       "    <tr>\n",
       "      <th>4</th>\n",
       "      <td>5</td>\n",
       "      <td>University of Oxford</td>\n",
       "      <td>United Kingdom</td>\n",
       "      <td>2</td>\n",
       "      <td>7</td>\n",
       "      <td>27</td>\n",
       "      <td>9</td>\n",
       "      <td>4</td>\n",
       "      <td>93.3</td>\n",
       "      <td>0.1</td>\n",
       "      <td>1996</td>\n",
       "      <td>1994</td>\n",
       "      <td>1974</td>\n",
       "      <td>1992</td>\n",
       "      <td>1997</td>\n",
       "      <td>99.70</td>\n",
       "      <td>98.70</td>\n",
       "      <td>99.60</td>\n",
       "      <td>99.85</td>\n",
       "    </tr>\n",
       "    <tr>\n",
       "      <th>5</th>\n",
       "      <td>6</td>\n",
       "      <td>Princeton University</td>\n",
       "      <td>USA</td>\n",
       "      <td>4</td>\n",
       "      <td>5</td>\n",
       "      <td>16</td>\n",
       "      <td>6</td>\n",
       "      <td>82</td>\n",
       "      <td>92.6</td>\n",
       "      <td>0.1</td>\n",
       "      <td>1995</td>\n",
       "      <td>1996</td>\n",
       "      <td>1985</td>\n",
       "      <td>1995</td>\n",
       "      <td>1919</td>\n",
       "      <td>99.80</td>\n",
       "      <td>99.25</td>\n",
       "      <td>99.75</td>\n",
       "      <td>95.95</td>\n",
       "    </tr>\n",
       "    <tr>\n",
       "      <th>6</th>\n",
       "      <td>7</td>\n",
       "      <td>University of Chicago</td>\n",
       "      <td>USA</td>\n",
       "      <td>5</td>\n",
       "      <td>8</td>\n",
       "      <td>15</td>\n",
       "      <td>22</td>\n",
       "      <td>28</td>\n",
       "      <td>92.1</td>\n",
       "      <td>0.1</td>\n",
       "      <td>1994</td>\n",
       "      <td>1993</td>\n",
       "      <td>1986</td>\n",
       "      <td>1979</td>\n",
       "      <td>1973</td>\n",
       "      <td>99.65</td>\n",
       "      <td>99.30</td>\n",
       "      <td>98.95</td>\n",
       "      <td>98.65</td>\n",
       "    </tr>\n",
       "    <tr>\n",
       "      <th>7</th>\n",
       "      <td>8</td>\n",
       "      <td>Columbia University</td>\n",
       "      <td>USA</td>\n",
       "      <td>6</td>\n",
       "      <td>12</td>\n",
       "      <td>14</td>\n",
       "      <td>10</td>\n",
       "      <td>13</td>\n",
       "      <td>91.6</td>\n",
       "      <td>0.1</td>\n",
       "      <td>1993</td>\n",
       "      <td>1989</td>\n",
       "      <td>1987</td>\n",
       "      <td>1991</td>\n",
       "      <td>1988</td>\n",
       "      <td>99.45</td>\n",
       "      <td>99.35</td>\n",
       "      <td>99.55</td>\n",
       "      <td>99.40</td>\n",
       "    </tr>\n",
       "    <tr>\n",
       "      <th>8</th>\n",
       "      <td>9</td>\n",
       "      <td>University of Pennsylvania</td>\n",
       "      <td>USA</td>\n",
       "      <td>7</td>\n",
       "      <td>14</td>\n",
       "      <td>8</td>\n",
       "      <td>45</td>\n",
       "      <td>12</td>\n",
       "      <td>91.2</td>\n",
       "      <td>0.1</td>\n",
       "      <td>1992</td>\n",
       "      <td>1987</td>\n",
       "      <td>1993</td>\n",
       "      <td>1956</td>\n",
       "      <td>1989</td>\n",
       "      <td>99.35</td>\n",
       "      <td>99.65</td>\n",
       "      <td>97.80</td>\n",
       "      <td>99.45</td>\n",
       "    </tr>\n",
       "    <tr>\n",
       "      <th>9</th>\n",
       "      <td>10</td>\n",
       "      <td>Yale University</td>\n",
       "      <td>USA</td>\n",
       "      <td>8</td>\n",
       "      <td>6</td>\n",
       "      <td>35</td>\n",
       "      <td>13</td>\n",
       "      <td>21</td>\n",
       "      <td>90.8</td>\n",
       "      <td>0.1</td>\n",
       "      <td>1991</td>\n",
       "      <td>1995</td>\n",
       "      <td>1966</td>\n",
       "      <td>1988</td>\n",
       "      <td>1980</td>\n",
       "      <td>99.75</td>\n",
       "      <td>98.30</td>\n",
       "      <td>99.40</td>\n",
       "      <td>99.00</td>\n",
       "    </tr>\n",
       "  </tbody>\n",
       "</table>\n",
       "</div>"
      ],
      "text/plain": [
       "   Rank                        University Name        Location  National Rank  \\\n",
       "0     1                     Harvard University             USA              1   \n",
       "1     2  Massachusetts Institute of Technology             USA              2   \n",
       "2     3                    Stanford University             USA              3   \n",
       "3     4                University of Cambridge  United Kingdom              1   \n",
       "4     5                   University of Oxford  United Kingdom              2   \n",
       "5     6                   Princeton University             USA              4   \n",
       "6     7                  University of Chicago             USA              5   \n",
       "7     8                    Columbia University             USA              6   \n",
       "8     9             University of Pennsylvania             USA              7   \n",
       "9    10                        Yale University             USA              8   \n",
       "\n",
       "   Educational Rank  Employability Rank  Faculty Rank  Research Rank  \\\n",
       "0                 1                   1             1              1   \n",
       "1                 4                  12             3              9   \n",
       "2                11                   4             2              2   \n",
       "3                 3                  25             5             11   \n",
       "4                 7                  27             9              4   \n",
       "5                 5                  16             6             82   \n",
       "6                 8                  15            22             28   \n",
       "7                12                  14            10             13   \n",
       "8                14                   8            45             12   \n",
       "9                 6                  35            13             21   \n",
       "\n",
       "   Total Score  World Ratio  Rank Score  Educational Score  \\\n",
       "0        100.0          0.1        2000               2000   \n",
       "1         96.7          0.1        1999               1997   \n",
       "2         95.2          0.1        1998               1990   \n",
       "3         94.1          0.1        1997               1998   \n",
       "4         93.3          0.1        1996               1994   \n",
       "5         92.6          0.1        1995               1996   \n",
       "6         92.1          0.1        1994               1993   \n",
       "7         91.6          0.1        1993               1989   \n",
       "8         91.2          0.1        1992               1987   \n",
       "9         90.8          0.1        1991               1995   \n",
       "\n",
       "   Employability Score  Faculty Score  Research Score  Educational Percentage  \\\n",
       "0                 2000           2000            2000                  100.00   \n",
       "1                 1989           1998            1992                   99.85   \n",
       "2                 1997           1999            1999                   99.50   \n",
       "3                 1976           1996            1990                   99.90   \n",
       "4                 1974           1992            1997                   99.70   \n",
       "5                 1985           1995            1919                   99.80   \n",
       "6                 1986           1979            1973                   99.65   \n",
       "7                 1987           1991            1988                   99.45   \n",
       "8                 1993           1956            1989                   99.35   \n",
       "9                 1966           1988            1980                   99.75   \n",
       "\n",
       "   Employability Percentage  Faculty Percentage  Research Percentage  \n",
       "0                    100.00              100.00               100.00  \n",
       "1                     99.45               99.90                99.60  \n",
       "2                     99.85               99.95                99.95  \n",
       "3                     98.80               99.80                99.50  \n",
       "4                     98.70               99.60                99.85  \n",
       "5                     99.25               99.75                95.95  \n",
       "6                     99.30               98.95                98.65  \n",
       "7                     99.35               99.55                99.40  \n",
       "8                     99.65               97.80                99.45  \n",
       "9                     98.30               99.40                99.00  "
      ]
     },
     "execution_count": 415,
     "metadata": {},
     "output_type": "execute_result"
    }
   ],
   "source": [
    "filtered_df3.head(10)"
   ]
  },
  {
   "cell_type": "code",
   "execution_count": 416,
   "metadata": {},
   "outputs": [
    {
     "data": {
      "text/html": [
       "<div>\n",
       "<style scoped>\n",
       "    .dataframe tbody tr th:only-of-type {\n",
       "        vertical-align: middle;\n",
       "    }\n",
       "\n",
       "    .dataframe tbody tr th {\n",
       "        vertical-align: top;\n",
       "    }\n",
       "\n",
       "    .dataframe thead th {\n",
       "        text-align: right;\n",
       "    }\n",
       "</style>\n",
       "<table border=\"1\" class=\"dataframe\">\n",
       "  <thead>\n",
       "    <tr style=\"text-align: right;\">\n",
       "      <th></th>\n",
       "      <th>Rank</th>\n",
       "      <th>University Name</th>\n",
       "      <th>Location</th>\n",
       "      <th>National Rank</th>\n",
       "      <th>Educational Rank</th>\n",
       "      <th>Employability Rank</th>\n",
       "      <th>Faculty Rank</th>\n",
       "      <th>Research Rank</th>\n",
       "      <th>Total Score</th>\n",
       "      <th>World Ratio</th>\n",
       "    </tr>\n",
       "  </thead>\n",
       "  <tbody>\n",
       "    <tr>\n",
       "      <th>0</th>\n",
       "      <td>1</td>\n",
       "      <td>Harvard University</td>\n",
       "      <td>USA</td>\n",
       "      <td>1</td>\n",
       "      <td>1</td>\n",
       "      <td>1</td>\n",
       "      <td>1</td>\n",
       "      <td>1</td>\n",
       "      <td>100.0</td>\n",
       "      <td>0.1</td>\n",
       "    </tr>\n",
       "    <tr>\n",
       "      <th>1</th>\n",
       "      <td>2</td>\n",
       "      <td>Massachusetts Institute of Technology</td>\n",
       "      <td>USA</td>\n",
       "      <td>2</td>\n",
       "      <td>4</td>\n",
       "      <td>12</td>\n",
       "      <td>3</td>\n",
       "      <td>9</td>\n",
       "      <td>96.7</td>\n",
       "      <td>0.1</td>\n",
       "    </tr>\n",
       "    <tr>\n",
       "      <th>2</th>\n",
       "      <td>3</td>\n",
       "      <td>Stanford University</td>\n",
       "      <td>USA</td>\n",
       "      <td>3</td>\n",
       "      <td>11</td>\n",
       "      <td>4</td>\n",
       "      <td>2</td>\n",
       "      <td>2</td>\n",
       "      <td>95.2</td>\n",
       "      <td>0.1</td>\n",
       "    </tr>\n",
       "    <tr>\n",
       "      <th>3</th>\n",
       "      <td>4</td>\n",
       "      <td>University of Cambridge</td>\n",
       "      <td>United Kingdom</td>\n",
       "      <td>1</td>\n",
       "      <td>3</td>\n",
       "      <td>25</td>\n",
       "      <td>5</td>\n",
       "      <td>11</td>\n",
       "      <td>94.1</td>\n",
       "      <td>0.1</td>\n",
       "    </tr>\n",
       "    <tr>\n",
       "      <th>4</th>\n",
       "      <td>5</td>\n",
       "      <td>University of Oxford</td>\n",
       "      <td>United Kingdom</td>\n",
       "      <td>2</td>\n",
       "      <td>7</td>\n",
       "      <td>27</td>\n",
       "      <td>9</td>\n",
       "      <td>4</td>\n",
       "      <td>93.3</td>\n",
       "      <td>0.1</td>\n",
       "    </tr>\n",
       "  </tbody>\n",
       "</table>\n",
       "</div>"
      ],
      "text/plain": [
       "   Rank                        University Name        Location  National Rank  \\\n",
       "0     1                     Harvard University             USA              1   \n",
       "1     2  Massachusetts Institute of Technology             USA              2   \n",
       "2     3                    Stanford University             USA              3   \n",
       "3     4                University of Cambridge  United Kingdom              1   \n",
       "4     5                   University of Oxford  United Kingdom              2   \n",
       "\n",
       "   Educational Rank  Employability Rank  Faculty Rank  Research Rank  \\\n",
       "0                 1                   1             1              1   \n",
       "1                 4                  12             3              9   \n",
       "2                11                   4             2              2   \n",
       "3                 3                  25             5             11   \n",
       "4                 7                  27             9              4   \n",
       "\n",
       "   Total Score  World Ratio  \n",
       "0        100.0          0.1  \n",
       "1         96.7          0.1  \n",
       "2         95.2          0.1  \n",
       "3         94.1          0.1  \n",
       "4         93.3          0.1  "
      ]
     },
     "execution_count": 416,
     "metadata": {},
     "output_type": "execute_result"
    }
   ],
   "source": [
    "Uni_df['CWUR'].head()"
   ]
  },
  {
   "cell_type": "code",
   "execution_count": 417,
   "metadata": {},
   "outputs": [
    {
     "data": {
      "application/vnd.plotly.v1+json": {
       "config": {
        "plotlyServerURL": "https://plot.ly"
       },
       "data": [
        {
         "coloraxis": "coloraxis",
         "hovertemplate": "x: %{x}<br>y: %{y}<br>color: %{z}<extra></extra>",
         "name": "0",
         "texttemplate": "%{z}",
         "type": "heatmap",
         "x": [
          "Rank",
          "Educational Rank",
          "Employability Rank",
          "Faculty Rank",
          "Research Rank"
         ],
         "xaxis": "x",
         "y": [
          "Rank",
          "Educational Rank",
          "Employability Rank",
          "Faculty Rank",
          "Research Rank"
         ],
         "yaxis": "y",
         "z": [
          [
           1,
           -0.34533132255877846,
           -0.16545302480379795,
           -0.34214227893746885,
           0.8970832931696463
          ],
          [
           -0.34533132255877846,
           1,
           0.09164588867319286,
           0.35305856670053937,
           -0.31403971547119147
          ],
          [
           -0.16545302480379795,
           0.09164588867319286,
           1,
           0.031870812488212184,
           -0.1447863267776475
          ],
          [
           -0.34214227893746885,
           0.35305856670053937,
           0.031870812488212184,
           1,
           -0.3120163554991736
          ],
          [
           0.8970832931696463,
           -0.31403971547119147,
           -0.1447863267776475,
           -0.3120163554991736,
           1
          ]
         ]
        }
       ],
       "layout": {
        "coloraxis": {
         "colorscale": [
          [
           0,
           "rgb(5,48,97)"
          ],
          [
           0.1,
           "rgb(33,102,172)"
          ],
          [
           0.2,
           "rgb(67,147,195)"
          ],
          [
           0.3,
           "rgb(146,197,222)"
          ],
          [
           0.4,
           "rgb(209,229,240)"
          ],
          [
           0.5,
           "rgb(247,247,247)"
          ],
          [
           0.6,
           "rgb(253,219,199)"
          ],
          [
           0.7,
           "rgb(244,165,130)"
          ],
          [
           0.8,
           "rgb(214,96,77)"
          ],
          [
           0.9,
           "rgb(178,24,43)"
          ],
          [
           1,
           "rgb(103,0,31)"
          ]
         ]
        },
        "margin": {
         "t": 60
        },
        "template": {
         "data": {
          "bar": [
           {
            "error_x": {
             "color": "#2a3f5f"
            },
            "error_y": {
             "color": "#2a3f5f"
            },
            "marker": {
             "line": {
              "color": "#E5ECF6",
              "width": 0.5
             },
             "pattern": {
              "fillmode": "overlay",
              "size": 10,
              "solidity": 0.2
             }
            },
            "type": "bar"
           }
          ],
          "barpolar": [
           {
            "marker": {
             "line": {
              "color": "#E5ECF6",
              "width": 0.5
             },
             "pattern": {
              "fillmode": "overlay",
              "size": 10,
              "solidity": 0.2
             }
            },
            "type": "barpolar"
           }
          ],
          "carpet": [
           {
            "aaxis": {
             "endlinecolor": "#2a3f5f",
             "gridcolor": "white",
             "linecolor": "white",
             "minorgridcolor": "white",
             "startlinecolor": "#2a3f5f"
            },
            "baxis": {
             "endlinecolor": "#2a3f5f",
             "gridcolor": "white",
             "linecolor": "white",
             "minorgridcolor": "white",
             "startlinecolor": "#2a3f5f"
            },
            "type": "carpet"
           }
          ],
          "choropleth": [
           {
            "colorbar": {
             "outlinewidth": 0,
             "ticks": ""
            },
            "type": "choropleth"
           }
          ],
          "contour": [
           {
            "colorbar": {
             "outlinewidth": 0,
             "ticks": ""
            },
            "colorscale": [
             [
              0,
              "#0d0887"
             ],
             [
              0.1111111111111111,
              "#46039f"
             ],
             [
              0.2222222222222222,
              "#7201a8"
             ],
             [
              0.3333333333333333,
              "#9c179e"
             ],
             [
              0.4444444444444444,
              "#bd3786"
             ],
             [
              0.5555555555555556,
              "#d8576b"
             ],
             [
              0.6666666666666666,
              "#ed7953"
             ],
             [
              0.7777777777777778,
              "#fb9f3a"
             ],
             [
              0.8888888888888888,
              "#fdca26"
             ],
             [
              1,
              "#f0f921"
             ]
            ],
            "type": "contour"
           }
          ],
          "contourcarpet": [
           {
            "colorbar": {
             "outlinewidth": 0,
             "ticks": ""
            },
            "type": "contourcarpet"
           }
          ],
          "heatmap": [
           {
            "colorbar": {
             "outlinewidth": 0,
             "ticks": ""
            },
            "colorscale": [
             [
              0,
              "#0d0887"
             ],
             [
              0.1111111111111111,
              "#46039f"
             ],
             [
              0.2222222222222222,
              "#7201a8"
             ],
             [
              0.3333333333333333,
              "#9c179e"
             ],
             [
              0.4444444444444444,
              "#bd3786"
             ],
             [
              0.5555555555555556,
              "#d8576b"
             ],
             [
              0.6666666666666666,
              "#ed7953"
             ],
             [
              0.7777777777777778,
              "#fb9f3a"
             ],
             [
              0.8888888888888888,
              "#fdca26"
             ],
             [
              1,
              "#f0f921"
             ]
            ],
            "type": "heatmap"
           }
          ],
          "heatmapgl": [
           {
            "colorbar": {
             "outlinewidth": 0,
             "ticks": ""
            },
            "colorscale": [
             [
              0,
              "#0d0887"
             ],
             [
              0.1111111111111111,
              "#46039f"
             ],
             [
              0.2222222222222222,
              "#7201a8"
             ],
             [
              0.3333333333333333,
              "#9c179e"
             ],
             [
              0.4444444444444444,
              "#bd3786"
             ],
             [
              0.5555555555555556,
              "#d8576b"
             ],
             [
              0.6666666666666666,
              "#ed7953"
             ],
             [
              0.7777777777777778,
              "#fb9f3a"
             ],
             [
              0.8888888888888888,
              "#fdca26"
             ],
             [
              1,
              "#f0f921"
             ]
            ],
            "type": "heatmapgl"
           }
          ],
          "histogram": [
           {
            "marker": {
             "pattern": {
              "fillmode": "overlay",
              "size": 10,
              "solidity": 0.2
             }
            },
            "type": "histogram"
           }
          ],
          "histogram2d": [
           {
            "colorbar": {
             "outlinewidth": 0,
             "ticks": ""
            },
            "colorscale": [
             [
              0,
              "#0d0887"
             ],
             [
              0.1111111111111111,
              "#46039f"
             ],
             [
              0.2222222222222222,
              "#7201a8"
             ],
             [
              0.3333333333333333,
              "#9c179e"
             ],
             [
              0.4444444444444444,
              "#bd3786"
             ],
             [
              0.5555555555555556,
              "#d8576b"
             ],
             [
              0.6666666666666666,
              "#ed7953"
             ],
             [
              0.7777777777777778,
              "#fb9f3a"
             ],
             [
              0.8888888888888888,
              "#fdca26"
             ],
             [
              1,
              "#f0f921"
             ]
            ],
            "type": "histogram2d"
           }
          ],
          "histogram2dcontour": [
           {
            "colorbar": {
             "outlinewidth": 0,
             "ticks": ""
            },
            "colorscale": [
             [
              0,
              "#0d0887"
             ],
             [
              0.1111111111111111,
              "#46039f"
             ],
             [
              0.2222222222222222,
              "#7201a8"
             ],
             [
              0.3333333333333333,
              "#9c179e"
             ],
             [
              0.4444444444444444,
              "#bd3786"
             ],
             [
              0.5555555555555556,
              "#d8576b"
             ],
             [
              0.6666666666666666,
              "#ed7953"
             ],
             [
              0.7777777777777778,
              "#fb9f3a"
             ],
             [
              0.8888888888888888,
              "#fdca26"
             ],
             [
              1,
              "#f0f921"
             ]
            ],
            "type": "histogram2dcontour"
           }
          ],
          "mesh3d": [
           {
            "colorbar": {
             "outlinewidth": 0,
             "ticks": ""
            },
            "type": "mesh3d"
           }
          ],
          "parcoords": [
           {
            "line": {
             "colorbar": {
              "outlinewidth": 0,
              "ticks": ""
             }
            },
            "type": "parcoords"
           }
          ],
          "pie": [
           {
            "automargin": true,
            "type": "pie"
           }
          ],
          "scatter": [
           {
            "fillpattern": {
             "fillmode": "overlay",
             "size": 10,
             "solidity": 0.2
            },
            "type": "scatter"
           }
          ],
          "scatter3d": [
           {
            "line": {
             "colorbar": {
              "outlinewidth": 0,
              "ticks": ""
             }
            },
            "marker": {
             "colorbar": {
              "outlinewidth": 0,
              "ticks": ""
             }
            },
            "type": "scatter3d"
           }
          ],
          "scattercarpet": [
           {
            "marker": {
             "colorbar": {
              "outlinewidth": 0,
              "ticks": ""
             }
            },
            "type": "scattercarpet"
           }
          ],
          "scattergeo": [
           {
            "marker": {
             "colorbar": {
              "outlinewidth": 0,
              "ticks": ""
             }
            },
            "type": "scattergeo"
           }
          ],
          "scattergl": [
           {
            "marker": {
             "colorbar": {
              "outlinewidth": 0,
              "ticks": ""
             }
            },
            "type": "scattergl"
           }
          ],
          "scattermapbox": [
           {
            "marker": {
             "colorbar": {
              "outlinewidth": 0,
              "ticks": ""
             }
            },
            "type": "scattermapbox"
           }
          ],
          "scatterpolar": [
           {
            "marker": {
             "colorbar": {
              "outlinewidth": 0,
              "ticks": ""
             }
            },
            "type": "scatterpolar"
           }
          ],
          "scatterpolargl": [
           {
            "marker": {
             "colorbar": {
              "outlinewidth": 0,
              "ticks": ""
             }
            },
            "type": "scatterpolargl"
           }
          ],
          "scatterternary": [
           {
            "marker": {
             "colorbar": {
              "outlinewidth": 0,
              "ticks": ""
             }
            },
            "type": "scatterternary"
           }
          ],
          "surface": [
           {
            "colorbar": {
             "outlinewidth": 0,
             "ticks": ""
            },
            "colorscale": [
             [
              0,
              "#0d0887"
             ],
             [
              0.1111111111111111,
              "#46039f"
             ],
             [
              0.2222222222222222,
              "#7201a8"
             ],
             [
              0.3333333333333333,
              "#9c179e"
             ],
             [
              0.4444444444444444,
              "#bd3786"
             ],
             [
              0.5555555555555556,
              "#d8576b"
             ],
             [
              0.6666666666666666,
              "#ed7953"
             ],
             [
              0.7777777777777778,
              "#fb9f3a"
             ],
             [
              0.8888888888888888,
              "#fdca26"
             ],
             [
              1,
              "#f0f921"
             ]
            ],
            "type": "surface"
           }
          ],
          "table": [
           {
            "cells": {
             "fill": {
              "color": "#EBF0F8"
             },
             "line": {
              "color": "white"
             }
            },
            "header": {
             "fill": {
              "color": "#C8D4E3"
             },
             "line": {
              "color": "white"
             }
            },
            "type": "table"
           }
          ]
         },
         "layout": {
          "annotationdefaults": {
           "arrowcolor": "#2a3f5f",
           "arrowhead": 0,
           "arrowwidth": 1
          },
          "autotypenumbers": "strict",
          "coloraxis": {
           "colorbar": {
            "outlinewidth": 0,
            "ticks": ""
           }
          },
          "colorscale": {
           "diverging": [
            [
             0,
             "#8e0152"
            ],
            [
             0.1,
             "#c51b7d"
            ],
            [
             0.2,
             "#de77ae"
            ],
            [
             0.3,
             "#f1b6da"
            ],
            [
             0.4,
             "#fde0ef"
            ],
            [
             0.5,
             "#f7f7f7"
            ],
            [
             0.6,
             "#e6f5d0"
            ],
            [
             0.7,
             "#b8e186"
            ],
            [
             0.8,
             "#7fbc41"
            ],
            [
             0.9,
             "#4d9221"
            ],
            [
             1,
             "#276419"
            ]
           ],
           "sequential": [
            [
             0,
             "#0d0887"
            ],
            [
             0.1111111111111111,
             "#46039f"
            ],
            [
             0.2222222222222222,
             "#7201a8"
            ],
            [
             0.3333333333333333,
             "#9c179e"
            ],
            [
             0.4444444444444444,
             "#bd3786"
            ],
            [
             0.5555555555555556,
             "#d8576b"
            ],
            [
             0.6666666666666666,
             "#ed7953"
            ],
            [
             0.7777777777777778,
             "#fb9f3a"
            ],
            [
             0.8888888888888888,
             "#fdca26"
            ],
            [
             1,
             "#f0f921"
            ]
           ],
           "sequentialminus": [
            [
             0,
             "#0d0887"
            ],
            [
             0.1111111111111111,
             "#46039f"
            ],
            [
             0.2222222222222222,
             "#7201a8"
            ],
            [
             0.3333333333333333,
             "#9c179e"
            ],
            [
             0.4444444444444444,
             "#bd3786"
            ],
            [
             0.5555555555555556,
             "#d8576b"
            ],
            [
             0.6666666666666666,
             "#ed7953"
            ],
            [
             0.7777777777777778,
             "#fb9f3a"
            ],
            [
             0.8888888888888888,
             "#fdca26"
            ],
            [
             1,
             "#f0f921"
            ]
           ]
          },
          "colorway": [
           "#636efa",
           "#EF553B",
           "#00cc96",
           "#ab63fa",
           "#FFA15A",
           "#19d3f3",
           "#FF6692",
           "#B6E880",
           "#FF97FF",
           "#FECB52"
          ],
          "font": {
           "color": "#2a3f5f"
          },
          "geo": {
           "bgcolor": "white",
           "lakecolor": "white",
           "landcolor": "#E5ECF6",
           "showlakes": true,
           "showland": true,
           "subunitcolor": "white"
          },
          "hoverlabel": {
           "align": "left"
          },
          "hovermode": "closest",
          "mapbox": {
           "style": "light"
          },
          "paper_bgcolor": "white",
          "plot_bgcolor": "#E5ECF6",
          "polar": {
           "angularaxis": {
            "gridcolor": "white",
            "linecolor": "white",
            "ticks": ""
           },
           "bgcolor": "#E5ECF6",
           "radialaxis": {
            "gridcolor": "white",
            "linecolor": "white",
            "ticks": ""
           }
          },
          "scene": {
           "xaxis": {
            "backgroundcolor": "#E5ECF6",
            "gridcolor": "white",
            "gridwidth": 2,
            "linecolor": "white",
            "showbackground": true,
            "ticks": "",
            "zerolinecolor": "white"
           },
           "yaxis": {
            "backgroundcolor": "#E5ECF6",
            "gridcolor": "white",
            "gridwidth": 2,
            "linecolor": "white",
            "showbackground": true,
            "ticks": "",
            "zerolinecolor": "white"
           },
           "zaxis": {
            "backgroundcolor": "#E5ECF6",
            "gridcolor": "white",
            "gridwidth": 2,
            "linecolor": "white",
            "showbackground": true,
            "ticks": "",
            "zerolinecolor": "white"
           }
          },
          "shapedefaults": {
           "line": {
            "color": "#2a3f5f"
           }
          },
          "ternary": {
           "aaxis": {
            "gridcolor": "white",
            "linecolor": "white",
            "ticks": ""
           },
           "baxis": {
            "gridcolor": "white",
            "linecolor": "white",
            "ticks": ""
           },
           "bgcolor": "#E5ECF6",
           "caxis": {
            "gridcolor": "white",
            "linecolor": "white",
            "ticks": ""
           }
          },
          "title": {
           "x": 0.05
          },
          "xaxis": {
           "automargin": true,
           "gridcolor": "white",
           "linecolor": "white",
           "ticks": "",
           "title": {
            "standoff": 15
           },
           "zerolinecolor": "white",
           "zerolinewidth": 2
          },
          "yaxis": {
           "automargin": true,
           "gridcolor": "white",
           "linecolor": "white",
           "ticks": "",
           "title": {
            "standoff": 15
           },
           "zerolinecolor": "white",
           "zerolinewidth": 2
          }
         }
        },
        "xaxis": {
         "anchor": "y",
         "constrain": "domain",
         "domain": [
          0,
          1
         ],
         "scaleanchor": "y"
        },
        "yaxis": {
         "anchor": "x",
         "autorange": "reversed",
         "constrain": "domain",
         "domain": [
          0,
          1
         ]
        }
       }
      }
     },
     "metadata": {},
     "output_type": "display_data"
    }
   ],
   "source": [
    "cor2=Uni_df['CWUR'][['Rank','Educational Rank','Employability Rank','Faculty Rank','Research Rank']].copy()\n",
    "\n",
    "z = cor2.corr()\n",
    "colorspl=px.colors.qualitative.Pastel\n",
    "fig = px.imshow(z, text_auto=True,color_continuous_scale='RdBu_r')\n",
    "#can not use color palet \n",
    "fig.show()"
   ]
  },
  {
   "cell_type": "code",
   "execution_count": 418,
   "metadata": {},
   "outputs": [
    {
     "data": {
      "text/html": [
       "<div>\n",
       "<style scoped>\n",
       "    .dataframe tbody tr th:only-of-type {\n",
       "        vertical-align: middle;\n",
       "    }\n",
       "\n",
       "    .dataframe tbody tr th {\n",
       "        vertical-align: top;\n",
       "    }\n",
       "\n",
       "    .dataframe thead th {\n",
       "        text-align: right;\n",
       "    }\n",
       "</style>\n",
       "<table border=\"1\" class=\"dataframe\">\n",
       "  <thead>\n",
       "    <tr style=\"text-align: right;\">\n",
       "      <th></th>\n",
       "      <th>Rank</th>\n",
       "      <th>University Name</th>\n",
       "      <th>Location</th>\n",
       "      <th>National Rank</th>\n",
       "      <th>Educational Rank</th>\n",
       "      <th>Employability Rank</th>\n",
       "      <th>Faculty Rank</th>\n",
       "      <th>Research Rank</th>\n",
       "      <th>Total Score</th>\n",
       "      <th>World Ratio</th>\n",
       "    </tr>\n",
       "  </thead>\n",
       "  <tbody>\n",
       "    <tr>\n",
       "      <th>0</th>\n",
       "      <td>1</td>\n",
       "      <td>Harvard University</td>\n",
       "      <td>USA</td>\n",
       "      <td>1</td>\n",
       "      <td>1</td>\n",
       "      <td>1</td>\n",
       "      <td>1</td>\n",
       "      <td>1</td>\n",
       "      <td>100.0</td>\n",
       "      <td>0.1</td>\n",
       "    </tr>\n",
       "    <tr>\n",
       "      <th>1</th>\n",
       "      <td>2</td>\n",
       "      <td>Massachusetts Institute of Technology</td>\n",
       "      <td>USA</td>\n",
       "      <td>2</td>\n",
       "      <td>4</td>\n",
       "      <td>12</td>\n",
       "      <td>3</td>\n",
       "      <td>9</td>\n",
       "      <td>96.7</td>\n",
       "      <td>0.1</td>\n",
       "    </tr>\n",
       "  </tbody>\n",
       "</table>\n",
       "</div>"
      ],
      "text/plain": [
       "   Rank                        University Name Location  National Rank  \\\n",
       "0     1                     Harvard University      USA              1   \n",
       "1     2  Massachusetts Institute of Technology      USA              2   \n",
       "\n",
       "   Educational Rank  Employability Rank  Faculty Rank  Research Rank  \\\n",
       "0                 1                   1             1              1   \n",
       "1                 4                  12             3              9   \n",
       "\n",
       "   Total Score  World Ratio  \n",
       "0        100.0          0.1  \n",
       "1         96.7          0.1  "
      ]
     },
     "execution_count": 418,
     "metadata": {},
     "output_type": "execute_result"
    }
   ],
   "source": [
    "Uni_df['CWUR'].head(2)"
   ]
  },
  {
   "cell_type": "code",
   "execution_count": 419,
   "metadata": {},
   "outputs": [
    {
     "data": {
      "application/vnd.plotly.v1+json": {
       "config": {
        "plotlyServerURL": "https://plot.ly"
       },
       "data": [
        {
         "diagonal": {
          "visible": false
         },
         "dimensions": [
          {
           "axis": {
            "matches": true
           },
           "label": "Rank",
           "values": [
            1,
            2,
            3,
            4,
            5,
            6,
            7,
            8,
            9,
            10,
            11,
            12,
            13,
            14,
            15,
            16,
            17,
            18,
            19,
            20,
            21,
            22,
            23,
            24,
            25,
            26,
            27,
            28,
            29,
            30,
            31,
            32,
            33,
            34,
            35,
            36,
            37,
            38,
            39,
            40,
            41,
            42,
            43,
            44,
            45,
            46,
            47,
            48,
            49,
            50,
            51,
            52,
            53,
            54,
            55,
            56,
            57,
            58,
            59,
            60,
            61,
            62,
            63,
            64,
            65,
            66,
            67,
            68,
            69,
            70,
            71,
            72,
            73,
            74,
            75,
            76,
            77,
            78,
            79,
            80,
            81,
            82,
            83,
            84,
            85,
            86,
            87,
            88,
            89,
            90,
            91,
            92,
            93,
            94,
            95,
            96,
            97,
            98,
            99,
            100,
            101,
            102,
            103,
            104,
            105,
            106,
            107,
            108,
            109,
            110,
            111,
            112,
            113,
            114,
            115,
            116,
            117,
            118,
            119,
            120,
            121,
            122,
            123,
            124,
            125,
            126,
            127,
            128,
            129,
            130,
            131,
            132,
            133,
            134,
            135,
            136,
            137,
            138,
            139,
            140,
            141,
            142,
            143,
            144,
            145,
            146,
            147,
            148,
            149,
            150,
            151,
            152,
            153,
            154,
            155,
            156,
            157,
            158,
            159,
            160,
            161,
            162,
            163,
            164,
            165,
            166,
            167,
            168,
            169,
            170,
            171,
            172,
            173,
            174,
            175,
            176,
            177,
            178,
            179,
            180,
            181,
            182,
            183,
            184,
            185,
            186,
            187,
            188,
            189,
            190,
            191,
            192,
            193,
            194,
            195,
            196,
            197,
            198,
            199,
            200,
            201,
            202,
            203,
            204,
            205,
            206,
            207,
            208,
            209,
            210,
            211,
            212,
            213,
            214,
            215,
            216,
            217,
            218,
            219,
            220,
            221,
            222,
            223,
            224,
            225,
            226,
            227,
            228,
            229,
            230,
            231,
            232,
            233,
            234,
            235,
            236,
            237,
            238,
            239,
            240,
            241,
            242,
            243,
            244,
            245,
            246,
            247,
            248,
            249,
            250,
            251,
            252,
            253,
            254,
            255,
            256,
            257,
            258,
            259,
            260,
            261,
            262,
            263,
            264,
            265,
            266,
            267,
            268,
            269,
            270,
            271,
            272,
            273,
            274,
            275,
            276,
            277,
            278,
            279,
            280,
            281,
            282,
            283,
            284,
            285,
            286,
            287,
            288,
            289,
            290,
            291,
            292,
            293,
            294,
            295,
            296,
            297,
            298,
            299,
            300,
            301,
            302,
            303,
            304,
            305,
            306,
            307,
            308,
            309,
            310,
            311,
            312,
            313,
            314,
            315,
            316,
            317,
            318,
            319,
            320,
            321,
            322,
            323,
            324,
            325,
            326,
            327,
            328,
            329,
            330,
            331,
            332,
            333,
            334,
            335,
            336,
            337,
            338,
            339,
            340,
            341,
            342,
            343,
            344,
            345,
            346,
            347,
            348,
            349,
            350,
            351,
            352,
            353,
            354,
            355,
            356,
            357,
            358,
            359,
            360,
            361,
            362,
            363,
            364,
            365,
            366,
            367,
            368,
            369,
            370,
            371,
            372,
            373,
            374,
            375,
            376,
            377,
            378,
            379,
            380,
            381,
            382,
            383,
            384,
            385,
            386,
            387,
            388,
            389,
            390,
            391,
            392,
            393,
            394,
            395,
            396,
            397,
            398,
            399,
            400,
            401,
            402,
            403,
            404,
            405,
            406,
            407,
            408,
            409,
            410,
            411,
            412,
            413,
            414,
            415,
            416,
            417,
            418,
            419,
            420,
            421,
            422,
            423,
            424,
            425,
            426,
            427,
            428,
            429,
            430,
            431,
            432,
            433,
            434,
            435,
            436,
            437,
            438,
            439,
            440,
            441,
            442,
            443,
            444,
            445,
            446,
            447,
            448,
            449,
            450,
            451,
            452,
            453,
            454,
            455,
            456,
            457,
            458,
            459,
            460,
            461,
            462,
            463,
            464,
            465,
            466,
            467,
            468,
            469,
            470,
            471,
            472,
            473,
            474,
            475,
            476,
            477,
            478,
            479,
            480,
            481,
            482,
            483,
            484,
            485,
            486,
            487,
            488,
            489,
            490,
            491,
            492,
            493,
            494,
            495,
            496,
            497,
            498,
            499,
            500,
            501,
            502,
            503,
            504,
            505,
            506,
            507,
            508,
            509,
            510,
            511,
            512,
            513,
            514,
            515,
            516,
            517,
            518,
            519,
            520,
            521,
            522,
            523,
            524,
            525,
            526,
            527,
            528,
            529,
            530,
            531,
            532,
            533,
            534,
            535,
            536,
            537,
            538,
            539,
            540,
            541,
            542,
            543,
            544,
            545,
            546,
            547,
            548,
            549,
            550,
            551,
            552,
            553,
            554,
            555,
            556,
            557,
            558,
            559,
            560,
            561,
            562,
            563,
            564,
            565,
            566,
            567,
            568,
            569,
            570,
            571,
            572,
            573,
            574,
            575,
            576,
            577,
            578,
            579,
            580,
            581,
            582,
            583,
            584,
            585,
            586,
            587,
            588,
            589,
            590,
            591,
            592,
            593,
            594,
            595,
            596,
            597,
            598,
            599,
            600,
            601,
            602,
            603,
            604,
            605,
            606,
            607,
            608,
            609,
            610,
            611,
            612,
            613,
            614,
            615,
            616,
            617,
            618,
            619,
            620,
            621,
            622,
            623,
            624,
            625,
            626,
            627,
            628,
            629,
            630,
            631,
            632,
            633,
            634,
            635,
            636,
            637,
            638,
            639,
            640,
            641,
            642,
            643,
            644,
            645,
            646,
            647,
            648,
            649,
            650,
            651,
            652,
            653,
            654,
            655,
            656,
            657,
            658,
            659,
            660,
            661,
            662,
            663,
            664,
            665,
            666,
            667,
            668,
            669,
            670,
            671,
            672,
            673,
            674,
            675,
            676,
            677,
            678,
            679,
            680,
            681,
            682,
            683,
            684,
            685,
            686,
            687,
            688,
            689,
            690,
            691,
            692,
            693,
            694,
            695,
            696,
            697,
            698,
            699,
            700,
            701,
            702,
            703,
            704,
            705,
            706,
            707,
            708,
            709,
            710,
            711,
            712,
            713,
            714,
            715,
            716,
            717,
            718,
            719,
            720,
            721,
            722,
            723,
            724,
            725,
            726,
            727,
            728,
            729,
            730,
            731,
            732,
            733,
            734,
            735,
            736,
            737,
            738,
            739,
            740,
            741,
            742,
            743,
            744,
            745,
            746,
            747,
            748,
            749,
            750,
            751,
            752,
            753,
            754,
            755,
            756,
            757,
            758,
            759,
            760,
            761,
            762,
            763,
            764,
            765,
            766,
            767,
            768,
            769,
            770,
            771,
            772,
            773,
            774,
            775,
            776,
            777,
            778,
            779,
            780,
            781,
            782,
            783,
            784,
            785,
            786,
            787,
            788,
            789,
            790,
            791,
            792,
            793,
            794,
            795,
            796,
            797,
            798,
            799,
            800,
            801,
            802,
            803,
            804,
            805,
            806,
            807,
            808,
            809,
            810,
            811,
            812,
            813,
            814,
            815,
            816,
            817,
            818,
            819,
            820,
            821,
            822,
            823,
            824,
            825,
            826,
            827,
            828,
            829,
            830,
            831,
            832,
            833,
            834,
            835,
            836,
            837,
            838,
            839,
            840,
            841,
            842,
            843,
            844,
            845,
            846,
            847,
            848,
            849,
            850,
            851,
            852,
            853,
            854,
            855,
            856,
            857,
            858,
            859,
            860,
            861,
            862,
            863,
            864,
            865,
            866,
            867,
            868,
            869,
            870,
            871,
            872,
            873,
            874,
            875,
            876,
            877,
            878,
            879,
            880,
            881,
            882,
            883,
            884,
            885,
            886,
            887,
            888,
            889,
            890,
            891,
            892,
            893,
            894,
            895,
            896,
            897,
            898,
            899,
            900,
            901,
            902,
            903,
            904,
            905,
            906,
            907,
            908,
            909,
            910,
            911,
            912,
            913,
            914,
            915,
            916,
            917,
            918,
            919,
            920,
            921,
            922,
            923,
            924,
            925,
            926,
            927,
            928,
            929,
            930,
            931,
            932,
            933,
            934,
            935,
            936,
            937,
            938,
            939,
            940,
            941,
            942,
            943,
            944,
            945,
            946,
            947,
            948,
            949,
            950,
            951,
            952,
            953,
            954,
            955,
            956,
            957,
            958,
            959,
            960,
            961,
            962,
            963,
            964,
            965,
            966,
            967,
            968,
            969,
            970,
            971,
            972,
            973,
            974,
            975,
            976,
            977,
            978,
            979,
            980,
            981,
            982,
            983,
            984,
            985,
            986,
            987,
            988,
            989,
            990,
            991,
            992,
            993,
            994,
            995,
            996,
            997,
            998,
            999,
            1000,
            1001,
            1002,
            1003,
            1004,
            1005,
            1006,
            1007,
            1008,
            1009,
            1010,
            1011,
            1012,
            1013,
            1014,
            1015,
            1016,
            1017,
            1018,
            1019,
            1020,
            1021,
            1022,
            1023,
            1024,
            1025,
            1026,
            1027,
            1028,
            1029,
            1030,
            1031,
            1032,
            1033,
            1034,
            1035,
            1036,
            1037,
            1038,
            1039,
            1040,
            1041,
            1042,
            1043,
            1044,
            1045,
            1046,
            1047,
            1048,
            1049,
            1050,
            1051,
            1052,
            1053,
            1054,
            1055,
            1056,
            1057,
            1058,
            1059,
            1060,
            1061,
            1062,
            1063,
            1064,
            1065,
            1066,
            1067,
            1068,
            1069,
            1070,
            1071,
            1072,
            1073,
            1074,
            1075,
            1076,
            1077,
            1078,
            1079,
            1080,
            1081,
            1082,
            1083,
            1084,
            1085,
            1086,
            1087,
            1088,
            1089,
            1090,
            1091,
            1092,
            1093,
            1094,
            1095,
            1096,
            1097,
            1098,
            1099,
            1100,
            1101,
            1102,
            1103,
            1104,
            1105,
            1106,
            1107,
            1108,
            1109,
            1110,
            1111,
            1112,
            1113,
            1114,
            1115,
            1116,
            1117,
            1118,
            1119,
            1120,
            1121,
            1122,
            1123,
            1124,
            1125,
            1126,
            1127,
            1128,
            1129,
            1130,
            1131,
            1132,
            1133,
            1134,
            1135,
            1136,
            1137,
            1138,
            1139,
            1140,
            1141,
            1142,
            1143,
            1144,
            1145,
            1146,
            1147,
            1148,
            1149,
            1150,
            1151,
            1152,
            1153,
            1154,
            1155,
            1156,
            1157,
            1158,
            1159,
            1160,
            1161,
            1162,
            1163,
            1164,
            1165,
            1166,
            1167,
            1168,
            1169,
            1170,
            1171,
            1172,
            1173,
            1174,
            1175,
            1176,
            1177,
            1178,
            1179,
            1180,
            1181,
            1182,
            1183,
            1184,
            1185,
            1186,
            1187,
            1188,
            1189,
            1190,
            1191,
            1192,
            1193,
            1194,
            1195,
            1196,
            1197,
            1198,
            1199,
            1200,
            1201,
            1202,
            1203,
            1204,
            1205,
            1206,
            1207,
            1208,
            1209,
            1210,
            1211,
            1212,
            1213,
            1214,
            1215,
            1216,
            1217,
            1218,
            1219,
            1220,
            1221,
            1222,
            1223,
            1224,
            1225,
            1226,
            1227,
            1228,
            1229,
            1230,
            1231,
            1232,
            1233,
            1234,
            1235,
            1236,
            1237,
            1238,
            1239,
            1240,
            1241,
            1242,
            1243,
            1244,
            1245,
            1246,
            1247,
            1248,
            1249,
            1250,
            1251,
            1252,
            1253,
            1254,
            1255,
            1256,
            1257,
            1258,
            1259,
            1260,
            1261,
            1262,
            1263,
            1264,
            1265,
            1266,
            1267,
            1268,
            1269,
            1270,
            1271,
            1272,
            1273,
            1274,
            1275,
            1276,
            1277,
            1278,
            1279,
            1280,
            1281,
            1282,
            1283,
            1284,
            1285,
            1286,
            1287,
            1288,
            1289,
            1290,
            1291,
            1292,
            1293,
            1294,
            1295,
            1296,
            1297,
            1298,
            1299,
            1300,
            1301,
            1302,
            1303,
            1304,
            1305,
            1306,
            1307,
            1308,
            1309,
            1310,
            1311,
            1312,
            1313,
            1314,
            1315,
            1316,
            1317,
            1318,
            1319,
            1320,
            1321,
            1322,
            1323,
            1324,
            1325,
            1326,
            1327,
            1328,
            1329,
            1330,
            1331,
            1332,
            1333,
            1334,
            1335,
            1336,
            1337,
            1338,
            1339,
            1340,
            1341,
            1342,
            1343,
            1344,
            1345,
            1346,
            1347,
            1348,
            1349,
            1350,
            1351,
            1352,
            1353,
            1354,
            1355,
            1356,
            1357,
            1358,
            1359,
            1360,
            1361,
            1362,
            1363,
            1364,
            1365,
            1366,
            1367,
            1368,
            1369,
            1370,
            1371,
            1372,
            1373,
            1374,
            1375,
            1376,
            1377,
            1378,
            1379,
            1380,
            1381,
            1382,
            1383,
            1384,
            1385,
            1386,
            1387,
            1388,
            1389,
            1390,
            1391,
            1392,
            1393,
            1394,
            1395,
            1396,
            1397,
            1398,
            1399,
            1400,
            1401,
            1402,
            1403,
            1404,
            1405,
            1406,
            1407,
            1408,
            1409,
            1410,
            1411,
            1412,
            1413,
            1414,
            1415,
            1416,
            1417,
            1418,
            1419,
            1420,
            1421,
            1422,
            1423,
            1424,
            1425,
            1426,
            1427,
            1428,
            1429,
            1430,
            1431,
            1432,
            1433,
            1434,
            1435,
            1436,
            1437,
            1438,
            1439,
            1440,
            1441,
            1442,
            1443,
            1444,
            1445,
            1446,
            1447,
            1448,
            1449,
            1450,
            1451,
            1452,
            1453,
            1454,
            1455,
            1456,
            1457,
            1458,
            1459,
            1460,
            1461,
            1462,
            1463,
            1464,
            1465,
            1466,
            1467,
            1468,
            1469,
            1470,
            1471,
            1472,
            1473,
            1474,
            1475,
            1476,
            1477,
            1478,
            1479,
            1480,
            1481,
            1482,
            1483,
            1484,
            1485,
            1486,
            1487,
            1488,
            1489,
            1490,
            1491,
            1492,
            1493,
            1494,
            1495,
            1496,
            1497,
            1498,
            1499,
            1500,
            1501,
            1502,
            1503,
            1504,
            1505,
            1506,
            1507,
            1508,
            1509,
            1510,
            1511,
            1512,
            1513,
            1514,
            1515,
            1516,
            1517,
            1518,
            1519,
            1520,
            1521,
            1522,
            1523,
            1524,
            1525,
            1526,
            1527,
            1528,
            1529,
            1530,
            1531,
            1532,
            1533,
            1534,
            1535,
            1536,
            1537,
            1538,
            1539,
            1540,
            1541,
            1542,
            1543,
            1544,
            1545,
            1546,
            1547,
            1548,
            1549,
            1550,
            1551,
            1552,
            1553,
            1554,
            1555,
            1556,
            1557,
            1558,
            1559,
            1560,
            1561,
            1562,
            1563,
            1564,
            1565,
            1566,
            1567,
            1568,
            1569,
            1570,
            1571,
            1572,
            1573,
            1574,
            1575,
            1576,
            1577,
            1578,
            1579,
            1580,
            1581,
            1582,
            1583,
            1584,
            1585,
            1586,
            1587,
            1588,
            1589,
            1590,
            1591,
            1592,
            1593,
            1594,
            1595,
            1596,
            1597,
            1598,
            1599,
            1600,
            1601,
            1602,
            1603,
            1604,
            1605,
            1606,
            1607,
            1608,
            1609,
            1610,
            1611,
            1612,
            1613,
            1614,
            1615,
            1616,
            1617,
            1618,
            1619,
            1620,
            1621,
            1622,
            1623,
            1624,
            1625,
            1626,
            1627,
            1628,
            1629,
            1630,
            1631,
            1632,
            1633,
            1634,
            1635,
            1636,
            1637,
            1638,
            1639,
            1640,
            1641,
            1642,
            1643,
            1644,
            1645,
            1646,
            1647,
            1648,
            1649,
            1650,
            1651,
            1652,
            1653,
            1654,
            1655,
            1656,
            1657,
            1658,
            1659,
            1660,
            1661,
            1662,
            1663,
            1664,
            1665,
            1666,
            1667,
            1668,
            1669,
            1670,
            1671,
            1672,
            1673,
            1674,
            1675,
            1676,
            1677,
            1678,
            1679,
            1680,
            1681,
            1682,
            1683,
            1684,
            1685,
            1686,
            1687,
            1688,
            1689,
            1690,
            1691,
            1692,
            1693,
            1694,
            1695,
            1696,
            1697,
            1698,
            1699,
            1700,
            1701,
            1702,
            1703,
            1704,
            1705,
            1706,
            1707,
            1708,
            1709,
            1710,
            1711,
            1712,
            1713,
            1714,
            1715,
            1716,
            1717,
            1718,
            1719,
            1720,
            1721,
            1722,
            1723,
            1724,
            1725,
            1726,
            1727,
            1728,
            1729,
            1730,
            1731,
            1732,
            1733,
            1734,
            1735,
            1736,
            1737,
            1738,
            1739,
            1740,
            1741,
            1742,
            1743,
            1744,
            1745,
            1746,
            1747,
            1748,
            1749,
            1750,
            1751,
            1752,
            1753,
            1754,
            1755,
            1756,
            1757,
            1758,
            1759,
            1760,
            1761,
            1762,
            1763,
            1764,
            1765,
            1766,
            1767,
            1768,
            1769,
            1770,
            1771,
            1772,
            1773,
            1774,
            1775,
            1776,
            1777,
            1778,
            1779,
            1780,
            1781,
            1782,
            1783,
            1784,
            1785,
            1786,
            1787,
            1788,
            1789,
            1790,
            1791,
            1792,
            1793,
            1794,
            1795,
            1796,
            1797,
            1798,
            1799,
            1800,
            1801,
            1802,
            1803,
            1804,
            1805,
            1806,
            1807,
            1808,
            1809,
            1810,
            1811,
            1812,
            1813,
            1814,
            1815,
            1816,
            1817,
            1818,
            1819,
            1820,
            1821,
            1822,
            1823,
            1824,
            1825,
            1826,
            1827,
            1828,
            1829,
            1830,
            1831,
            1832,
            1833,
            1834,
            1835,
            1836,
            1837,
            1838,
            1839,
            1840,
            1841,
            1842,
            1843,
            1844,
            1845,
            1846,
            1847,
            1848,
            1849,
            1850,
            1851,
            1852,
            1853,
            1854,
            1855,
            1856,
            1857,
            1858,
            1859,
            1860,
            1861,
            1862,
            1863,
            1864,
            1865,
            1866,
            1867,
            1868,
            1869,
            1870,
            1871,
            1872,
            1873,
            1874,
            1875,
            1876,
            1877,
            1878,
            1879,
            1880,
            1881,
            1882,
            1883,
            1884,
            1885,
            1886,
            1887,
            1888,
            1889,
            1890,
            1891,
            1892,
            1893,
            1894,
            1895,
            1896,
            1897,
            1898,
            1899,
            1900,
            1901,
            1902,
            1903,
            1904,
            1905,
            1906,
            1907,
            1908,
            1909,
            1910,
            1911,
            1912,
            1913,
            1914,
            1915,
            1916,
            1917,
            1918,
            1919,
            1920,
            1921,
            1922,
            1923,
            1924,
            1925,
            1926,
            1927,
            1928,
            1929,
            1930,
            1931,
            1932,
            1933,
            1934,
            1935,
            1936,
            1937,
            1938,
            1939,
            1940,
            1941,
            1942,
            1943,
            1944,
            1945,
            1946,
            1947,
            1948,
            1949,
            1950,
            1951,
            1952,
            1953,
            1954,
            1955,
            1956,
            1957,
            1958,
            1959,
            1960,
            1961,
            1962,
            1963,
            1964,
            1965,
            1966,
            1967,
            1968,
            1969,
            1970,
            1971,
            1972,
            1973,
            1974,
            1975,
            1976,
            1977,
            1978,
            1979,
            1980,
            1981,
            1982,
            1983,
            1984,
            1985,
            1986,
            1987,
            1988,
            1989,
            1990,
            1991,
            1992,
            1993,
            1994,
            1995,
            1996,
            1997,
            1998,
            1999,
            2000
           ]
          },
          {
           "axis": {
            "matches": true
           },
           "label": "National Rank",
           "values": [
            1,
            2,
            3,
            1,
            2,
            4,
            5,
            6,
            7,
            8,
            9,
            10,
            1,
            11,
            12,
            13,
            14,
            15,
            3,
            16,
            1,
            17,
            1,
            18,
            19,
            2,
            2,
            20,
            4,
            1,
            1,
            2,
            21,
            22,
            1,
            23,
            24,
            1,
            3,
            5,
            4,
            25,
            26,
            1,
            5,
            1,
            27,
            6,
            2,
            7,
            3,
            28,
            29,
            30,
            3,
            31,
            1,
            2,
            3,
            32,
            33,
            34,
            2,
            35,
            36,
            37,
            38,
            4,
            39,
            1,
            40,
            1,
            41,
            4,
            42,
            4,
            2,
            5,
            43,
            2,
            1,
            44,
            1,
            8,
            5,
            45,
            2,
            3,
            6,
            46,
            47,
            2,
            9,
            4,
            48,
            3,
            6,
            49,
            50,
            3,
            2,
            1,
            4,
            3,
            4,
            5,
            1,
            10,
            1,
            4,
            5,
            51,
            7,
            52,
            8,
            1,
            53,
            5,
            7,
            6,
            5,
            5,
            8,
            2,
            11,
            1,
            9,
            6,
            12,
            9,
            54,
            55,
            2,
            1,
            7,
            13,
            6,
            10,
            14,
            3,
            4,
            56,
            6,
            57,
            58,
            5,
            10,
            6,
            8,
            7,
            59,
            15,
            60,
            3,
            16,
            17,
            9,
            11,
            2,
            3,
            7,
            18,
            12,
            61,
            7,
            10,
            62,
            6,
            63,
            13,
            2,
            11,
            14,
            6,
            15,
            4,
            19,
            2,
            16,
            3,
            8,
            64,
            65,
            17,
            4,
            66,
            12,
            7,
            67,
            2,
            18,
            7,
            19,
            4,
            8,
            68,
            3,
            1,
            69,
            20,
            70,
            1,
            21,
            9,
            13,
            22,
            8,
            20,
            71,
            23,
            11,
            10,
            72,
            14,
            24,
            15,
            1,
            25,
            16,
            8,
            3,
            26,
            73,
            74,
            75,
            17,
            5,
            5,
            18,
            76,
            9,
            19,
            27,
            4,
            6,
            77,
            21,
            1,
            78,
            79,
            80,
            20,
            12,
            28,
            1,
            10,
            1,
            22,
            3,
            81,
            29,
            82,
            23,
            30,
            24,
            83,
            13,
            9,
            14,
            84,
            85,
            86,
            10,
            7,
            87,
            31,
            1,
            1,
            88,
            89,
            8,
            9,
            90,
            32,
            21,
            1,
            2,
            1,
            2,
            15,
            11,
            11,
            16,
            25,
            4,
            3,
            91,
            2,
            2,
            2,
            5,
            5,
            33,
            34,
            92,
            6,
            4,
            35,
            12,
            36,
            93,
            94,
            95,
            37,
            96,
            97,
            26,
            98,
            2,
            99,
            10,
            6,
            17,
            100,
            22,
            38,
            2,
            23,
            101,
            102,
            39,
            103,
            104,
            27,
            13,
            40,
            28,
            24,
            11,
            25,
            41,
            18,
            9,
            42,
            29,
            6,
            10,
            7,
            12,
            13,
            30,
            1,
            105,
            2,
            11,
            26,
            7,
            14,
            19,
            2,
            106,
            3,
            107,
            11,
            43,
            5,
            44,
            45,
            46,
            20,
            3,
            1,
            5,
            108,
            31,
            32,
            12,
            27,
            33,
            7,
            15,
            8,
            13,
            8,
            47,
            3,
            2,
            14,
            7,
            15,
            109,
            1,
            1,
            110,
            28,
            14,
            3,
            1,
            29,
            1,
            8,
            9,
            30,
            16,
            16,
            15,
            17,
            21,
            48,
            49,
            3,
            9,
            10,
            17,
            111,
            8,
            112,
            113,
            2,
            10,
            50,
            51,
            3,
            9,
            16,
            31,
            10,
            52,
            1,
            3,
            114,
            53,
            4,
            4,
            115,
            22,
            17,
            1,
            2,
            23,
            54,
            4,
            55,
            56,
            116,
            4,
            12,
            2,
            57,
            24,
            117,
            118,
            34,
            11,
            58,
            59,
            12,
            119,
            12,
            3,
            18,
            120,
            121,
            122,
            60,
            18,
            19,
            11,
            18,
            61,
            5,
            1,
            123,
            124,
            13,
            125,
            5,
            32,
            20,
            11,
            19,
            62,
            126,
            127,
            128,
            20,
            129,
            4,
            130,
            131,
            6,
            21,
            132,
            35,
            13,
            19,
            12,
            133,
            134,
            2,
            135,
            63,
            36,
            2,
            21,
            4,
            64,
            33,
            65,
            14,
            136,
            66,
            6,
            22,
            137,
            34,
            23,
            35,
            36,
            5,
            13,
            138,
            139,
            5,
            67,
            140,
            1,
            37,
            4,
            1,
            14,
            25,
            141,
            38,
            4,
            24,
            22,
            1,
            1,
            23,
            142,
            15,
            37,
            3,
            143,
            144,
            16,
            68,
            20,
            17,
            69,
            25,
            39,
            26,
            6,
            145,
            70,
            2,
            26,
            40,
            71,
            38,
            146,
            3,
            147,
            148,
            5,
            72,
            6,
            2,
            73,
            74,
            3,
            7,
            75,
            76,
            27,
            77,
            5,
            4,
            78,
            39,
            79,
            6,
            27,
            149,
            80,
            3,
            81,
            5,
            28,
            7,
            5,
            40,
            7,
            15,
            24,
            16,
            82,
            6,
            3,
            29,
            17,
            7,
            6,
            83,
            28,
            150,
            84,
            14,
            21,
            3,
            1,
            30,
            151,
            152,
            6,
            85,
            31,
            153,
            3,
            154,
            86,
            9,
            87,
            7,
            8,
            155,
            156,
            22,
            7,
            88,
            29,
            157,
            15,
            32,
            1,
            6,
            89,
            41,
            16,
            17,
            30,
            158,
            9,
            90,
            4,
            2,
            33,
            34,
            23,
            159,
            18,
            42,
            43,
            91,
            18,
            24,
            19,
            41,
            42,
            35,
            20,
            160,
            92,
            161,
            4,
            93,
            94,
            7,
            1,
            95,
            2,
            3,
            3,
            4,
            44,
            4,
            2,
            4,
            162,
            96,
            97,
            13,
            98,
            19,
            99,
            4,
            45,
            100,
            10,
            31,
            2,
            163,
            101,
            8,
            5,
            102,
            18,
            164,
            165,
            1,
            103,
            32,
            33,
            8,
            166,
            9,
            19,
            46,
            167,
            168,
            104,
            4,
            105,
            20,
            169,
            3,
            20,
            34,
            5,
            36,
            170,
            1,
            21,
            106,
            171,
            10,
            8,
            172,
            8,
            107,
            5,
            21,
            108,
            173,
            109,
            1,
            43,
            21,
            37,
            174,
            175,
            110,
            6,
            4,
            22,
            9,
            111,
            112,
            113,
            44,
            2,
            5,
            114,
            22,
            47,
            35,
            22,
            115,
            23,
            116,
            4,
            10,
            23,
            23,
            24,
            176,
            9,
            1,
            38,
            24,
            48,
            177,
            117,
            11,
            49,
            24,
            12,
            6,
            5,
            2,
            25,
            11,
            1,
            10,
            25,
            118,
            178,
            45,
            26,
            46,
            179,
            39,
            2,
            7,
            2,
            50,
            12,
            180,
            40,
            181,
            5,
            3,
            41,
            26,
            182,
            47,
            119,
            120,
            27,
            121,
            183,
            48,
            11,
            49,
            184,
            122,
            123,
            28,
            124,
            13,
            125,
            185,
            6,
            126,
            25,
            186,
            7,
            26,
            51,
            52,
            10,
            6,
            27,
            53,
            127,
            128,
            187,
            1,
            188,
            36,
            4,
            50,
            25,
            3,
            2,
            54,
            129,
            5,
            189,
            8,
            130,
            55,
            27,
            29,
            12,
            25,
            42,
            1,
            131,
            190,
            132,
            30,
            9,
            133,
            12,
            28,
            11,
            11,
            56,
            1,
            43,
            14,
            51,
            12,
            134,
            57,
            191,
            8,
            1,
            44,
            13,
            1,
            13,
            192,
            135,
            14,
            193,
            136,
            194,
            29,
            30,
            45,
            37,
            58,
            7,
            31,
            195,
            38,
            3,
            1,
            14,
            4,
            28,
            9,
            137,
            39,
            10,
            15,
            138,
            8,
            139,
            59,
            140,
            60,
            4,
            31,
            29,
            141,
            196,
            32,
            3,
            197,
            46,
            142,
            30,
            198,
            31,
            5,
            32,
            15,
            1,
            16,
            61,
            9,
            199,
            200,
            33,
            40,
            1,
            143,
            201,
            17,
            7,
            16,
            1,
            18,
            32,
            33,
            2,
            10,
            6,
            62,
            202,
            34,
            5,
            17,
            18,
            1,
            144,
            1,
            1,
            15,
            3,
            26,
            9,
            203,
            145,
            47,
            19,
            41,
            204,
            8,
            205,
            11,
            20,
            4,
            26,
            9,
            12,
            27,
            10,
            63,
            206,
            1,
            33,
            52,
            207,
            21,
            146,
            10,
            147,
            148,
            208,
            22,
            209,
            42,
            3,
            27,
            149,
            48,
            150,
            43,
            34,
            151,
            210,
            28,
            211,
            152,
            35,
            212,
            28,
            36,
            11,
            213,
            153,
            12,
            214,
            154,
            6,
            23,
            24,
            35,
            3,
            44,
            215,
            36,
            155,
            13,
            156,
            16,
            6,
            37,
            157,
            158,
            11,
            216,
            38,
            159,
            53,
            8,
            160,
            2,
            217,
            218,
            13,
            3,
            39,
            29,
            45,
            5,
            25,
            37,
            11,
            219,
            220,
            40,
            64,
            5,
            17,
            12,
            6,
            41,
            42,
            12,
            18,
            161,
            26,
            162,
            38,
            46,
            221,
            163,
            47,
            222,
            39,
            7,
            43,
            14,
            44,
            164,
            13,
            30,
            223,
            224,
            15,
            14,
            34,
            48,
            165,
            19,
            31,
            13,
            3,
            225,
            2,
            54,
            20,
            65,
            166,
            29,
            167,
            1,
            168,
            45,
            32,
            7,
            55,
            19,
            49,
            13,
            46,
            3,
            226,
            21,
            227,
            56,
            35,
            14,
            40,
            47,
            13,
            2,
            169,
            170,
            171,
            4,
            172,
            228,
            48,
            66,
            33,
            6,
            6,
            173,
            15,
            174,
            9,
            229,
            175,
            5,
            22,
            49,
            27,
            230,
            176,
            41,
            177,
            178,
            179,
            36,
            49,
            20,
            50,
            21,
            4,
            14,
            7,
            2,
            231,
            6,
            232,
            50,
            5,
            2,
            57,
            16,
            180,
            8,
            7,
            67,
            1,
            7,
            15,
            6,
            51,
            181,
            8,
            1,
            16,
            4,
            37,
            23,
            182,
            183,
            5,
            2,
            14,
            16,
            22,
            17,
            24,
            25,
            233,
            50,
            184,
            9,
            38,
            2,
            52,
            51,
            51,
            234,
            235,
            6,
            236,
            53,
            28,
            3,
            12,
            237,
            4,
            185,
            238,
            29,
            18,
            54,
            26,
            30,
            186,
            58,
            17,
            187,
            68,
            31,
            239,
            52,
            8,
            55,
            52,
            27,
            15,
            240,
            56,
            30,
            42,
            241,
            188,
            189,
            53,
            69,
            190,
            242,
            57,
            17,
            53,
            1,
            58,
            5,
            6,
            32,
            70,
            191,
            18,
            192,
            193,
            243,
            244,
            245,
            246,
            247,
            59,
            19,
            31,
            248,
            39,
            33,
            60,
            54,
            249,
            34,
            1,
            9,
            28,
            18,
            43,
            8,
            194,
            54,
            195,
            34,
            20,
            250,
            251,
            196,
            252,
            23,
            253,
            7,
            19,
            5,
            20,
            44,
            29,
            197,
            21,
            30,
            16,
            21,
            198,
            1,
            199,
            200,
            61,
            201,
            17,
            7,
            6,
            10,
            62,
            55,
            71,
            72,
            22,
            63,
            45,
            35,
            254,
            40,
            5,
            202,
            19,
            203,
            7,
            56,
            204,
            22,
            255,
            23,
            32,
            205,
            57,
            23,
            4,
            206,
            18,
            8,
            46,
            19,
            207,
            64,
            59,
            41,
            42,
            208,
            65,
            11,
            24,
            209,
            73,
            55,
            1,
            210,
            256,
            58,
            66,
            211,
            67,
            20,
            212,
            1,
            74,
            257,
            56,
            213,
            24,
            31,
            2,
            68,
            57,
            69,
            58,
            35,
            258,
            1,
            214,
            3,
            4,
            32,
            24,
            259,
            33,
            10,
            1,
            25,
            8,
            9,
            34,
            260,
            70,
            215,
            71,
            216,
            2,
            75,
            72,
            20,
            1,
            217,
            26,
            59,
            261,
            9,
            35,
            262,
            263,
            264,
            3,
            265,
            14,
            218,
            76,
            43,
            36,
            10,
            27,
            77,
            266,
            11,
            60,
            219,
            73,
            7,
            10,
            61,
            28,
            74,
            220,
            221,
            78,
            44,
            29,
            30,
            1,
            75,
            267,
            222,
            37,
            2,
            11,
            60,
            45,
            8,
            2,
            223,
            224,
            8,
            76,
            79,
            225,
            4,
            33,
            268,
            226,
            25,
            6,
            31,
            9,
            38,
            269,
            12,
            77,
            270,
            32,
            227,
            228,
            6,
            4,
            1,
            26,
            39,
            2,
            271,
            229,
            13,
            3,
            62,
            21,
            22,
            78,
            230,
            36,
            2,
            61,
            231,
            40,
            37,
            8,
            79,
            12,
            59,
            23,
            7,
            272,
            41,
            2,
            25,
            24,
            38,
            80,
            2,
            4,
            39,
            232,
            15,
            273,
            274,
            62,
            233,
            275,
            1,
            21,
            81,
            63,
            27,
            34,
            28,
            7,
            234,
            2,
            40,
            276,
            82,
            277,
            1,
            46,
            80,
            63,
            235,
            1,
            9,
            278,
            33,
            29,
            60,
            279,
            83,
            84,
            81,
            10,
            280,
            7,
            82,
            11,
            22,
            85,
            26,
            9,
            64,
            64,
            65,
            25,
            42,
            35,
            6,
            8,
            27,
            30,
            236,
            43,
            8,
            23,
            86,
            8,
            7,
            34,
            281,
            237,
            238,
            239,
            240,
            10,
            47,
            24,
            28,
            282,
            35,
            241,
            242,
            87,
            1,
            283,
            243,
            10,
            47,
            8,
            1,
            44,
            244,
            88,
            45,
            245,
            7,
            246,
            9,
            284,
            3,
            89,
            285,
            247,
            248,
            26,
            48,
            25,
            36,
            286,
            65,
            83,
            66,
            5,
            11,
            36,
            66,
            3,
            90,
            8,
            29,
            91,
            2,
            249,
            92,
            48,
            250,
            2,
            1,
            26,
            287,
            10,
            46,
            36,
            5,
            8,
            84,
            251,
            3,
            252,
            27,
            31,
            37,
            11,
            93,
            67,
            47,
            14,
            9,
            3,
            253,
            288,
            254,
            28,
            15,
            289,
            61,
            41,
            29,
            255,
            290,
            9,
            13,
            291,
            42,
            94,
            85,
            292,
            256,
            293,
            12,
            257,
            294,
            16,
            43,
            258,
            2,
            48,
            30,
            295,
            27,
            296,
            259,
            16,
            95,
            86,
            11,
            1,
            38,
            297,
            49,
            67,
            9,
            6,
            96,
            12,
            1,
            10,
            97,
            2,
            4,
            3,
            260,
            12,
            12,
            1,
            298,
            261,
            37,
            17,
            262,
            30,
            299,
            44,
            263,
            300,
            7,
            45,
            31,
            50,
            37,
            301,
            302,
            10,
            303,
            32,
            39,
            264,
            38,
            49,
            98,
            304,
            305,
            51,
            99,
            52,
            40,
            62,
            63,
            87,
            100,
            1,
            28,
            7,
            50,
            41,
            265,
            32,
            306,
            33,
            2,
            15,
            31,
            266,
            11,
            267,
            268,
            34,
            269,
            49,
            46,
            270,
            68,
            271,
            50,
            272,
            53,
            8,
            64,
            54,
            33,
            3,
            32,
            42,
            12,
            35,
            273,
            307,
            13,
            4,
            11,
            6,
            308,
            38,
            274,
            275,
            47,
            88,
            1,
            29,
            7,
            4,
            33,
            276,
            101,
            34,
            2,
            102,
            10,
            55,
            309,
            51,
            277,
            13,
            36,
            13,
            310,
            51,
            278,
            311,
            43,
            279,
            280,
            44,
            5,
            34,
            10,
            312,
            18,
            313,
            281,
            282,
            314,
            13,
            103,
            283,
            315,
            284,
            316,
            56,
            35,
            45,
            14,
            104,
            89,
            285,
            1,
            105,
            35,
            90,
            286,
            317,
            68,
            46,
            3,
            16,
            287,
            48,
            318,
            37,
            49,
            52,
            288,
            289,
            50,
            319,
            36,
            30,
            290,
            17,
            53,
            291,
            19,
            320,
            2,
            37,
            292,
            65,
            14,
            293,
            321,
            106,
            47,
            38,
            54,
            294,
            14,
            107,
            55,
            295,
            296,
            8,
            56,
            297,
            322,
            3,
            39,
            3,
            323,
            108,
            66,
            69,
            36,
            4,
            70,
            324,
            48,
            3,
            109,
            39,
            298,
            18,
            69,
            51,
            38,
            2,
            2,
            57,
            11,
            15,
            20,
            58,
            10,
            325,
            52,
            5,
            59,
            60,
            39,
            14,
            6,
            110,
            71,
            37,
            38,
            111,
            53,
            7,
            61,
            57,
            91,
            40,
            1,
            299,
            2,
            49,
            39,
            4,
            9,
            15,
            5,
            19,
            1,
            9,
            72,
            31,
            92,
            62,
            326,
            20,
            327,
            54,
            112,
            328,
            300,
            73,
            39,
            52,
            1,
            16,
            5,
            301,
            12,
            329,
            302,
            40,
            50,
            41,
            74,
            303,
            51,
            304,
            305,
            17,
            113,
            306,
            307,
            3,
            308,
            114,
            93,
            6,
            32,
            52,
            42,
            63,
            15,
            40,
            75,
            309,
            330,
            16,
            41,
            9,
            53,
            33,
            40,
            331,
            310,
            76,
            311,
            43,
            1,
            312,
            13,
            4,
            313,
            2,
            314,
            332,
            54,
            64,
            55
           ]
          },
          {
           "axis": {
            "matches": true
           },
           "label": "Educational Rank",
           "values": [
            1,
            4,
            11,
            3,
            7,
            5,
            8,
            12,
            14,
            6,
            2,
            9,
            37,
            16,
            99,
            32,
            22,
            31,
            35,
            58,
            17,
            19,
            233,
            40,
            74,
            25,
            38,
            36,
            68,
            64,
            299,
            152,
            128,
            92,
            96,
            0,
            76,
            39,
            254,
            51,
            103,
            45,
            106,
            346,
            102,
            56,
            78,
            55,
            369,
            89,
            109,
            87,
            252,
            297,
            0,
            392,
            142,
            80,
            85,
            129,
            13,
            230,
            90,
            75,
            94,
            153,
            313,
            135,
            0,
            29,
            358,
            180,
            41,
            0,
            234,
            327,
            97,
            81,
            122,
            239,
            365,
            393,
            121,
            50,
            0,
            326,
            24,
            124,
            353,
            428,
            65,
            198,
            186,
            535,
            498,
            0,
            44,
            211,
            70,
            145,
            228,
            336,
            519,
            551,
            419,
            271,
            537,
            132,
            497,
            72,
            60,
            0,
            52,
            251,
            73,
            455,
            302,
            67,
            0,
            0,
            0,
            461,
            0,
            345,
            454,
            200,
            0,
            171,
            133,
            91,
            469,
            93,
            0,
            0,
            118,
            151,
            155,
            190,
            193,
            236,
            196,
            69,
            139,
            0,
            104,
            166,
            484,
            0,
            308,
            241,
            202,
            197,
            86,
            398,
            115,
            404,
            518,
            0,
            0,
            0,
            464,
            489,
            0,
            0,
            330,
            479,
            105,
            442,
            496,
            0,
            466,
            248,
            413,
            438,
            0,
            125,
            504,
            260,
            0,
            473,
            425,
            340,
            307,
            0,
            0,
            444,
            350,
            424,
            0,
            0,
            0,
            261,
            0,
            0,
            0,
            371,
            205,
            143,
            495,
            0,
            219,
            445,
            0,
            0,
            374,
            0,
            176,
            279,
            250,
            0,
            0,
            0,
            434,
            508,
            0,
            0,
            134,
            0,
            0,
            352,
            0,
            0,
            0,
            433,
            377,
            150,
            237,
            0,
            432,
            437,
            357,
            360,
            0,
            450,
            0,
            0,
            112,
            332,
            33,
            499,
            488,
            478,
            0,
            0,
            0,
            268,
            207,
            0,
            210,
            111,
            0,
            394,
            126,
            0,
            381,
            0,
            0,
            0,
            0,
            463,
            0,
            0,
            264,
            0,
            0,
            0,
            182,
            524,
            0,
            501,
            536,
            325,
            243,
            0,
            208,
            400,
            34,
            0,
            0,
            0,
            0,
            337,
            542,
            88,
            0,
            383,
            406,
            0,
            0,
            199,
            0,
            515,
            0,
            0,
            0,
            183,
            0,
            0,
            550,
            0,
            0,
            0,
            0,
            0,
            0,
            378,
            289,
            382,
            523,
            292,
            476,
            0,
            0,
            0,
            0,
            0,
            0,
            0,
            185,
            486,
            0,
            539,
            319,
            227,
            513,
            0,
            265,
            534,
            397,
            0,
            0,
            194,
            0,
            0,
            344,
            0,
            0,
            0,
            0,
            0,
            0,
            0,
            195,
            0,
            0,
            223,
            0,
            318,
            0,
            0,
            0,
            0,
            0,
            0,
            0,
            0,
            0,
            0,
            0,
            0,
            0,
            492,
            0,
            0,
            403,
            287,
            0,
            0,
            511,
            467,
            0,
            0,
            0,
            0,
            0,
            474,
            0,
            0,
            0,
            0,
            0,
            321,
            0,
            465,
            189,
            301,
            0,
            0,
            187,
            525,
            0,
            521,
            0,
            294,
            0,
            0,
            0,
            0,
            0,
            0,
            468,
            0,
            290,
            0,
            0,
            0,
            0,
            23,
            506,
            0,
            0,
            0,
            0,
            0,
            0,
            0,
            0,
            0,
            375,
            426,
            161,
            0,
            387,
            0,
            214,
            0,
            0,
            0,
            0,
            0,
            0,
            0,
            0,
            0,
            385,
            421,
            0,
            0,
            0,
            0,
            0,
            0,
            0,
            0,
            0,
            0,
            0,
            0,
            146,
            0,
            0,
            0,
            21,
            213,
            356,
            0,
            0,
            0,
            0,
            0,
            0,
            0,
            0,
            355,
            0,
            429,
            0,
            449,
            0,
            0,
            0,
            0,
            172,
            0,
            0,
            0,
            0,
            500,
            0,
            0,
            0,
            379,
            0,
            221,
            0,
            0,
            0,
            110,
            10,
            452,
            0,
            491,
            0,
            329,
            0,
            430,
            0,
            127,
            0,
            349,
            0,
            0,
            0,
            0,
            401,
            354,
            0,
            0,
            0,
            179,
            502,
            0,
            0,
            0,
            0,
            0,
            224,
            440,
            0,
            0,
            0,
            409,
            0,
            0,
            0,
            0,
            0,
            0,
            477,
            487,
            0,
            514,
            170,
            0,
            0,
            0,
            0,
            0,
            0,
            0,
            0,
            0,
            0,
            0,
            0,
            0,
            0,
            0,
            101,
            0,
            0,
            416,
            267,
            0,
            0,
            0,
            0,
            0,
            0,
            0,
            0,
            0,
            370,
            165,
            0,
            0,
            0,
            0,
            0,
            0,
            0,
            0,
            0,
            0,
            0,
            0,
            0,
            544,
            0,
            0,
            0,
            0,
            0,
            0,
            0,
            0,
            0,
            0,
            0,
            0,
            0,
            0,
            298,
            451,
            0,
            0,
            532,
            315,
            0,
            0,
            0,
            0,
            0,
            0,
            446,
            0,
            0,
            0,
            0,
            0,
            0,
            57,
            0,
            0,
            0,
            0,
            456,
            322,
            286,
            546,
            540,
            0,
            178,
            362,
            0,
            0,
            0,
            0,
            0,
            240,
            0,
            0,
            0,
            18,
            43,
            0,
            407,
            0,
            0,
            0,
            0,
            0,
            0,
            0,
            0,
            0,
            0,
            0,
            0,
            458,
            0,
            0,
            0,
            0,
            0,
            0,
            0,
            0,
            0,
            0,
            0,
            0,
            0,
            0,
            0,
            420,
            0,
            242,
            0,
            0,
            0,
            0,
            0,
            0,
            0,
            0,
            0,
            0,
            0,
            0,
            0,
            0,
            0,
            0,
            0,
            0,
            472,
            0,
            0,
            338,
            0,
            0,
            0,
            0,
            0,
            0,
            0,
            0,
            0,
            0,
            310,
            20,
            0,
            389,
            0,
            0,
            0,
            453,
            0,
            342,
            0,
            0,
            364,
            159,
            0,
            0,
            0,
            0,
            0,
            543,
            0,
            0,
            347,
            0,
            0,
            323,
            0,
            0,
            0,
            0,
            0,
            0,
            0,
            0,
            0,
            0,
            0,
            0,
            0,
            0,
            0,
            0,
            0,
            0,
            0,
            191,
            225,
            0,
            0,
            0,
            0,
            0,
            0,
            0,
            0,
            0,
            0,
            0,
            526,
            0,
            0,
            0,
            192,
            0,
            0,
            0,
            529,
            0,
            0,
            0,
            0,
            0,
            0,
            0,
            0,
            0,
            0,
            0,
            405,
            0,
            309,
            482,
            0,
            0,
            0,
            0,
            0,
            15,
            0,
            0,
            0,
            0,
            0,
            0,
            0,
            0,
            0,
            0,
            0,
            0,
            0,
            0,
            0,
            0,
            0,
            0,
            0,
            0,
            0,
            0,
            0,
            0,
            0,
            0,
            0,
            0,
            0,
            274,
            0,
            0,
            0,
            0,
            0,
            0,
            0,
            0,
            0,
            0,
            0,
            0,
            402,
            0,
            0,
            0,
            0,
            0,
            0,
            0,
            0,
            0,
            0,
            0,
            0,
            0,
            0,
            0,
            0,
            0,
            0,
            0,
            0,
            0,
            0,
            0,
            0,
            0,
            0,
            0,
            0,
            0,
            533,
            493,
            0,
            512,
            0,
            0,
            0,
            0,
            0,
            483,
            0,
            0,
            0,
            0,
            503,
            0,
            0,
            0,
            0,
            0,
            0,
            305,
            0,
            0,
            0,
            0,
            0,
            77,
            0,
            167,
            0,
            0,
            320,
            0,
            0,
            0,
            0,
            0,
            0,
            0,
            0,
            0,
            0,
            0,
            0,
            0,
            0,
            0,
            0,
            0,
            462,
            0,
            0,
            0,
            0,
            0,
            0,
            527,
            0,
            0,
            0,
            0,
            0,
            0,
            0,
            0,
            0,
            0,
            0,
            0,
            0,
            0,
            363,
            0,
            0,
            0,
            0,
            0,
            0,
            0,
            0,
            0,
            475,
            0,
            0,
            538,
            215,
            0,
            0,
            0,
            0,
            164,
            0,
            0,
            0,
            0,
            0,
            291,
            0,
            0,
            0,
            0,
            0,
            0,
            218,
            0,
            0,
            415,
            0,
            0,
            0,
            0,
            0,
            0,
            26,
            0,
            0,
            435,
            0,
            0,
            0,
            0,
            0,
            0,
            0,
            0,
            0,
            0,
            0,
            0,
            0,
            0,
            0,
            0,
            0,
            0,
            181,
            0,
            0,
            0,
            0,
            0,
            0,
            0,
            0,
            0,
            0,
            0,
            0,
            0,
            0,
            0,
            0,
            0,
            0,
            0,
            0,
            0,
            0,
            0,
            0,
            42,
            0,
            0,
            0,
            0,
            0,
            28,
            0,
            0,
            0,
            0,
            0,
            0,
            95,
            0,
            0,
            0,
            0,
            0,
            485,
            0,
            0,
            0,
            0,
            149,
            0,
            0,
            0,
            0,
            0,
            0,
            0,
            0,
            0,
            0,
            46,
            0,
            0,
            0,
            0,
            0,
            0,
            0,
            0,
            0,
            0,
            0,
            0,
            0,
            0,
            0,
            0,
            0,
            0,
            0,
            0,
            0,
            0,
            0,
            0,
            0,
            0,
            0,
            367,
            0,
            0,
            0,
            0,
            0,
            0,
            0,
            0,
            0,
            0,
            0,
            0,
            0,
            0,
            0,
            0,
            0,
            0,
            0,
            0,
            0,
            0,
            0,
            0,
            0,
            0,
            0,
            0,
            0,
            0,
            0,
            0,
            0,
            0,
            0,
            0,
            0,
            0,
            0,
            0,
            0,
            0,
            0,
            0,
            0,
            0,
            0,
            541,
            0,
            0,
            0,
            0,
            0,
            0,
            0,
            0,
            0,
            0,
            0,
            0,
            0,
            0,
            0,
            0,
            0,
            66,
            0,
            0,
            0,
            0,
            0,
            0,
            0,
            0,
            0,
            0,
            0,
            0,
            0,
            0,
            0,
            0,
            0,
            0,
            27,
            0,
            0,
            0,
            0,
            0,
            0,
            0,
            0,
            0,
            0,
            0,
            0,
            84,
            552,
            0,
            0,
            0,
            0,
            0,
            0,
            0,
            0,
            0,
            296,
            0,
            418,
            0,
            0,
            0,
            0,
            0,
            0,
            0,
            0,
            0,
            0,
            0,
            0,
            0,
            490,
            0,
            0,
            0,
            0,
            0,
            0,
            0,
            0,
            0,
            0,
            0,
            0,
            0,
            0,
            0,
            0,
            0,
            0,
            0,
            0,
            471,
            510,
            0,
            0,
            0,
            0,
            0,
            0,
            0,
            0,
            0,
            0,
            0,
            0,
            0,
            0,
            0,
            0,
            0,
            368,
            0,
            395,
            0,
            509,
            0,
            0,
            0,
            0,
            439,
            0,
            120,
            0,
            0,
            0,
            0,
            0,
            0,
            0,
            0,
            0,
            0,
            0,
            447,
            0,
            0,
            0,
            53,
            0,
            457,
            0,
            0,
            0,
            0,
            0,
            0,
            0,
            0,
            0,
            0,
            0,
            0,
            0,
            0,
            0,
            177,
            0,
            0,
            0,
            0,
            373,
            0,
            0,
            238,
            0,
            0,
            0,
            0,
            0,
            0,
            0,
            0,
            0,
            0,
            0,
            0,
            0,
            0,
            0,
            0,
            0,
            0,
            0,
            0,
            0,
            0,
            0,
            0,
            0,
            0,
            0,
            0,
            0,
            0,
            0,
            0,
            0,
            0,
            0,
            47,
            0,
            0,
            0,
            0,
            0,
            0,
            0,
            384,
            0,
            281,
            0,
            0,
            0,
            284,
            188,
            0,
            0,
            0,
            0,
            0,
            173,
            0,
            0,
            0,
            0,
            0,
            0,
            0,
            0,
            0,
            0,
            0,
            100,
            0,
            0,
            0,
            0,
            0,
            0,
            0,
            0,
            0,
            0,
            0,
            0,
            530,
            0,
            0,
            0,
            0,
            0,
            0,
            0,
            206,
            0,
            0,
            0,
            0,
            0,
            0,
            0,
            0,
            0,
            0,
            0,
            0,
            339,
            0,
            71,
            168,
            0,
            0,
            0,
            0,
            0,
            0,
            0,
            0,
            0,
            0,
            0,
            0,
            0,
            0,
            0,
            0,
            0,
            0,
            0,
            0,
            0,
            0,
            282,
            0,
            0,
            0,
            0,
            0,
            0,
            0,
            0,
            0,
            0,
            0,
            0,
            0,
            0,
            0,
            0,
            0,
            548,
            0,
            0,
            0,
            0,
            0,
            0,
            0,
            0,
            0,
            0,
            0,
            0,
            0,
            0,
            0,
            0,
            481,
            380,
            0,
            0,
            0,
            0,
            0,
            0,
            30,
            0,
            0,
            0,
            0,
            0,
            0,
            0,
            0,
            0,
            0,
            0,
            0,
            0,
            0,
            0,
            0,
            0,
            0,
            0,
            0,
            0,
            0,
            255,
            0,
            0,
            0,
            0,
            0,
            0,
            0,
            0,
            0,
            0,
            0,
            0,
            0,
            0,
            0,
            0,
            0,
            0,
            0,
            0,
            0,
            0,
            0,
            0,
            314,
            0,
            0,
            0,
            300,
            0,
            0,
            522,
            0,
            98,
            0,
            0,
            0,
            0,
            0,
            0,
            0,
            0,
            0,
            0,
            0,
            232,
            0,
            0,
            0,
            0,
            0,
            0,
            0,
            0,
            0,
            0,
            0,
            0,
            0,
            0,
            0,
            0,
            0,
            0,
            0,
            0,
            0,
            0,
            0,
            0,
            0,
            0,
            0,
            0,
            0,
            0,
            0,
            0,
            0,
            0,
            0,
            0,
            0,
            0,
            0,
            0,
            0,
            0,
            0,
            0,
            0,
            0,
            0,
            0,
            0,
            0,
            0,
            306,
            49,
            0,
            0,
            417,
            0,
            0,
            0,
            0,
            0,
            0,
            0,
            0,
            0,
            0,
            0,
            0,
            0,
            0,
            0,
            0,
            0,
            0,
            0,
            0,
            0,
            0,
            0,
            480,
            0,
            0,
            0,
            0,
            0,
            0,
            0,
            0,
            0,
            0,
            0,
            0,
            0,
            0,
            0,
            0,
            0,
            0,
            0,
            0,
            0,
            0,
            0,
            0,
            0,
            0,
            0,
            0,
            0,
            0,
            0,
            0,
            372,
            0,
            0,
            331,
            0,
            114,
            0,
            0,
            0,
            0,
            0,
            0,
            0,
            0,
            0,
            0,
            0,
            0,
            0,
            0,
            62,
            0,
            0,
            0,
            0,
            0,
            0,
            0,
            0,
            494,
            0,
            0,
            0,
            0,
            0,
            0,
            0,
            0,
            0,
            0,
            0,
            0,
            0,
            0,
            0,
            0,
            0,
            0,
            0,
            0,
            0,
            0,
            63,
            0,
            0,
            0,
            0,
            0,
            0,
            0,
            0,
            0,
            0,
            0,
            0,
            0,
            0,
            0,
            0,
            0,
            361,
            0,
            0,
            0,
            0,
            0,
            0,
            0,
            0,
            0,
            0,
            0,
            0,
            0,
            0,
            0,
            0,
            0,
            0,
            0,
            0,
            0,
            0,
            0,
            0,
            0,
            0,
            0,
            0,
            0,
            0,
            0,
            0,
            0,
            0,
            0,
            0,
            0,
            0,
            0,
            0,
            0,
            0,
            427,
            0,
            0,
            0,
            0,
            303,
            0,
            0,
            0,
            0,
            0,
            0,
            0,
            0,
            0,
            0,
            0,
            0,
            0,
            0,
            0,
            0,
            0,
            0,
            0,
            0,
            0,
            0,
            0,
            0,
            0,
            0,
            0,
            0,
            0,
            0,
            0,
            136,
            0,
            0,
            137,
            0,
            0,
            0,
            0,
            0,
            0,
            0,
            0,
            0,
            0,
            0,
            0,
            0,
            0,
            0,
            0,
            0,
            0,
            0,
            0,
            0,
            0,
            0,
            0,
            0,
            460,
            0,
            0,
            0,
            0,
            0,
            0,
            48,
            0,
            0,
            0,
            0,
            0,
            0,
            0,
            0,
            0,
            0,
            0,
            0,
            0,
            0,
            175,
            0,
            0,
            0,
            0,
            0,
            0,
            0,
            272,
            0,
            0,
            0,
            0,
            0,
            0,
            0,
            0,
            0,
            117,
            0,
            0,
            0,
            0,
            0,
            0,
            0,
            0,
            0,
            0,
            0,
            0,
            0,
            0,
            0,
            0,
            0,
            0,
            0,
            0,
            0,
            0,
            0,
            0,
            0,
            0,
            0,
            0,
            348,
            0,
            0,
            0,
            0,
            0,
            0,
            0,
            0,
            0,
            0,
            0,
            0,
            0,
            0,
            0,
            0,
            0,
            0,
            0,
            0,
            0,
            0,
            0,
            0,
            0,
            0,
            0,
            0,
            0,
            0,
            0,
            0,
            0,
            0,
            0,
            82,
            0,
            0,
            0,
            0,
            0,
            0,
            0,
            0,
            0,
            0,
            0,
            0,
            0,
            0,
            0,
            0,
            0,
            0,
            0,
            0,
            0,
            0,
            0,
            0,
            0,
            0,
            0,
            0,
            0,
            0,
            0,
            0,
            0,
            0,
            0,
            0,
            0,
            0,
            0,
            0,
            0,
            0,
            0,
            0,
            0,
            0,
            0,
            0,
            0,
            0,
            0,
            0,
            0,
            0,
            0,
            0,
            0,
            0,
            0
           ]
          },
          {
           "axis": {
            "matches": true
           },
           "label": "Employability Rank",
           "values": [
            1,
            12,
            4,
            25,
            27,
            16,
            15,
            14,
            8,
            35,
            96,
            59,
            6,
            29,
            17,
            40,
            192,
            63,
            664,
            49,
            31,
            143,
            163,
            45,
            227,
            109,
            32,
            102,
            123,
            88,
            22,
            137,
            1520,
            64,
            379,
            1554,
            92,
            0,
            958,
            505,
            324,
            18,
            144,
            56,
            9,
            254,
            318,
            473,
            58,
            417,
            554,
            526,
            133,
            171,
            1304,
            89,
            411,
            1123,
            1532,
            294,
            0,
            150,
            578,
            55,
            91,
            169,
            165,
            1012,
            129,
            346,
            37,
            481,
            0,
            140,
            208,
            488,
            412,
            368,
            387,
            689,
            181,
            1229,
            798,
            486,
            351,
            426,
            0,
            1068,
            93,
            111,
            70,
            627,
            430,
            68,
            237,
            83,
            369,
            535,
            113,
            74,
            296,
            41,
            13,
            120,
            669,
            586,
            414,
            458,
            381,
            480,
            305,
            0,
            926,
            94,
            494,
            502,
            202,
            211,
            261,
            2,
            532,
            517,
            334,
            558,
            293,
            788,
            167,
            518,
            397,
            230,
            270,
            0,
            829,
            631,
            1377,
            522,
            1113,
            790,
            553,
            51,
            460,
            297,
            151,
            0,
            268,
            226,
            353,
            1255,
            1067,
            552,
            195,
            655,
            69,
            130,
            699,
            365,
            929,
            170,
            76,
            106,
            693,
            596,
            158,
            0,
            105,
            1263,
            122,
            407,
            276,
            349,
            1474,
            546,
            1337,
            812,
            146,
            457,
            182,
            510,
            78,
            567,
            807,
            142,
            39,
            541,
            792,
            591,
            223,
            80,
            1085,
            0,
            1171,
            711,
            1014,
            225,
            234,
            437,
            848,
            503,
            389,
            186,
            0,
            1305,
            265,
            220,
            819,
            314,
            936,
            0,
            528,
            117,
            3,
            482,
            290,
            194,
            566,
            0,
            404,
            367,
            1489,
            26,
            538,
            802,
            0,
            559,
            43,
            1152,
            1115,
            127,
            847,
            245,
            239,
            1129,
            0,
            358,
            758,
            228,
            576,
            1298,
            256,
            777,
            263,
            281,
            882,
            322,
            1330,
            132,
            90,
            1396,
            187,
            0,
            1037,
            0,
            134,
            914,
            773,
            0,
            0,
            1364,
            1071,
            1412,
            184,
            67,
            419,
            765,
            971,
            282,
            224,
            465,
            0,
            327,
            1191,
            1236,
            509,
            5,
            0,
            1593,
            0,
            565,
            0,
            7,
            0,
            308,
            498,
            0,
            1504,
            0,
            147,
            269,
            0,
            98,
            1089,
            434,
            844,
            633,
            515,
            0,
            1650,
            569,
            354,
            1164,
            0,
            1036,
            0,
            1172,
            625,
            1299,
            799,
            438,
            766,
            529,
            841,
            198,
            0,
            856,
            904,
            432,
            214,
            436,
            385,
            440,
            826,
            0,
            197,
            0,
            378,
            1317,
            85,
            0,
            431,
            1103,
            614,
            23,
            1155,
            1011,
            372,
            0,
            911,
            1212,
            1658,
            0,
            647,
            0,
            33,
            1665,
            524,
            0,
            1118,
            359,
            0,
            207,
            629,
            344,
            600,
            942,
            364,
            921,
            0,
            0,
            200,
            1679,
            145,
            0,
            0,
            267,
            1046,
            875,
            1097,
            0,
            993,
            1688,
            1165,
            644,
            1142,
            583,
            1470,
            474,
            933,
            1439,
            922,
            704,
            0,
            1450,
            0,
            277,
            636,
            1056,
            1629,
            563,
            1635,
            209,
            0,
            249,
            0,
            575,
            1313,
            0,
            0,
            989,
            1281,
            0,
            770,
            1147,
            1183,
            1314,
            413,
            10,
            0,
            533,
            837,
            1701,
            1054,
            639,
            0,
            1026,
            1683,
            1013,
            732,
            1644,
            11,
            1347,
            0,
            1315,
            815,
            0,
            731,
            0,
            1346,
            0,
            1499,
            0,
            0,
            597,
            1340,
            626,
            615,
            548,
            1110,
            690,
            960,
            0,
            0,
            540,
            579,
            323,
            1163,
            450,
            1239,
            0,
            415,
            210,
            329,
            822,
            46,
            328,
            1045,
            0,
            0,
            19,
            1035,
            1434,
            634,
            108,
            361,
            511,
            903,
            221,
            1486,
            0,
            999,
            125,
            1135,
            750,
            160,
            1525,
            455,
            1438,
            0,
            360,
            1480,
            976,
            0,
            1675,
            833,
            495,
            0,
            1057,
            895,
            62,
            0,
            0,
            0,
            1477,
            376,
            884,
            1222,
            1512,
            1482,
            370,
            0,
            742,
            377,
            0,
            561,
            0,
            1310,
            487,
            1456,
            679,
            0,
            620,
            1131,
            433,
            0,
            0,
            1483,
            0,
            0,
            0,
            0,
            1078,
            1405,
            0,
            0,
            0,
            1581,
            905,
            477,
            1421,
            0,
            0,
            0,
            574,
            337,
            649,
            825,
            112,
            1357,
            1328,
            1388,
            924,
            315,
            0,
            1537,
            0,
            0,
            483,
            1473,
            1653,
            0,
            0,
            0,
            1107,
            335,
            280,
            75,
            257,
            707,
            982,
            599,
            0,
            937,
            628,
            456,
            422,
            1025,
            1431,
            0,
            1203,
            0,
            174,
            1139,
            1339,
            82,
            0,
            48,
            919,
            658,
            787,
            1689,
            0,
            896,
            0,
            0,
            646,
            1590,
            0,
            0,
            20,
            1137,
            0,
            0,
            0,
            435,
            1303,
            0,
            888,
            0,
            445,
            0,
            0,
            1020,
            955,
            0,
            1509,
            153,
            796,
            124,
            0,
            0,
            0,
            0,
            183,
            0,
            28,
            1166,
            0,
            0,
            759,
            507,
            352,
            217,
            0,
            0,
            1007,
            1161,
            0,
            319,
            1086,
            1193,
            0,
            0,
            0,
            0,
            286,
            0,
            1256,
            0,
            0,
            0,
            1583,
            967,
            101,
            1146,
            1598,
            0,
            1696,
            0,
            845,
            1591,
            1463,
            1138,
            0,
            0,
            491,
            581,
            0,
            107,
            0,
            1169,
            959,
            0,
            1582,
            0,
            0,
            858,
            0,
            913,
            1603,
            0,
            0,
            1241,
            0,
            0,
            398,
            1566,
            0,
            743,
            467,
            1640,
            0,
            287,
            0,
            1575,
            0,
            1464,
            0,
            1154,
            504,
            190,
            1214,
            834,
            0,
            1657,
            1232,
            61,
            1257,
            748,
            0,
            0,
            531,
            325,
            915,
            0,
            864,
            0,
            1492,
            0,
            0,
            1559,
            0,
            910,
            0,
            1031,
            213,
            783,
            1410,
            0,
            1343,
            0,
            557,
            466,
            809,
            946,
            890,
            21,
            427,
            0,
            0,
            1558,
            632,
            0,
            1293,
            1428,
            0,
            908,
            0,
            448,
            229,
            0,
            0,
            0,
            493,
            0,
            0,
            927,
            1184,
            0,
            278,
            0,
            1180,
            1167,
            601,
            0,
            0,
            0,
            768,
            0,
            0,
            744,
            0,
            0,
            1678,
            764,
            0,
            0,
            1441,
            665,
            830,
            996,
            0,
            0,
            0,
            0,
            0,
            872,
            0,
            0,
            0,
            867,
            0,
            747,
            1125,
            0,
            0,
            1618,
            0,
            452,
            0,
            0,
            0,
            0,
            0,
            1061,
            0,
            0,
            0,
            1082,
            0,
            0,
            737,
            0,
            24,
            572,
            0,
            660,
            0,
            763,
            0,
            0,
            1642,
            935,
            0,
            1637,
            0,
            0,
            1300,
            0,
            0,
            0,
            0,
            1710,
            793,
            345,
            0,
            499,
            0,
            1074,
            0,
            831,
            0,
            395,
            100,
            0,
            0,
            1681,
            0,
            0,
            206,
            0,
            0,
            0,
            797,
            1392,
            44,
            0,
            0,
            1179,
            934,
            0,
            0,
            0,
            110,
            0,
            0,
            0,
            0,
            1081,
            0,
            0,
            303,
            588,
            0,
            0,
            917,
            1615,
            0,
            0,
            0,
            0,
            1475,
            930,
            0,
            34,
            0,
            0,
            0,
            1211,
            1265,
            0,
            0,
            836,
            523,
            0,
            0,
            1622,
            1185,
            1685,
            740,
            196,
            0,
            0,
            0,
            700,
            1038,
            0,
            0,
            0,
            0,
            0,
            0,
            1654,
            0,
            1279,
            624,
            0,
            918,
            0,
            0,
            1589,
            1008,
            692,
            1158,
            1674,
            36,
            0,
            0,
            0,
            641,
            0,
            598,
            973,
            0,
            0,
            0,
            1427,
            0,
            406,
            57,
            0,
            0,
            0,
            0,
            859,
            0,
            0,
            0,
            1707,
            0,
            0,
            0,
            0,
            0,
            42,
            570,
            421,
            1292,
            1302,
            1514,
            0,
            1518,
            580,
            0,
            1698,
            0,
            0,
            1225,
            0,
            938,
            969,
            0,
            0,
            0,
            869,
            1556,
            52,
            0,
            980,
            1712,
            0,
            0,
            0,
            1663,
            1316,
            1338,
            0,
            0,
            0,
            1271,
            1565,
            0,
            0,
            871,
            1384,
            1367,
            794,
            0,
            416,
            619,
            0,
            203,
            30,
            0,
            99,
            0,
            0,
            1394,
            149,
            1579,
            50,
            0,
            0,
            38,
            0,
            0,
            947,
            972,
            1108,
            0,
            386,
            1449,
            0,
            1601,
            1246,
            1266,
            1333,
            1490,
            0,
            0,
            0,
            0,
            1294,
            0,
            0,
            661,
            0,
            1642,
            940,
            985,
            681,
            1634,
            735,
            663,
            0,
            0,
            84,
            0,
            1284,
            0,
            0,
            752,
            0,
            0,
            1080,
            0,
            0,
            1359,
            0,
            1194,
            849,
            0,
            1691,
            984,
            199,
            0,
            0,
            0,
            0,
            0,
            0,
            1178,
            0,
            0,
            1092,
            1072,
            0,
            154,
            259,
            0,
            0,
            697,
            691,
            0,
            0,
            1145,
            0,
            800,
            0,
            0,
            539,
            939,
            1466,
            0,
            1605,
            0,
            0,
            0,
            0,
            1454,
            0,
            680,
            877,
            784,
            950,
            0,
            1507,
            855,
            0,
            769,
            1251,
            0,
            1268,
            0,
            0,
            0,
            232,
            1101,
            0,
            0,
            1286,
            0,
            0,
            77,
            694,
            0,
            0,
            0,
            1440,
            0,
            0,
            843,
            0,
            0,
            1366,
            350,
            0,
            0,
            0,
            1060,
            0,
            348,
            1531,
            1699,
            642,
            0,
            0,
            118,
            0,
            0,
            1672,
            1181,
            176,
            0,
            0,
            1187,
            0,
            0,
            0,
            0,
            0,
            0,
            179,
            0,
            252,
            0,
            1684,
            0,
            1432,
            0,
            1542,
            0,
            0,
            0,
            0,
            749,
            0,
            0,
            881,
            0,
            1687,
            0,
            1053,
            0,
            0,
            1662,
            1515,
            0,
            0,
            1602,
            0,
            0,
            1616,
            0,
            1199,
            1555,
            0,
            0,
            1281,
            0,
            0,
            0,
            0,
            0,
            0,
            0,
            0,
            1713,
            885,
            1524,
            0,
            1535,
            0,
            103,
            0,
            1530,
            0,
            0,
            0,
            0,
            0,
            0,
            1253,
            1563,
            0,
            0,
            1133,
            0,
            0,
            1502,
            0,
            0,
            0,
            0,
            0,
            0,
            0,
            497,
            0,
            0,
            0,
            754,
            0,
            0,
            1259,
            60,
            0,
            0,
            1309,
            1680,
            0,
            0,
            1076,
            0,
            1592,
            0,
            659,
            868,
            0,
            816,
            464,
            1604,
            1111,
            241,
            1354,
            1371,
            0,
            0,
            1664,
            0,
            251,
            459,
            87,
            0,
            0,
            244,
            0,
            0,
            0,
            0,
            0,
            0,
            0,
            0,
            0,
            1649,
            1546,
            0,
            284,
            1306,
            717,
            0,
            0,
            0,
            0,
            0,
            1064,
            0,
            0,
            0,
            0,
            0,
            0,
            0,
            0,
            1344,
            0,
            0,
            0,
            0,
            1700,
            808,
            0,
            0,
            1436,
            0,
            1628,
            1130,
            0,
            0,
            0,
            1106,
            0,
            1204,
            402,
            1659,
            1549,
            0,
            0,
            0,
            1215,
            1276,
            756,
            1636,
            0,
            0,
            0,
            0,
            0,
            0,
            1424,
            0,
            1285,
            0,
            0,
            0,
            0,
            0,
            0,
            945,
            0,
            900,
            326,
            0,
            1260,
            0,
            0,
            0,
            949,
            0,
            891,
            0,
            1040,
            0,
            0,
            65,
            66,
            0,
            0,
            821,
            0,
            0,
            0,
            0,
            81,
            0,
            392,
            0,
            1032,
            0,
            0,
            0,
            0,
            0,
            0,
            0,
            47,
            0,
            0,
            0,
            714,
            222,
            726,
            1493,
            0,
            0,
            0,
            1355,
            0,
            1069,
            0,
            0,
            1571,
            0,
            178,
            0,
            0,
            0,
            725,
            1182,
            0,
            0,
            0,
            0,
            0,
            0,
            279,
            562,
            0,
            974,
            115,
            0,
            0,
            0,
            0,
            956,
            1667,
            0,
            0,
            0,
            484,
            1376,
            1613,
            0,
            0,
            1488,
            1610,
            0,
            0,
            0,
            439,
            0,
            0,
            683,
            0,
            0,
            0,
            0,
            662,
            0,
            0,
            0,
            0,
            0,
            0,
            104,
            0,
            0,
            0,
            0,
            0,
            1254,
            0,
            0,
            0,
            923,
            1189,
            1096,
            0,
            0,
            0,
            0,
            0,
            0,
            0,
            1311,
            0,
            0,
            0,
            0,
            148,
            1641,
            128,
            1526,
            0,
            0,
            962,
            0,
            573,
            0,
            0,
            0,
            0,
            0,
            0,
            0,
            520,
            54,
            0,
            899,
            485,
            0,
            1000,
            0,
            0,
            964,
            0,
            166,
            1070,
            995,
            0,
            0,
            1453,
            651,
            0,
            135,
            0,
            0,
            1370,
            0,
            0,
            977,
            0,
            0,
            1534,
            0,
            53,
            0,
            0,
            1478,
            0,
            0,
            0,
            0,
            1358,
            0,
            0,
            0,
            0,
            0,
            0,
            1023,
            86,
            288,
            0,
            1465,
            0,
            0,
            0,
            0,
            0,
            0,
            0,
            1323,
            1280,
            0,
            0,
            0,
            0,
            0,
            1458,
            0,
            0,
            0,
            0,
            1471,
            0,
            1419,
            0,
            0,
            0,
            0,
            0,
            1624,
            1550,
            1420,
            0,
            1278,
            706,
            1043,
            0,
            0,
            0,
            1461,
            0,
            136,
            0,
            1697,
            0,
            0,
            295,
            0,
            0,
            0,
            0,
            0,
            0,
            0,
            218,
            0,
            0,
            902,
            1620,
            0,
            0,
            0,
            0,
            0,
            0,
            0,
            1660,
            408,
            1223,
            0,
            0,
            0,
            0,
            0,
            0,
            0,
            0,
            1390,
            0,
            0,
            1705,
            954,
            0,
            0,
            0,
            0,
            0,
            1625,
            0,
            0,
            463,
            536,
            0,
            0,
            0,
            0,
            0,
            0,
            607,
            0,
            0,
            0,
            0,
            0,
            0,
            0,
            774,
            0,
            0,
            0,
            1073,
            0,
            0,
            0,
            1609,
            805,
            0,
            1403,
            887,
            362,
            0,
            0,
            0,
            0,
            611,
            1379,
            1671,
            0,
            0,
            0,
            0,
            0,
            1369,
            0,
            0,
            0,
            1321,
            0,
            1393,
            0,
            1267,
            0,
            0,
            0,
            1261,
            0,
            0,
            0,
            0,
            0,
            443,
            0,
            0,
            400,
            986,
            0,
            0,
            0,
            650,
            0,
            0,
            592,
            0,
            0,
            0,
            0,
            0,
            0,
            1652,
            0,
            172,
            0,
            0,
            0,
            1647,
            0,
            157,
            1283,
            0,
            0,
            0,
            0,
            0,
            409,
            0,
            0,
            1112,
            489,
            981,
            0,
            0,
            0,
            0,
            0,
            0,
            0,
            0,
            0,
            0,
            72,
            0,
            0,
            0,
            860,
            0,
            0,
            0,
            0,
            0,
            0,
            0,
            0,
            0,
            0,
            0,
            0,
            0,
            0,
            0,
            138,
            0,
            0,
            0,
            0,
            998,
            0,
            0,
            0,
            0,
            0,
            0,
            0,
            739,
            0,
            0,
            0,
            0,
            471,
            0,
            0,
            420,
            0,
            1216,
            1157,
            0,
            0,
            0,
            0,
            527,
            0,
            0,
            1676,
            0,
            0,
            0,
            216,
            0,
            155,
            0,
            0,
            0,
            0,
            0,
            1218,
            0,
            0,
            0,
            0,
            0,
            0,
            0,
            648,
            0,
            0,
            0,
            1219,
            0,
            1614,
            0,
            0,
            0,
            1500,
            0,
            0,
            0,
            0,
            0,
            0,
            0,
            0,
            0,
            0,
            0,
            0,
            0,
            0,
            0,
            0,
            0,
            0,
            1289,
            1445,
            0,
            0,
            0,
            0,
            0,
            1606,
            1538,
            156,
            675,
            0,
            1401,
            824,
            1553,
            0,
            0,
            0,
            79,
            0,
            0,
            0,
            0,
            0,
            0,
            126,
            657,
            0,
            0,
            0,
            0,
            0,
            0,
            0,
            0,
            1206,
            0,
            0,
            733,
            795,
            0,
            0,
            0,
            549,
            0,
            0,
            0,
            0,
            1411,
            0,
            1083,
            0,
            0,
            1240,
            1273,
            0,
            1631,
            114,
            0,
            0,
            0,
            550,
            0,
            0,
            0,
            235,
            1655,
            0,
            0,
            0,
            0,
            0,
            560,
            0,
            0,
            0,
            0,
            97,
            0,
            0,
            0,
            0,
            0,
            1540,
            363,
            720,
            0,
            0,
            0,
            0,
            1402,
            1399,
            0,
            0,
            741,
            0,
            0,
            0,
            513,
            180,
            0,
            0,
            0,
            0,
            0,
            0,
            0,
            0,
            255,
            894,
            0,
            0,
            0,
            0,
            0,
            0,
            1631,
            0,
            606,
            0,
            0,
            0,
            1672,
            0,
            71,
            0,
            0,
            0,
            0,
            1127,
            0,
            0,
            0,
            0,
            0,
            0,
            0,
            0,
            0,
            0,
            0,
            0,
            0,
            0,
            0,
            0,
            0,
            0,
            0,
            0,
            0,
            0,
            779,
            0,
            73,
            0,
            1134,
            0,
            0,
            909,
            0,
            0,
            0,
            0,
            1322,
            0,
            0,
            0
           ]
          },
          {
           "axis": {
            "matches": true
           },
           "label": "Faculty Rank",
           "values": [
            1,
            3,
            2,
            5,
            9,
            6,
            22,
            10,
            45,
            13,
            7,
            4,
            113,
            18,
            31,
            62,
            20,
            16,
            14,
            19,
            111,
            11,
            23,
            47,
            25,
            36,
            64,
            30,
            55,
            24,
            154,
            46,
            12,
            17,
            41,
            15,
            71,
            35,
            60,
            28,
            92,
            107,
            37,
            0,
            188,
            57,
            84,
            63,
            0,
            33,
            87,
            54,
            29,
            56,
            0,
            65,
            130,
            44,
            50,
            133,
            8,
            27,
            58,
            121,
            75,
            52,
            26,
            83,
            72,
            39,
            176,
            161,
            42,
            0,
            267,
            67,
            70,
            144,
            152,
            201,
            0,
            34,
            79,
            170,
            0,
            139,
            51,
            77,
            0,
            200,
            132,
            0,
            78,
            270,
            73,
            112,
            104,
            21,
            40,
            124,
            134,
            0,
            0,
            0,
            243,
            140,
            249,
            53,
            156,
            103,
            82,
            88,
            99,
            178,
            86,
            101,
            135,
            59,
            0,
            0,
            0,
            126,
            0,
            196,
            115,
            164,
            0,
            80,
            141,
            100,
            0,
            159,
            0,
            0,
            49,
            97,
            160,
            43,
            106,
            187,
            260,
            182,
            155,
            95,
            186,
            94,
            0,
            0,
            240,
            199,
            0,
            151,
            165,
            0,
            145,
            90,
            0,
            0,
            0,
            0,
            282,
            91,
            0,
            0,
            74,
            0,
            119,
            146,
            76,
            0,
            0,
            0,
            250,
            230,
            0,
            69,
            231,
            61,
            0,
            0,
            209,
            153,
            0,
            0,
            0,
            266,
            183,
            0,
            206,
            0,
            0,
            136,
            0,
            0,
            0,
            179,
            190,
            120,
            114,
            0,
            147,
            236,
            0,
            214,
            195,
            0,
            0,
            123,
            116,
            0,
            0,
            0,
            166,
            0,
            142,
            181,
            207,
            0,
            0,
            0,
            131,
            0,
            32,
            222,
            0,
            234,
            0,
            0,
            0,
            89,
            167,
            143,
            0,
            174,
            0,
            0,
            81,
            0,
            48,
            279,
            0,
            0,
            0,
            0,
            0,
            0,
            246,
            96,
            220,
            198,
            0,
            213,
            110,
            0,
            0,
            148,
            0,
            0,
            0,
            194,
            127,
            0,
            0,
            0,
            122,
            0,
            0,
            0,
            0,
            0,
            244,
            0,
            217,
            0,
            208,
            237,
            118,
            0,
            171,
            0,
            150,
            193,
            177,
            173,
            0,
            0,
            0,
            0,
            0,
            0,
            0,
            0,
            0,
            0,
            0,
            105,
            0,
            0,
            0,
            0,
            85,
            184,
            0,
            0,
            0,
            271,
            157,
            167,
            0,
            0,
            220,
            0,
            0,
            0,
            0,
            0,
            0,
            0,
            0,
            0,
            0,
            0,
            0,
            0,
            216,
            0,
            261,
            264,
            204,
            0,
            0,
            0,
            0,
            0,
            0,
            0,
            0,
            273,
            0,
            0,
            0,
            0,
            0,
            0,
            0,
            0,
            0,
            0,
            0,
            0,
            0,
            0,
            0,
            228,
            0,
            0,
            0,
            0,
            0,
            0,
            0,
            0,
            205,
            226,
            0,
            229,
            0,
            273,
            138,
            0,
            0,
            0,
            0,
            0,
            0,
            0,
            0,
            0,
            0,
            0,
            0,
            0,
            0,
            0,
            0,
            93,
            0,
            0,
            185,
            0,
            0,
            0,
            0,
            0,
            0,
            0,
            0,
            0,
            0,
            0,
            252,
            0,
            0,
            0,
            0,
            0,
            0,
            0,
            0,
            0,
            0,
            0,
            0,
            0,
            0,
            0,
            0,
            0,
            0,
            0,
            0,
            0,
            0,
            0,
            215,
            0,
            0,
            0,
            0,
            0,
            0,
            0,
            0,
            0,
            0,
            0,
            0,
            0,
            0,
            0,
            0,
            0,
            0,
            0,
            0,
            0,
            0,
            0,
            0,
            0,
            0,
            0,
            0,
            0,
            0,
            0,
            0,
            269,
            0,
            0,
            0,
            0,
            190,
            0,
            0,
            0,
            0,
            256,
            0,
            259,
            0,
            0,
            0,
            242,
            0,
            0,
            0,
            0,
            0,
            0,
            0,
            0,
            0,
            0,
            0,
            0,
            0,
            0,
            0,
            0,
            0,
            0,
            0,
            0,
            0,
            0,
            0,
            0,
            0,
            0,
            0,
            0,
            0,
            0,
            0,
            0,
            0,
            0,
            0,
            278,
            0,
            0,
            0,
            0,
            0,
            0,
            238,
            0,
            0,
            0,
            0,
            275,
            0,
            0,
            0,
            0,
            0,
            0,
            0,
            0,
            0,
            0,
            137,
            0,
            0,
            0,
            0,
            0,
            0,
            0,
            0,
            0,
            210,
            0,
            0,
            0,
            0,
            0,
            245,
            0,
            0,
            223,
            0,
            0,
            0,
            0,
            0,
            0,
            0,
            0,
            0,
            0,
            248,
            0,
            0,
            0,
            0,
            0,
            0,
            0,
            0,
            0,
            0,
            0,
            265,
            0,
            0,
            0,
            0,
            0,
            0,
            0,
            0,
            0,
            0,
            0,
            0,
            0,
            0,
            0,
            0,
            0,
            0,
            162,
            0,
            0,
            0,
            0,
            0,
            0,
            0,
            0,
            0,
            0,
            0,
            0,
            0,
            0,
            0,
            0,
            0,
            0,
            0,
            0,
            0,
            0,
            0,
            0,
            0,
            0,
            0,
            0,
            0,
            0,
            0,
            0,
            0,
            0,
            0,
            0,
            0,
            0,
            0,
            0,
            227,
            0,
            0,
            0,
            0,
            0,
            0,
            0,
            0,
            279,
            0,
            0,
            0,
            0,
            0,
            0,
            0,
            0,
            0,
            0,
            0,
            0,
            0,
            0,
            0,
            0,
            0,
            0,
            0,
            0,
            0,
            0,
            0,
            0,
            0,
            0,
            0,
            0,
            0,
            0,
            0,
            0,
            0,
            0,
            0,
            0,
            0,
            0,
            0,
            0,
            0,
            0,
            0,
            0,
            0,
            125,
            0,
            0,
            0,
            0,
            68,
            0,
            0,
            0,
            0,
            0,
            158,
            0,
            0,
            0,
            0,
            0,
            102,
            197,
            0,
            0,
            0,
            0,
            0,
            0,
            0,
            0,
            0,
            0,
            0,
            0,
            0,
            0,
            0,
            0,
            0,
            0,
            0,
            0,
            0,
            0,
            0,
            192,
            0,
            0,
            0,
            0,
            0,
            0,
            0,
            0,
            0,
            0,
            0,
            0,
            0,
            0,
            175,
            0,
            0,
            0,
            0,
            0,
            0,
            0,
            0,
            0,
            0,
            0,
            0,
            0,
            0,
            0,
            254,
            0,
            0,
            0,
            0,
            0,
            0,
            0,
            0,
            0,
            128,
            0,
            0,
            0,
            0,
            0,
            0,
            0,
            0,
            0,
            0,
            0,
            0,
            0,
            0,
            0,
            0,
            0,
            0,
            239,
            0,
            0,
            0,
            0,
            0,
            0,
            0,
            0,
            0,
            0,
            0,
            0,
            0,
            258,
            0,
            0,
            0,
            0,
            0,
            0,
            0,
            148,
            0,
            0,
            0,
            0,
            0,
            0,
            0,
            0,
            0,
            0,
            0,
            0,
            0,
            0,
            0,
            0,
            0,
            0,
            0,
            0,
            0,
            0,
            0,
            0,
            0,
            0,
            0,
            0,
            0,
            0,
            0,
            0,
            0,
            0,
            0,
            0,
            0,
            0,
            0,
            0,
            0,
            0,
            0,
            0,
            0,
            0,
            0,
            189,
            0,
            0,
            0,
            0,
            0,
            0,
            0,
            263,
            0,
            0,
            0,
            0,
            98,
            0,
            0,
            0,
            0,
            0,
            0,
            0,
            0,
            0,
            0,
            0,
            0,
            0,
            0,
            0,
            0,
            0,
            0,
            0,
            0,
            0,
            0,
            0,
            0,
            0,
            0,
            0,
            0,
            0,
            0,
            218,
            0,
            0,
            0,
            0,
            0,
            0,
            0,
            0,
            0,
            0,
            0,
            0,
            0,
            0,
            107,
            0,
            0,
            117,
            0,
            0,
            0,
            0,
            0,
            0,
            0,
            0,
            0,
            0,
            0,
            0,
            0,
            0,
            0,
            38,
            0,
            0,
            0,
            0,
            0,
            0,
            0,
            0,
            0,
            0,
            0,
            0,
            0,
            0,
            0,
            0,
            0,
            0,
            0,
            0,
            0,
            0,
            0,
            0,
            0,
            0,
            0,
            0,
            0,
            0,
            0,
            0,
            0,
            0,
            0,
            0,
            0,
            0,
            0,
            0,
            0,
            0,
            0,
            0,
            0,
            0,
            0,
            0,
            0,
            0,
            0,
            0,
            0,
            0,
            0,
            0,
            0,
            0,
            0,
            0,
            0,
            0,
            0,
            107,
            0,
            0,
            0,
            0,
            0,
            0,
            0,
            0,
            0,
            0,
            0,
            0,
            0,
            0,
            0,
            0,
            0,
            224,
            0,
            0,
            0,
            0,
            0,
            276,
            0,
            0,
            0,
            0,
            0,
            0,
            172,
            0,
            0,
            0,
            0,
            0,
            0,
            0,
            0,
            0,
            0,
            0,
            0,
            0,
            0,
            0,
            0,
            0,
            0,
            0,
            235,
            202,
            219,
            0,
            0,
            0,
            0,
            0,
            0,
            0,
            0,
            0,
            0,
            0,
            0,
            0,
            0,
            0,
            0,
            0,
            0,
            0,
            0,
            0,
            0,
            0,
            0,
            0,
            0,
            0,
            0,
            0,
            0,
            0,
            0,
            0,
            0,
            0,
            0,
            0,
            0,
            0,
            0,
            0,
            0,
            0,
            0,
            0,
            0,
            0,
            0,
            0,
            0,
            0,
            0,
            0,
            0,
            0,
            0,
            0,
            0,
            0,
            0,
            0,
            0,
            0,
            0,
            0,
            0,
            0,
            0,
            0,
            0,
            0,
            0,
            0,
            0,
            0,
            255,
            0,
            0,
            0,
            0,
            0,
            0,
            0,
            0,
            0,
            0,
            0,
            0,
            0,
            0,
            0,
            0,
            0,
            0,
            0,
            0,
            0,
            0,
            0,
            0,
            0,
            0,
            0,
            0,
            0,
            0,
            0,
            0,
            0,
            0,
            0,
            0,
            0,
            0,
            0,
            0,
            0,
            0,
            0,
            0,
            0,
            0,
            0,
            0,
            0,
            0,
            0,
            0,
            0,
            0,
            0,
            0,
            0,
            0,
            0,
            0,
            0,
            0,
            0,
            0,
            0,
            0,
            0,
            0,
            0,
            0,
            0,
            0,
            0,
            0,
            0,
            0,
            0,
            0,
            0,
            0,
            0,
            0,
            0,
            0,
            0,
            0,
            0,
            0,
            0,
            0,
            0,
            0,
            0,
            0,
            0,
            0,
            0,
            0,
            0,
            0,
            0,
            0,
            0,
            0,
            0,
            0,
            0,
            0,
            0,
            0,
            0,
            0,
            0,
            0,
            0,
            0,
            0,
            0,
            0,
            0,
            0,
            0,
            0,
            0,
            0,
            0,
            0,
            0,
            0,
            0,
            0,
            0,
            0,
            0,
            0,
            0,
            0,
            0,
            0,
            0,
            0,
            0,
            0,
            0,
            0,
            0,
            0,
            0,
            0,
            0,
            0,
            0,
            0,
            0,
            0,
            0,
            0,
            0,
            0,
            0,
            0,
            0,
            0,
            0,
            0,
            0,
            0,
            0,
            0,
            0,
            0,
            0,
            0,
            0,
            0,
            0,
            0,
            0,
            0,
            0,
            0,
            0,
            0,
            0,
            0,
            0,
            0,
            0,
            0,
            0,
            0,
            0,
            0,
            0,
            0,
            0,
            0,
            0,
            0,
            0,
            0,
            0,
            0,
            0,
            0,
            0,
            0,
            0,
            257,
            0,
            0,
            0,
            0,
            0,
            0,
            0,
            0,
            0,
            0,
            0,
            0,
            0,
            0,
            0,
            0,
            0,
            66,
            0,
            0,
            0,
            0,
            0,
            0,
            0,
            0,
            0,
            0,
            0,
            0,
            0,
            0,
            0,
            0,
            0,
            0,
            0,
            0,
            0,
            0,
            0,
            0,
            0,
            0,
            0,
            0,
            0,
            0,
            0,
            0,
            0,
            0,
            0,
            0,
            0,
            0,
            0,
            0,
            0,
            0,
            0,
            0,
            0,
            0,
            0,
            0,
            0,
            0,
            0,
            0,
            0,
            0,
            0,
            0,
            0,
            0,
            0,
            0,
            0,
            0,
            0,
            0,
            0,
            0,
            0,
            0,
            0,
            0,
            0,
            0,
            0,
            0,
            0,
            0,
            0,
            0,
            0,
            0,
            0,
            0,
            0,
            0,
            0,
            0,
            0,
            0,
            0,
            0,
            0,
            0,
            0,
            0,
            0,
            0,
            0,
            0,
            0,
            0,
            0,
            0,
            0,
            0,
            0,
            0,
            0,
            0,
            0,
            0,
            0,
            0,
            0,
            0,
            0,
            0,
            0,
            0,
            0,
            0,
            0,
            0,
            0,
            0,
            0,
            0,
            0,
            0,
            0,
            0,
            0,
            0,
            0,
            0,
            0,
            0,
            0,
            0,
            0,
            0,
            0,
            0,
            0,
            0,
            0,
            0,
            0,
            0,
            0,
            0,
            0,
            0,
            0,
            0,
            0,
            0,
            0,
            0,
            0,
            0,
            0,
            0,
            0,
            0,
            0,
            0,
            0,
            0,
            0,
            0,
            0,
            0,
            0,
            0,
            0,
            0,
            0,
            247,
            0,
            0,
            0,
            0,
            0,
            0,
            0,
            0,
            0,
            0,
            0,
            0,
            0,
            0,
            0,
            0,
            0,
            0,
            0,
            0,
            0,
            0,
            0,
            0,
            0,
            0,
            0,
            0,
            268,
            0,
            0,
            0,
            0,
            0,
            0,
            0,
            0,
            212,
            0,
            0,
            0,
            0,
            0,
            0,
            0,
            0,
            0,
            0,
            0,
            0,
            0,
            0,
            0,
            0,
            0,
            0,
            0,
            0,
            0,
            0,
            0,
            0,
            0,
            0,
            0,
            0,
            0,
            0,
            0,
            211,
            0,
            0,
            0,
            0,
            0,
            0,
            0,
            0,
            0,
            0,
            0,
            0,
            0,
            0,
            0,
            0,
            0,
            0,
            0,
            0,
            0,
            0,
            0,
            0,
            0,
            0,
            0,
            0,
            0,
            0,
            0,
            0,
            0,
            0,
            0,
            0,
            0,
            0,
            0,
            0,
            0,
            0,
            0,
            0,
            0,
            0,
            0,
            0,
            0,
            0,
            0,
            276,
            0,
            231,
            0,
            0,
            0,
            0,
            0,
            0,
            0,
            0,
            0,
            0,
            0,
            0,
            0,
            0,
            0,
            0,
            0,
            0,
            0,
            0,
            261,
            0,
            0,
            0,
            0,
            0,
            0,
            0,
            0,
            0,
            0,
            0,
            0,
            0,
            0,
            0,
            0,
            0,
            0,
            0,
            0,
            0,
            0,
            0,
            0,
            0,
            0,
            0,
            0,
            0,
            0,
            0,
            0,
            0,
            0,
            0,
            0,
            0,
            0,
            0,
            0,
            0,
            0,
            0,
            0,
            0,
            0,
            0,
            0,
            0,
            0,
            0,
            272,
            0,
            0,
            0,
            0,
            0,
            0,
            0,
            0,
            0,
            0,
            0,
            0,
            0,
            0,
            0,
            0,
            0,
            0,
            0,
            0,
            0,
            0,
            0,
            0,
            0,
            0,
            0,
            0,
            0,
            0,
            0,
            0,
            0,
            0,
            0,
            0,
            0,
            0,
            0,
            0,
            0,
            0,
            0,
            0,
            0,
            0,
            0,
            0,
            0,
            0,
            0,
            0,
            0,
            0,
            0,
            0,
            0,
            0,
            0,
            0,
            0,
            0,
            0,
            0,
            0,
            0,
            0,
            0,
            0,
            0,
            0,
            0,
            0,
            0,
            0,
            0,
            0,
            0,
            0,
            0,
            0,
            0,
            0,
            0,
            0,
            0,
            0,
            0,
            0,
            0,
            0,
            0,
            0,
            0,
            0,
            0,
            0,
            0,
            0,
            0,
            0,
            0,
            0,
            0,
            0,
            0,
            0,
            0,
            0,
            0,
            0,
            0,
            0,
            0,
            0,
            0,
            0,
            0,
            0,
            0,
            0,
            0,
            0,
            0,
            0,
            0,
            0,
            0,
            0,
            0,
            0,
            0,
            0,
            0,
            0,
            0,
            0,
            0,
            0,
            0,
            0,
            0,
            0,
            0,
            0,
            0,
            0,
            0,
            0,
            0,
            251,
            0,
            0,
            0,
            0,
            0,
            0,
            0,
            0,
            0,
            0,
            0,
            0,
            0,
            0,
            0,
            0,
            0,
            0,
            0,
            0,
            0,
            0,
            0,
            0,
            0,
            0,
            0,
            0,
            0,
            0,
            0,
            0,
            0,
            0,
            0,
            0,
            0,
            0,
            0,
            0,
            0,
            0,
            0,
            0,
            0,
            0,
            0,
            0,
            0,
            0,
            0,
            0,
            0,
            0,
            0,
            0,
            0,
            0,
            0,
            0,
            0,
            0,
            0,
            0,
            128,
            0,
            0,
            0,
            0,
            0,
            0,
            0,
            0,
            0,
            0,
            0,
            0,
            0,
            0,
            0,
            0,
            0,
            0,
            0,
            0,
            0,
            0,
            0,
            0,
            0,
            0,
            0,
            0,
            0,
            0,
            0,
            0,
            0,
            0,
            0,
            0,
            0,
            0,
            0,
            0,
            0,
            0,
            0,
            0,
            0,
            0,
            0,
            0,
            0
           ]
          },
          {
           "axis": {
            "matches": true
           },
           "label": "Research Rank",
           "values": [
            1,
            9,
            2,
            11,
            4,
            82,
            28,
            13,
            12,
            21,
            83,
            16,
            30,
            23,
            31,
            7,
            8,
            15,
            5,
            24,
            91,
            74,
            3,
            46,
            10,
            45,
            79,
            41,
            18,
            42,
            57,
            14,
            22,
            63,
            26,
            27,
            39,
            62,
            17,
            53,
            19,
            286,
            48,
            20,
            370,
            52,
            34,
            49,
            25,
            56,
            35,
            54,
            75,
            55,
            6,
            71,
            33,
            76,
            69,
            40,
            460,
            95,
            72,
            138,
            114,
            97,
            115,
            60,
            85,
            195,
            137,
            43,
            167,
            29,
            38,
            88,
            105,
            77,
            68,
            44,
            37,
            110,
            94,
            103,
            32,
            65,
            289,
            100,
            59,
            80,
            185,
            36,
            99,
            89,
            107,
            124,
            162,
            156,
            223,
            147,
            87,
            134,
            397,
            64,
            47,
            81,
            50,
            139,
            78,
            132,
            164,
            98,
            154,
            119,
            145,
            106,
            111,
            210,
            58,
            1710,
            51,
            101,
            61,
            86,
            117,
            93,
            73,
            140,
            123,
            166,
            70,
            126,
            66,
            67,
            209,
            151,
            121,
            205,
            144,
            238,
            96,
            170,
            175,
            150,
            149,
            183,
            90,
            84,
            104,
            128,
            113,
            146,
            271,
            122,
            172,
            187,
            92,
            120,
            171,
            141,
            102,
            191,
            133,
            108,
            282,
            109,
            269,
            176,
            226,
            116,
            112,
            118,
            130,
            142,
            148,
            266,
            174,
            256,
            201,
            125,
            159,
            225,
            300,
            129,
            127,
            143,
            196,
            215,
            169,
            131,
            135,
            211,
            136,
            153,
            152,
            192,
            189,
            241,
            233,
            165,
            217,
            173,
            161,
            212,
            194,
            160,
            155,
            235,
            253,
            207,
            0,
            158,
            229,
            181,
            237,
            214,
            227,
            168,
            157,
            517,
            247,
            163,
            358,
            208,
            343,
            216,
            179,
            221,
            178,
            322,
            268,
            259,
            177,
            252,
            180,
            206,
            354,
            182,
            663,
            188,
            200,
            199,
            184,
            193,
            186,
            236,
            301,
            296,
            272,
            274,
            190,
            240,
            407,
            197,
            204,
            275,
            198,
            202,
            203,
            257,
            344,
            334,
            219,
            213,
            312,
            224,
            245,
            222,
            218,
            231,
            254,
            220,
            277,
            0,
            280,
            261,
            558,
            228,
            297,
            0,
            315,
            308,
            306,
            360,
            230,
            232,
            283,
            258,
            234,
            335,
            239,
            248,
            242,
            244,
            250,
            381,
            243,
            249,
            260,
            246,
            396,
            319,
            251,
            255,
            262,
            273,
            356,
            357,
            263,
            270,
            305,
            291,
            264,
            265,
            267,
            276,
            295,
            278,
            290,
            284,
            279,
            281,
            326,
            287,
            359,
            285,
            435,
            311,
            366,
            288,
            294,
            949,
            292,
            293,
            314,
            298,
            299,
            316,
            302,
            303,
            313,
            304,
            697,
            307,
            324,
            323,
            310,
            331,
            309,
            350,
            318,
            332,
            325,
            369,
            336,
            320,
            317,
            321,
            361,
            327,
            389,
            328,
            401,
            414,
            329,
            388,
            330,
            346,
            449,
            333,
            337,
            340,
            338,
            345,
            339,
            351,
            342,
            341,
            347,
            353,
            348,
            352,
            349,
            375,
            368,
            530,
            355,
            364,
            452,
            400,
            362,
            390,
            363,
            376,
            365,
            367,
            371,
            374,
            373,
            372,
            420,
            377,
            380,
            378,
            392,
            0,
            379,
            850,
            383,
            382,
            384,
            393,
            385,
            386,
            387,
            391,
            399,
            394,
            0,
            395,
            415,
            398,
            410,
            402,
            482,
            403,
            404,
            405,
            406,
            408,
            409,
            412,
            411,
            413,
            417,
            423,
            416,
            422,
            421,
            418,
            419,
            427,
            428,
            437,
            424,
            433,
            425,
            426,
            459,
            462,
            444,
            429,
            0,
            457,
            432,
            430,
            431,
            1968,
            436,
            434,
            440,
            544,
            547,
            446,
            438,
            479,
            439,
            472,
            441,
            574,
            442,
            443,
            525,
            499,
            456,
            445,
            447,
            469,
            448,
            451,
            450,
            454,
            455,
            474,
            453,
            458,
            461,
            789,
            0,
            463,
            464,
            465,
            486,
            473,
            466,
            468,
            467,
            535,
            470,
            480,
            496,
            471,
            484,
            475,
            478,
            495,
            476,
            483,
            477,
            521,
            481,
            503,
            485,
            487,
            488,
            489,
            564,
            491,
            490,
            494,
            492,
            518,
            493,
            497,
            498,
            502,
            514,
            500,
            501,
            504,
            505,
            512,
            731,
            510,
            506,
            621,
            507,
            508,
            509,
            511,
            534,
            513,
            594,
            515,
            516,
            524,
            519,
            520,
            639,
            522,
            523,
            600,
            561,
            562,
            745,
            566,
            533,
            527,
            539,
            526,
            528,
            541,
            593,
            576,
            532,
            529,
            531,
            536,
            537,
            603,
            540,
            538,
            725,
            542,
            1019,
            543,
            552,
            548,
            545,
            546,
            551,
            549,
            550,
            563,
            553,
            554,
            555,
            0,
            557,
            556,
            559,
            560,
            582,
            724,
            565,
            570,
            567,
            586,
            568,
            569,
            571,
            573,
            572,
            575,
            672,
            579,
            699,
            577,
            578,
            580,
            581,
            853,
            583,
            1561,
            584,
            585,
            587,
            591,
            602,
            613,
            648,
            588,
            609,
            592,
            590,
            589,
            632,
            595,
            596,
            608,
            597,
            598,
            599,
            0,
            1079,
            601,
            607,
            604,
            605,
            606,
            610,
            782,
            611,
            627,
            612,
            614,
            615,
            620,
            616,
            617,
            619,
            618,
            622,
            642,
            636,
            623,
            792,
            624,
            625,
            628,
            626,
            629,
            630,
            631,
            635,
            633,
            640,
            653,
            634,
            637,
            638,
            641,
            643,
            667,
            644,
            645,
            654,
            664,
            646,
            647,
            691,
            649,
            651,
            650,
            652,
            655,
            656,
            671,
            730,
            905,
            660,
            657,
            658,
            659,
            0,
            661,
            670,
            662,
            665,
            683,
            919,
            0,
            666,
            674,
            668,
            669,
            959,
            802,
            673,
            677,
            676,
            675,
            682,
            768,
            684,
            679,
            678,
            681,
            680,
            694,
            702,
            688,
            690,
            687,
            0,
            710,
            685,
            686,
            689,
            698,
            692,
            837,
            693,
            695,
            703,
            696,
            717,
            758,
            700,
            701,
            704,
            716,
            705,
            706,
            707,
            726,
            902,
            752,
            708,
            709,
            711,
            721,
            712,
            713,
            714,
            719,
            715,
            718,
            728,
            720,
            722,
            723,
            821,
            727,
            729,
            732,
            739,
            736,
            735,
            733,
            734,
            737,
            1005,
            738,
            743,
            740,
            741,
            742,
            749,
            744,
            761,
            748,
            746,
            747,
            750,
            751,
            770,
            0,
            753,
            754,
            755,
            849,
            759,
            756,
            757,
            760,
            764,
            762,
            763,
            767,
            765,
            0,
            778,
            766,
            775,
            835,
            773,
            769,
            771,
            772,
            777,
            774,
            776,
            1031,
            779,
            780,
            781,
            793,
            783,
            784,
            785,
            794,
            832,
            786,
            810,
            787,
            791,
            788,
            796,
            790,
            830,
            1021,
            795,
            797,
            798,
            799,
            800,
            884,
            801,
            803,
            804,
            812,
            805,
            1698,
            806,
            807,
            809,
            813,
            808,
            811,
            814,
            1022,
            815,
            816,
            817,
            818,
            822,
            819,
            820,
            865,
            838,
            988,
            823,
            827,
            824,
            825,
            826,
            828,
            829,
            888,
            834,
            831,
            0,
            833,
            1274,
            836,
            839,
            840,
            841,
            842,
            845,
            863,
            843,
            844,
            846,
            848,
            847,
            1013,
            946,
            876,
            851,
            852,
            869,
            855,
            854,
            856,
            857,
            858,
            859,
            860,
            861,
            862,
            864,
            878,
            866,
            1016,
            867,
            868,
            870,
            875,
            885,
            873,
            871,
            0,
            872,
            874,
            877,
            894,
            879,
            899,
            1357,
            880,
            881,
            1321,
            883,
            882,
            926,
            1630,
            886,
            887,
            889,
            890,
            901,
            891,
            892,
            893,
            895,
            896,
            897,
            0,
            898,
            900,
            0,
            928,
            943,
            903,
            936,
            904,
            906,
            907,
            933,
            947,
            908,
            909,
            910,
            912,
            911,
            935,
            918,
            913,
            914,
            915,
            929,
            916,
            1961,
            917,
            927,
            924,
            920,
            921,
            922,
            923,
            925,
            930,
            0,
            931,
            932,
            934,
            937,
            938,
            939,
            942,
            940,
            941,
            944,
            945,
            970,
            956,
            948,
            1052,
            0,
            950,
            1296,
            951,
            952,
            953,
            1196,
            954,
            0,
            955,
            957,
            0,
            958,
            1527,
            961,
            964,
            962,
            960,
            1003,
            963,
            965,
            966,
            967,
            968,
            969,
            971,
            972,
            973,
            974,
            975,
            976,
            0,
            977,
            984,
            978,
            979,
            981,
            0,
            986,
            980,
            985,
            993,
            982,
            983,
            0,
            987,
            991,
            989,
            990,
            1004,
            994,
            992,
            998,
            995,
            996,
            1065,
            997,
            999,
            1007,
            1000,
            1001,
            1006,
            1142,
            1002,
            1176,
            1264,
            0,
            1008,
            1009,
            1011,
            1010,
            1012,
            1014,
            1017,
            1015,
            1238,
            1113,
            1018,
            1020,
            1035,
            1037,
            1023,
            1024,
            1026,
            1025,
            1034,
            1027,
            1028,
            1066,
            1036,
            1029,
            1030,
            1032,
            1033,
            1042,
            1038,
            1039,
            1040,
            1041,
            1064,
            1053,
            1056,
            1048,
            1043,
            1044,
            1057,
            1045,
            1061,
            1047,
            1046,
            1049,
            1050,
            1051,
            1054,
            1173,
            1059,
            1055,
            1058,
            1060,
            1062,
            1063,
            1759,
            1081,
            1067,
            1068,
            1069,
            1072,
            1070,
            1071,
            1082,
            1073,
            1074,
            1075,
            1139,
            1076,
            1077,
            1078,
            1086,
            1080,
            1146,
            1083,
            1084,
            1211,
            1085,
            1087,
            1443,
            1088,
            1089,
            1090,
            1091,
            1289,
            1092,
            1093,
            1095,
            1094,
            1096,
            1097,
            1098,
            1099,
            1100,
            1850,
            1101,
            1199,
            1102,
            1104,
            1103,
            1105,
            1106,
            1107,
            1108,
            1109,
            1110,
            1111,
            1126,
            1112,
            1114,
            1129,
            1115,
            1116,
            0,
            1127,
            1117,
            1118,
            1119,
            1121,
            1120,
            1122,
            1123,
            1124,
            1125,
            1128,
            1130,
            1393,
            1131,
            1132,
            1133,
            1136,
            1134,
            1135,
            1137,
            1138,
            1140,
            1141,
            1158,
            1143,
            1148,
            1151,
            1144,
            1145,
            1147,
            1149,
            1618,
            1150,
            1152,
            1153,
            1154,
            1155,
            1156,
            1157,
            1159,
            1160,
            1161,
            1162,
            1163,
            1166,
            1164,
            1165,
            1167,
            1168,
            1169,
            1170,
            1171,
            1172,
            1174,
            1175,
            1204,
            1177,
            1178,
            1179,
            1189,
            1180,
            1181,
            1183,
            0,
            1182,
            1184,
            1185,
            1186,
            1187,
            1188,
            1193,
            1190,
            1191,
            1192,
            1207,
            1195,
            1194,
            1201,
            1243,
            1202,
            1197,
            1350,
            1198,
            1200,
            1203,
            1205,
            1206,
            1208,
            1356,
            1258,
            0,
            1209,
            1210,
            1369,
            1212,
            1213,
            1214,
            1215,
            1216,
            1217,
            1218,
            1219,
            1223,
            1220,
            1222,
            1221,
            0,
            1226,
            1247,
            1224,
            1225,
            1227,
            1228,
            1229,
            1232,
            1230,
            1231,
            1233,
            1234,
            1235,
            1236,
            1237,
            1239,
            1240,
            1302,
            1241,
            1242,
            1244,
            1245,
            1257,
            1246,
            1248,
            1287,
            1249,
            1250,
            1254,
            1251,
            1252,
            1253,
            1256,
            1255,
            1261,
            1328,
            1259,
            1260,
            1262,
            1263,
            1265,
            1267,
            1266,
            1285,
            1268,
            1269,
            1270,
            1271,
            1272,
            1273,
            1275,
            1277,
            1276,
            1280,
            1278,
            1279,
            1281,
            1282,
            1283,
            1284,
            1291,
            0,
            1294,
            1383,
            1433,
            1290,
            1286,
            1288,
            1292,
            1301,
            1293,
            1317,
            1295,
            1299,
            1297,
            1314,
            0,
            0,
            1298,
            1300,
            1311,
            1303,
            0,
            1304,
            1305,
            0,
            1306,
            1386,
            1307,
            1313,
            1308,
            1309,
            1310,
            1312,
            1573,
            1315,
            1316,
            0,
            1318,
            1319,
            1320,
            1347,
            1511,
            1348,
            1322,
            1323,
            1324,
            1325,
            1327,
            1326,
            1333,
            1329,
            1330,
            1331,
            1332,
            1669,
            1334,
            1335,
            1336,
            1364,
            1342,
            1337,
            1338,
            1339,
            1340,
            1341,
            1343,
            1472,
            1394,
            1344,
            1876,
            0,
            1345,
            1346,
            1349,
            1351,
            1362,
            1353,
            1352,
            1354,
            1355,
            1407,
            1359,
            1358,
            1360,
            1361,
            1363,
            1365,
            1366,
            1367,
            1368,
            1429,
            1370,
            1371,
            1412,
            1372,
            1373,
            1374,
            1375,
            1398,
            1376,
            1377,
            1378,
            1379,
            1380,
            1381,
            0,
            1382,
            1384,
            1385,
            1387,
            1388,
            1391,
            1389,
            1390,
            1392,
            1404,
            1395,
            1399,
            1396,
            1397,
            1400,
            1401,
            1402,
            1403,
            1405,
            1406,
            1408,
            1409,
            1410,
            1418,
            1796,
            1411,
            1902,
            1413,
            1414,
            1415,
            0,
            1416,
            1454,
            1417,
            1419,
            1420,
            1421,
            1422,
            1423,
            1424,
            1469,
            0,
            1425,
            1432,
            1476,
            1426,
            1431,
            1427,
            1428,
            1434,
            1430,
            1772,
            1437,
            1473,
            1435,
            1436,
            1438,
            1466,
            1439,
            1865,
            1440,
            1441,
            1442,
            1444,
            1445,
            1456,
            1446,
            1447,
            1448,
            1449,
            0,
            1450,
            1451,
            1453,
            1452,
            1455,
            1457,
            1458,
            1478,
            1459,
            1460,
            1461,
            1481,
            1462,
            1463,
            1468,
            0,
            1972,
            1464,
            1465,
            1467,
            1470,
            1471,
            1701,
            1474,
            1475,
            1477,
            1479,
            1480,
            1524,
            1482,
            1483,
            1484,
            1485,
            1487,
            1486,
            1488,
            1489,
            1490,
            1492,
            1491,
            1493,
            1494,
            1495,
            1496,
            1497,
            1498,
            1499,
            1500,
            1502,
            1501,
            1503,
            1677,
            1512,
            1504,
            1505,
            1506,
            1508,
            1507,
            1981,
            1509,
            1977,
            1510,
            1513,
            1659,
            1514,
            1515,
            1516,
            1517,
            1518,
            1519,
            1520,
            1753,
            1521,
            1522,
            1530,
            1523,
            1525,
            1526,
            1528,
            1529,
            1550,
            0,
            1531,
            1532,
            1623,
            1535,
            1533,
            1534,
            1536,
            1537,
            1538,
            1539,
            0,
            1540,
            1543,
            1541,
            1542,
            1544,
            1553,
            1545,
            1546,
            1547,
            1548,
            1549,
            1551,
            1552,
            1554,
            1627,
            1612,
            1555,
            1556,
            1557,
            1558,
            1559,
            1560,
            1604,
            1562,
            1563,
            1564,
            1565,
            1566,
            1567,
            1568,
            1584,
            1569,
            1570,
            1571,
            1577,
            1572,
            1574,
            1575,
            1576,
            1590,
            1578,
            1579,
            1587,
            1696,
            1580,
            1581,
            1582,
            1583,
            1644,
            1585,
            1586,
            1707,
            1588,
            0,
            1589,
            1591,
            1595,
            1592,
            1593,
            1594,
            1596,
            1597,
            1598,
            1599,
            1603,
            1600,
            1601,
            1602,
            0,
            1605,
            1606,
            1607,
            1608,
            1609,
            1909,
            1610,
            1611,
            1709,
            1619,
            1613,
            1614,
            1615,
            1658,
            1616,
            1617,
            1672,
            1620,
            1621,
            1622,
            1624,
            1625,
            1626,
            1628,
            1629,
            0,
            1631,
            1632,
            1633,
            1634,
            1635,
            0,
            1637,
            1636,
            1638,
            1639,
            1640,
            1641,
            1722,
            1642,
            1643,
            1647,
            1705,
            1655,
            1645,
            1646,
            1648,
            1649,
            1650,
            1660,
            1651,
            1652,
            1653,
            1654,
            0,
            1656,
            1657,
            1780,
            1679,
            1661,
            1662,
            1663,
            1664,
            1665,
            1666,
            1667,
            1668,
            1670,
            1671,
            1673,
            1674,
            1675,
            1676,
            1678,
            0,
            1680,
            1681,
            1682,
            1683,
            1691,
            1684,
            1685,
            1686,
            1687,
            1688,
            1689,
            1690,
            1712,
            1692,
            1693,
            1694,
            1695,
            1773,
            1697,
            1699,
            1785,
            1700,
            1725,
            1704,
            1702,
            1703,
            1706,
            1708,
            1774,
            1711,
            1713,
            1714,
            1715,
            1716,
            1717,
            0,
            1718,
            0,
            1719,
            1720,
            1721,
            1723,
            1724,
            1729,
            1726,
            1727,
            1728,
            1730,
            1731,
            1732,
            1733,
            1779,
            1734,
            1735,
            1976,
            1742,
            1736,
            1973,
            1737,
            1738,
            1739,
            1741,
            1740,
            1743,
            1744,
            1745,
            1746,
            1747,
            1748,
            1749,
            1750,
            1751,
            1752,
            1754,
            1755,
            1756,
            1757,
            1758,
            1760,
            1761,
            1764,
            1762,
            1763,
            1768,
            1765,
            1766,
            1767,
            1769,
            1770,
            0,
            0,
            1771,
            1775,
            1789,
            1776,
            1777,
            1778,
            1781,
            0,
            1782,
            1783,
            1784,
            1786,
            1787,
            1788,
            0,
            1833,
            1790,
            1791,
            1792,
            1793,
            1794,
            1795,
            1840,
            1797,
            1803,
            1798,
            1799,
            1834,
            1828,
            1800,
            1801,
            1802,
            0,
            1804,
            1805,
            1806,
            1807,
            1810,
            1808,
            1815,
            1809,
            1811,
            0,
            1813,
            1812,
            1814,
            0,
            1816,
            1817,
            1818,
            1900,
            1819,
            1820,
            1821,
            0,
            1822,
            1823,
            1824,
            1825,
            1826,
            1827,
            1921,
            1829,
            1830,
            1831,
            1832,
            0,
            1835,
            1836,
            1837,
            1838,
            1839,
            1841,
            1996,
            1878,
            1842,
            1843,
            1844,
            1845,
            1846,
            1847,
            1848,
            1849,
            1886,
            1851,
            1852,
            1853,
            1948,
            0,
            1854,
            1855,
            1856,
            1857,
            1858,
            1859,
            1860,
            1861,
            0,
            1881,
            1862,
            1863,
            1864,
            1866,
            1867,
            1868,
            1869,
            1870,
            0,
            1871,
            1872,
            1873,
            1874,
            1875,
            0,
            1877,
            1879,
            1880,
            1882,
            1891,
            1883,
            1884,
            1885,
            1887,
            1888,
            1889,
            1890,
            1892,
            1893,
            1894,
            1895,
            1896,
            1897,
            1898,
            1899,
            1901,
            1903,
            1904,
            1905,
            1906,
            1907,
            1908,
            1935,
            1910,
            0,
            1911,
            1918,
            1912,
            1913,
            1927,
            1914,
            1915,
            1916,
            1917,
            1920,
            1919,
            1922,
            1923
           ]
          },
          {
           "axis": {
            "matches": true
           },
           "label": "Total Score",
           "values": [
            100,
            96.7,
            95.2,
            94.1,
            93.3,
            92.6,
            92.1,
            91.6,
            91.2,
            90.8,
            90.4,
            90.1,
            89.8,
            89.5,
            89.3,
            89.1,
            88.8,
            88.6,
            88.4,
            88.2,
            88,
            87.9,
            87.7,
            87.5,
            87.4,
            87.2,
            87.1,
            87,
            86.8,
            86.7,
            86.6,
            86.4,
            86.3,
            86.2,
            86.1,
            86,
            85.9,
            85.8,
            85.7,
            85.6,
            85.5,
            85.4,
            85.3,
            85.2,
            85.1,
            85,
            84.9,
            84.9,
            84.8,
            84.7,
            84.6,
            84.5,
            84.5,
            84.4,
            84.3,
            84.2,
            84.2,
            84.1,
            84,
            84,
            83.9,
            83.8,
            83.8,
            83.7,
            83.6,
            83.6,
            83.5,
            83.5,
            83.4,
            83.3,
            83.3,
            83.2,
            83.2,
            83.1,
            83,
            83,
            82.9,
            82.9,
            82.8,
            82.8,
            82.7,
            82.7,
            82.6,
            82.6,
            82.5,
            82.5,
            82.4,
            82.4,
            82.3,
            82.3,
            82.2,
            82.2,
            82.1,
            82.1,
            82.1,
            82,
            82,
            81.9,
            81.9,
            81.8,
            81.8,
            81.8,
            81.7,
            81.7,
            81.6,
            81.6,
            81.6,
            81.5,
            81.5,
            81.4,
            81.4,
            81.4,
            81.3,
            81.3,
            81.2,
            81.2,
            81.2,
            81.1,
            81.1,
            81.1,
            81,
            81,
            80.9,
            80.9,
            80.9,
            80.8,
            80.8,
            80.8,
            80.7,
            80.7,
            80.7,
            80.6,
            80.6,
            80.6,
            80.5,
            80.5,
            80.5,
            80.4,
            80.4,
            80.4,
            80.3,
            80.3,
            80.3,
            80.3,
            80.2,
            80.2,
            80.2,
            80.1,
            80.1,
            80.1,
            80,
            80,
            80,
            80,
            79.9,
            79.9,
            79.9,
            79.8,
            79.8,
            79.8,
            79.8,
            79.7,
            79.7,
            79.7,
            79.6,
            79.6,
            79.6,
            79.6,
            79.5,
            79.5,
            79.5,
            79.5,
            79.4,
            79.4,
            79.4,
            79.4,
            79.3,
            79.3,
            79.3,
            79.3,
            79.2,
            79.2,
            79.2,
            79.2,
            79.1,
            79.1,
            79.1,
            79.1,
            79,
            79,
            79,
            79,
            78.9,
            78.9,
            78.9,
            78.9,
            78.8,
            78.8,
            78.8,
            78.8,
            78.7,
            78.7,
            78.7,
            78.7,
            78.7,
            78.6,
            78.6,
            78.6,
            78.6,
            78.5,
            78.5,
            78.5,
            78.5,
            78.5,
            78.4,
            78.4,
            78.4,
            78.4,
            78.3,
            78.3,
            78.3,
            78.3,
            78.3,
            78.2,
            78.2,
            78.2,
            78.2,
            78.2,
            78.1,
            78.1,
            78.1,
            78.1,
            78.1,
            78,
            78,
            78,
            78,
            78,
            77.9,
            77.9,
            77.9,
            77.9,
            77.9,
            77.8,
            77.8,
            77.8,
            77.8,
            77.8,
            77.7,
            77.7,
            77.7,
            77.7,
            77.7,
            77.7,
            77.6,
            77.6,
            77.6,
            77.6,
            77.6,
            77.5,
            77.5,
            77.5,
            77.5,
            77.5,
            77.4,
            77.4,
            77.4,
            77.4,
            77.4,
            77.4,
            77.3,
            77.3,
            77.3,
            77.3,
            77.3,
            77.3,
            77.2,
            77.2,
            77.2,
            77.2,
            77.2,
            77.1,
            77.1,
            77.1,
            77.1,
            77.1,
            77.1,
            77,
            77,
            77,
            77,
            77,
            77,
            76.9,
            76.9,
            76.9,
            76.9,
            76.9,
            76.9,
            76.8,
            76.8,
            76.8,
            76.8,
            76.8,
            76.8,
            76.8,
            76.7,
            76.7,
            76.7,
            76.7,
            76.7,
            76.7,
            76.6,
            76.6,
            76.6,
            76.6,
            76.6,
            76.6,
            76.5,
            76.5,
            76.5,
            76.5,
            76.5,
            76.5,
            76.5,
            76.4,
            76.4,
            76.4,
            76.4,
            76.4,
            76.4,
            76.4,
            76.3,
            76.3,
            76.3,
            76.3,
            76.3,
            76.3,
            76.2,
            76.2,
            76.2,
            76.2,
            76.2,
            76.2,
            76.2,
            76.1,
            76.1,
            76.1,
            76.1,
            76.1,
            76.1,
            76.1,
            76,
            76,
            76,
            76,
            76,
            76,
            76,
            76,
            75.9,
            75.9,
            75.9,
            75.9,
            75.9,
            75.9,
            75.9,
            75.8,
            75.8,
            75.8,
            75.8,
            75.8,
            75.8,
            75.8,
            75.7,
            75.7,
            75.7,
            75.7,
            75.7,
            75.7,
            75.7,
            75.7,
            75.6,
            75.6,
            75.6,
            75.6,
            75.6,
            75.6,
            75.6,
            75.5,
            75.5,
            75.5,
            75.5,
            75.5,
            75.5,
            75.5,
            75.5,
            75.4,
            75.4,
            75.4,
            75.4,
            75.4,
            75.4,
            75.4,
            75.4,
            75.3,
            75.3,
            75.3,
            75.3,
            75.3,
            75.3,
            75.3,
            75.3,
            75.2,
            75.2,
            75.2,
            75.2,
            75.2,
            75.2,
            75.2,
            75.2,
            75.1,
            75.1,
            75.1,
            75.1,
            75.1,
            75.1,
            75.1,
            75.1,
            75.1,
            75,
            75,
            75,
            75,
            75,
            75,
            75,
            75,
            74.9,
            74.9,
            74.9,
            74.9,
            74.9,
            74.9,
            74.9,
            74.9,
            74.9,
            74.8,
            74.8,
            74.8,
            74.8,
            74.8,
            74.8,
            74.8,
            74.8,
            74.7,
            74.7,
            74.7,
            74.7,
            74.7,
            74.7,
            74.7,
            74.7,
            74.7,
            74.6,
            74.6,
            74.6,
            74.6,
            74.6,
            74.6,
            74.6,
            74.6,
            74.6,
            74.5,
            74.5,
            74.5,
            74.5,
            74.5,
            74.5,
            74.5,
            74.5,
            74.5,
            74.5,
            74.4,
            74.4,
            74.4,
            74.4,
            74.4,
            74.4,
            74.4,
            74.4,
            74.4,
            74.3,
            74.3,
            74.3,
            74.3,
            74.3,
            74.3,
            74.3,
            74.3,
            74.3,
            74.2,
            74.2,
            74.2,
            74.2,
            74.2,
            74.2,
            74.2,
            74.2,
            74.2,
            74.2,
            74.1,
            74.1,
            74.1,
            74.1,
            74.1,
            74.1,
            74.1,
            74.1,
            74.1,
            74.1,
            74,
            74,
            74,
            74,
            74,
            74,
            74,
            74,
            74,
            74,
            73.9,
            73.9,
            73.9,
            73.9,
            73.9,
            73.9,
            73.9,
            73.9,
            73.9,
            73.9,
            73.8,
            73.8,
            73.8,
            73.8,
            73.8,
            73.8,
            73.8,
            73.8,
            73.8,
            73.8,
            73.7,
            73.7,
            73.7,
            73.7,
            73.7,
            73.7,
            73.7,
            73.7,
            73.7,
            73.7,
            73.7,
            73.6,
            73.6,
            73.6,
            73.6,
            73.6,
            73.6,
            73.6,
            73.6,
            73.6,
            73.6,
            73.5,
            73.5,
            73.5,
            73.5,
            73.5,
            73.5,
            73.5,
            73.5,
            73.5,
            73.5,
            73.5,
            73.4,
            73.4,
            73.4,
            73.4,
            73.4,
            73.4,
            73.4,
            73.4,
            73.4,
            73.4,
            73.4,
            73.3,
            73.3,
            73.3,
            73.3,
            73.3,
            73.3,
            73.3,
            73.3,
            73.3,
            73.3,
            73.3,
            73.2,
            73.2,
            73.2,
            73.2,
            73.2,
            73.2,
            73.2,
            73.2,
            73.2,
            73.2,
            73.2,
            73.1,
            73.1,
            73.1,
            73.1,
            73.1,
            73.1,
            73.1,
            73.1,
            73.1,
            73.1,
            73.1,
            73.1,
            73,
            73,
            73,
            73,
            73,
            73,
            73,
            73,
            73,
            73,
            73,
            72.9,
            72.9,
            72.9,
            72.9,
            72.9,
            72.9,
            72.9,
            72.9,
            72.9,
            72.9,
            72.9,
            72.9,
            72.8,
            72.8,
            72.8,
            72.8,
            72.8,
            72.8,
            72.8,
            72.8,
            72.8,
            72.8,
            72.8,
            72.8,
            72.7,
            72.7,
            72.7,
            72.7,
            72.7,
            72.7,
            72.7,
            72.7,
            72.7,
            72.7,
            72.7,
            72.7,
            72.6,
            72.6,
            72.6,
            72.6,
            72.6,
            72.6,
            72.6,
            72.6,
            72.6,
            72.6,
            72.6,
            72.6,
            72.6,
            72.5,
            72.5,
            72.5,
            72.5,
            72.5,
            72.5,
            72.5,
            72.5,
            72.5,
            72.5,
            72.5,
            72.5,
            72.4,
            72.4,
            72.4,
            72.4,
            72.4,
            72.4,
            72.4,
            72.4,
            72.4,
            72.4,
            72.4,
            72.4,
            72.4,
            72.3,
            72.3,
            72.3,
            72.3,
            72.3,
            72.3,
            72.3,
            72.3,
            72.3,
            72.3,
            72.3,
            72.3,
            72.3,
            72.2,
            72.2,
            72.2,
            72.2,
            72.2,
            72.2,
            72.2,
            72.2,
            72.2,
            72.2,
            72.2,
            72.2,
            72.2,
            72.1,
            72.1,
            72.1,
            72.1,
            72.1,
            72.1,
            72.1,
            72.1,
            72.1,
            72.1,
            72.1,
            72.1,
            72.1,
            72,
            72,
            72,
            72,
            72,
            72,
            72,
            72,
            72,
            72,
            72,
            72,
            72,
            71.9,
            71.9,
            71.9,
            71.9,
            71.9,
            71.9,
            71.9,
            71.9,
            71.9,
            71.9,
            71.9,
            71.9,
            71.9,
            71.9,
            71.8,
            71.8,
            71.8,
            71.8,
            71.8,
            71.8,
            71.8,
            71.8,
            71.8,
            71.8,
            71.8,
            71.8,
            71.8,
            71.8,
            71.7,
            71.7,
            71.7,
            71.7,
            71.7,
            71.7,
            71.7,
            71.7,
            71.7,
            71.7,
            71.7,
            71.7,
            71.7,
            71.7,
            71.6,
            71.6,
            71.6,
            71.6,
            71.6,
            71.6,
            71.6,
            71.6,
            71.6,
            71.6,
            71.6,
            71.6,
            71.6,
            71.6,
            71.5,
            71.5,
            71.5,
            71.5,
            71.5,
            71.5,
            71.5,
            71.5,
            71.5,
            71.5,
            71.5,
            71.5,
            71.5,
            71.5,
            71.5,
            71.4,
            71.4,
            71.4,
            71.4,
            71.4,
            71.4,
            71.4,
            71.4,
            71.4,
            71.4,
            71.4,
            71.4,
            71.4,
            71.4,
            71.4,
            71.3,
            71.3,
            71.3,
            71.3,
            71.3,
            71.3,
            71.3,
            71.3,
            71.3,
            71.3,
            71.3,
            71.3,
            71.3,
            71.3,
            71.2,
            71.2,
            71.2,
            71.2,
            71.2,
            71.2,
            71.2,
            71.2,
            71.2,
            71.2,
            71.2,
            71.2,
            71.2,
            71.2,
            71.2,
            71.2,
            71.1,
            71.1,
            71.1,
            71.1,
            71.1,
            71.1,
            71.1,
            71.1,
            71.1,
            71.1,
            71.1,
            71.1,
            71.1,
            71.1,
            71.1,
            71,
            71,
            71,
            71,
            71,
            71,
            71,
            71,
            71,
            71,
            71,
            71,
            71,
            71,
            71,
            70.9,
            70.9,
            70.9,
            70.9,
            70.9,
            70.9,
            70.9,
            70.9,
            70.9,
            70.9,
            70.9,
            70.9,
            70.9,
            70.9,
            70.9,
            70.9,
            70.8,
            70.8,
            70.8,
            70.8,
            70.8,
            70.8,
            70.8,
            70.8,
            70.8,
            70.8,
            70.8,
            70.8,
            70.8,
            70.8,
            70.8,
            70.8,
            70.7,
            70.7,
            70.7,
            70.7,
            70.7,
            70.7,
            70.7,
            70.7,
            70.7,
            70.7,
            70.7,
            70.7,
            70.7,
            70.7,
            70.7,
            70.7,
            70.6,
            70.6,
            70.6,
            70.6,
            70.6,
            70.6,
            70.6,
            70.6,
            70.6,
            70.6,
            70.6,
            70.6,
            70.6,
            70.6,
            70.6,
            70.6,
            70.6,
            70.5,
            70.5,
            70.5,
            70.5,
            70.5,
            70.5,
            70.5,
            70.5,
            70.5,
            70.5,
            70.5,
            70.5,
            70.5,
            70.5,
            70.5,
            70.5,
            70.4,
            70.4,
            70.4,
            70.4,
            70.4,
            70.4,
            70.4,
            70.4,
            70.4,
            70.4,
            70.4,
            70.4,
            70.4,
            70.4,
            70.4,
            70.4,
            70.4,
            70.3,
            70.3,
            70.3,
            70.3,
            70.3,
            70.3,
            70.3,
            70.3,
            70.3,
            70.3,
            70.3,
            70.3,
            70.3,
            70.3,
            70.3,
            70.3,
            70.3,
            70.2,
            70.2,
            70.2,
            70.2,
            70.2,
            70.2,
            70.2,
            70.2,
            70.2,
            70.2,
            70.2,
            70.2,
            70.2,
            70.2,
            70.2,
            70.2,
            70.2,
            70.2,
            70.1,
            70.1,
            70.1,
            70.1,
            70.1,
            70.1,
            70.1,
            70.1,
            70.1,
            70.1,
            70.1,
            70.1,
            70.1,
            70.1,
            70.1,
            70.1,
            70.1,
            70,
            70,
            70,
            70,
            70,
            70,
            70,
            70,
            70,
            70,
            70,
            70,
            70,
            70,
            70,
            70,
            70,
            70,
            69.9,
            69.9,
            69.9,
            69.9,
            69.9,
            69.9,
            69.9,
            69.9,
            69.9,
            69.9,
            69.9,
            69.9,
            69.9,
            69.9,
            69.9,
            69.9,
            69.9,
            69.9,
            69.8,
            69.8,
            69.8,
            69.8,
            69.8,
            69.8,
            69.8,
            69.8,
            69.8,
            69.8,
            69.8,
            69.8,
            69.8,
            69.8,
            69.8,
            69.8,
            69.8,
            69.8,
            69.7,
            69.7,
            69.7,
            69.7,
            69.7,
            69.7,
            69.7,
            69.7,
            69.7,
            69.7,
            69.7,
            69.7,
            69.7,
            69.7,
            69.7,
            69.7,
            69.7,
            69.7,
            69.7,
            69.6,
            69.6,
            69.6,
            69.6,
            69.6,
            69.6,
            69.6,
            69.6,
            69.6,
            69.6,
            69.6,
            69.6,
            69.6,
            69.6,
            69.6,
            69.6,
            69.6,
            69.6,
            69.5,
            69.5,
            69.5,
            69.5,
            69.5,
            69.5,
            69.5,
            69.5,
            69.5,
            69.5,
            69.5,
            69.5,
            69.5,
            69.5,
            69.5,
            69.5,
            69.5,
            69.5,
            69.5,
            69.4,
            69.4,
            69.4,
            69.4,
            69.4,
            69.4,
            69.4,
            69.4,
            69.4,
            69.4,
            69.4,
            69.4,
            69.4,
            69.4,
            69.4,
            69.4,
            69.4,
            69.4,
            69.4,
            69.4,
            69.3,
            69.3,
            69.3,
            69.3,
            69.3,
            69.3,
            69.3,
            69.3,
            69.3,
            69.3,
            69.3,
            69.3,
            69.3,
            69.3,
            69.3,
            69.3,
            69.3,
            69.3,
            69.3,
            69.2,
            69.2,
            69.2,
            69.2,
            69.2,
            69.2,
            69.2,
            69.2,
            69.2,
            69.2,
            69.2,
            69.2,
            69.2,
            69.2,
            69.2,
            69.2,
            69.2,
            69.2,
            69.2,
            69.2,
            69.1,
            69.1,
            69.1,
            69.1,
            69.1,
            69.1,
            69.1,
            69.1,
            69.1,
            69.1,
            69.1,
            69.1,
            69.1,
            69.1,
            69.1,
            69.1,
            69.1,
            69.1,
            69.1,
            69.1,
            69,
            69,
            69,
            69,
            69,
            69,
            69,
            69,
            69,
            69,
            69,
            69,
            69,
            69,
            69,
            69,
            69,
            69,
            69,
            69,
            68.9,
            68.9,
            68.9,
            68.9,
            68.9,
            68.9,
            68.9,
            68.9,
            68.9,
            68.9,
            68.9,
            68.9,
            68.9,
            68.9,
            68.9,
            68.9,
            68.9,
            68.9,
            68.9,
            68.9,
            68.8,
            68.8,
            68.8,
            68.8,
            68.8,
            68.8,
            68.8,
            68.8,
            68.8,
            68.8,
            68.8,
            68.8,
            68.8,
            68.8,
            68.8,
            68.8,
            68.8,
            68.8,
            68.8,
            68.8,
            68.8,
            68.7,
            68.7,
            68.7,
            68.7,
            68.7,
            68.7,
            68.7,
            68.7,
            68.7,
            68.7,
            68.7,
            68.7,
            68.7,
            68.7,
            68.7,
            68.7,
            68.7,
            68.7,
            68.7,
            68.7,
            68.7,
            68.6,
            68.6,
            68.6,
            68.6,
            68.6,
            68.6,
            68.6,
            68.6,
            68.6,
            68.6,
            68.6,
            68.6,
            68.6,
            68.6,
            68.6,
            68.6,
            68.6,
            68.6,
            68.6,
            68.6,
            68.6,
            68.5,
            68.5,
            68.5,
            68.5,
            68.5,
            68.5,
            68.5,
            68.5,
            68.5,
            68.5,
            68.5,
            68.5,
            68.5,
            68.5,
            68.5,
            68.5,
            68.5,
            68.5,
            68.5,
            68.5,
            68.5,
            68.5,
            68.4,
            68.4,
            68.4,
            68.4,
            68.4,
            68.4,
            68.4,
            68.4,
            68.4,
            68.4,
            68.4,
            68.4,
            68.4,
            68.4,
            68.4,
            68.4,
            68.4,
            68.4,
            68.4,
            68.4,
            68.4,
            68.4,
            68.3,
            68.3,
            68.3,
            68.3,
            68.3,
            68.3,
            68.3,
            68.3,
            68.3,
            68.3,
            68.3,
            68.3,
            68.3,
            68.3,
            68.3,
            68.3,
            68.3,
            68.3,
            68.3,
            68.3,
            68.3,
            68.3,
            68.2,
            68.2,
            68.2,
            68.2,
            68.2,
            68.2,
            68.2,
            68.2,
            68.2,
            68.2,
            68.2,
            68.2,
            68.2,
            68.2,
            68.2,
            68.2,
            68.2,
            68.2,
            68.2,
            68.2,
            68.2,
            68.2,
            68.1,
            68.1,
            68.1,
            68.1,
            68.1,
            68.1,
            68.1,
            68.1,
            68.1,
            68.1,
            68.1,
            68.1,
            68.1,
            68.1,
            68.1,
            68.1,
            68.1,
            68.1,
            68.1,
            68.1,
            68.1,
            68.1,
            68.1,
            68,
            68,
            68,
            68,
            68,
            68,
            68,
            68,
            68,
            68,
            68,
            68,
            68,
            68,
            68,
            68,
            68,
            68,
            68,
            68,
            68,
            68,
            67.9,
            67.9,
            67.9,
            67.9,
            67.9,
            67.9,
            67.9,
            67.9,
            67.9,
            67.9,
            67.9,
            67.9,
            67.9,
            67.9,
            67.9,
            67.9,
            67.9,
            67.9,
            67.9,
            67.9,
            67.9,
            67.9,
            67.9,
            67.9,
            67.8,
            67.8,
            67.8,
            67.8,
            67.8,
            67.8,
            67.8,
            67.8,
            67.8,
            67.8,
            67.8,
            67.8,
            67.8,
            67.8,
            67.8,
            67.8,
            67.8,
            67.8,
            67.8,
            67.8,
            67.8,
            67.8,
            67.8,
            67.7,
            67.7,
            67.7,
            67.7,
            67.7,
            67.7,
            67.7,
            67.7,
            67.7,
            67.7,
            67.7,
            67.7,
            67.7,
            67.7,
            67.7,
            67.7,
            67.7,
            67.7,
            67.7,
            67.7,
            67.7,
            67.7,
            67.7,
            67.7,
            67.6,
            67.6,
            67.6,
            67.6,
            67.6,
            67.6,
            67.6,
            67.6,
            67.6,
            67.6,
            67.6,
            67.6,
            67.6,
            67.6,
            67.6,
            67.6,
            67.6,
            67.6,
            67.6,
            67.6,
            67.6,
            67.6,
            67.6,
            67.6,
            67.5,
            67.5,
            67.5,
            67.5,
            67.5,
            67.5,
            67.5,
            67.5,
            67.5,
            67.5,
            67.5,
            67.5,
            67.5,
            67.5,
            67.5,
            67.5,
            67.5,
            67.5,
            67.5,
            67.5,
            67.5,
            67.5,
            67.5,
            67.5,
            67.4,
            67.4,
            67.4,
            67.4,
            67.4,
            67.4,
            67.4,
            67.4,
            67.4,
            67.4,
            67.4,
            67.4,
            67.4,
            67.4,
            67.4,
            67.4,
            67.4,
            67.4,
            67.4,
            67.4,
            67.4,
            67.4,
            67.4,
            67.4,
            67.3,
            67.3,
            67.3,
            67.3,
            67.3,
            67.3,
            67.3,
            67.3,
            67.3,
            67.3,
            67.3,
            67.3,
            67.3,
            67.3,
            67.3,
            67.3,
            67.3,
            67.3,
            67.3,
            67.3,
            67.3,
            67.3,
            67.3,
            67.3,
            67.3,
            67.2,
            67.2,
            67.2,
            67.2,
            67.2,
            67.2,
            67.2,
            67.2,
            67.2,
            67.2,
            67.2,
            67.2,
            67.2,
            67.2,
            67.2,
            67.2,
            67.2,
            67.2,
            67.2,
            67.2,
            67.2,
            67.2,
            67.2,
            67.2,
            67.2,
            67.1,
            67.1,
            67.1,
            67.1,
            67.1,
            67.1,
            67.1,
            67.1,
            67.1,
            67.1,
            67.1,
            67.1,
            67.1,
            67.1,
            67.1,
            67.1,
            67.1,
            67.1,
            67.1,
            67.1,
            67.1,
            67.1,
            67.1,
            67.1,
            67.1,
            67,
            67,
            67,
            67,
            67,
            67,
            67,
            67,
            67,
            67,
            67,
            67,
            67,
            67,
            67,
            67,
            67,
            67,
            67,
            67,
            67,
            67,
            67,
            67,
            67,
            67,
            66.9,
            66.9,
            66.9,
            66.9,
            66.9,
            66.9,
            66.9,
            66.9,
            66.9,
            66.9,
            66.9,
            66.9,
            66.9,
            66.9,
            66.9,
            66.9,
            66.9,
            66.9,
            66.9,
            66.9,
            66.9,
            66.9,
            66.9,
            66.9,
            66.9,
            66.9,
            66.8,
            66.8,
            66.8,
            66.8,
            66.8,
            66.8,
            66.8,
            66.8,
            66.8,
            66.8,
            66.8,
            66.8,
            66.8,
            66.8,
            66.8,
            66.8,
            66.8,
            66.8,
            66.8,
            66.8,
            66.8,
            66.8,
            66.8,
            66.8,
            66.8,
            66.8,
            66.7,
            66.7,
            66.7,
            66.7,
            66.7,
            66.7,
            66.7,
            66.7,
            66.7,
            66.7,
            66.7,
            66.7,
            66.7,
            66.7,
            66.7,
            66.7,
            66.7,
            66.7,
            66.7,
            66.7,
            66.7,
            66.7,
            66.7,
            66.7,
            66.7,
            66.7,
            66.7,
            66.6,
            66.6,
            66.6,
            66.6,
            66.6,
            66.6,
            66.6,
            66.6,
            66.6,
            66.6,
            66.6,
            66.6,
            66.6,
            66.6,
            66.6,
            66.6,
            66.6,
            66.6,
            66.6,
            66.6,
            66.6,
            66.6,
            66.6,
            66.6,
            66.6,
            66.6,
            66.6,
            66.5,
            66.5,
            66.5,
            66.5,
            66.5,
            66.5,
            66.5,
            66.5,
            66.5,
            66.5,
            66.5,
            66.5,
            66.5,
            66.5,
            66.5,
            66.5,
            66.5,
            66.5,
            66.5,
            66.5,
            66.5,
            66.5,
            66.5,
            66.5,
            66.5,
            66.5,
            66.5,
            66.4,
            66.4,
            66.4,
            66.4,
            66.4,
            66.4,
            66.4,
            66.4,
            66.4,
            66.4,
            66.4,
            66.4,
            66.4,
            66.4,
            66.4,
            66.4,
            66.4,
            66.4,
            66.4,
            66.4,
            66.4,
            66.4,
            66.4,
            66.4,
            66.4,
            66.4,
            66.4,
            66.3,
            66.3,
            66.3,
            66.3,
            66.3,
            66.3,
            66.3,
            66.3,
            66.3,
            66.3,
            66.3,
            66.3,
            66.3,
            66.3,
            66.3,
            66.3,
            66.3,
            66.3,
            66.3,
            66.3,
            66.3,
            66.3,
            66.3,
            66.3,
            66.3,
            66.3,
            66.3,
            66.3,
            66.2,
            66.2,
            66.2,
            66.2,
            66.2,
            66.2,
            66.2,
            66.2,
            66.2,
            66.2,
            66.2,
            66.2,
            66.2,
            66.2,
            66.2,
            66.2,
            66.2,
            66.2,
            66.2,
            66.2,
            66.2,
            66.2,
            66.2,
            66.2,
            66.2,
            66.2,
            66.2,
            66.2,
            66.1,
            66.1,
            66.1,
            66.1,
            66.1,
            66.1,
            66.1,
            66.1,
            66.1,
            66.1,
            66.1,
            66.1,
            66.1,
            66.1,
            66.1,
            66.1,
            66.1,
            66.1,
            66.1,
            66.1,
            66.1,
            66.1,
            66.1,
            66.1,
            66.1,
            66.1,
            66.1,
            66.1,
            66,
            66,
            66,
            66,
            66,
            66,
            66,
            66,
            66,
            66,
            66,
            66,
            66,
            66,
            66,
            66,
            66,
            66,
            66,
            66,
            66,
            66,
            66,
            66,
            66,
            66
           ]
          }
         ],
         "hovertemplate": "%{xaxis.title.text}=%{x}<br>%{yaxis.title.text}=%{y}<extra></extra>",
         "legendgroup": "",
         "marker": {
          "color": "#636efa",
          "symbol": "circle"
         },
         "name": "",
         "showlegend": false,
         "type": "splom"
        }
       ],
       "layout": {
        "dragmode": "select",
        "height": 1000,
        "legend": {
         "tracegroupgap": 0
        },
        "margin": {
         "t": 60
        },
        "template": {
         "data": {
          "bar": [
           {
            "error_x": {
             "color": "#2a3f5f"
            },
            "error_y": {
             "color": "#2a3f5f"
            },
            "marker": {
             "line": {
              "color": "#E5ECF6",
              "width": 0.5
             },
             "pattern": {
              "fillmode": "overlay",
              "size": 10,
              "solidity": 0.2
             }
            },
            "type": "bar"
           }
          ],
          "barpolar": [
           {
            "marker": {
             "line": {
              "color": "#E5ECF6",
              "width": 0.5
             },
             "pattern": {
              "fillmode": "overlay",
              "size": 10,
              "solidity": 0.2
             }
            },
            "type": "barpolar"
           }
          ],
          "carpet": [
           {
            "aaxis": {
             "endlinecolor": "#2a3f5f",
             "gridcolor": "white",
             "linecolor": "white",
             "minorgridcolor": "white",
             "startlinecolor": "#2a3f5f"
            },
            "baxis": {
             "endlinecolor": "#2a3f5f",
             "gridcolor": "white",
             "linecolor": "white",
             "minorgridcolor": "white",
             "startlinecolor": "#2a3f5f"
            },
            "type": "carpet"
           }
          ],
          "choropleth": [
           {
            "colorbar": {
             "outlinewidth": 0,
             "ticks": ""
            },
            "type": "choropleth"
           }
          ],
          "contour": [
           {
            "colorbar": {
             "outlinewidth": 0,
             "ticks": ""
            },
            "colorscale": [
             [
              0,
              "#0d0887"
             ],
             [
              0.1111111111111111,
              "#46039f"
             ],
             [
              0.2222222222222222,
              "#7201a8"
             ],
             [
              0.3333333333333333,
              "#9c179e"
             ],
             [
              0.4444444444444444,
              "#bd3786"
             ],
             [
              0.5555555555555556,
              "#d8576b"
             ],
             [
              0.6666666666666666,
              "#ed7953"
             ],
             [
              0.7777777777777778,
              "#fb9f3a"
             ],
             [
              0.8888888888888888,
              "#fdca26"
             ],
             [
              1,
              "#f0f921"
             ]
            ],
            "type": "contour"
           }
          ],
          "contourcarpet": [
           {
            "colorbar": {
             "outlinewidth": 0,
             "ticks": ""
            },
            "type": "contourcarpet"
           }
          ],
          "heatmap": [
           {
            "colorbar": {
             "outlinewidth": 0,
             "ticks": ""
            },
            "colorscale": [
             [
              0,
              "#0d0887"
             ],
             [
              0.1111111111111111,
              "#46039f"
             ],
             [
              0.2222222222222222,
              "#7201a8"
             ],
             [
              0.3333333333333333,
              "#9c179e"
             ],
             [
              0.4444444444444444,
              "#bd3786"
             ],
             [
              0.5555555555555556,
              "#d8576b"
             ],
             [
              0.6666666666666666,
              "#ed7953"
             ],
             [
              0.7777777777777778,
              "#fb9f3a"
             ],
             [
              0.8888888888888888,
              "#fdca26"
             ],
             [
              1,
              "#f0f921"
             ]
            ],
            "type": "heatmap"
           }
          ],
          "heatmapgl": [
           {
            "colorbar": {
             "outlinewidth": 0,
             "ticks": ""
            },
            "colorscale": [
             [
              0,
              "#0d0887"
             ],
             [
              0.1111111111111111,
              "#46039f"
             ],
             [
              0.2222222222222222,
              "#7201a8"
             ],
             [
              0.3333333333333333,
              "#9c179e"
             ],
             [
              0.4444444444444444,
              "#bd3786"
             ],
             [
              0.5555555555555556,
              "#d8576b"
             ],
             [
              0.6666666666666666,
              "#ed7953"
             ],
             [
              0.7777777777777778,
              "#fb9f3a"
             ],
             [
              0.8888888888888888,
              "#fdca26"
             ],
             [
              1,
              "#f0f921"
             ]
            ],
            "type": "heatmapgl"
           }
          ],
          "histogram": [
           {
            "marker": {
             "pattern": {
              "fillmode": "overlay",
              "size": 10,
              "solidity": 0.2
             }
            },
            "type": "histogram"
           }
          ],
          "histogram2d": [
           {
            "colorbar": {
             "outlinewidth": 0,
             "ticks": ""
            },
            "colorscale": [
             [
              0,
              "#0d0887"
             ],
             [
              0.1111111111111111,
              "#46039f"
             ],
             [
              0.2222222222222222,
              "#7201a8"
             ],
             [
              0.3333333333333333,
              "#9c179e"
             ],
             [
              0.4444444444444444,
              "#bd3786"
             ],
             [
              0.5555555555555556,
              "#d8576b"
             ],
             [
              0.6666666666666666,
              "#ed7953"
             ],
             [
              0.7777777777777778,
              "#fb9f3a"
             ],
             [
              0.8888888888888888,
              "#fdca26"
             ],
             [
              1,
              "#f0f921"
             ]
            ],
            "type": "histogram2d"
           }
          ],
          "histogram2dcontour": [
           {
            "colorbar": {
             "outlinewidth": 0,
             "ticks": ""
            },
            "colorscale": [
             [
              0,
              "#0d0887"
             ],
             [
              0.1111111111111111,
              "#46039f"
             ],
             [
              0.2222222222222222,
              "#7201a8"
             ],
             [
              0.3333333333333333,
              "#9c179e"
             ],
             [
              0.4444444444444444,
              "#bd3786"
             ],
             [
              0.5555555555555556,
              "#d8576b"
             ],
             [
              0.6666666666666666,
              "#ed7953"
             ],
             [
              0.7777777777777778,
              "#fb9f3a"
             ],
             [
              0.8888888888888888,
              "#fdca26"
             ],
             [
              1,
              "#f0f921"
             ]
            ],
            "type": "histogram2dcontour"
           }
          ],
          "mesh3d": [
           {
            "colorbar": {
             "outlinewidth": 0,
             "ticks": ""
            },
            "type": "mesh3d"
           }
          ],
          "parcoords": [
           {
            "line": {
             "colorbar": {
              "outlinewidth": 0,
              "ticks": ""
             }
            },
            "type": "parcoords"
           }
          ],
          "pie": [
           {
            "automargin": true,
            "type": "pie"
           }
          ],
          "scatter": [
           {
            "fillpattern": {
             "fillmode": "overlay",
             "size": 10,
             "solidity": 0.2
            },
            "type": "scatter"
           }
          ],
          "scatter3d": [
           {
            "line": {
             "colorbar": {
              "outlinewidth": 0,
              "ticks": ""
             }
            },
            "marker": {
             "colorbar": {
              "outlinewidth": 0,
              "ticks": ""
             }
            },
            "type": "scatter3d"
           }
          ],
          "scattercarpet": [
           {
            "marker": {
             "colorbar": {
              "outlinewidth": 0,
              "ticks": ""
             }
            },
            "type": "scattercarpet"
           }
          ],
          "scattergeo": [
           {
            "marker": {
             "colorbar": {
              "outlinewidth": 0,
              "ticks": ""
             }
            },
            "type": "scattergeo"
           }
          ],
          "scattergl": [
           {
            "marker": {
             "colorbar": {
              "outlinewidth": 0,
              "ticks": ""
             }
            },
            "type": "scattergl"
           }
          ],
          "scattermapbox": [
           {
            "marker": {
             "colorbar": {
              "outlinewidth": 0,
              "ticks": ""
             }
            },
            "type": "scattermapbox"
           }
          ],
          "scatterpolar": [
           {
            "marker": {
             "colorbar": {
              "outlinewidth": 0,
              "ticks": ""
             }
            },
            "type": "scatterpolar"
           }
          ],
          "scatterpolargl": [
           {
            "marker": {
             "colorbar": {
              "outlinewidth": 0,
              "ticks": ""
             }
            },
            "type": "scatterpolargl"
           }
          ],
          "scatterternary": [
           {
            "marker": {
             "colorbar": {
              "outlinewidth": 0,
              "ticks": ""
             }
            },
            "type": "scatterternary"
           }
          ],
          "surface": [
           {
            "colorbar": {
             "outlinewidth": 0,
             "ticks": ""
            },
            "colorscale": [
             [
              0,
              "#0d0887"
             ],
             [
              0.1111111111111111,
              "#46039f"
             ],
             [
              0.2222222222222222,
              "#7201a8"
             ],
             [
              0.3333333333333333,
              "#9c179e"
             ],
             [
              0.4444444444444444,
              "#bd3786"
             ],
             [
              0.5555555555555556,
              "#d8576b"
             ],
             [
              0.6666666666666666,
              "#ed7953"
             ],
             [
              0.7777777777777778,
              "#fb9f3a"
             ],
             [
              0.8888888888888888,
              "#fdca26"
             ],
             [
              1,
              "#f0f921"
             ]
            ],
            "type": "surface"
           }
          ],
          "table": [
           {
            "cells": {
             "fill": {
              "color": "#EBF0F8"
             },
             "line": {
              "color": "white"
             }
            },
            "header": {
             "fill": {
              "color": "#C8D4E3"
             },
             "line": {
              "color": "white"
             }
            },
            "type": "table"
           }
          ]
         },
         "layout": {
          "annotationdefaults": {
           "arrowcolor": "#2a3f5f",
           "arrowhead": 0,
           "arrowwidth": 1
          },
          "autotypenumbers": "strict",
          "coloraxis": {
           "colorbar": {
            "outlinewidth": 0,
            "ticks": ""
           }
          },
          "colorscale": {
           "diverging": [
            [
             0,
             "#8e0152"
            ],
            [
             0.1,
             "#c51b7d"
            ],
            [
             0.2,
             "#de77ae"
            ],
            [
             0.3,
             "#f1b6da"
            ],
            [
             0.4,
             "#fde0ef"
            ],
            [
             0.5,
             "#f7f7f7"
            ],
            [
             0.6,
             "#e6f5d0"
            ],
            [
             0.7,
             "#b8e186"
            ],
            [
             0.8,
             "#7fbc41"
            ],
            [
             0.9,
             "#4d9221"
            ],
            [
             1,
             "#276419"
            ]
           ],
           "sequential": [
            [
             0,
             "#0d0887"
            ],
            [
             0.1111111111111111,
             "#46039f"
            ],
            [
             0.2222222222222222,
             "#7201a8"
            ],
            [
             0.3333333333333333,
             "#9c179e"
            ],
            [
             0.4444444444444444,
             "#bd3786"
            ],
            [
             0.5555555555555556,
             "#d8576b"
            ],
            [
             0.6666666666666666,
             "#ed7953"
            ],
            [
             0.7777777777777778,
             "#fb9f3a"
            ],
            [
             0.8888888888888888,
             "#fdca26"
            ],
            [
             1,
             "#f0f921"
            ]
           ],
           "sequentialminus": [
            [
             0,
             "#0d0887"
            ],
            [
             0.1111111111111111,
             "#46039f"
            ],
            [
             0.2222222222222222,
             "#7201a8"
            ],
            [
             0.3333333333333333,
             "#9c179e"
            ],
            [
             0.4444444444444444,
             "#bd3786"
            ],
            [
             0.5555555555555556,
             "#d8576b"
            ],
            [
             0.6666666666666666,
             "#ed7953"
            ],
            [
             0.7777777777777778,
             "#fb9f3a"
            ],
            [
             0.8888888888888888,
             "#fdca26"
            ],
            [
             1,
             "#f0f921"
            ]
           ]
          },
          "colorway": [
           "#636efa",
           "#EF553B",
           "#00cc96",
           "#ab63fa",
           "#FFA15A",
           "#19d3f3",
           "#FF6692",
           "#B6E880",
           "#FF97FF",
           "#FECB52"
          ],
          "font": {
           "color": "#2a3f5f"
          },
          "geo": {
           "bgcolor": "white",
           "lakecolor": "white",
           "landcolor": "#E5ECF6",
           "showlakes": true,
           "showland": true,
           "subunitcolor": "white"
          },
          "hoverlabel": {
           "align": "left"
          },
          "hovermode": "closest",
          "mapbox": {
           "style": "light"
          },
          "paper_bgcolor": "white",
          "plot_bgcolor": "#E5ECF6",
          "polar": {
           "angularaxis": {
            "gridcolor": "white",
            "linecolor": "white",
            "ticks": ""
           },
           "bgcolor": "#E5ECF6",
           "radialaxis": {
            "gridcolor": "white",
            "linecolor": "white",
            "ticks": ""
           }
          },
          "scene": {
           "xaxis": {
            "backgroundcolor": "#E5ECF6",
            "gridcolor": "white",
            "gridwidth": 2,
            "linecolor": "white",
            "showbackground": true,
            "ticks": "",
            "zerolinecolor": "white"
           },
           "yaxis": {
            "backgroundcolor": "#E5ECF6",
            "gridcolor": "white",
            "gridwidth": 2,
            "linecolor": "white",
            "showbackground": true,
            "ticks": "",
            "zerolinecolor": "white"
           },
           "zaxis": {
            "backgroundcolor": "#E5ECF6",
            "gridcolor": "white",
            "gridwidth": 2,
            "linecolor": "white",
            "showbackground": true,
            "ticks": "",
            "zerolinecolor": "white"
           }
          },
          "shapedefaults": {
           "line": {
            "color": "#2a3f5f"
           }
          },
          "ternary": {
           "aaxis": {
            "gridcolor": "white",
            "linecolor": "white",
            "ticks": ""
           },
           "baxis": {
            "gridcolor": "white",
            "linecolor": "white",
            "ticks": ""
           },
           "bgcolor": "#E5ECF6",
           "caxis": {
            "gridcolor": "white",
            "linecolor": "white",
            "ticks": ""
           }
          },
          "title": {
           "x": 0.05
          },
          "xaxis": {
           "automargin": true,
           "gridcolor": "white",
           "linecolor": "white",
           "ticks": "",
           "title": {
            "standoff": 15
           },
           "zerolinecolor": "white",
           "zerolinewidth": 2
          },
          "yaxis": {
           "automargin": true,
           "gridcolor": "white",
           "linecolor": "white",
           "ticks": "",
           "title": {
            "standoff": 15
           },
           "zerolinecolor": "white",
           "zerolinewidth": 2
          }
         }
        }
       }
      }
     },
     "metadata": {},
     "output_type": "display_data"
    }
   ],
   "source": [
    "fig = px.scatter_matrix(Uni_df['CWUR'],\n",
    "                         dimensions=['Rank', 'National Rank', 'Educational Rank', 'Employability Rank', 'Faculty Rank', 'Research Rank', 'Total Score'],\n",
    "\n",
    "                         labels={col: col.replace('_', ' ') for col in Uni_df['CWUR'].columns},\n",
    "                         height=1000)\n",
    "fig.update_traces(diagonal_visible= False)\n",
    "fig.show()"
   ]
  },
  {
   "cell_type": "code",
   "execution_count": 420,
   "metadata": {},
   "outputs": [
    {
     "data": {
      "text/plain": [
       "0.3526922723262442"
      ]
     },
     "execution_count": 420,
     "metadata": {},
     "output_type": "execute_result"
    }
   ],
   "source": [
    "Uni_cor = Uni_df['CWUR']['Rank'].corr(Uni_df['CWUR']['National Rank'])\n",
    "Uni_cor"
   ]
  },
  {
   "cell_type": "code",
   "execution_count": 421,
   "metadata": {},
   "outputs": [
    {
     "data": {
      "application/vnd.plotly.v1+json": {
       "config": {
        "plotlyServerURL": "https://plot.ly"
       },
       "data": [
        {
         "hovertemplate": "Rank=%{x}<br>National Rank=%{y}<extra></extra>",
         "legendgroup": "",
         "marker": {
          "color": "#636efa",
          "symbol": "circle"
         },
         "mode": "markers",
         "name": "",
         "showlegend": false,
         "type": "scattergl",
         "x": [
          1,
          2,
          3,
          4,
          5,
          6,
          7,
          8,
          9,
          10,
          11,
          12,
          13,
          14,
          15,
          16,
          17,
          18,
          19,
          20,
          21,
          22,
          23,
          24,
          25,
          26,
          27,
          28,
          29,
          30,
          31,
          32,
          33,
          34,
          35,
          36,
          37,
          38,
          39,
          40,
          41,
          42,
          43,
          44,
          45,
          46,
          47,
          48,
          49,
          50,
          51,
          52,
          53,
          54,
          55,
          56,
          57,
          58,
          59,
          60,
          61,
          62,
          63,
          64,
          65,
          66,
          67,
          68,
          69,
          70,
          71,
          72,
          73,
          74,
          75,
          76,
          77,
          78,
          79,
          80,
          81,
          82,
          83,
          84,
          85,
          86,
          87,
          88,
          89,
          90,
          91,
          92,
          93,
          94,
          95,
          96,
          97,
          98,
          99,
          100,
          101,
          102,
          103,
          104,
          105,
          106,
          107,
          108,
          109,
          110,
          111,
          112,
          113,
          114,
          115,
          116,
          117,
          118,
          119,
          120,
          121,
          122,
          123,
          124,
          125,
          126,
          127,
          128,
          129,
          130,
          131,
          132,
          133,
          134,
          135,
          136,
          137,
          138,
          139,
          140,
          141,
          142,
          143,
          144,
          145,
          146,
          147,
          148,
          149,
          150,
          151,
          152,
          153,
          154,
          155,
          156,
          157,
          158,
          159,
          160,
          161,
          162,
          163,
          164,
          165,
          166,
          167,
          168,
          169,
          170,
          171,
          172,
          173,
          174,
          175,
          176,
          177,
          178,
          179,
          180,
          181,
          182,
          183,
          184,
          185,
          186,
          187,
          188,
          189,
          190,
          191,
          192,
          193,
          194,
          195,
          196,
          197,
          198,
          199,
          200,
          201,
          202,
          203,
          204,
          205,
          206,
          207,
          208,
          209,
          210,
          211,
          212,
          213,
          214,
          215,
          216,
          217,
          218,
          219,
          220,
          221,
          222,
          223,
          224,
          225,
          226,
          227,
          228,
          229,
          230,
          231,
          232,
          233,
          234,
          235,
          236,
          237,
          238,
          239,
          240,
          241,
          242,
          243,
          244,
          245,
          246,
          247,
          248,
          249,
          250,
          251,
          252,
          253,
          254,
          255,
          256,
          257,
          258,
          259,
          260,
          261,
          262,
          263,
          264,
          265,
          266,
          267,
          268,
          269,
          270,
          271,
          272,
          273,
          274,
          275,
          276,
          277,
          278,
          279,
          280,
          281,
          282,
          283,
          284,
          285,
          286,
          287,
          288,
          289,
          290,
          291,
          292,
          293,
          294,
          295,
          296,
          297,
          298,
          299,
          300,
          301,
          302,
          303,
          304,
          305,
          306,
          307,
          308,
          309,
          310,
          311,
          312,
          313,
          314,
          315,
          316,
          317,
          318,
          319,
          320,
          321,
          322,
          323,
          324,
          325,
          326,
          327,
          328,
          329,
          330,
          331,
          332,
          333,
          334,
          335,
          336,
          337,
          338,
          339,
          340,
          341,
          342,
          343,
          344,
          345,
          346,
          347,
          348,
          349,
          350,
          351,
          352,
          353,
          354,
          355,
          356,
          357,
          358,
          359,
          360,
          361,
          362,
          363,
          364,
          365,
          366,
          367,
          368,
          369,
          370,
          371,
          372,
          373,
          374,
          375,
          376,
          377,
          378,
          379,
          380,
          381,
          382,
          383,
          384,
          385,
          386,
          387,
          388,
          389,
          390,
          391,
          392,
          393,
          394,
          395,
          396,
          397,
          398,
          399,
          400,
          401,
          402,
          403,
          404,
          405,
          406,
          407,
          408,
          409,
          410,
          411,
          412,
          413,
          414,
          415,
          416,
          417,
          418,
          419,
          420,
          421,
          422,
          423,
          424,
          425,
          426,
          427,
          428,
          429,
          430,
          431,
          432,
          433,
          434,
          435,
          436,
          437,
          438,
          439,
          440,
          441,
          442,
          443,
          444,
          445,
          446,
          447,
          448,
          449,
          450,
          451,
          452,
          453,
          454,
          455,
          456,
          457,
          458,
          459,
          460,
          461,
          462,
          463,
          464,
          465,
          466,
          467,
          468,
          469,
          470,
          471,
          472,
          473,
          474,
          475,
          476,
          477,
          478,
          479,
          480,
          481,
          482,
          483,
          484,
          485,
          486,
          487,
          488,
          489,
          490,
          491,
          492,
          493,
          494,
          495,
          496,
          497,
          498,
          499,
          500,
          501,
          502,
          503,
          504,
          505,
          506,
          507,
          508,
          509,
          510,
          511,
          512,
          513,
          514,
          515,
          516,
          517,
          518,
          519,
          520,
          521,
          522,
          523,
          524,
          525,
          526,
          527,
          528,
          529,
          530,
          531,
          532,
          533,
          534,
          535,
          536,
          537,
          538,
          539,
          540,
          541,
          542,
          543,
          544,
          545,
          546,
          547,
          548,
          549,
          550,
          551,
          552,
          553,
          554,
          555,
          556,
          557,
          558,
          559,
          560,
          561,
          562,
          563,
          564,
          565,
          566,
          567,
          568,
          569,
          570,
          571,
          572,
          573,
          574,
          575,
          576,
          577,
          578,
          579,
          580,
          581,
          582,
          583,
          584,
          585,
          586,
          587,
          588,
          589,
          590,
          591,
          592,
          593,
          594,
          595,
          596,
          597,
          598,
          599,
          600,
          601,
          602,
          603,
          604,
          605,
          606,
          607,
          608,
          609,
          610,
          611,
          612,
          613,
          614,
          615,
          616,
          617,
          618,
          619,
          620,
          621,
          622,
          623,
          624,
          625,
          626,
          627,
          628,
          629,
          630,
          631,
          632,
          633,
          634,
          635,
          636,
          637,
          638,
          639,
          640,
          641,
          642,
          643,
          644,
          645,
          646,
          647,
          648,
          649,
          650,
          651,
          652,
          653,
          654,
          655,
          656,
          657,
          658,
          659,
          660,
          661,
          662,
          663,
          664,
          665,
          666,
          667,
          668,
          669,
          670,
          671,
          672,
          673,
          674,
          675,
          676,
          677,
          678,
          679,
          680,
          681,
          682,
          683,
          684,
          685,
          686,
          687,
          688,
          689,
          690,
          691,
          692,
          693,
          694,
          695,
          696,
          697,
          698,
          699,
          700,
          701,
          702,
          703,
          704,
          705,
          706,
          707,
          708,
          709,
          710,
          711,
          712,
          713,
          714,
          715,
          716,
          717,
          718,
          719,
          720,
          721,
          722,
          723,
          724,
          725,
          726,
          727,
          728,
          729,
          730,
          731,
          732,
          733,
          734,
          735,
          736,
          737,
          738,
          739,
          740,
          741,
          742,
          743,
          744,
          745,
          746,
          747,
          748,
          749,
          750,
          751,
          752,
          753,
          754,
          755,
          756,
          757,
          758,
          759,
          760,
          761,
          762,
          763,
          764,
          765,
          766,
          767,
          768,
          769,
          770,
          771,
          772,
          773,
          774,
          775,
          776,
          777,
          778,
          779,
          780,
          781,
          782,
          783,
          784,
          785,
          786,
          787,
          788,
          789,
          790,
          791,
          792,
          793,
          794,
          795,
          796,
          797,
          798,
          799,
          800,
          801,
          802,
          803,
          804,
          805,
          806,
          807,
          808,
          809,
          810,
          811,
          812,
          813,
          814,
          815,
          816,
          817,
          818,
          819,
          820,
          821,
          822,
          823,
          824,
          825,
          826,
          827,
          828,
          829,
          830,
          831,
          832,
          833,
          834,
          835,
          836,
          837,
          838,
          839,
          840,
          841,
          842,
          843,
          844,
          845,
          846,
          847,
          848,
          849,
          850,
          851,
          852,
          853,
          854,
          855,
          856,
          857,
          858,
          859,
          860,
          861,
          862,
          863,
          864,
          865,
          866,
          867,
          868,
          869,
          870,
          871,
          872,
          873,
          874,
          875,
          876,
          877,
          878,
          879,
          880,
          881,
          882,
          883,
          884,
          885,
          886,
          887,
          888,
          889,
          890,
          891,
          892,
          893,
          894,
          895,
          896,
          897,
          898,
          899,
          900,
          901,
          902,
          903,
          904,
          905,
          906,
          907,
          908,
          909,
          910,
          911,
          912,
          913,
          914,
          915,
          916,
          917,
          918,
          919,
          920,
          921,
          922,
          923,
          924,
          925,
          926,
          927,
          928,
          929,
          930,
          931,
          932,
          933,
          934,
          935,
          936,
          937,
          938,
          939,
          940,
          941,
          942,
          943,
          944,
          945,
          946,
          947,
          948,
          949,
          950,
          951,
          952,
          953,
          954,
          955,
          956,
          957,
          958,
          959,
          960,
          961,
          962,
          963,
          964,
          965,
          966,
          967,
          968,
          969,
          970,
          971,
          972,
          973,
          974,
          975,
          976,
          977,
          978,
          979,
          980,
          981,
          982,
          983,
          984,
          985,
          986,
          987,
          988,
          989,
          990,
          991,
          992,
          993,
          994,
          995,
          996,
          997,
          998,
          999,
          1000,
          1001,
          1002,
          1003,
          1004,
          1005,
          1006,
          1007,
          1008,
          1009,
          1010,
          1011,
          1012,
          1013,
          1014,
          1015,
          1016,
          1017,
          1018,
          1019,
          1020,
          1021,
          1022,
          1023,
          1024,
          1025,
          1026,
          1027,
          1028,
          1029,
          1030,
          1031,
          1032,
          1033,
          1034,
          1035,
          1036,
          1037,
          1038,
          1039,
          1040,
          1041,
          1042,
          1043,
          1044,
          1045,
          1046,
          1047,
          1048,
          1049,
          1050,
          1051,
          1052,
          1053,
          1054,
          1055,
          1056,
          1057,
          1058,
          1059,
          1060,
          1061,
          1062,
          1063,
          1064,
          1065,
          1066,
          1067,
          1068,
          1069,
          1070,
          1071,
          1072,
          1073,
          1074,
          1075,
          1076,
          1077,
          1078,
          1079,
          1080,
          1081,
          1082,
          1083,
          1084,
          1085,
          1086,
          1087,
          1088,
          1089,
          1090,
          1091,
          1092,
          1093,
          1094,
          1095,
          1096,
          1097,
          1098,
          1099,
          1100,
          1101,
          1102,
          1103,
          1104,
          1105,
          1106,
          1107,
          1108,
          1109,
          1110,
          1111,
          1112,
          1113,
          1114,
          1115,
          1116,
          1117,
          1118,
          1119,
          1120,
          1121,
          1122,
          1123,
          1124,
          1125,
          1126,
          1127,
          1128,
          1129,
          1130,
          1131,
          1132,
          1133,
          1134,
          1135,
          1136,
          1137,
          1138,
          1139,
          1140,
          1141,
          1142,
          1143,
          1144,
          1145,
          1146,
          1147,
          1148,
          1149,
          1150,
          1151,
          1152,
          1153,
          1154,
          1155,
          1156,
          1157,
          1158,
          1159,
          1160,
          1161,
          1162,
          1163,
          1164,
          1165,
          1166,
          1167,
          1168,
          1169,
          1170,
          1171,
          1172,
          1173,
          1174,
          1175,
          1176,
          1177,
          1178,
          1179,
          1180,
          1181,
          1182,
          1183,
          1184,
          1185,
          1186,
          1187,
          1188,
          1189,
          1190,
          1191,
          1192,
          1193,
          1194,
          1195,
          1196,
          1197,
          1198,
          1199,
          1200,
          1201,
          1202,
          1203,
          1204,
          1205,
          1206,
          1207,
          1208,
          1209,
          1210,
          1211,
          1212,
          1213,
          1214,
          1215,
          1216,
          1217,
          1218,
          1219,
          1220,
          1221,
          1222,
          1223,
          1224,
          1225,
          1226,
          1227,
          1228,
          1229,
          1230,
          1231,
          1232,
          1233,
          1234,
          1235,
          1236,
          1237,
          1238,
          1239,
          1240,
          1241,
          1242,
          1243,
          1244,
          1245,
          1246,
          1247,
          1248,
          1249,
          1250,
          1251,
          1252,
          1253,
          1254,
          1255,
          1256,
          1257,
          1258,
          1259,
          1260,
          1261,
          1262,
          1263,
          1264,
          1265,
          1266,
          1267,
          1268,
          1269,
          1270,
          1271,
          1272,
          1273,
          1274,
          1275,
          1276,
          1277,
          1278,
          1279,
          1280,
          1281,
          1282,
          1283,
          1284,
          1285,
          1286,
          1287,
          1288,
          1289,
          1290,
          1291,
          1292,
          1293,
          1294,
          1295,
          1296,
          1297,
          1298,
          1299,
          1300,
          1301,
          1302,
          1303,
          1304,
          1305,
          1306,
          1307,
          1308,
          1309,
          1310,
          1311,
          1312,
          1313,
          1314,
          1315,
          1316,
          1317,
          1318,
          1319,
          1320,
          1321,
          1322,
          1323,
          1324,
          1325,
          1326,
          1327,
          1328,
          1329,
          1330,
          1331,
          1332,
          1333,
          1334,
          1335,
          1336,
          1337,
          1338,
          1339,
          1340,
          1341,
          1342,
          1343,
          1344,
          1345,
          1346,
          1347,
          1348,
          1349,
          1350,
          1351,
          1352,
          1353,
          1354,
          1355,
          1356,
          1357,
          1358,
          1359,
          1360,
          1361,
          1362,
          1363,
          1364,
          1365,
          1366,
          1367,
          1368,
          1369,
          1370,
          1371,
          1372,
          1373,
          1374,
          1375,
          1376,
          1377,
          1378,
          1379,
          1380,
          1381,
          1382,
          1383,
          1384,
          1385,
          1386,
          1387,
          1388,
          1389,
          1390,
          1391,
          1392,
          1393,
          1394,
          1395,
          1396,
          1397,
          1398,
          1399,
          1400,
          1401,
          1402,
          1403,
          1404,
          1405,
          1406,
          1407,
          1408,
          1409,
          1410,
          1411,
          1412,
          1413,
          1414,
          1415,
          1416,
          1417,
          1418,
          1419,
          1420,
          1421,
          1422,
          1423,
          1424,
          1425,
          1426,
          1427,
          1428,
          1429,
          1430,
          1431,
          1432,
          1433,
          1434,
          1435,
          1436,
          1437,
          1438,
          1439,
          1440,
          1441,
          1442,
          1443,
          1444,
          1445,
          1446,
          1447,
          1448,
          1449,
          1450,
          1451,
          1452,
          1453,
          1454,
          1455,
          1456,
          1457,
          1458,
          1459,
          1460,
          1461,
          1462,
          1463,
          1464,
          1465,
          1466,
          1467,
          1468,
          1469,
          1470,
          1471,
          1472,
          1473,
          1474,
          1475,
          1476,
          1477,
          1478,
          1479,
          1480,
          1481,
          1482,
          1483,
          1484,
          1485,
          1486,
          1487,
          1488,
          1489,
          1490,
          1491,
          1492,
          1493,
          1494,
          1495,
          1496,
          1497,
          1498,
          1499,
          1500,
          1501,
          1502,
          1503,
          1504,
          1505,
          1506,
          1507,
          1508,
          1509,
          1510,
          1511,
          1512,
          1513,
          1514,
          1515,
          1516,
          1517,
          1518,
          1519,
          1520,
          1521,
          1522,
          1523,
          1524,
          1525,
          1526,
          1527,
          1528,
          1529,
          1530,
          1531,
          1532,
          1533,
          1534,
          1535,
          1536,
          1537,
          1538,
          1539,
          1540,
          1541,
          1542,
          1543,
          1544,
          1545,
          1546,
          1547,
          1548,
          1549,
          1550,
          1551,
          1552,
          1553,
          1554,
          1555,
          1556,
          1557,
          1558,
          1559,
          1560,
          1561,
          1562,
          1563,
          1564,
          1565,
          1566,
          1567,
          1568,
          1569,
          1570,
          1571,
          1572,
          1573,
          1574,
          1575,
          1576,
          1577,
          1578,
          1579,
          1580,
          1581,
          1582,
          1583,
          1584,
          1585,
          1586,
          1587,
          1588,
          1589,
          1590,
          1591,
          1592,
          1593,
          1594,
          1595,
          1596,
          1597,
          1598,
          1599,
          1600,
          1601,
          1602,
          1603,
          1604,
          1605,
          1606,
          1607,
          1608,
          1609,
          1610,
          1611,
          1612,
          1613,
          1614,
          1615,
          1616,
          1617,
          1618,
          1619,
          1620,
          1621,
          1622,
          1623,
          1624,
          1625,
          1626,
          1627,
          1628,
          1629,
          1630,
          1631,
          1632,
          1633,
          1634,
          1635,
          1636,
          1637,
          1638,
          1639,
          1640,
          1641,
          1642,
          1643,
          1644,
          1645,
          1646,
          1647,
          1648,
          1649,
          1650,
          1651,
          1652,
          1653,
          1654,
          1655,
          1656,
          1657,
          1658,
          1659,
          1660,
          1661,
          1662,
          1663,
          1664,
          1665,
          1666,
          1667,
          1668,
          1669,
          1670,
          1671,
          1672,
          1673,
          1674,
          1675,
          1676,
          1677,
          1678,
          1679,
          1680,
          1681,
          1682,
          1683,
          1684,
          1685,
          1686,
          1687,
          1688,
          1689,
          1690,
          1691,
          1692,
          1693,
          1694,
          1695,
          1696,
          1697,
          1698,
          1699,
          1700,
          1701,
          1702,
          1703,
          1704,
          1705,
          1706,
          1707,
          1708,
          1709,
          1710,
          1711,
          1712,
          1713,
          1714,
          1715,
          1716,
          1717,
          1718,
          1719,
          1720,
          1721,
          1722,
          1723,
          1724,
          1725,
          1726,
          1727,
          1728,
          1729,
          1730,
          1731,
          1732,
          1733,
          1734,
          1735,
          1736,
          1737,
          1738,
          1739,
          1740,
          1741,
          1742,
          1743,
          1744,
          1745,
          1746,
          1747,
          1748,
          1749,
          1750,
          1751,
          1752,
          1753,
          1754,
          1755,
          1756,
          1757,
          1758,
          1759,
          1760,
          1761,
          1762,
          1763,
          1764,
          1765,
          1766,
          1767,
          1768,
          1769,
          1770,
          1771,
          1772,
          1773,
          1774,
          1775,
          1776,
          1777,
          1778,
          1779,
          1780,
          1781,
          1782,
          1783,
          1784,
          1785,
          1786,
          1787,
          1788,
          1789,
          1790,
          1791,
          1792,
          1793,
          1794,
          1795,
          1796,
          1797,
          1798,
          1799,
          1800,
          1801,
          1802,
          1803,
          1804,
          1805,
          1806,
          1807,
          1808,
          1809,
          1810,
          1811,
          1812,
          1813,
          1814,
          1815,
          1816,
          1817,
          1818,
          1819,
          1820,
          1821,
          1822,
          1823,
          1824,
          1825,
          1826,
          1827,
          1828,
          1829,
          1830,
          1831,
          1832,
          1833,
          1834,
          1835,
          1836,
          1837,
          1838,
          1839,
          1840,
          1841,
          1842,
          1843,
          1844,
          1845,
          1846,
          1847,
          1848,
          1849,
          1850,
          1851,
          1852,
          1853,
          1854,
          1855,
          1856,
          1857,
          1858,
          1859,
          1860,
          1861,
          1862,
          1863,
          1864,
          1865,
          1866,
          1867,
          1868,
          1869,
          1870,
          1871,
          1872,
          1873,
          1874,
          1875,
          1876,
          1877,
          1878,
          1879,
          1880,
          1881,
          1882,
          1883,
          1884,
          1885,
          1886,
          1887,
          1888,
          1889,
          1890,
          1891,
          1892,
          1893,
          1894,
          1895,
          1896,
          1897,
          1898,
          1899,
          1900,
          1901,
          1902,
          1903,
          1904,
          1905,
          1906,
          1907,
          1908,
          1909,
          1910,
          1911,
          1912,
          1913,
          1914,
          1915,
          1916,
          1917,
          1918,
          1919,
          1920,
          1921,
          1922,
          1923,
          1924,
          1925,
          1926,
          1927,
          1928,
          1929,
          1930,
          1931,
          1932,
          1933,
          1934,
          1935,
          1936,
          1937,
          1938,
          1939,
          1940,
          1941,
          1942,
          1943,
          1944,
          1945,
          1946,
          1947,
          1948,
          1949,
          1950,
          1951,
          1952,
          1953,
          1954,
          1955,
          1956,
          1957,
          1958,
          1959,
          1960,
          1961,
          1962,
          1963,
          1964,
          1965,
          1966,
          1967,
          1968,
          1969,
          1970,
          1971,
          1972,
          1973,
          1974,
          1975,
          1976,
          1977,
          1978,
          1979,
          1980,
          1981,
          1982,
          1983,
          1984,
          1985,
          1986,
          1987,
          1988,
          1989,
          1990,
          1991,
          1992,
          1993,
          1994,
          1995,
          1996,
          1997,
          1998,
          1999,
          2000
         ],
         "xaxis": "x",
         "y": [
          1,
          2,
          3,
          1,
          2,
          4,
          5,
          6,
          7,
          8,
          9,
          10,
          1,
          11,
          12,
          13,
          14,
          15,
          3,
          16,
          1,
          17,
          1,
          18,
          19,
          2,
          2,
          20,
          4,
          1,
          1,
          2,
          21,
          22,
          1,
          23,
          24,
          1,
          3,
          5,
          4,
          25,
          26,
          1,
          5,
          1,
          27,
          6,
          2,
          7,
          3,
          28,
          29,
          30,
          3,
          31,
          1,
          2,
          3,
          32,
          33,
          34,
          2,
          35,
          36,
          37,
          38,
          4,
          39,
          1,
          40,
          1,
          41,
          4,
          42,
          4,
          2,
          5,
          43,
          2,
          1,
          44,
          1,
          8,
          5,
          45,
          2,
          3,
          6,
          46,
          47,
          2,
          9,
          4,
          48,
          3,
          6,
          49,
          50,
          3,
          2,
          1,
          4,
          3,
          4,
          5,
          1,
          10,
          1,
          4,
          5,
          51,
          7,
          52,
          8,
          1,
          53,
          5,
          7,
          6,
          5,
          5,
          8,
          2,
          11,
          1,
          9,
          6,
          12,
          9,
          54,
          55,
          2,
          1,
          7,
          13,
          6,
          10,
          14,
          3,
          4,
          56,
          6,
          57,
          58,
          5,
          10,
          6,
          8,
          7,
          59,
          15,
          60,
          3,
          16,
          17,
          9,
          11,
          2,
          3,
          7,
          18,
          12,
          61,
          7,
          10,
          62,
          6,
          63,
          13,
          2,
          11,
          14,
          6,
          15,
          4,
          19,
          2,
          16,
          3,
          8,
          64,
          65,
          17,
          4,
          66,
          12,
          7,
          67,
          2,
          18,
          7,
          19,
          4,
          8,
          68,
          3,
          1,
          69,
          20,
          70,
          1,
          21,
          9,
          13,
          22,
          8,
          20,
          71,
          23,
          11,
          10,
          72,
          14,
          24,
          15,
          1,
          25,
          16,
          8,
          3,
          26,
          73,
          74,
          75,
          17,
          5,
          5,
          18,
          76,
          9,
          19,
          27,
          4,
          6,
          77,
          21,
          1,
          78,
          79,
          80,
          20,
          12,
          28,
          1,
          10,
          1,
          22,
          3,
          81,
          29,
          82,
          23,
          30,
          24,
          83,
          13,
          9,
          14,
          84,
          85,
          86,
          10,
          7,
          87,
          31,
          1,
          1,
          88,
          89,
          8,
          9,
          90,
          32,
          21,
          1,
          2,
          1,
          2,
          15,
          11,
          11,
          16,
          25,
          4,
          3,
          91,
          2,
          2,
          2,
          5,
          5,
          33,
          34,
          92,
          6,
          4,
          35,
          12,
          36,
          93,
          94,
          95,
          37,
          96,
          97,
          26,
          98,
          2,
          99,
          10,
          6,
          17,
          100,
          22,
          38,
          2,
          23,
          101,
          102,
          39,
          103,
          104,
          27,
          13,
          40,
          28,
          24,
          11,
          25,
          41,
          18,
          9,
          42,
          29,
          6,
          10,
          7,
          12,
          13,
          30,
          1,
          105,
          2,
          11,
          26,
          7,
          14,
          19,
          2,
          106,
          3,
          107,
          11,
          43,
          5,
          44,
          45,
          46,
          20,
          3,
          1,
          5,
          108,
          31,
          32,
          12,
          27,
          33,
          7,
          15,
          8,
          13,
          8,
          47,
          3,
          2,
          14,
          7,
          15,
          109,
          1,
          1,
          110,
          28,
          14,
          3,
          1,
          29,
          1,
          8,
          9,
          30,
          16,
          16,
          15,
          17,
          21,
          48,
          49,
          3,
          9,
          10,
          17,
          111,
          8,
          112,
          113,
          2,
          10,
          50,
          51,
          3,
          9,
          16,
          31,
          10,
          52,
          1,
          3,
          114,
          53,
          4,
          4,
          115,
          22,
          17,
          1,
          2,
          23,
          54,
          4,
          55,
          56,
          116,
          4,
          12,
          2,
          57,
          24,
          117,
          118,
          34,
          11,
          58,
          59,
          12,
          119,
          12,
          3,
          18,
          120,
          121,
          122,
          60,
          18,
          19,
          11,
          18,
          61,
          5,
          1,
          123,
          124,
          13,
          125,
          5,
          32,
          20,
          11,
          19,
          62,
          126,
          127,
          128,
          20,
          129,
          4,
          130,
          131,
          6,
          21,
          132,
          35,
          13,
          19,
          12,
          133,
          134,
          2,
          135,
          63,
          36,
          2,
          21,
          4,
          64,
          33,
          65,
          14,
          136,
          66,
          6,
          22,
          137,
          34,
          23,
          35,
          36,
          5,
          13,
          138,
          139,
          5,
          67,
          140,
          1,
          37,
          4,
          1,
          14,
          25,
          141,
          38,
          4,
          24,
          22,
          1,
          1,
          23,
          142,
          15,
          37,
          3,
          143,
          144,
          16,
          68,
          20,
          17,
          69,
          25,
          39,
          26,
          6,
          145,
          70,
          2,
          26,
          40,
          71,
          38,
          146,
          3,
          147,
          148,
          5,
          72,
          6,
          2,
          73,
          74,
          3,
          7,
          75,
          76,
          27,
          77,
          5,
          4,
          78,
          39,
          79,
          6,
          27,
          149,
          80,
          3,
          81,
          5,
          28,
          7,
          5,
          40,
          7,
          15,
          24,
          16,
          82,
          6,
          3,
          29,
          17,
          7,
          6,
          83,
          28,
          150,
          84,
          14,
          21,
          3,
          1,
          30,
          151,
          152,
          6,
          85,
          31,
          153,
          3,
          154,
          86,
          9,
          87,
          7,
          8,
          155,
          156,
          22,
          7,
          88,
          29,
          157,
          15,
          32,
          1,
          6,
          89,
          41,
          16,
          17,
          30,
          158,
          9,
          90,
          4,
          2,
          33,
          34,
          23,
          159,
          18,
          42,
          43,
          91,
          18,
          24,
          19,
          41,
          42,
          35,
          20,
          160,
          92,
          161,
          4,
          93,
          94,
          7,
          1,
          95,
          2,
          3,
          3,
          4,
          44,
          4,
          2,
          4,
          162,
          96,
          97,
          13,
          98,
          19,
          99,
          4,
          45,
          100,
          10,
          31,
          2,
          163,
          101,
          8,
          5,
          102,
          18,
          164,
          165,
          1,
          103,
          32,
          33,
          8,
          166,
          9,
          19,
          46,
          167,
          168,
          104,
          4,
          105,
          20,
          169,
          3,
          20,
          34,
          5,
          36,
          170,
          1,
          21,
          106,
          171,
          10,
          8,
          172,
          8,
          107,
          5,
          21,
          108,
          173,
          109,
          1,
          43,
          21,
          37,
          174,
          175,
          110,
          6,
          4,
          22,
          9,
          111,
          112,
          113,
          44,
          2,
          5,
          114,
          22,
          47,
          35,
          22,
          115,
          23,
          116,
          4,
          10,
          23,
          23,
          24,
          176,
          9,
          1,
          38,
          24,
          48,
          177,
          117,
          11,
          49,
          24,
          12,
          6,
          5,
          2,
          25,
          11,
          1,
          10,
          25,
          118,
          178,
          45,
          26,
          46,
          179,
          39,
          2,
          7,
          2,
          50,
          12,
          180,
          40,
          181,
          5,
          3,
          41,
          26,
          182,
          47,
          119,
          120,
          27,
          121,
          183,
          48,
          11,
          49,
          184,
          122,
          123,
          28,
          124,
          13,
          125,
          185,
          6,
          126,
          25,
          186,
          7,
          26,
          51,
          52,
          10,
          6,
          27,
          53,
          127,
          128,
          187,
          1,
          188,
          36,
          4,
          50,
          25,
          3,
          2,
          54,
          129,
          5,
          189,
          8,
          130,
          55,
          27,
          29,
          12,
          25,
          42,
          1,
          131,
          190,
          132,
          30,
          9,
          133,
          12,
          28,
          11,
          11,
          56,
          1,
          43,
          14,
          51,
          12,
          134,
          57,
          191,
          8,
          1,
          44,
          13,
          1,
          13,
          192,
          135,
          14,
          193,
          136,
          194,
          29,
          30,
          45,
          37,
          58,
          7,
          31,
          195,
          38,
          3,
          1,
          14,
          4,
          28,
          9,
          137,
          39,
          10,
          15,
          138,
          8,
          139,
          59,
          140,
          60,
          4,
          31,
          29,
          141,
          196,
          32,
          3,
          197,
          46,
          142,
          30,
          198,
          31,
          5,
          32,
          15,
          1,
          16,
          61,
          9,
          199,
          200,
          33,
          40,
          1,
          143,
          201,
          17,
          7,
          16,
          1,
          18,
          32,
          33,
          2,
          10,
          6,
          62,
          202,
          34,
          5,
          17,
          18,
          1,
          144,
          1,
          1,
          15,
          3,
          26,
          9,
          203,
          145,
          47,
          19,
          41,
          204,
          8,
          205,
          11,
          20,
          4,
          26,
          9,
          12,
          27,
          10,
          63,
          206,
          1,
          33,
          52,
          207,
          21,
          146,
          10,
          147,
          148,
          208,
          22,
          209,
          42,
          3,
          27,
          149,
          48,
          150,
          43,
          34,
          151,
          210,
          28,
          211,
          152,
          35,
          212,
          28,
          36,
          11,
          213,
          153,
          12,
          214,
          154,
          6,
          23,
          24,
          35,
          3,
          44,
          215,
          36,
          155,
          13,
          156,
          16,
          6,
          37,
          157,
          158,
          11,
          216,
          38,
          159,
          53,
          8,
          160,
          2,
          217,
          218,
          13,
          3,
          39,
          29,
          45,
          5,
          25,
          37,
          11,
          219,
          220,
          40,
          64,
          5,
          17,
          12,
          6,
          41,
          42,
          12,
          18,
          161,
          26,
          162,
          38,
          46,
          221,
          163,
          47,
          222,
          39,
          7,
          43,
          14,
          44,
          164,
          13,
          30,
          223,
          224,
          15,
          14,
          34,
          48,
          165,
          19,
          31,
          13,
          3,
          225,
          2,
          54,
          20,
          65,
          166,
          29,
          167,
          1,
          168,
          45,
          32,
          7,
          55,
          19,
          49,
          13,
          46,
          3,
          226,
          21,
          227,
          56,
          35,
          14,
          40,
          47,
          13,
          2,
          169,
          170,
          171,
          4,
          172,
          228,
          48,
          66,
          33,
          6,
          6,
          173,
          15,
          174,
          9,
          229,
          175,
          5,
          22,
          49,
          27,
          230,
          176,
          41,
          177,
          178,
          179,
          36,
          49,
          20,
          50,
          21,
          4,
          14,
          7,
          2,
          231,
          6,
          232,
          50,
          5,
          2,
          57,
          16,
          180,
          8,
          7,
          67,
          1,
          7,
          15,
          6,
          51,
          181,
          8,
          1,
          16,
          4,
          37,
          23,
          182,
          183,
          5,
          2,
          14,
          16,
          22,
          17,
          24,
          25,
          233,
          50,
          184,
          9,
          38,
          2,
          52,
          51,
          51,
          234,
          235,
          6,
          236,
          53,
          28,
          3,
          12,
          237,
          4,
          185,
          238,
          29,
          18,
          54,
          26,
          30,
          186,
          58,
          17,
          187,
          68,
          31,
          239,
          52,
          8,
          55,
          52,
          27,
          15,
          240,
          56,
          30,
          42,
          241,
          188,
          189,
          53,
          69,
          190,
          242,
          57,
          17,
          53,
          1,
          58,
          5,
          6,
          32,
          70,
          191,
          18,
          192,
          193,
          243,
          244,
          245,
          246,
          247,
          59,
          19,
          31,
          248,
          39,
          33,
          60,
          54,
          249,
          34,
          1,
          9,
          28,
          18,
          43,
          8,
          194,
          54,
          195,
          34,
          20,
          250,
          251,
          196,
          252,
          23,
          253,
          7,
          19,
          5,
          20,
          44,
          29,
          197,
          21,
          30,
          16,
          21,
          198,
          1,
          199,
          200,
          61,
          201,
          17,
          7,
          6,
          10,
          62,
          55,
          71,
          72,
          22,
          63,
          45,
          35,
          254,
          40,
          5,
          202,
          19,
          203,
          7,
          56,
          204,
          22,
          255,
          23,
          32,
          205,
          57,
          23,
          4,
          206,
          18,
          8,
          46,
          19,
          207,
          64,
          59,
          41,
          42,
          208,
          65,
          11,
          24,
          209,
          73,
          55,
          1,
          210,
          256,
          58,
          66,
          211,
          67,
          20,
          212,
          1,
          74,
          257,
          56,
          213,
          24,
          31,
          2,
          68,
          57,
          69,
          58,
          35,
          258,
          1,
          214,
          3,
          4,
          32,
          24,
          259,
          33,
          10,
          1,
          25,
          8,
          9,
          34,
          260,
          70,
          215,
          71,
          216,
          2,
          75,
          72,
          20,
          1,
          217,
          26,
          59,
          261,
          9,
          35,
          262,
          263,
          264,
          3,
          265,
          14,
          218,
          76,
          43,
          36,
          10,
          27,
          77,
          266,
          11,
          60,
          219,
          73,
          7,
          10,
          61,
          28,
          74,
          220,
          221,
          78,
          44,
          29,
          30,
          1,
          75,
          267,
          222,
          37,
          2,
          11,
          60,
          45,
          8,
          2,
          223,
          224,
          8,
          76,
          79,
          225,
          4,
          33,
          268,
          226,
          25,
          6,
          31,
          9,
          38,
          269,
          12,
          77,
          270,
          32,
          227,
          228,
          6,
          4,
          1,
          26,
          39,
          2,
          271,
          229,
          13,
          3,
          62,
          21,
          22,
          78,
          230,
          36,
          2,
          61,
          231,
          40,
          37,
          8,
          79,
          12,
          59,
          23,
          7,
          272,
          41,
          2,
          25,
          24,
          38,
          80,
          2,
          4,
          39,
          232,
          15,
          273,
          274,
          62,
          233,
          275,
          1,
          21,
          81,
          63,
          27,
          34,
          28,
          7,
          234,
          2,
          40,
          276,
          82,
          277,
          1,
          46,
          80,
          63,
          235,
          1,
          9,
          278,
          33,
          29,
          60,
          279,
          83,
          84,
          81,
          10,
          280,
          7,
          82,
          11,
          22,
          85,
          26,
          9,
          64,
          64,
          65,
          25,
          42,
          35,
          6,
          8,
          27,
          30,
          236,
          43,
          8,
          23,
          86,
          8,
          7,
          34,
          281,
          237,
          238,
          239,
          240,
          10,
          47,
          24,
          28,
          282,
          35,
          241,
          242,
          87,
          1,
          283,
          243,
          10,
          47,
          8,
          1,
          44,
          244,
          88,
          45,
          245,
          7,
          246,
          9,
          284,
          3,
          89,
          285,
          247,
          248,
          26,
          48,
          25,
          36,
          286,
          65,
          83,
          66,
          5,
          11,
          36,
          66,
          3,
          90,
          8,
          29,
          91,
          2,
          249,
          92,
          48,
          250,
          2,
          1,
          26,
          287,
          10,
          46,
          36,
          5,
          8,
          84,
          251,
          3,
          252,
          27,
          31,
          37,
          11,
          93,
          67,
          47,
          14,
          9,
          3,
          253,
          288,
          254,
          28,
          15,
          289,
          61,
          41,
          29,
          255,
          290,
          9,
          13,
          291,
          42,
          94,
          85,
          292,
          256,
          293,
          12,
          257,
          294,
          16,
          43,
          258,
          2,
          48,
          30,
          295,
          27,
          296,
          259,
          16,
          95,
          86,
          11,
          1,
          38,
          297,
          49,
          67,
          9,
          6,
          96,
          12,
          1,
          10,
          97,
          2,
          4,
          3,
          260,
          12,
          12,
          1,
          298,
          261,
          37,
          17,
          262,
          30,
          299,
          44,
          263,
          300,
          7,
          45,
          31,
          50,
          37,
          301,
          302,
          10,
          303,
          32,
          39,
          264,
          38,
          49,
          98,
          304,
          305,
          51,
          99,
          52,
          40,
          62,
          63,
          87,
          100,
          1,
          28,
          7,
          50,
          41,
          265,
          32,
          306,
          33,
          2,
          15,
          31,
          266,
          11,
          267,
          268,
          34,
          269,
          49,
          46,
          270,
          68,
          271,
          50,
          272,
          53,
          8,
          64,
          54,
          33,
          3,
          32,
          42,
          12,
          35,
          273,
          307,
          13,
          4,
          11,
          6,
          308,
          38,
          274,
          275,
          47,
          88,
          1,
          29,
          7,
          4,
          33,
          276,
          101,
          34,
          2,
          102,
          10,
          55,
          309,
          51,
          277,
          13,
          36,
          13,
          310,
          51,
          278,
          311,
          43,
          279,
          280,
          44,
          5,
          34,
          10,
          312,
          18,
          313,
          281,
          282,
          314,
          13,
          103,
          283,
          315,
          284,
          316,
          56,
          35,
          45,
          14,
          104,
          89,
          285,
          1,
          105,
          35,
          90,
          286,
          317,
          68,
          46,
          3,
          16,
          287,
          48,
          318,
          37,
          49,
          52,
          288,
          289,
          50,
          319,
          36,
          30,
          290,
          17,
          53,
          291,
          19,
          320,
          2,
          37,
          292,
          65,
          14,
          293,
          321,
          106,
          47,
          38,
          54,
          294,
          14,
          107,
          55,
          295,
          296,
          8,
          56,
          297,
          322,
          3,
          39,
          3,
          323,
          108,
          66,
          69,
          36,
          4,
          70,
          324,
          48,
          3,
          109,
          39,
          298,
          18,
          69,
          51,
          38,
          2,
          2,
          57,
          11,
          15,
          20,
          58,
          10,
          325,
          52,
          5,
          59,
          60,
          39,
          14,
          6,
          110,
          71,
          37,
          38,
          111,
          53,
          7,
          61,
          57,
          91,
          40,
          1,
          299,
          2,
          49,
          39,
          4,
          9,
          15,
          5,
          19,
          1,
          9,
          72,
          31,
          92,
          62,
          326,
          20,
          327,
          54,
          112,
          328,
          300,
          73,
          39,
          52,
          1,
          16,
          5,
          301,
          12,
          329,
          302,
          40,
          50,
          41,
          74,
          303,
          51,
          304,
          305,
          17,
          113,
          306,
          307,
          3,
          308,
          114,
          93,
          6,
          32,
          52,
          42,
          63,
          15,
          40,
          75,
          309,
          330,
          16,
          41,
          9,
          53,
          33,
          40,
          331,
          310,
          76,
          311,
          43,
          1,
          312,
          13,
          4,
          313,
          2,
          314,
          332,
          54,
          64,
          55
         ],
         "yaxis": "y"
        }
       ],
       "layout": {
        "legend": {
         "tracegroupgap": 0
        },
        "template": {
         "data": {
          "bar": [
           {
            "error_x": {
             "color": "#2a3f5f"
            },
            "error_y": {
             "color": "#2a3f5f"
            },
            "marker": {
             "line": {
              "color": "#E5ECF6",
              "width": 0.5
             },
             "pattern": {
              "fillmode": "overlay",
              "size": 10,
              "solidity": 0.2
             }
            },
            "type": "bar"
           }
          ],
          "barpolar": [
           {
            "marker": {
             "line": {
              "color": "#E5ECF6",
              "width": 0.5
             },
             "pattern": {
              "fillmode": "overlay",
              "size": 10,
              "solidity": 0.2
             }
            },
            "type": "barpolar"
           }
          ],
          "carpet": [
           {
            "aaxis": {
             "endlinecolor": "#2a3f5f",
             "gridcolor": "white",
             "linecolor": "white",
             "minorgridcolor": "white",
             "startlinecolor": "#2a3f5f"
            },
            "baxis": {
             "endlinecolor": "#2a3f5f",
             "gridcolor": "white",
             "linecolor": "white",
             "minorgridcolor": "white",
             "startlinecolor": "#2a3f5f"
            },
            "type": "carpet"
           }
          ],
          "choropleth": [
           {
            "colorbar": {
             "outlinewidth": 0,
             "ticks": ""
            },
            "type": "choropleth"
           }
          ],
          "contour": [
           {
            "colorbar": {
             "outlinewidth": 0,
             "ticks": ""
            },
            "colorscale": [
             [
              0,
              "#0d0887"
             ],
             [
              0.1111111111111111,
              "#46039f"
             ],
             [
              0.2222222222222222,
              "#7201a8"
             ],
             [
              0.3333333333333333,
              "#9c179e"
             ],
             [
              0.4444444444444444,
              "#bd3786"
             ],
             [
              0.5555555555555556,
              "#d8576b"
             ],
             [
              0.6666666666666666,
              "#ed7953"
             ],
             [
              0.7777777777777778,
              "#fb9f3a"
             ],
             [
              0.8888888888888888,
              "#fdca26"
             ],
             [
              1,
              "#f0f921"
             ]
            ],
            "type": "contour"
           }
          ],
          "contourcarpet": [
           {
            "colorbar": {
             "outlinewidth": 0,
             "ticks": ""
            },
            "type": "contourcarpet"
           }
          ],
          "heatmap": [
           {
            "colorbar": {
             "outlinewidth": 0,
             "ticks": ""
            },
            "colorscale": [
             [
              0,
              "#0d0887"
             ],
             [
              0.1111111111111111,
              "#46039f"
             ],
             [
              0.2222222222222222,
              "#7201a8"
             ],
             [
              0.3333333333333333,
              "#9c179e"
             ],
             [
              0.4444444444444444,
              "#bd3786"
             ],
             [
              0.5555555555555556,
              "#d8576b"
             ],
             [
              0.6666666666666666,
              "#ed7953"
             ],
             [
              0.7777777777777778,
              "#fb9f3a"
             ],
             [
              0.8888888888888888,
              "#fdca26"
             ],
             [
              1,
              "#f0f921"
             ]
            ],
            "type": "heatmap"
           }
          ],
          "heatmapgl": [
           {
            "colorbar": {
             "outlinewidth": 0,
             "ticks": ""
            },
            "colorscale": [
             [
              0,
              "#0d0887"
             ],
             [
              0.1111111111111111,
              "#46039f"
             ],
             [
              0.2222222222222222,
              "#7201a8"
             ],
             [
              0.3333333333333333,
              "#9c179e"
             ],
             [
              0.4444444444444444,
              "#bd3786"
             ],
             [
              0.5555555555555556,
              "#d8576b"
             ],
             [
              0.6666666666666666,
              "#ed7953"
             ],
             [
              0.7777777777777778,
              "#fb9f3a"
             ],
             [
              0.8888888888888888,
              "#fdca26"
             ],
             [
              1,
              "#f0f921"
             ]
            ],
            "type": "heatmapgl"
           }
          ],
          "histogram": [
           {
            "marker": {
             "pattern": {
              "fillmode": "overlay",
              "size": 10,
              "solidity": 0.2
             }
            },
            "type": "histogram"
           }
          ],
          "histogram2d": [
           {
            "colorbar": {
             "outlinewidth": 0,
             "ticks": ""
            },
            "colorscale": [
             [
              0,
              "#0d0887"
             ],
             [
              0.1111111111111111,
              "#46039f"
             ],
             [
              0.2222222222222222,
              "#7201a8"
             ],
             [
              0.3333333333333333,
              "#9c179e"
             ],
             [
              0.4444444444444444,
              "#bd3786"
             ],
             [
              0.5555555555555556,
              "#d8576b"
             ],
             [
              0.6666666666666666,
              "#ed7953"
             ],
             [
              0.7777777777777778,
              "#fb9f3a"
             ],
             [
              0.8888888888888888,
              "#fdca26"
             ],
             [
              1,
              "#f0f921"
             ]
            ],
            "type": "histogram2d"
           }
          ],
          "histogram2dcontour": [
           {
            "colorbar": {
             "outlinewidth": 0,
             "ticks": ""
            },
            "colorscale": [
             [
              0,
              "#0d0887"
             ],
             [
              0.1111111111111111,
              "#46039f"
             ],
             [
              0.2222222222222222,
              "#7201a8"
             ],
             [
              0.3333333333333333,
              "#9c179e"
             ],
             [
              0.4444444444444444,
              "#bd3786"
             ],
             [
              0.5555555555555556,
              "#d8576b"
             ],
             [
              0.6666666666666666,
              "#ed7953"
             ],
             [
              0.7777777777777778,
              "#fb9f3a"
             ],
             [
              0.8888888888888888,
              "#fdca26"
             ],
             [
              1,
              "#f0f921"
             ]
            ],
            "type": "histogram2dcontour"
           }
          ],
          "mesh3d": [
           {
            "colorbar": {
             "outlinewidth": 0,
             "ticks": ""
            },
            "type": "mesh3d"
           }
          ],
          "parcoords": [
           {
            "line": {
             "colorbar": {
              "outlinewidth": 0,
              "ticks": ""
             }
            },
            "type": "parcoords"
           }
          ],
          "pie": [
           {
            "automargin": true,
            "type": "pie"
           }
          ],
          "scatter": [
           {
            "fillpattern": {
             "fillmode": "overlay",
             "size": 10,
             "solidity": 0.2
            },
            "type": "scatter"
           }
          ],
          "scatter3d": [
           {
            "line": {
             "colorbar": {
              "outlinewidth": 0,
              "ticks": ""
             }
            },
            "marker": {
             "colorbar": {
              "outlinewidth": 0,
              "ticks": ""
             }
            },
            "type": "scatter3d"
           }
          ],
          "scattercarpet": [
           {
            "marker": {
             "colorbar": {
              "outlinewidth": 0,
              "ticks": ""
             }
            },
            "type": "scattercarpet"
           }
          ],
          "scattergeo": [
           {
            "marker": {
             "colorbar": {
              "outlinewidth": 0,
              "ticks": ""
             }
            },
            "type": "scattergeo"
           }
          ],
          "scattergl": [
           {
            "marker": {
             "colorbar": {
              "outlinewidth": 0,
              "ticks": ""
             }
            },
            "type": "scattergl"
           }
          ],
          "scattermapbox": [
           {
            "marker": {
             "colorbar": {
              "outlinewidth": 0,
              "ticks": ""
             }
            },
            "type": "scattermapbox"
           }
          ],
          "scatterpolar": [
           {
            "marker": {
             "colorbar": {
              "outlinewidth": 0,
              "ticks": ""
             }
            },
            "type": "scatterpolar"
           }
          ],
          "scatterpolargl": [
           {
            "marker": {
             "colorbar": {
              "outlinewidth": 0,
              "ticks": ""
             }
            },
            "type": "scatterpolargl"
           }
          ],
          "scatterternary": [
           {
            "marker": {
             "colorbar": {
              "outlinewidth": 0,
              "ticks": ""
             }
            },
            "type": "scatterternary"
           }
          ],
          "surface": [
           {
            "colorbar": {
             "outlinewidth": 0,
             "ticks": ""
            },
            "colorscale": [
             [
              0,
              "#0d0887"
             ],
             [
              0.1111111111111111,
              "#46039f"
             ],
             [
              0.2222222222222222,
              "#7201a8"
             ],
             [
              0.3333333333333333,
              "#9c179e"
             ],
             [
              0.4444444444444444,
              "#bd3786"
             ],
             [
              0.5555555555555556,
              "#d8576b"
             ],
             [
              0.6666666666666666,
              "#ed7953"
             ],
             [
              0.7777777777777778,
              "#fb9f3a"
             ],
             [
              0.8888888888888888,
              "#fdca26"
             ],
             [
              1,
              "#f0f921"
             ]
            ],
            "type": "surface"
           }
          ],
          "table": [
           {
            "cells": {
             "fill": {
              "color": "#EBF0F8"
             },
             "line": {
              "color": "white"
             }
            },
            "header": {
             "fill": {
              "color": "#C8D4E3"
             },
             "line": {
              "color": "white"
             }
            },
            "type": "table"
           }
          ]
         },
         "layout": {
          "annotationdefaults": {
           "arrowcolor": "#2a3f5f",
           "arrowhead": 0,
           "arrowwidth": 1
          },
          "autotypenumbers": "strict",
          "coloraxis": {
           "colorbar": {
            "outlinewidth": 0,
            "ticks": ""
           }
          },
          "colorscale": {
           "diverging": [
            [
             0,
             "#8e0152"
            ],
            [
             0.1,
             "#c51b7d"
            ],
            [
             0.2,
             "#de77ae"
            ],
            [
             0.3,
             "#f1b6da"
            ],
            [
             0.4,
             "#fde0ef"
            ],
            [
             0.5,
             "#f7f7f7"
            ],
            [
             0.6,
             "#e6f5d0"
            ],
            [
             0.7,
             "#b8e186"
            ],
            [
             0.8,
             "#7fbc41"
            ],
            [
             0.9,
             "#4d9221"
            ],
            [
             1,
             "#276419"
            ]
           ],
           "sequential": [
            [
             0,
             "#0d0887"
            ],
            [
             0.1111111111111111,
             "#46039f"
            ],
            [
             0.2222222222222222,
             "#7201a8"
            ],
            [
             0.3333333333333333,
             "#9c179e"
            ],
            [
             0.4444444444444444,
             "#bd3786"
            ],
            [
             0.5555555555555556,
             "#d8576b"
            ],
            [
             0.6666666666666666,
             "#ed7953"
            ],
            [
             0.7777777777777778,
             "#fb9f3a"
            ],
            [
             0.8888888888888888,
             "#fdca26"
            ],
            [
             1,
             "#f0f921"
            ]
           ],
           "sequentialminus": [
            [
             0,
             "#0d0887"
            ],
            [
             0.1111111111111111,
             "#46039f"
            ],
            [
             0.2222222222222222,
             "#7201a8"
            ],
            [
             0.3333333333333333,
             "#9c179e"
            ],
            [
             0.4444444444444444,
             "#bd3786"
            ],
            [
             0.5555555555555556,
             "#d8576b"
            ],
            [
             0.6666666666666666,
             "#ed7953"
            ],
            [
             0.7777777777777778,
             "#fb9f3a"
            ],
            [
             0.8888888888888888,
             "#fdca26"
            ],
            [
             1,
             "#f0f921"
            ]
           ]
          },
          "colorway": [
           "#636efa",
           "#EF553B",
           "#00cc96",
           "#ab63fa",
           "#FFA15A",
           "#19d3f3",
           "#FF6692",
           "#B6E880",
           "#FF97FF",
           "#FECB52"
          ],
          "font": {
           "color": "#2a3f5f"
          },
          "geo": {
           "bgcolor": "white",
           "lakecolor": "white",
           "landcolor": "#E5ECF6",
           "showlakes": true,
           "showland": true,
           "subunitcolor": "white"
          },
          "hoverlabel": {
           "align": "left"
          },
          "hovermode": "closest",
          "mapbox": {
           "style": "light"
          },
          "paper_bgcolor": "white",
          "plot_bgcolor": "#E5ECF6",
          "polar": {
           "angularaxis": {
            "gridcolor": "white",
            "linecolor": "white",
            "ticks": ""
           },
           "bgcolor": "#E5ECF6",
           "radialaxis": {
            "gridcolor": "white",
            "linecolor": "white",
            "ticks": ""
           }
          },
          "scene": {
           "xaxis": {
            "backgroundcolor": "#E5ECF6",
            "gridcolor": "white",
            "gridwidth": 2,
            "linecolor": "white",
            "showbackground": true,
            "ticks": "",
            "zerolinecolor": "white"
           },
           "yaxis": {
            "backgroundcolor": "#E5ECF6",
            "gridcolor": "white",
            "gridwidth": 2,
            "linecolor": "white",
            "showbackground": true,
            "ticks": "",
            "zerolinecolor": "white"
           },
           "zaxis": {
            "backgroundcolor": "#E5ECF6",
            "gridcolor": "white",
            "gridwidth": 2,
            "linecolor": "white",
            "showbackground": true,
            "ticks": "",
            "zerolinecolor": "white"
           }
          },
          "shapedefaults": {
           "line": {
            "color": "#2a3f5f"
           }
          },
          "ternary": {
           "aaxis": {
            "gridcolor": "white",
            "linecolor": "white",
            "ticks": ""
           },
           "baxis": {
            "gridcolor": "white",
            "linecolor": "white",
            "ticks": ""
           },
           "bgcolor": "#E5ECF6",
           "caxis": {
            "gridcolor": "white",
            "linecolor": "white",
            "ticks": ""
           }
          },
          "title": {
           "x": 0.05
          },
          "xaxis": {
           "automargin": true,
           "gridcolor": "white",
           "linecolor": "white",
           "ticks": "",
           "title": {
            "standoff": 15
           },
           "zerolinecolor": "white",
           "zerolinewidth": 2
          },
          "yaxis": {
           "automargin": true,
           "gridcolor": "white",
           "linecolor": "white",
           "ticks": "",
           "title": {
            "standoff": 15
           },
           "zerolinecolor": "white",
           "zerolinewidth": 2
          }
         }
        },
        "title": {
         "text": "Correlation between National and Global University Rankings"
        },
        "xaxis": {
         "anchor": "y",
         "domain": [
          0,
          1
         ],
         "title": {
          "text": "Global Rank"
         }
        },
        "yaxis": {
         "anchor": "x",
         "domain": [
          0,
          1
         ],
         "title": {
          "text": "National Rank"
         }
        }
       }
      }
     },
     "metadata": {},
     "output_type": "display_data"
    },
    {
     "data": {
      "application/vnd.plotly.v1+json": {
       "config": {
        "plotlyServerURL": "https://plot.ly"
       },
       "data": [
        {
         "alignmentgroup": "True",
         "hovertemplate": "National Rank=%{x}<br>Count=%{y}<extra></extra>",
         "legendgroup": "",
         "marker": {
          "color": "#636efa",
          "pattern": {
           "shape": ""
          }
         },
         "name": "",
         "offsetgroup": "",
         "orientation": "v",
         "showlegend": false,
         "textposition": "auto",
         "type": "bar",
         "x": [
          1,
          2,
          3,
          4,
          5,
          6,
          7,
          8,
          9,
          10,
          11,
          12,
          13,
          14,
          15,
          16,
          17,
          18,
          19,
          20,
          21,
          22,
          23,
          24,
          25,
          26,
          27,
          28,
          29,
          30,
          31,
          32,
          33,
          34,
          35,
          36,
          37,
          38,
          39,
          40,
          41,
          42,
          43,
          44,
          45,
          46,
          47,
          48,
          49,
          50,
          51,
          52,
          53,
          54,
          55,
          56,
          57,
          58,
          59,
          60,
          61,
          62,
          63,
          64,
          65,
          66,
          67,
          68,
          69,
          70,
          71,
          72,
          73,
          74,
          75,
          76,
          77,
          78,
          79,
          80,
          81,
          82,
          83,
          84,
          85,
          86,
          87,
          88,
          89,
          90,
          91,
          92,
          93,
          94,
          95,
          96,
          97,
          98,
          99,
          100,
          101,
          102,
          103,
          104,
          105,
          106,
          107,
          108,
          109,
          110,
          111,
          112,
          113,
          114,
          115,
          116,
          117,
          118,
          119,
          120,
          121,
          122,
          123,
          124,
          125,
          126,
          127,
          128,
          129,
          130,
          131,
          132,
          133,
          134,
          135,
          136,
          137,
          138,
          139,
          140,
          141,
          142,
          143,
          144,
          145,
          146,
          147,
          148,
          149,
          150,
          151,
          152,
          153,
          154,
          155,
          156,
          157,
          158,
          159,
          160,
          161,
          162,
          163,
          164,
          165,
          166,
          167,
          168,
          169,
          170,
          171,
          172,
          173,
          174,
          175,
          176,
          177,
          178,
          179,
          180,
          181,
          182,
          183,
          184,
          185,
          186,
          187,
          188,
          189,
          190,
          191,
          192,
          193,
          194,
          195,
          196,
          197,
          198,
          199,
          200,
          201,
          202,
          203,
          204,
          205,
          206,
          207,
          208,
          209,
          210,
          211,
          212,
          213,
          214,
          215,
          216,
          217,
          218,
          219,
          220,
          221,
          222,
          223,
          224,
          225,
          226,
          227,
          228,
          229,
          230,
          231,
          232,
          233,
          234,
          235,
          236,
          237,
          238,
          239,
          240,
          241,
          242,
          243,
          244,
          245,
          246,
          247,
          248,
          249,
          250,
          251,
          252,
          253,
          254,
          255,
          256,
          257,
          258,
          259,
          260,
          261,
          262,
          263,
          264,
          265,
          266,
          267,
          268,
          269,
          270,
          271,
          272,
          273,
          274,
          275,
          276,
          277,
          278,
          279,
          280,
          281,
          282,
          283,
          284,
          285,
          286,
          287,
          288,
          289,
          290,
          291,
          292,
          293,
          294,
          295,
          296,
          297,
          298,
          299,
          300,
          301,
          302,
          303,
          304,
          305,
          306,
          307,
          308,
          309,
          310,
          311,
          312,
          313,
          314,
          315,
          316,
          317,
          318,
          319,
          320,
          321,
          322,
          323,
          324,
          325,
          326,
          327,
          328,
          329,
          330,
          331,
          332
         ],
         "xaxis": "x",
         "y": [
          95,
          73,
          61,
          54,
          48,
          46,
          44,
          41,
          38,
          35,
          32,
          30,
          28,
          25,
          24,
          23,
          21,
          20,
          20,
          20,
          18,
          18,
          18,
          18,
          18,
          18,
          18,
          18,
          18,
          18,
          18,
          18,
          18,
          17,
          17,
          17,
          17,
          17,
          17,
          16,
          14,
          13,
          13,
          12,
          12,
          12,
          12,
          12,
          12,
          12,
          12,
          12,
          11,
          11,
          10,
          9,
          9,
          8,
          8,
          8,
          8,
          8,
          8,
          8,
          7,
          7,
          6,
          6,
          6,
          5,
          5,
          5,
          5,
          5,
          5,
          5,
          4,
          4,
          4,
          4,
          4,
          4,
          4,
          4,
          4,
          4,
          4,
          4,
          4,
          4,
          4,
          4,
          4,
          3,
          3,
          3,
          3,
          3,
          3,
          3,
          3,
          3,
          3,
          3,
          3,
          3,
          3,
          3,
          3,
          3,
          3,
          3,
          3,
          3,
          2,
          2,
          2,
          2,
          2,
          2,
          2,
          2,
          2,
          2,
          2,
          2,
          2,
          2,
          2,
          2,
          2,
          2,
          2,
          2,
          2,
          2,
          2,
          2,
          2,
          2,
          2,
          2,
          2,
          2,
          2,
          2,
          2,
          2,
          2,
          2,
          2,
          2,
          2,
          2,
          2,
          2,
          2,
          2,
          2,
          2,
          2,
          2,
          2,
          2,
          2,
          2,
          2,
          2,
          2,
          2,
          2,
          2,
          2,
          2,
          2,
          2,
          2,
          2,
          2,
          2,
          2,
          2,
          2,
          2,
          2,
          2,
          2,
          2,
          2,
          2,
          2,
          2,
          2,
          2,
          2,
          2,
          2,
          2,
          2,
          2,
          2,
          2,
          2,
          2,
          2,
          2,
          2,
          2,
          2,
          2,
          2,
          2,
          2,
          2,
          2,
          2,
          2,
          2,
          2,
          2,
          2,
          2,
          2,
          2,
          2,
          2,
          2,
          2,
          2,
          2,
          2,
          2,
          2,
          2,
          2,
          2,
          2,
          2,
          2,
          2,
          2,
          2,
          2,
          2,
          2,
          2,
          2,
          2,
          2,
          2,
          2,
          2,
          2,
          2,
          2,
          2,
          2,
          2,
          2,
          2,
          2,
          2,
          2,
          2,
          2,
          2,
          2,
          2,
          2,
          2,
          2,
          2,
          2,
          2,
          2,
          2,
          2,
          2,
          2,
          2,
          2,
          2,
          2,
          2,
          2,
          2,
          2,
          2,
          2,
          2,
          2,
          2,
          2,
          2,
          2,
          2,
          2,
          2,
          2,
          2,
          2,
          2,
          2,
          2,
          2,
          2,
          2,
          2,
          2,
          2,
          2,
          2,
          2,
          2,
          1,
          1,
          1,
          1,
          1,
          1,
          1,
          1,
          1,
          1,
          1,
          1,
          1,
          1,
          1,
          1,
          1,
          1
         ],
         "yaxis": "y"
        }
       ],
       "layout": {
        "barmode": "relative",
        "legend": {
         "tracegroupgap": 0
        },
        "template": {
         "data": {
          "bar": [
           {
            "error_x": {
             "color": "#2a3f5f"
            },
            "error_y": {
             "color": "#2a3f5f"
            },
            "marker": {
             "line": {
              "color": "#E5ECF6",
              "width": 0.5
             },
             "pattern": {
              "fillmode": "overlay",
              "size": 10,
              "solidity": 0.2
             }
            },
            "type": "bar"
           }
          ],
          "barpolar": [
           {
            "marker": {
             "line": {
              "color": "#E5ECF6",
              "width": 0.5
             },
             "pattern": {
              "fillmode": "overlay",
              "size": 10,
              "solidity": 0.2
             }
            },
            "type": "barpolar"
           }
          ],
          "carpet": [
           {
            "aaxis": {
             "endlinecolor": "#2a3f5f",
             "gridcolor": "white",
             "linecolor": "white",
             "minorgridcolor": "white",
             "startlinecolor": "#2a3f5f"
            },
            "baxis": {
             "endlinecolor": "#2a3f5f",
             "gridcolor": "white",
             "linecolor": "white",
             "minorgridcolor": "white",
             "startlinecolor": "#2a3f5f"
            },
            "type": "carpet"
           }
          ],
          "choropleth": [
           {
            "colorbar": {
             "outlinewidth": 0,
             "ticks": ""
            },
            "type": "choropleth"
           }
          ],
          "contour": [
           {
            "colorbar": {
             "outlinewidth": 0,
             "ticks": ""
            },
            "colorscale": [
             [
              0,
              "#0d0887"
             ],
             [
              0.1111111111111111,
              "#46039f"
             ],
             [
              0.2222222222222222,
              "#7201a8"
             ],
             [
              0.3333333333333333,
              "#9c179e"
             ],
             [
              0.4444444444444444,
              "#bd3786"
             ],
             [
              0.5555555555555556,
              "#d8576b"
             ],
             [
              0.6666666666666666,
              "#ed7953"
             ],
             [
              0.7777777777777778,
              "#fb9f3a"
             ],
             [
              0.8888888888888888,
              "#fdca26"
             ],
             [
              1,
              "#f0f921"
             ]
            ],
            "type": "contour"
           }
          ],
          "contourcarpet": [
           {
            "colorbar": {
             "outlinewidth": 0,
             "ticks": ""
            },
            "type": "contourcarpet"
           }
          ],
          "heatmap": [
           {
            "colorbar": {
             "outlinewidth": 0,
             "ticks": ""
            },
            "colorscale": [
             [
              0,
              "#0d0887"
             ],
             [
              0.1111111111111111,
              "#46039f"
             ],
             [
              0.2222222222222222,
              "#7201a8"
             ],
             [
              0.3333333333333333,
              "#9c179e"
             ],
             [
              0.4444444444444444,
              "#bd3786"
             ],
             [
              0.5555555555555556,
              "#d8576b"
             ],
             [
              0.6666666666666666,
              "#ed7953"
             ],
             [
              0.7777777777777778,
              "#fb9f3a"
             ],
             [
              0.8888888888888888,
              "#fdca26"
             ],
             [
              1,
              "#f0f921"
             ]
            ],
            "type": "heatmap"
           }
          ],
          "heatmapgl": [
           {
            "colorbar": {
             "outlinewidth": 0,
             "ticks": ""
            },
            "colorscale": [
             [
              0,
              "#0d0887"
             ],
             [
              0.1111111111111111,
              "#46039f"
             ],
             [
              0.2222222222222222,
              "#7201a8"
             ],
             [
              0.3333333333333333,
              "#9c179e"
             ],
             [
              0.4444444444444444,
              "#bd3786"
             ],
             [
              0.5555555555555556,
              "#d8576b"
             ],
             [
              0.6666666666666666,
              "#ed7953"
             ],
             [
              0.7777777777777778,
              "#fb9f3a"
             ],
             [
              0.8888888888888888,
              "#fdca26"
             ],
             [
              1,
              "#f0f921"
             ]
            ],
            "type": "heatmapgl"
           }
          ],
          "histogram": [
           {
            "marker": {
             "pattern": {
              "fillmode": "overlay",
              "size": 10,
              "solidity": 0.2
             }
            },
            "type": "histogram"
           }
          ],
          "histogram2d": [
           {
            "colorbar": {
             "outlinewidth": 0,
             "ticks": ""
            },
            "colorscale": [
             [
              0,
              "#0d0887"
             ],
             [
              0.1111111111111111,
              "#46039f"
             ],
             [
              0.2222222222222222,
              "#7201a8"
             ],
             [
              0.3333333333333333,
              "#9c179e"
             ],
             [
              0.4444444444444444,
              "#bd3786"
             ],
             [
              0.5555555555555556,
              "#d8576b"
             ],
             [
              0.6666666666666666,
              "#ed7953"
             ],
             [
              0.7777777777777778,
              "#fb9f3a"
             ],
             [
              0.8888888888888888,
              "#fdca26"
             ],
             [
              1,
              "#f0f921"
             ]
            ],
            "type": "histogram2d"
           }
          ],
          "histogram2dcontour": [
           {
            "colorbar": {
             "outlinewidth": 0,
             "ticks": ""
            },
            "colorscale": [
             [
              0,
              "#0d0887"
             ],
             [
              0.1111111111111111,
              "#46039f"
             ],
             [
              0.2222222222222222,
              "#7201a8"
             ],
             [
              0.3333333333333333,
              "#9c179e"
             ],
             [
              0.4444444444444444,
              "#bd3786"
             ],
             [
              0.5555555555555556,
              "#d8576b"
             ],
             [
              0.6666666666666666,
              "#ed7953"
             ],
             [
              0.7777777777777778,
              "#fb9f3a"
             ],
             [
              0.8888888888888888,
              "#fdca26"
             ],
             [
              1,
              "#f0f921"
             ]
            ],
            "type": "histogram2dcontour"
           }
          ],
          "mesh3d": [
           {
            "colorbar": {
             "outlinewidth": 0,
             "ticks": ""
            },
            "type": "mesh3d"
           }
          ],
          "parcoords": [
           {
            "line": {
             "colorbar": {
              "outlinewidth": 0,
              "ticks": ""
             }
            },
            "type": "parcoords"
           }
          ],
          "pie": [
           {
            "automargin": true,
            "type": "pie"
           }
          ],
          "scatter": [
           {
            "fillpattern": {
             "fillmode": "overlay",
             "size": 10,
             "solidity": 0.2
            },
            "type": "scatter"
           }
          ],
          "scatter3d": [
           {
            "line": {
             "colorbar": {
              "outlinewidth": 0,
              "ticks": ""
             }
            },
            "marker": {
             "colorbar": {
              "outlinewidth": 0,
              "ticks": ""
             }
            },
            "type": "scatter3d"
           }
          ],
          "scattercarpet": [
           {
            "marker": {
             "colorbar": {
              "outlinewidth": 0,
              "ticks": ""
             }
            },
            "type": "scattercarpet"
           }
          ],
          "scattergeo": [
           {
            "marker": {
             "colorbar": {
              "outlinewidth": 0,
              "ticks": ""
             }
            },
            "type": "scattergeo"
           }
          ],
          "scattergl": [
           {
            "marker": {
             "colorbar": {
              "outlinewidth": 0,
              "ticks": ""
             }
            },
            "type": "scattergl"
           }
          ],
          "scattermapbox": [
           {
            "marker": {
             "colorbar": {
              "outlinewidth": 0,
              "ticks": ""
             }
            },
            "type": "scattermapbox"
           }
          ],
          "scatterpolar": [
           {
            "marker": {
             "colorbar": {
              "outlinewidth": 0,
              "ticks": ""
             }
            },
            "type": "scatterpolar"
           }
          ],
          "scatterpolargl": [
           {
            "marker": {
             "colorbar": {
              "outlinewidth": 0,
              "ticks": ""
             }
            },
            "type": "scatterpolargl"
           }
          ],
          "scatterternary": [
           {
            "marker": {
             "colorbar": {
              "outlinewidth": 0,
              "ticks": ""
             }
            },
            "type": "scatterternary"
           }
          ],
          "surface": [
           {
            "colorbar": {
             "outlinewidth": 0,
             "ticks": ""
            },
            "colorscale": [
             [
              0,
              "#0d0887"
             ],
             [
              0.1111111111111111,
              "#46039f"
             ],
             [
              0.2222222222222222,
              "#7201a8"
             ],
             [
              0.3333333333333333,
              "#9c179e"
             ],
             [
              0.4444444444444444,
              "#bd3786"
             ],
             [
              0.5555555555555556,
              "#d8576b"
             ],
             [
              0.6666666666666666,
              "#ed7953"
             ],
             [
              0.7777777777777778,
              "#fb9f3a"
             ],
             [
              0.8888888888888888,
              "#fdca26"
             ],
             [
              1,
              "#f0f921"
             ]
            ],
            "type": "surface"
           }
          ],
          "table": [
           {
            "cells": {
             "fill": {
              "color": "#EBF0F8"
             },
             "line": {
              "color": "white"
             }
            },
            "header": {
             "fill": {
              "color": "#C8D4E3"
             },
             "line": {
              "color": "white"
             }
            },
            "type": "table"
           }
          ]
         },
         "layout": {
          "annotationdefaults": {
           "arrowcolor": "#2a3f5f",
           "arrowhead": 0,
           "arrowwidth": 1
          },
          "autotypenumbers": "strict",
          "coloraxis": {
           "colorbar": {
            "outlinewidth": 0,
            "ticks": ""
           }
          },
          "colorscale": {
           "diverging": [
            [
             0,
             "#8e0152"
            ],
            [
             0.1,
             "#c51b7d"
            ],
            [
             0.2,
             "#de77ae"
            ],
            [
             0.3,
             "#f1b6da"
            ],
            [
             0.4,
             "#fde0ef"
            ],
            [
             0.5,
             "#f7f7f7"
            ],
            [
             0.6,
             "#e6f5d0"
            ],
            [
             0.7,
             "#b8e186"
            ],
            [
             0.8,
             "#7fbc41"
            ],
            [
             0.9,
             "#4d9221"
            ],
            [
             1,
             "#276419"
            ]
           ],
           "sequential": [
            [
             0,
             "#0d0887"
            ],
            [
             0.1111111111111111,
             "#46039f"
            ],
            [
             0.2222222222222222,
             "#7201a8"
            ],
            [
             0.3333333333333333,
             "#9c179e"
            ],
            [
             0.4444444444444444,
             "#bd3786"
            ],
            [
             0.5555555555555556,
             "#d8576b"
            ],
            [
             0.6666666666666666,
             "#ed7953"
            ],
            [
             0.7777777777777778,
             "#fb9f3a"
            ],
            [
             0.8888888888888888,
             "#fdca26"
            ],
            [
             1,
             "#f0f921"
            ]
           ],
           "sequentialminus": [
            [
             0,
             "#0d0887"
            ],
            [
             0.1111111111111111,
             "#46039f"
            ],
            [
             0.2222222222222222,
             "#7201a8"
            ],
            [
             0.3333333333333333,
             "#9c179e"
            ],
            [
             0.4444444444444444,
             "#bd3786"
            ],
            [
             0.5555555555555556,
             "#d8576b"
            ],
            [
             0.6666666666666666,
             "#ed7953"
            ],
            [
             0.7777777777777778,
             "#fb9f3a"
            ],
            [
             0.8888888888888888,
             "#fdca26"
            ],
            [
             1,
             "#f0f921"
            ]
           ]
          },
          "colorway": [
           "#636efa",
           "#EF553B",
           "#00cc96",
           "#ab63fa",
           "#FFA15A",
           "#19d3f3",
           "#FF6692",
           "#B6E880",
           "#FF97FF",
           "#FECB52"
          ],
          "font": {
           "color": "#2a3f5f"
          },
          "geo": {
           "bgcolor": "white",
           "lakecolor": "white",
           "landcolor": "#E5ECF6",
           "showlakes": true,
           "showland": true,
           "subunitcolor": "white"
          },
          "hoverlabel": {
           "align": "left"
          },
          "hovermode": "closest",
          "mapbox": {
           "style": "light"
          },
          "paper_bgcolor": "white",
          "plot_bgcolor": "#E5ECF6",
          "polar": {
           "angularaxis": {
            "gridcolor": "white",
            "linecolor": "white",
            "ticks": ""
           },
           "bgcolor": "#E5ECF6",
           "radialaxis": {
            "gridcolor": "white",
            "linecolor": "white",
            "ticks": ""
           }
          },
          "scene": {
           "xaxis": {
            "backgroundcolor": "#E5ECF6",
            "gridcolor": "white",
            "gridwidth": 2,
            "linecolor": "white",
            "showbackground": true,
            "ticks": "",
            "zerolinecolor": "white"
           },
           "yaxis": {
            "backgroundcolor": "#E5ECF6",
            "gridcolor": "white",
            "gridwidth": 2,
            "linecolor": "white",
            "showbackground": true,
            "ticks": "",
            "zerolinecolor": "white"
           },
           "zaxis": {
            "backgroundcolor": "#E5ECF6",
            "gridcolor": "white",
            "gridwidth": 2,
            "linecolor": "white",
            "showbackground": true,
            "ticks": "",
            "zerolinecolor": "white"
           }
          },
          "shapedefaults": {
           "line": {
            "color": "#2a3f5f"
           }
          },
          "ternary": {
           "aaxis": {
            "gridcolor": "white",
            "linecolor": "white",
            "ticks": ""
           },
           "baxis": {
            "gridcolor": "white",
            "linecolor": "white",
            "ticks": ""
           },
           "bgcolor": "#E5ECF6",
           "caxis": {
            "gridcolor": "white",
            "linecolor": "white",
            "ticks": ""
           }
          },
          "title": {
           "x": 0.05
          },
          "xaxis": {
           "automargin": true,
           "gridcolor": "white",
           "linecolor": "white",
           "ticks": "",
           "title": {
            "standoff": 15
           },
           "zerolinecolor": "white",
           "zerolinewidth": 2
          },
          "yaxis": {
           "automargin": true,
           "gridcolor": "white",
           "linecolor": "white",
           "ticks": "",
           "title": {
            "standoff": 15
           },
           "zerolinecolor": "white",
           "zerolinewidth": 2
          }
         }
        },
        "title": {
         "text": "Distribution of Top-ranked Universities by Country"
        },
        "xaxis": {
         "anchor": "y",
         "domain": [
          0,
          1
         ],
         "title": {
          "text": "National Rank"
         }
        },
        "yaxis": {
         "anchor": "x",
         "domain": [
          0,
          1
         ],
         "title": {
          "text": "Number of Universities"
         }
        }
       }
      }
     },
     "metadata": {},
     "output_type": "display_data"
    }
   ],
   "source": [
    "#answer Q-e\n",
    "\n",
    "top_Countries = Uni_df['CWUR'].groupby('National Rank').size\n",
    "\n",
    "fig = px.scatter(Uni_df['CWUR'], x='Rank', y='National Rank',title='Correlation between National and Global University Rankings')\n",
    "fig.update_layout(\n",
    "    xaxis_title=\"Global Rank\",\n",
    "    yaxis_title=\"National Rank\"\n",
    ")\n",
    "\n",
    "top_universities_by_country = Uni_df['CWUR'].groupby('National Rank').size().reset_index(name='Count')\n",
    "fig2 = px.bar(top_universities_by_country, x='National Rank', y='Count', title='Distribution of Top-ranked Universities by Country')\n",
    "fig2.update_layout(xaxis_title=\"National Rank\", yaxis_title=\"Number of Universities\")\n",
    "\n",
    "fig.show()\n",
    "fig2.show()\n"
   ]
  },
  {
   "cell_type": "code",
   "execution_count": 422,
   "metadata": {},
   "outputs": [
    {
     "data": {
      "application/vnd.plotly.v1+json": {
       "config": {
        "plotlyServerURL": "https://plot.ly"
       },
       "data": [
        {
         "alignmentgroup": "True",
         "hovertemplate": "Rank=%{x}<br>Total Score=%{y}<extra></extra>",
         "legendgroup": "",
         "marker": {
          "color": "rgb(102, 197, 204)",
          "pattern": {
           "shape": ""
          }
         },
         "name": "",
         "offsetgroup": "",
         "orientation": "v",
         "showlegend": false,
         "textposition": "auto",
         "type": "bar",
         "x": [
          41,
          44,
          44,
          54,
          57,
          62,
          64,
          67,
          71,
          79,
          83,
          83,
          83,
          90,
          92,
          96,
          99
         ],
         "xaxis": "x",
         "y": [
          34.2,
          33.8,
          33.8,
          32,
          31.5,
          30.3,
          30.2,
          30,
          29.3,
          27.5,
          27.2,
          27.2,
          27.2,
          26.7,
          26.5,
          26.1,
          25.8
         ],
         "yaxis": "y"
        }
       ],
       "layout": {
        "barmode": "relative",
        "height": 600,
        "legend": {
         "tracegroupgap": 0
        },
        "margin": {
         "t": 60
        },
        "template": {
         "data": {
          "bar": [
           {
            "error_x": {
             "color": "#2a3f5f"
            },
            "error_y": {
             "color": "#2a3f5f"
            },
            "marker": {
             "line": {
              "color": "#E5ECF6",
              "width": 0.5
             },
             "pattern": {
              "fillmode": "overlay",
              "size": 10,
              "solidity": 0.2
             }
            },
            "type": "bar"
           }
          ],
          "barpolar": [
           {
            "marker": {
             "line": {
              "color": "#E5ECF6",
              "width": 0.5
             },
             "pattern": {
              "fillmode": "overlay",
              "size": 10,
              "solidity": 0.2
             }
            },
            "type": "barpolar"
           }
          ],
          "carpet": [
           {
            "aaxis": {
             "endlinecolor": "#2a3f5f",
             "gridcolor": "white",
             "linecolor": "white",
             "minorgridcolor": "white",
             "startlinecolor": "#2a3f5f"
            },
            "baxis": {
             "endlinecolor": "#2a3f5f",
             "gridcolor": "white",
             "linecolor": "white",
             "minorgridcolor": "white",
             "startlinecolor": "#2a3f5f"
            },
            "type": "carpet"
           }
          ],
          "choropleth": [
           {
            "colorbar": {
             "outlinewidth": 0,
             "ticks": ""
            },
            "type": "choropleth"
           }
          ],
          "contour": [
           {
            "colorbar": {
             "outlinewidth": 0,
             "ticks": ""
            },
            "colorscale": [
             [
              0,
              "#0d0887"
             ],
             [
              0.1111111111111111,
              "#46039f"
             ],
             [
              0.2222222222222222,
              "#7201a8"
             ],
             [
              0.3333333333333333,
              "#9c179e"
             ],
             [
              0.4444444444444444,
              "#bd3786"
             ],
             [
              0.5555555555555556,
              "#d8576b"
             ],
             [
              0.6666666666666666,
              "#ed7953"
             ],
             [
              0.7777777777777778,
              "#fb9f3a"
             ],
             [
              0.8888888888888888,
              "#fdca26"
             ],
             [
              1,
              "#f0f921"
             ]
            ],
            "type": "contour"
           }
          ],
          "contourcarpet": [
           {
            "colorbar": {
             "outlinewidth": 0,
             "ticks": ""
            },
            "type": "contourcarpet"
           }
          ],
          "heatmap": [
           {
            "colorbar": {
             "outlinewidth": 0,
             "ticks": ""
            },
            "colorscale": [
             [
              0,
              "#0d0887"
             ],
             [
              0.1111111111111111,
              "#46039f"
             ],
             [
              0.2222222222222222,
              "#7201a8"
             ],
             [
              0.3333333333333333,
              "#9c179e"
             ],
             [
              0.4444444444444444,
              "#bd3786"
             ],
             [
              0.5555555555555556,
              "#d8576b"
             ],
             [
              0.6666666666666666,
              "#ed7953"
             ],
             [
              0.7777777777777778,
              "#fb9f3a"
             ],
             [
              0.8888888888888888,
              "#fdca26"
             ],
             [
              1,
              "#f0f921"
             ]
            ],
            "type": "heatmap"
           }
          ],
          "heatmapgl": [
           {
            "colorbar": {
             "outlinewidth": 0,
             "ticks": ""
            },
            "colorscale": [
             [
              0,
              "#0d0887"
             ],
             [
              0.1111111111111111,
              "#46039f"
             ],
             [
              0.2222222222222222,
              "#7201a8"
             ],
             [
              0.3333333333333333,
              "#9c179e"
             ],
             [
              0.4444444444444444,
              "#bd3786"
             ],
             [
              0.5555555555555556,
              "#d8576b"
             ],
             [
              0.6666666666666666,
              "#ed7953"
             ],
             [
              0.7777777777777778,
              "#fb9f3a"
             ],
             [
              0.8888888888888888,
              "#fdca26"
             ],
             [
              1,
              "#f0f921"
             ]
            ],
            "type": "heatmapgl"
           }
          ],
          "histogram": [
           {
            "marker": {
             "pattern": {
              "fillmode": "overlay",
              "size": 10,
              "solidity": 0.2
             }
            },
            "type": "histogram"
           }
          ],
          "histogram2d": [
           {
            "colorbar": {
             "outlinewidth": 0,
             "ticks": ""
            },
            "colorscale": [
             [
              0,
              "#0d0887"
             ],
             [
              0.1111111111111111,
              "#46039f"
             ],
             [
              0.2222222222222222,
              "#7201a8"
             ],
             [
              0.3333333333333333,
              "#9c179e"
             ],
             [
              0.4444444444444444,
              "#bd3786"
             ],
             [
              0.5555555555555556,
              "#d8576b"
             ],
             [
              0.6666666666666666,
              "#ed7953"
             ],
             [
              0.7777777777777778,
              "#fb9f3a"
             ],
             [
              0.8888888888888888,
              "#fdca26"
             ],
             [
              1,
              "#f0f921"
             ]
            ],
            "type": "histogram2d"
           }
          ],
          "histogram2dcontour": [
           {
            "colorbar": {
             "outlinewidth": 0,
             "ticks": ""
            },
            "colorscale": [
             [
              0,
              "#0d0887"
             ],
             [
              0.1111111111111111,
              "#46039f"
             ],
             [
              0.2222222222222222,
              "#7201a8"
             ],
             [
              0.3333333333333333,
              "#9c179e"
             ],
             [
              0.4444444444444444,
              "#bd3786"
             ],
             [
              0.5555555555555556,
              "#d8576b"
             ],
             [
              0.6666666666666666,
              "#ed7953"
             ],
             [
              0.7777777777777778,
              "#fb9f3a"
             ],
             [
              0.8888888888888888,
              "#fdca26"
             ],
             [
              1,
              "#f0f921"
             ]
            ],
            "type": "histogram2dcontour"
           }
          ],
          "mesh3d": [
           {
            "colorbar": {
             "outlinewidth": 0,
             "ticks": ""
            },
            "type": "mesh3d"
           }
          ],
          "parcoords": [
           {
            "line": {
             "colorbar": {
              "outlinewidth": 0,
              "ticks": ""
             }
            },
            "type": "parcoords"
           }
          ],
          "pie": [
           {
            "automargin": true,
            "type": "pie"
           }
          ],
          "scatter": [
           {
            "fillpattern": {
             "fillmode": "overlay",
             "size": 10,
             "solidity": 0.2
            },
            "type": "scatter"
           }
          ],
          "scatter3d": [
           {
            "line": {
             "colorbar": {
              "outlinewidth": 0,
              "ticks": ""
             }
            },
            "marker": {
             "colorbar": {
              "outlinewidth": 0,
              "ticks": ""
             }
            },
            "type": "scatter3d"
           }
          ],
          "scattercarpet": [
           {
            "marker": {
             "colorbar": {
              "outlinewidth": 0,
              "ticks": ""
             }
            },
            "type": "scattercarpet"
           }
          ],
          "scattergeo": [
           {
            "marker": {
             "colorbar": {
              "outlinewidth": 0,
              "ticks": ""
             }
            },
            "type": "scattergeo"
           }
          ],
          "scattergl": [
           {
            "marker": {
             "colorbar": {
              "outlinewidth": 0,
              "ticks": ""
             }
            },
            "type": "scattergl"
           }
          ],
          "scattermapbox": [
           {
            "marker": {
             "colorbar": {
              "outlinewidth": 0,
              "ticks": ""
             }
            },
            "type": "scattermapbox"
           }
          ],
          "scatterpolar": [
           {
            "marker": {
             "colorbar": {
              "outlinewidth": 0,
              "ticks": ""
             }
            },
            "type": "scatterpolar"
           }
          ],
          "scatterpolargl": [
           {
            "marker": {
             "colorbar": {
              "outlinewidth": 0,
              "ticks": ""
             }
            },
            "type": "scatterpolargl"
           }
          ],
          "scatterternary": [
           {
            "marker": {
             "colorbar": {
              "outlinewidth": 0,
              "ticks": ""
             }
            },
            "type": "scatterternary"
           }
          ],
          "surface": [
           {
            "colorbar": {
             "outlinewidth": 0,
             "ticks": ""
            },
            "colorscale": [
             [
              0,
              "#0d0887"
             ],
             [
              0.1111111111111111,
              "#46039f"
             ],
             [
              0.2222222222222222,
              "#7201a8"
             ],
             [
              0.3333333333333333,
              "#9c179e"
             ],
             [
              0.4444444444444444,
              "#bd3786"
             ],
             [
              0.5555555555555556,
              "#d8576b"
             ],
             [
              0.6666666666666666,
              "#ed7953"
             ],
             [
              0.7777777777777778,
              "#fb9f3a"
             ],
             [
              0.8888888888888888,
              "#fdca26"
             ],
             [
              1,
              "#f0f921"
             ]
            ],
            "type": "surface"
           }
          ],
          "table": [
           {
            "cells": {
             "fill": {
              "color": "#EBF0F8"
             },
             "line": {
              "color": "white"
             }
            },
            "header": {
             "fill": {
              "color": "#C8D4E3"
             },
             "line": {
              "color": "white"
             }
            },
            "type": "table"
           }
          ]
         },
         "layout": {
          "annotationdefaults": {
           "arrowcolor": "#2a3f5f",
           "arrowhead": 0,
           "arrowwidth": 1
          },
          "autotypenumbers": "strict",
          "coloraxis": {
           "colorbar": {
            "outlinewidth": 0,
            "ticks": ""
           }
          },
          "colorscale": {
           "diverging": [
            [
             0,
             "#8e0152"
            ],
            [
             0.1,
             "#c51b7d"
            ],
            [
             0.2,
             "#de77ae"
            ],
            [
             0.3,
             "#f1b6da"
            ],
            [
             0.4,
             "#fde0ef"
            ],
            [
             0.5,
             "#f7f7f7"
            ],
            [
             0.6,
             "#e6f5d0"
            ],
            [
             0.7,
             "#b8e186"
            ],
            [
             0.8,
             "#7fbc41"
            ],
            [
             0.9,
             "#4d9221"
            ],
            [
             1,
             "#276419"
            ]
           ],
           "sequential": [
            [
             0,
             "#0d0887"
            ],
            [
             0.1111111111111111,
             "#46039f"
            ],
            [
             0.2222222222222222,
             "#7201a8"
            ],
            [
             0.3333333333333333,
             "#9c179e"
            ],
            [
             0.4444444444444444,
             "#bd3786"
            ],
            [
             0.5555555555555556,
             "#d8576b"
            ],
            [
             0.6666666666666666,
             "#ed7953"
            ],
            [
             0.7777777777777778,
             "#fb9f3a"
            ],
            [
             0.8888888888888888,
             "#fdca26"
            ],
            [
             1,
             "#f0f921"
            ]
           ],
           "sequentialminus": [
            [
             0,
             "#0d0887"
            ],
            [
             0.1111111111111111,
             "#46039f"
            ],
            [
             0.2222222222222222,
             "#7201a8"
            ],
            [
             0.3333333333333333,
             "#9c179e"
            ],
            [
             0.4444444444444444,
             "#bd3786"
            ],
            [
             0.5555555555555556,
             "#d8576b"
            ],
            [
             0.6666666666666666,
             "#ed7953"
            ],
            [
             0.7777777777777778,
             "#fb9f3a"
            ],
            [
             0.8888888888888888,
             "#fdca26"
            ],
            [
             1,
             "#f0f921"
            ]
           ]
          },
          "colorway": [
           "#636efa",
           "#EF553B",
           "#00cc96",
           "#ab63fa",
           "#FFA15A",
           "#19d3f3",
           "#FF6692",
           "#B6E880",
           "#FF97FF",
           "#FECB52"
          ],
          "font": {
           "color": "#2a3f5f"
          },
          "geo": {
           "bgcolor": "white",
           "lakecolor": "white",
           "landcolor": "#E5ECF6",
           "showlakes": true,
           "showland": true,
           "subunitcolor": "white"
          },
          "hoverlabel": {
           "align": "left"
          },
          "hovermode": "closest",
          "mapbox": {
           "style": "light"
          },
          "paper_bgcolor": "white",
          "plot_bgcolor": "#E5ECF6",
          "polar": {
           "angularaxis": {
            "gridcolor": "white",
            "linecolor": "white",
            "ticks": ""
           },
           "bgcolor": "#E5ECF6",
           "radialaxis": {
            "gridcolor": "white",
            "linecolor": "white",
            "ticks": ""
           }
          },
          "scene": {
           "xaxis": {
            "backgroundcolor": "#E5ECF6",
            "gridcolor": "white",
            "gridwidth": 2,
            "linecolor": "white",
            "showbackground": true,
            "ticks": "",
            "zerolinecolor": "white"
           },
           "yaxis": {
            "backgroundcolor": "#E5ECF6",
            "gridcolor": "white",
            "gridwidth": 2,
            "linecolor": "white",
            "showbackground": true,
            "ticks": "",
            "zerolinecolor": "white"
           },
           "zaxis": {
            "backgroundcolor": "#E5ECF6",
            "gridcolor": "white",
            "gridwidth": 2,
            "linecolor": "white",
            "showbackground": true,
            "ticks": "",
            "zerolinecolor": "white"
           }
          },
          "shapedefaults": {
           "line": {
            "color": "#2a3f5f"
           }
          },
          "ternary": {
           "aaxis": {
            "gridcolor": "white",
            "linecolor": "white",
            "ticks": ""
           },
           "baxis": {
            "gridcolor": "white",
            "linecolor": "white",
            "ticks": ""
           },
           "bgcolor": "#E5ECF6",
           "caxis": {
            "gridcolor": "white",
            "linecolor": "white",
            "ticks": ""
           }
          },
          "title": {
           "x": 0.05
          },
          "xaxis": {
           "automargin": true,
           "gridcolor": "white",
           "linecolor": "white",
           "ticks": "",
           "title": {
            "standoff": 15
           },
           "zerolinecolor": "white",
           "zerolinewidth": 2
          },
          "yaxis": {
           "automargin": true,
           "gridcolor": "white",
           "linecolor": "white",
           "ticks": "",
           "title": {
            "standoff": 15
           },
           "zerolinecolor": "white",
           "zerolinewidth": 2
          }
         }
        },
        "xaxis": {
         "anchor": "y",
         "domain": [
          0,
          1
         ],
         "title": {
          "text": "Rank"
         }
        },
        "yaxis": {
         "anchor": "x",
         "domain": [
          0,
          1
         ],
         "title": {
          "text": "Total Score"
         }
        }
       }
      }
     },
     "metadata": {},
     "output_type": "display_data"
    }
   ],
   "source": [
    "#the most compatitive rank \n",
    "compativ = Uni_df['ARWU'][Uni_df['ARWU']['Rank'].duplicated()]\n",
    "\n",
    "fig = px.bar(compativ, x='Rank', y='Total Score',color_discrete_sequence=px.colors.qualitative.Pastel, height=600)\n",
    "\n",
    "fig.show()"
   ]
  },
  {
   "cell_type": "code",
   "execution_count": 423,
   "metadata": {},
   "outputs": [
    {
     "data": {
      "text/html": [
       "<div>\n",
       "<style scoped>\n",
       "    .dataframe tbody tr th:only-of-type {\n",
       "        vertical-align: middle;\n",
       "    }\n",
       "\n",
       "    .dataframe tbody tr th {\n",
       "        vertical-align: top;\n",
       "    }\n",
       "\n",
       "    .dataframe thead th {\n",
       "        text-align: right;\n",
       "    }\n",
       "</style>\n",
       "<table border=\"1\" class=\"dataframe\">\n",
       "  <thead>\n",
       "    <tr style=\"text-align: right;\">\n",
       "      <th></th>\n",
       "      <th>Rank</th>\n",
       "      <th>University Name</th>\n",
       "      <th>National Rank</th>\n",
       "      <th>Total Score</th>\n",
       "    </tr>\n",
       "  </thead>\n",
       "  <tbody>\n",
       "    <tr>\n",
       "      <th>41</th>\n",
       "      <td>41</td>\n",
       "      <td>Kyoto University</td>\n",
       "      <td>2</td>\n",
       "      <td>34.2</td>\n",
       "    </tr>\n",
       "    <tr>\n",
       "      <th>44</th>\n",
       "      <td>44</td>\n",
       "      <td>University of British Columbia</td>\n",
       "      <td>2</td>\n",
       "      <td>33.8</td>\n",
       "    </tr>\n",
       "    <tr>\n",
       "      <th>45</th>\n",
       "      <td>44</td>\n",
       "      <td>University of Minnesota, Twin Cities</td>\n",
       "      <td>25</td>\n",
       "      <td>33.8</td>\n",
       "    </tr>\n",
       "    <tr>\n",
       "      <th>54</th>\n",
       "      <td>54</td>\n",
       "      <td>Utrecht University</td>\n",
       "      <td>1</td>\n",
       "      <td>32.0</td>\n",
       "    </tr>\n",
       "    <tr>\n",
       "      <th>57</th>\n",
       "      <td>57</td>\n",
       "      <td>University of Munich</td>\n",
       "      <td>2</td>\n",
       "      <td>31.5</td>\n",
       "    </tr>\n",
       "  </tbody>\n",
       "</table>\n",
       "</div>"
      ],
      "text/plain": [
       "    Rank                       University Name  National Rank  Total Score\n",
       "41    41                      Kyoto University              2         34.2\n",
       "44    44        University of British Columbia              2         33.8\n",
       "45    44  University of Minnesota, Twin Cities             25         33.8\n",
       "54    54                    Utrecht University              1         32.0\n",
       "57    57                  University of Munich              2         31.5"
      ]
     },
     "execution_count": 423,
     "metadata": {},
     "output_type": "execute_result"
    }
   ],
   "source": [
    "compativ.head()"
   ]
  },
  {
   "cell_type": "code",
   "execution_count": 424,
   "metadata": {},
   "outputs": [],
   "source": [
    "#the top universities in edu, fac, research, \n"
   ]
  },
  {
   "cell_type": "code",
   "execution_count": 425,
   "metadata": {},
   "outputs": [
    {
     "data": {
      "application/vnd.plotly.v1+json": {
       "config": {
        "plotlyServerURL": "https://plot.ly"
       },
       "data": [
        {
         "alignmentgroup": "True",
         "hovertemplate": "University Name=%{x}<br>Rank Score=%{y}<extra></extra>",
         "legendgroup": "",
         "marker": {
          "color": "rgb(102, 197, 204)",
          "pattern": {
           "shape": ""
          }
         },
         "name": "",
         "offsetgroup": "",
         "orientation": "v",
         "showlegend": false,
         "textposition": "outside",
         "texttemplate": [
          "USA",
          "United Kingdom",
          "Japan",
          "France",
          "Canada",
          "Switzerland",
          "South Korea",
          "Denmark",
          "Sweden",
          "China",
          "Germany",
          "Australia",
          "Israel",
          "Netherlands",
          "Singapore"
         ],
         "type": "bar",
         "x": [
          "Harvard University",
          "University of Cambridge",
          "University of Tokyo",
          "PSL University",
          "University of Toronto",
          "ETH Zurich",
          "Seoul National University",
          "University of Copenhagen",
          "Karolinska Institute",
          "Tsinghua University",
          "Ludwig Maximilian University of Munich",
          "University of Melbourne",
          "Hebrew University of Jerusalem",
          "Utrecht University",
          "National University of Singapore"
         ],
         "xaxis": "x",
         "y": [
          2000,
          1997,
          1988,
          1980,
          1978,
          1971,
          1970,
          1966,
          1963,
          1957,
          1955,
          1944,
          1931,
          1929,
          1920
         ],
         "yaxis": "y"
        }
       ],
       "layout": {
        "barmode": "relative",
        "height": 600,
        "legend": {
         "tracegroupgap": 0
        },
        "margin": {
         "t": 60
        },
        "template": {
         "data": {
          "bar": [
           {
            "error_x": {
             "color": "#2a3f5f"
            },
            "error_y": {
             "color": "#2a3f5f"
            },
            "marker": {
             "line": {
              "color": "#E5ECF6",
              "width": 0.5
             },
             "pattern": {
              "fillmode": "overlay",
              "size": 10,
              "solidity": 0.2
             }
            },
            "type": "bar"
           }
          ],
          "barpolar": [
           {
            "marker": {
             "line": {
              "color": "#E5ECF6",
              "width": 0.5
             },
             "pattern": {
              "fillmode": "overlay",
              "size": 10,
              "solidity": 0.2
             }
            },
            "type": "barpolar"
           }
          ],
          "carpet": [
           {
            "aaxis": {
             "endlinecolor": "#2a3f5f",
             "gridcolor": "white",
             "linecolor": "white",
             "minorgridcolor": "white",
             "startlinecolor": "#2a3f5f"
            },
            "baxis": {
             "endlinecolor": "#2a3f5f",
             "gridcolor": "white",
             "linecolor": "white",
             "minorgridcolor": "white",
             "startlinecolor": "#2a3f5f"
            },
            "type": "carpet"
           }
          ],
          "choropleth": [
           {
            "colorbar": {
             "outlinewidth": 0,
             "ticks": ""
            },
            "type": "choropleth"
           }
          ],
          "contour": [
           {
            "colorbar": {
             "outlinewidth": 0,
             "ticks": ""
            },
            "colorscale": [
             [
              0,
              "#0d0887"
             ],
             [
              0.1111111111111111,
              "#46039f"
             ],
             [
              0.2222222222222222,
              "#7201a8"
             ],
             [
              0.3333333333333333,
              "#9c179e"
             ],
             [
              0.4444444444444444,
              "#bd3786"
             ],
             [
              0.5555555555555556,
              "#d8576b"
             ],
             [
              0.6666666666666666,
              "#ed7953"
             ],
             [
              0.7777777777777778,
              "#fb9f3a"
             ],
             [
              0.8888888888888888,
              "#fdca26"
             ],
             [
              1,
              "#f0f921"
             ]
            ],
            "type": "contour"
           }
          ],
          "contourcarpet": [
           {
            "colorbar": {
             "outlinewidth": 0,
             "ticks": ""
            },
            "type": "contourcarpet"
           }
          ],
          "heatmap": [
           {
            "colorbar": {
             "outlinewidth": 0,
             "ticks": ""
            },
            "colorscale": [
             [
              0,
              "#0d0887"
             ],
             [
              0.1111111111111111,
              "#46039f"
             ],
             [
              0.2222222222222222,
              "#7201a8"
             ],
             [
              0.3333333333333333,
              "#9c179e"
             ],
             [
              0.4444444444444444,
              "#bd3786"
             ],
             [
              0.5555555555555556,
              "#d8576b"
             ],
             [
              0.6666666666666666,
              "#ed7953"
             ],
             [
              0.7777777777777778,
              "#fb9f3a"
             ],
             [
              0.8888888888888888,
              "#fdca26"
             ],
             [
              1,
              "#f0f921"
             ]
            ],
            "type": "heatmap"
           }
          ],
          "heatmapgl": [
           {
            "colorbar": {
             "outlinewidth": 0,
             "ticks": ""
            },
            "colorscale": [
             [
              0,
              "#0d0887"
             ],
             [
              0.1111111111111111,
              "#46039f"
             ],
             [
              0.2222222222222222,
              "#7201a8"
             ],
             [
              0.3333333333333333,
              "#9c179e"
             ],
             [
              0.4444444444444444,
              "#bd3786"
             ],
             [
              0.5555555555555556,
              "#d8576b"
             ],
             [
              0.6666666666666666,
              "#ed7953"
             ],
             [
              0.7777777777777778,
              "#fb9f3a"
             ],
             [
              0.8888888888888888,
              "#fdca26"
             ],
             [
              1,
              "#f0f921"
             ]
            ],
            "type": "heatmapgl"
           }
          ],
          "histogram": [
           {
            "marker": {
             "pattern": {
              "fillmode": "overlay",
              "size": 10,
              "solidity": 0.2
             }
            },
            "type": "histogram"
           }
          ],
          "histogram2d": [
           {
            "colorbar": {
             "outlinewidth": 0,
             "ticks": ""
            },
            "colorscale": [
             [
              0,
              "#0d0887"
             ],
             [
              0.1111111111111111,
              "#46039f"
             ],
             [
              0.2222222222222222,
              "#7201a8"
             ],
             [
              0.3333333333333333,
              "#9c179e"
             ],
             [
              0.4444444444444444,
              "#bd3786"
             ],
             [
              0.5555555555555556,
              "#d8576b"
             ],
             [
              0.6666666666666666,
              "#ed7953"
             ],
             [
              0.7777777777777778,
              "#fb9f3a"
             ],
             [
              0.8888888888888888,
              "#fdca26"
             ],
             [
              1,
              "#f0f921"
             ]
            ],
            "type": "histogram2d"
           }
          ],
          "histogram2dcontour": [
           {
            "colorbar": {
             "outlinewidth": 0,
             "ticks": ""
            },
            "colorscale": [
             [
              0,
              "#0d0887"
             ],
             [
              0.1111111111111111,
              "#46039f"
             ],
             [
              0.2222222222222222,
              "#7201a8"
             ],
             [
              0.3333333333333333,
              "#9c179e"
             ],
             [
              0.4444444444444444,
              "#bd3786"
             ],
             [
              0.5555555555555556,
              "#d8576b"
             ],
             [
              0.6666666666666666,
              "#ed7953"
             ],
             [
              0.7777777777777778,
              "#fb9f3a"
             ],
             [
              0.8888888888888888,
              "#fdca26"
             ],
             [
              1,
              "#f0f921"
             ]
            ],
            "type": "histogram2dcontour"
           }
          ],
          "mesh3d": [
           {
            "colorbar": {
             "outlinewidth": 0,
             "ticks": ""
            },
            "type": "mesh3d"
           }
          ],
          "parcoords": [
           {
            "line": {
             "colorbar": {
              "outlinewidth": 0,
              "ticks": ""
             }
            },
            "type": "parcoords"
           }
          ],
          "pie": [
           {
            "automargin": true,
            "type": "pie"
           }
          ],
          "scatter": [
           {
            "fillpattern": {
             "fillmode": "overlay",
             "size": 10,
             "solidity": 0.2
            },
            "type": "scatter"
           }
          ],
          "scatter3d": [
           {
            "line": {
             "colorbar": {
              "outlinewidth": 0,
              "ticks": ""
             }
            },
            "marker": {
             "colorbar": {
              "outlinewidth": 0,
              "ticks": ""
             }
            },
            "type": "scatter3d"
           }
          ],
          "scattercarpet": [
           {
            "marker": {
             "colorbar": {
              "outlinewidth": 0,
              "ticks": ""
             }
            },
            "type": "scattercarpet"
           }
          ],
          "scattergeo": [
           {
            "marker": {
             "colorbar": {
              "outlinewidth": 0,
              "ticks": ""
             }
            },
            "type": "scattergeo"
           }
          ],
          "scattergl": [
           {
            "marker": {
             "colorbar": {
              "outlinewidth": 0,
              "ticks": ""
             }
            },
            "type": "scattergl"
           }
          ],
          "scattermapbox": [
           {
            "marker": {
             "colorbar": {
              "outlinewidth": 0,
              "ticks": ""
             }
            },
            "type": "scattermapbox"
           }
          ],
          "scatterpolar": [
           {
            "marker": {
             "colorbar": {
              "outlinewidth": 0,
              "ticks": ""
             }
            },
            "type": "scatterpolar"
           }
          ],
          "scatterpolargl": [
           {
            "marker": {
             "colorbar": {
              "outlinewidth": 0,
              "ticks": ""
             }
            },
            "type": "scatterpolargl"
           }
          ],
          "scatterternary": [
           {
            "marker": {
             "colorbar": {
              "outlinewidth": 0,
              "ticks": ""
             }
            },
            "type": "scatterternary"
           }
          ],
          "surface": [
           {
            "colorbar": {
             "outlinewidth": 0,
             "ticks": ""
            },
            "colorscale": [
             [
              0,
              "#0d0887"
             ],
             [
              0.1111111111111111,
              "#46039f"
             ],
             [
              0.2222222222222222,
              "#7201a8"
             ],
             [
              0.3333333333333333,
              "#9c179e"
             ],
             [
              0.4444444444444444,
              "#bd3786"
             ],
             [
              0.5555555555555556,
              "#d8576b"
             ],
             [
              0.6666666666666666,
              "#ed7953"
             ],
             [
              0.7777777777777778,
              "#fb9f3a"
             ],
             [
              0.8888888888888888,
              "#fdca26"
             ],
             [
              1,
              "#f0f921"
             ]
            ],
            "type": "surface"
           }
          ],
          "table": [
           {
            "cells": {
             "fill": {
              "color": "#EBF0F8"
             },
             "line": {
              "color": "white"
             }
            },
            "header": {
             "fill": {
              "color": "#C8D4E3"
             },
             "line": {
              "color": "white"
             }
            },
            "type": "table"
           }
          ]
         },
         "layout": {
          "annotationdefaults": {
           "arrowcolor": "#2a3f5f",
           "arrowhead": 0,
           "arrowwidth": 1
          },
          "autotypenumbers": "strict",
          "coloraxis": {
           "colorbar": {
            "outlinewidth": 0,
            "ticks": ""
           }
          },
          "colorscale": {
           "diverging": [
            [
             0,
             "#8e0152"
            ],
            [
             0.1,
             "#c51b7d"
            ],
            [
             0.2,
             "#de77ae"
            ],
            [
             0.3,
             "#f1b6da"
            ],
            [
             0.4,
             "#fde0ef"
            ],
            [
             0.5,
             "#f7f7f7"
            ],
            [
             0.6,
             "#e6f5d0"
            ],
            [
             0.7,
             "#b8e186"
            ],
            [
             0.8,
             "#7fbc41"
            ],
            [
             0.9,
             "#4d9221"
            ],
            [
             1,
             "#276419"
            ]
           ],
           "sequential": [
            [
             0,
             "#0d0887"
            ],
            [
             0.1111111111111111,
             "#46039f"
            ],
            [
             0.2222222222222222,
             "#7201a8"
            ],
            [
             0.3333333333333333,
             "#9c179e"
            ],
            [
             0.4444444444444444,
             "#bd3786"
            ],
            [
             0.5555555555555556,
             "#d8576b"
            ],
            [
             0.6666666666666666,
             "#ed7953"
            ],
            [
             0.7777777777777778,
             "#fb9f3a"
            ],
            [
             0.8888888888888888,
             "#fdca26"
            ],
            [
             1,
             "#f0f921"
            ]
           ],
           "sequentialminus": [
            [
             0,
             "#0d0887"
            ],
            [
             0.1111111111111111,
             "#46039f"
            ],
            [
             0.2222222222222222,
             "#7201a8"
            ],
            [
             0.3333333333333333,
             "#9c179e"
            ],
            [
             0.4444444444444444,
             "#bd3786"
            ],
            [
             0.5555555555555556,
             "#d8576b"
            ],
            [
             0.6666666666666666,
             "#ed7953"
            ],
            [
             0.7777777777777778,
             "#fb9f3a"
            ],
            [
             0.8888888888888888,
             "#fdca26"
            ],
            [
             1,
             "#f0f921"
            ]
           ]
          },
          "colorway": [
           "#636efa",
           "#EF553B",
           "#00cc96",
           "#ab63fa",
           "#FFA15A",
           "#19d3f3",
           "#FF6692",
           "#B6E880",
           "#FF97FF",
           "#FECB52"
          ],
          "font": {
           "color": "#2a3f5f"
          },
          "geo": {
           "bgcolor": "white",
           "lakecolor": "white",
           "landcolor": "#E5ECF6",
           "showlakes": true,
           "showland": true,
           "subunitcolor": "white"
          },
          "hoverlabel": {
           "align": "left"
          },
          "hovermode": "closest",
          "mapbox": {
           "style": "light"
          },
          "paper_bgcolor": "white",
          "plot_bgcolor": "#E5ECF6",
          "polar": {
           "angularaxis": {
            "gridcolor": "white",
            "linecolor": "white",
            "ticks": ""
           },
           "bgcolor": "#E5ECF6",
           "radialaxis": {
            "gridcolor": "white",
            "linecolor": "white",
            "ticks": ""
           }
          },
          "scene": {
           "xaxis": {
            "backgroundcolor": "#E5ECF6",
            "gridcolor": "white",
            "gridwidth": 2,
            "linecolor": "white",
            "showbackground": true,
            "ticks": "",
            "zerolinecolor": "white"
           },
           "yaxis": {
            "backgroundcolor": "#E5ECF6",
            "gridcolor": "white",
            "gridwidth": 2,
            "linecolor": "white",
            "showbackground": true,
            "ticks": "",
            "zerolinecolor": "white"
           },
           "zaxis": {
            "backgroundcolor": "#E5ECF6",
            "gridcolor": "white",
            "gridwidth": 2,
            "linecolor": "white",
            "showbackground": true,
            "ticks": "",
            "zerolinecolor": "white"
           }
          },
          "shapedefaults": {
           "line": {
            "color": "#2a3f5f"
           }
          },
          "ternary": {
           "aaxis": {
            "gridcolor": "white",
            "linecolor": "white",
            "ticks": ""
           },
           "baxis": {
            "gridcolor": "white",
            "linecolor": "white",
            "ticks": ""
           },
           "bgcolor": "#E5ECF6",
           "caxis": {
            "gridcolor": "white",
            "linecolor": "white",
            "ticks": ""
           }
          },
          "title": {
           "x": 0.05
          },
          "xaxis": {
           "automargin": true,
           "gridcolor": "white",
           "linecolor": "white",
           "ticks": "",
           "title": {
            "standoff": 15
           },
           "zerolinecolor": "white",
           "zerolinewidth": 2
          },
          "yaxis": {
           "automargin": true,
           "gridcolor": "white",
           "linecolor": "white",
           "ticks": "",
           "title": {
            "standoff": 15
           },
           "zerolinecolor": "white",
           "zerolinewidth": 2
          }
         }
        },
        "xaxis": {
         "anchor": "y",
         "domain": [
          0,
          1
         ],
         "title": {
          "text": "University Name"
         }
        },
        "yaxis": {
         "anchor": "x",
         "domain": [
          0,
          1
         ],
         "title": {
          "text": "Rank Score"
         }
        }
       }
      }
     },
     "metadata": {},
     "output_type": "display_data"
    }
   ],
   "source": [
    "#extra what are the top 1 universities in each region or country?\n",
    "top_national = filtered_df3[filtered_df3['National Rank'] == 1].head(15)\n",
    "\n",
    "fig = px.bar(top_national, x='University Name', y='Rank Score',color_discrete_sequence=px.colors.qualitative.Pastel, height=600)\n",
    "fig.update_traces(texttemplate=top_national['Location'], textposition='outside')\n",
    "fig.show()"
   ]
  },
  {
   "cell_type": "code",
   "execution_count": 426,
   "metadata": {},
   "outputs": [
    {
     "data": {
      "text/html": [
       "<div>\n",
       "<style scoped>\n",
       "    .dataframe tbody tr th:only-of-type {\n",
       "        vertical-align: middle;\n",
       "    }\n",
       "\n",
       "    .dataframe tbody tr th {\n",
       "        vertical-align: top;\n",
       "    }\n",
       "\n",
       "    .dataframe thead th {\n",
       "        text-align: right;\n",
       "    }\n",
       "</style>\n",
       "<table border=\"1\" class=\"dataframe\">\n",
       "  <thead>\n",
       "    <tr style=\"text-align: right;\">\n",
       "      <th></th>\n",
       "      <th>Rank</th>\n",
       "      <th>University Name</th>\n",
       "      <th>Location</th>\n",
       "      <th>National Rank</th>\n",
       "      <th>Educational Rank</th>\n",
       "      <th>Employability Rank</th>\n",
       "      <th>Faculty Rank</th>\n",
       "      <th>Research Rank</th>\n",
       "      <th>Total Score</th>\n",
       "      <th>World Ratio</th>\n",
       "      <th>Rank Score</th>\n",
       "      <th>Educational Score</th>\n",
       "      <th>Employability Score</th>\n",
       "      <th>Faculty Score</th>\n",
       "      <th>Research Score</th>\n",
       "      <th>Educational Percentage</th>\n",
       "      <th>Employability Percentage</th>\n",
       "      <th>Faculty Percentage</th>\n",
       "      <th>Research Percentage</th>\n",
       "    </tr>\n",
       "  </thead>\n",
       "  <tbody>\n",
       "  </tbody>\n",
       "</table>\n",
       "</div>"
      ],
      "text/plain": [
       "Empty DataFrame\n",
       "Columns: [Rank, University Name, Location, National Rank, Educational Rank, Employability Rank, Faculty Rank, Research Rank, Total Score, World Ratio, Rank Score, Educational Score, Employability Score, Faculty Score, Research Score, Educational Percentage, Employability Percentage, Faculty Percentage, Research Percentage]\n",
       "Index: []"
      ]
     },
     "execution_count": 426,
     "metadata": {},
     "output_type": "execute_result"
    }
   ],
   "source": [
    "top_national[top_national['Rank'].duplicated()].head()"
   ]
  },
  {
   "cell_type": "code",
   "execution_count": 427,
   "metadata": {},
   "outputs": [
    {
     "data": {
      "text/plain": [
       "Rank               17\n",
       "University Name    17\n",
       "National Rank      17\n",
       "Total Score        17\n",
       "dtype: int64"
      ]
     },
     "execution_count": 427,
     "metadata": {},
     "output_type": "execute_result"
    }
   ],
   "source": [
    "Uni_df['ARWU'][Uni_df['ARWU']['Rank'].duplicated()].count()"
   ]
  },
  {
   "cell_type": "code",
   "execution_count": null,
   "metadata": {},
   "outputs": [],
   "source": []
  }
 ],
 "metadata": {
  "kernelspec": {
   "display_name": "Python 3",
   "language": "python",
   "name": "python3"
  },
  "language_info": {
   "codemirror_mode": {
    "name": "ipython",
    "version": 3
   },
   "file_extension": ".py",
   "mimetype": "text/x-python",
   "name": "python",
   "nbconvert_exporter": "python",
   "pygments_lexer": "ipython3",
   "version": "3.11.4"
  }
 },
 "nbformat": 4,
 "nbformat_minor": 2
}
